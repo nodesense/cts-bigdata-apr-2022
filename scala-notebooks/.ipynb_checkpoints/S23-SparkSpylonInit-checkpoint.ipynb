{
 "cells": [
  {
   "cell_type": "code",
   "execution_count": 1,
   "id": "10f1134e-36db-4887-bab4-199f6a9ada4b",
   "metadata": {},
   "outputs": [],
   "source": [
    "%%init_spark\n",
    "launcher.num_executors = 1\n",
    "launcher.executor_cores = 1\n",
    "launcher.driver_memory = '4g'\n",
    "launcher.conf.set(\"spark.sql.catalogImplementation\", \"hive\")\n",
    "launcher.conf.set(\"hive.metastore.uris\", \"thrift://localhost:9083\")\n",
    "launcher.conf.set(\"hive.metastore.warehouse.dir\", \"hdfs://localhost:9000/user/hive/warehouse\")\n"
   ]
  },
  {
   "cell_type": "code",
   "execution_count": null,
   "id": "702a07bc-b07d-4afd-83b7-428e83a591d5",
   "metadata": {},
   "outputs": [],
   "source": [
    "// https://gist.github.com/ianchen06/a9ff62df83f612c3b16130bb20b3b079\n",
    "\n",
    "\n",
    "//copy two properties to spark-default.conf file  /opt/spark.../conf\n",
    "// config.set(\"hive.metastore.uris\", \"thrift://localhost:9083\")\n",
    "// config.set(\"hive.metastore.warehouse.dir\", \"hdfs://localhost:9000/user/hive/warehouse\")\n",
    "\n",
    "spark"
   ]
  },
  {
   "cell_type": "code",
   "execution_count": 2,
   "id": "06ddd781-7bfb-4045-8ecf-323bb45d5b36",
   "metadata": {},
   "outputs": [
    {
     "data": {
      "text/plain": [
       "Intitializing Scala interpreter ..."
      ]
     },
     "metadata": {},
     "output_type": "display_data"
    },
    {
     "data": {
      "text/plain": [
       "Spark Web UI available at http://192.168.174.129:4040\n",
       "SparkContext available as 'sc' (version = 3.1.3, master = spark://192.168.174.129:7077, app id = app-20220517185906-0008)\n",
       "SparkSession available as 'spark'\n"
      ]
     },
     "metadata": {},
     "output_type": "display_data"
    },
    {
     "name": "stdout",
     "output_type": "stream",
     "text": [
      "+----------+\n",
      "| namespace|\n",
      "+----------+\n",
      "|   default|\n",
      "|   moviedb|\n",
      "|  ordersdb|\n",
      "|productsdb|\n",
      "+----------+\n",
      "\n"
     ]
    }
   ],
   "source": [
    "//DIY: Use spark scala session to list all databases , list all tables in moviedb\n",
    "// query basics\n",
    "// mimic what we done with S058\n",
    "spark.sql(\"SHOW DATABASES\").show()"
   ]
  },
  {
   "cell_type": "code",
   "execution_count": null,
   "id": "dd3fd161-abcd-4809-a971-5ca318516c50",
   "metadata": {},
   "outputs": [],
   "source": []
  }
 ],
 "metadata": {
  "kernelspec": {
   "display_name": "spylon-kernel",
   "language": "scala",
   "name": "spylon-kernel"
  },
  "language_info": {
   "codemirror_mode": "text/x-scala",
   "file_extension": ".scala",
   "help_links": [
    {
     "text": "MetaKernel Magics",
     "url": "https://metakernel.readthedocs.io/en/latest/source/README.html"
    }
   ],
   "mimetype": "text/x-scala",
   "name": "scala",
   "pygments_lexer": "scala",
   "version": "0.4.1"
  }
 },
 "nbformat": 4,
 "nbformat_minor": 5
}

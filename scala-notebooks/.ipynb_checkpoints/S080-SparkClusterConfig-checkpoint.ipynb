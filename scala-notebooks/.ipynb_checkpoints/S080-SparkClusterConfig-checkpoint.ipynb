{
 "cells": [
  {
   "cell_type": "code",
   "execution_count": 1,
   "id": "0beec44e-5e0c-4868-b3ca-72460170c0e0",
   "metadata": {},
   "outputs": [],
   "source": [
    "import findspark \n",
    "findspark.init()"
   ]
  },
  {
   "cell_type": "code",
   "execution_count": 2,
   "id": "f90d7960-ac9b-4c38-a9be-b4983a03a1bd",
   "metadata": {},
   "outputs": [
    {
     "name": "stderr",
     "output_type": "stream",
     "text": [
      "22/05/17 02:00:02 WARN Utils: Your hostname, ubuntu-virtual-machine resolves to a loopback address: 127.0.1.1; using 192.168.174.129 instead (on interface ens33)\n",
      "22/05/17 02:00:02 WARN Utils: Set SPARK_LOCAL_IP if you need to bind to another address\n",
      "22/05/17 02:00:03 WARN NativeCodeLoader: Unable to load native-hadoop library for your platform... using builtin-java classes where applicable\n",
      "Using Spark's default log4j profile: org/apache/spark/log4j-defaults.properties\n",
      "Setting default log level to \"WARN\".\n",
      "To adjust logging level use sc.setLogLevel(newLevel). For SparkR, use setLogLevel(newLevel).\n"
     ]
    }
   ],
   "source": [
    "from pyspark.conf import SparkConf\n",
    "config = SparkConf()\n",
    "# try to avoid cluster requirements in code, instead use commmand line options\n",
    "config.setMaster(\"spark://192.168.174.129:7077\").setAppName(\"ClusterConfig\")\n",
    "config.set(\"spark.executor.memory\", \"4g\")\n",
    "config.set(\"spark.executor.cores\", 1)\n",
    "config.set(\"spark.cores.max\", 4)\n",
    "config.set(\"spark.driver.memory\", \"4g\")\n",
    "\n",
    "from pyspark.sql import SparkSession\n",
    "spark = SparkSession.builder.config(conf=config).getOrCreate()"
   ]
  },
  {
   "cell_type": "code",
   "execution_count": null,
   "id": "8f3fdcb8-89fc-4ad7-93eb-7ad29dc1c305",
   "metadata": {},
   "outputs": [],
   "source": [
    "products = [ \n",
    "          # (product_id, product_name, brand_id)  \n",
    "         (1, 'iPhone', 100),\n",
    "         (2, 'Galaxy', 200),\n",
    "         (3, 'Redme', 300), # orphan record, no matching brand\n",
    "         (4, 'Pixel', 400),\n",
    "]\n",
    "\n",
    "brands = [\n",
    "    #(brand_id, brand_name)\n",
    "    (100, \"Apple\"),\n",
    "    (200, \"Samsung\"),\n",
    "    (400, \"Google\"),\n",
    "    (500, \"Sony\"), # no matching products\n",
    "]\n",
    " \n",
    "productDf = spark.createDataFrame(data=products, schema=[\"product_id\", \"product_name\", \"brand_id\"])\n",
    "brandDf = spark.createDataFrame(data=brands, schema=[\"brand_id\", \"brand_name\"])\n",
    "productDf.show()\n",
    "brandDf.show()"
   ]
  }
 ],
 "metadata": {
  "kernelspec": {
   "display_name": "Python 3 (ipykernel)",
   "language": "python",
   "name": "python3"
  },
  "language_info": {
   "codemirror_mode": {
    "name": "ipython",
    "version": 3
   },
   "file_extension": ".py",
   "mimetype": "text/x-python",
   "name": "python",
   "nbconvert_exporter": "python",
   "pygments_lexer": "ipython3",
   "version": "3.8.12"
  }
 },
 "nbformat": 4,
 "nbformat_minor": 5
}

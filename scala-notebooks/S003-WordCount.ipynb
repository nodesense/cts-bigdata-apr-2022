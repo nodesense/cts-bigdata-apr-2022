{
 "cells": [
  {
   "cell_type": "code",
   "execution_count": 1,
   "id": "17fd7f20-b2d8-44a3-aacb-4b382b6fc2a6",
   "metadata": {},
   "outputs": [
    {
     "data": {
      "text/plain": [
       "Intitializing Scala interpreter ..."
      ]
     },
     "metadata": {},
     "output_type": "display_data"
    },
    {
     "data": {
      "text/plain": [
       "Spark Web UI available at http://192.168.174.129:4042\n",
       "SparkContext available as 'sc' (version = 3.1.3, master = local[*], app id = local-1651847978323)\n",
       "SparkSession available as 'spark'\n"
      ]
     },
     "metadata": {},
     "output_type": "display_data"
    },
    {
     "data": {
      "text/plain": [
       "textFile: org.apache.spark.rdd.RDD[String] = hdfs://localhost:9000/books/book-war-and-peace.txt MapPartitionsRDD[1] at textFile at <console>:25\n",
       "res0: Long = 63845\n"
      ]
     },
     "execution_count": 1,
     "metadata": {},
     "output_type": "execute_result"
    }
   ],
   "source": [
    "val textFile = sc.textFile(\"hdfs://localhost:9000/books/book-war-and-peace.txt\")\n",
    "textFile.count()"
   ]
  },
  {
   "cell_type": "code",
   "execution_count": 2,
   "id": "8fa06f59-e154-4999-bac0-7930fe0b030c",
   "metadata": {},
   "outputs": [
    {
     "data": {
      "text/plain": [
       "res1: Array[String] = Array(CHAPTER I, \"\", \"Well, Prince, so Genoa and Lucca are now just family estates of the, Buonapartes. But I warn you, if you don't tell me that this means war,, if you still try to defend the infamies and horrors perpetrated by that)\n"
      ]
     },
     "execution_count": 2,
     "metadata": {},
     "output_type": "execute_result"
    }
   ],
   "source": [
    "textFile.take(5)"
   ]
  },
  {
   "cell_type": "code",
   "execution_count": 3,
   "id": "f7c61338-a26c-43c6-96e9-62a0824cd7c6",
   "metadata": {},
   "outputs": [
    {
     "data": {
      "text/plain": [
       "lowerCaseRdd: org.apache.spark.rdd.RDD[String] = MapPartitionsRDD[2] at map at <console>:26\n",
       "res2: Array[String] = Array(chapter i, \"\", \"well, prince, so genoa and lucca are now just family estates of the, buonapartes. but i warn you, if you don't tell me that this means war,, if you still try to defend the infamies and horrors perpetrated by that)\n"
      ]
     },
     "execution_count": 3,
     "metadata": {},
     "output_type": "execute_result"
    }
   ],
   "source": [
    "val lowerCaseRdd = textFile.map (line => line.trim().toLowerCase())\n",
    "lowerCaseRdd.take(5)"
   ]
  },
  {
   "cell_type": "code",
   "execution_count": 4,
   "id": "6ff08942-9493-4f2f-9967-499164ea536a",
   "metadata": {},
   "outputs": [
    {
     "data": {
      "text/plain": [
       "wordArrayRdd: org.apache.spark.rdd.RDD[Array[String]] = MapPartitionsRDD[3] at map at <console>:26\n",
       "res3: Array[Array[String]] = Array(Array(chapter, i), Array(\"\"), Array(\"well,, prince,, so, genoa, and, lucca, are, now, just, family, estates, of, the), Array(buonapartes., but, i, warn, you,, if, you, don't, tell, me, that, this, means, war,), Array(if, you, still, try, to, defend, the, infamies, and, horrors, perpetrated, by, that))\n"
      ]
     },
     "execution_count": 4,
     "metadata": {},
     "output_type": "execute_result"
    }
   ],
   "source": [
    "val wordArrayRdd = lowerCaseRdd.map (line => line.split(\" \"))\n",
    "wordArrayRdd.take(5)"
   ]
  },
  {
   "cell_type": "code",
   "execution_count": 5,
   "id": "9794408f-e84e-40da-81df-41e5ae5af851",
   "metadata": {},
   "outputs": [
    {
     "data": {
      "text/plain": [
       "wordRdd: org.apache.spark.rdd.RDD[String] = MapPartitionsRDD[4] at flatMap at <console>:26\n",
       "res4: Array[String] = Array(chapter, i, \"\", \"well,, prince,, so, genoa, and, lucca, are)\n"
      ]
     },
     "execution_count": 5,
     "metadata": {},
     "output_type": "execute_result"
    }
   ],
   "source": [
    "val wordRdd = wordArrayRdd.flatMap(arr => arr)\n",
    "wordRdd.take(10)"
   ]
  },
  {
   "cell_type": "code",
   "execution_count": 6,
   "id": "1d1131a3-93ac-46c1-96d6-f57bf00dc320",
   "metadata": {},
   "outputs": [
    {
     "data": {
      "text/plain": [
       "wordPairRdd: org.apache.spark.rdd.RDD[(String, Int)] = MapPartitionsRDD[6] at map at <console>:29\n",
       "res5: Array[(String, Int)] = Array((chapter,1), (i,1), (\"well,,1), (prince,,1), (so,1), (genoa,1), (and,1), (lucca,1), (are,1), (now,1))\n"
      ]
     },
     "execution_count": 6,
     "metadata": {},
     "output_type": "execute_result"
    }
   ],
   "source": [
    "// Tuple 2\n",
    "// (String, Int) - Tuple, where 1st element is string, second element is Int\n",
    "// Array[(String, Int)] - Array of Tuple (String, Int)\n",
    "val wordPairRdd = wordRdd\n",
    "                        .filter (word =>  !word.isEmpty())\n",
    "                        .map ( word => (word, 1) )\n",
    "\n",
    "wordPairRdd.take(10)"
   ]
  },
  {
   "cell_type": "code",
   "execution_count": 7,
   "id": "dc58b3b4-ae8a-4ae6-b97a-d7d7e7e77c3b",
   "metadata": {},
   "outputs": [
    {
     "data": {
      "text/plain": [
       "wordCountRdd: org.apache.spark.rdd.RDD[(String, Int)] = ShuffledRDD[7] at reduceByKey at <console>:26\n",
       "res6: Array[(String, Int)] = Array((mattered,2), (\"vile,1), (bolkonski,71), (reunion,2), (denied?\",1), (muslin,,1), (god.\",1), (intimately,3), (antichrist--i,2), (blandly,5), (wobbers,1), (lost...,1), (fought?,1), (signal.,1), (hem,3), (think,\",3), (wasn't,7), (been,1460), (fuller,1), (they,,10))\n"
      ]
     },
     "execution_count": 7,
     "metadata": {},
     "output_type": "execute_result"
    }
   ],
   "source": [
    "val wordCountRdd = wordPairRdd.reduceByKey( (acc, value) => acc + value )\n",
    "wordCountRdd.take(20)"
   ]
  },
  {
   "cell_type": "code",
   "execution_count": null,
   "id": "bef9ff17-b400-4e67-8058-ed95d59aaa6f",
   "metadata": {},
   "outputs": [],
   "source": []
  }
 ],
 "metadata": {
  "kernelspec": {
   "display_name": "spylon-kernel",
   "language": "scala",
   "name": "spylon-kernel"
  },
  "language_info": {
   "codemirror_mode": "text/x-scala",
   "file_extension": ".scala",
   "help_links": [
    {
     "text": "MetaKernel Magics",
     "url": "https://metakernel.readthedocs.io/en/latest/source/README.html"
    }
   ],
   "mimetype": "text/x-scala",
   "name": "scala",
   "pygments_lexer": "scala",
   "version": "0.4.1"
  }
 },
 "nbformat": 4,
 "nbformat_minor": 5
}

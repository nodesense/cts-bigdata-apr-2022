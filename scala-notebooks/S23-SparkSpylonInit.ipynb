{
 "cells": [
  {
   "cell_type": "code",
   "execution_count": 1,
   "id": "10f1134e-36db-4887-bab4-199f6a9ada4b",
   "metadata": {},
   "outputs": [],
   "source": [
    "%%init_spark\n",
    "launcher.num_executors = 1\n",
    "launcher.executor_cores = 1\n",
    "launcher.driver_memory = '4g'\n",
    "launcher.conf.set(\"spark.sql.catalogImplementation\", \"hive\")\n",
    "launcher.conf.set(\"hive.metastore.uris\", \"thrift://localhost:9083\")\n",
    "launcher.conf.set(\"hive.metastore.warehouse.dir\", \"hdfs://localhost:9000/user/hive/warehouse\")\n"
   ]
  },
  {
   "cell_type": "code",
   "execution_count": null,
   "id": "702a07bc-b07d-4afd-83b7-428e83a591d5",
   "metadata": {},
   "outputs": [],
   "source": [
    "// https://gist.github.com/ianchen06/a9ff62df83f612c3b16130bb20b3b079\n",
    "\n",
    "\n",
    "//copy two properties to spark-default.conf file  /opt/spark.../conf\n",
    "// config.set(\"hive.metastore.uris\", \"thrift://localhost:9083\")\n",
    "// config.set(\"hive.metastore.warehouse.dir\", \"hdfs://localhost:9000/user/hive/warehouse\")\n",
    "\n",
    "spark"
   ]
  },
  {
   "cell_type": "code",
   "execution_count": 2,
   "id": "06ddd781-7bfb-4045-8ecf-323bb45d5b36",
   "metadata": {},
   "outputs": [
    {
     "data": {
      "text/plain": [
       "Intitializing Scala interpreter ..."
      ]
     },
     "metadata": {},
     "output_type": "display_data"
    },
    {
     "data": {
      "text/plain": [
       "Spark Web UI available at http://192.168.174.129:4040\n",
       "SparkContext available as 'sc' (version = 3.1.3, master = spark://192.168.174.129:7077, app id = app-20220517185906-0008)\n",
       "SparkSession available as 'spark'\n"
      ]
     },
     "metadata": {},
     "output_type": "display_data"
    },
    {
     "name": "stdout",
     "output_type": "stream",
     "text": [
      "+----------+\n",
      "| namespace|\n",
      "+----------+\n",
      "|   default|\n",
      "|   moviedb|\n",
      "|  ordersdb|\n",
      "|productsdb|\n",
      "+----------+\n",
      "\n"
     ]
    }
   ],
   "source": [
    "//DIY: Use spark scala session to list all databases , list all tables in moviedb\n",
    "// query basics\n",
    "// mimic what we done with S058\n",
    "spark.sql(\"SHOW DATABASES\").show()"
   ]
  },
  {
   "cell_type": "code",
   "execution_count": 3,
   "id": "dd3fd161-abcd-4809-a971-5ca318516c50",
   "metadata": {},
   "outputs": [
    {
     "name": "stdout",
     "output_type": "stream",
     "text": [
      "+--------+-----------+-------------+\n",
      "|movie_id|avg_ratings|total_ratings|\n",
      "+--------+-----------+-------------+\n",
      "|    1580|     3.6852|          162|\n",
      "|    2366|     3.7200|           25|\n",
      "|    1088|     3.7692|           39|\n",
      "|   32460|     4.5000|            4|\n",
      "|   44022|     3.5909|           22|\n",
      "|   96488|     4.5000|            4|\n",
      "|    1238|     4.1111|            9|\n",
      "|    1342|     3.0000|            9|\n",
      "|    1591|     3.0909|           22|\n",
      "|    1645|     3.6531|           49|\n",
      "|    3175|     3.7671|           73|\n",
      "|    4519|     3.4444|            9|\n",
      "|    2142|     3.0000|            9|\n",
      "|     471|     3.7895|           38|\n",
      "|    3997|     2.5000|            8|\n",
      "|     833|     2.7500|            4|\n",
      "|    3918|     3.6250|            8|\n",
      "|    7982|     4.6667|            3|\n",
      "|    1959|     3.8000|           15|\n",
      "|   68135|     3.9000|           10|\n",
      "+--------+-----------+-------------+\n",
      "only showing top 20 rows\n",
      "\n"
     ]
    }
   ],
   "source": [
    "spark.sql(\"\"\"\n",
    " SELECT movie_id, avg(rating) as avg_ratings, \n",
    "                                    count(user_id) as total_ratings\n",
    "                        from moviedb.ratings \n",
    "                        WHERE rating > 1.0\n",
    "                        group by movie_id\n",
    "\"\"\").show()"
   ]
  },
  {
   "cell_type": "code",
   "execution_count": null,
   "id": "cb51b92a-2434-4604-9a9e-16efa0e696ad",
   "metadata": {},
   "outputs": [],
   "source": []
  }
 ],
 "metadata": {
  "kernelspec": {
   "display_name": "spylon-kernel",
   "language": "scala",
   "name": "spylon-kernel"
  },
  "language_info": {
   "codemirror_mode": "text/x-scala",
   "file_extension": ".scala",
   "help_links": [
    {
     "text": "MetaKernel Magics",
     "url": "https://metakernel.readthedocs.io/en/latest/source/README.html"
    }
   ],
   "mimetype": "text/x-scala",
   "name": "scala",
   "pygments_lexer": "scala",
   "version": "0.4.1"
  }
 },
 "nbformat": 4,
 "nbformat_minor": 5
}

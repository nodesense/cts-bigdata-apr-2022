{
 "cells": [
  {
   "cell_type": "code",
   "execution_count": 1,
   "id": "75f959e9-a57b-43af-8d5b-07251bf5bf4e",
   "metadata": {},
   "outputs": [
    {
     "data": {
      "text/plain": [
       "Intitializing Scala interpreter ..."
      ]
     },
     "metadata": {},
     "output_type": "display_data"
    },
    {
     "data": {
      "text/plain": [
       "Spark Web UI available at http://192.168.174.129:4040\n",
       "SparkContext available as 'sc' (version = 3.1.3, master = local[*], app id = local-1652365162677)\n",
       "SparkSession available as 'spark'\n"
      ]
     },
     "metadata": {},
     "output_type": "display_data"
    },
    {
     "name": "stdout",
     "output_type": "stream",
     "text": [
      "root\n",
      " |-- movieId: integer (nullable = true)\n",
      " |-- title: string (nullable = true)\n",
      " |-- genres: string (nullable = true)\n",
      "\n",
      "+-------+----------------+--------------------+\n",
      "|movieId|           title|              genres|\n",
      "+-------+----------------+--------------------+\n",
      "|      1|Toy Story (1995)|Adventure|Animati...|\n",
      "|      2|  Jumanji (1995)|Adventure|Childre...|\n",
      "+-------+----------------+--------------------+\n",
      "only showing top 2 rows\n",
      "\n"
     ]
    },
    {
     "data": {
      "text/plain": [
       "movieDf: org.apache.spark.sql.DataFrame = [movieId: int, title: string ... 1 more field]\n"
      ]
     },
     "execution_count": 1,
     "metadata": {},
     "output_type": "execute_result"
    }
   ],
   "source": [
    "val movieDf = spark.read.format(\"csv\")\n",
    "                    .option(\"header\", true)\n",
    "                    .option(\"inferSchema\", true)\n",
    "                    .option(\"delimitter\", \",\")\n",
    "                    .load(\"hdfs://localhost:9000/ml-latest-small/movies.csv\")\n",
    "\n",
    "movieDf.printSchema()\n",
    "movieDf.show(2)"
   ]
  },
  {
   "cell_type": "code",
   "execution_count": 2,
   "id": "92e862b4-d567-40e9-841b-75112c6986a0",
   "metadata": {},
   "outputs": [
    {
     "data": {
      "text/plain": [
       "import org.apache.spark.sql.types.{StringType, StructType, DoubleType, IntegerType, LongType, StructField}\n",
       "RatingSchema: org.apache.spark.sql.types.StructType = StructType(StructField(userId,IntegerType,true), StructField(movieId,IntegerType,true), StructField(rating,DoubleType,true), StructField(timestamp,LongType,true))\n"
      ]
     },
     "execution_count": 2,
     "metadata": {},
     "output_type": "execute_result"
    }
   ],
   "source": [
    "// create schema\n",
    "import org.apache.spark.sql.types.{StringType, StructType, DoubleType, IntegerType, LongType, StructField}\n",
    "\n",
    "val RatingSchema = StructType (\n",
    "                                List(\n",
    "                                    StructField(\"userId\", IntegerType, true),\n",
    "                                    StructField(\"movieId\", IntegerType, true),\n",
    "                                      StructField(\"rating\", DoubleType, true),\n",
    "                                      StructField(\"timestamp\", LongType, true)\n",
    "                                    )\n",
    "                    )"
   ]
  },
  {
   "cell_type": "code",
   "execution_count": 3,
   "id": "b489816e-773a-49d9-8648-44768011fea3",
   "metadata": {},
   "outputs": [
    {
     "name": "stdout",
     "output_type": "stream",
     "text": [
      "root\n",
      " |-- userId: integer (nullable = true)\n",
      " |-- movieId: integer (nullable = true)\n",
      " |-- rating: double (nullable = true)\n",
      " |-- timestamp: long (nullable = true)\n",
      "\n",
      "+------+-------+------+---------+\n",
      "|userId|movieId|rating|timestamp|\n",
      "+------+-------+------+---------+\n",
      "|     1|      1|   4.0|964982703|\n",
      "|     1|      3|   4.0|964981247|\n",
      "+------+-------+------+---------+\n",
      "only showing top 2 rows\n",
      "\n"
     ]
    },
    {
     "data": {
      "text/plain": [
       "ratingDf: org.apache.spark.sql.DataFrame = [userId: int, movieId: int ... 2 more fields]\n"
      ]
     },
     "execution_count": 3,
     "metadata": {},
     "output_type": "execute_result"
    }
   ],
   "source": [
    "val ratingDf = spark.read.format(\"csv\")\n",
    "                    .option(\"header\", true)\n",
    "                    .option(\"delimitter\", \",\")\n",
    "                    .schema(RatingSchema)\n",
    "                    .load(\"hdfs://localhost:9000/ml-latest-small/ratings.csv\")\n",
    "\n",
    "ratingDf.printSchema()\n",
    "ratingDf.show(2)"
   ]
  },
  {
   "cell_type": "code",
   "execution_count": 4,
   "id": "960efe7a-8330-4dd7-b22e-7ef0b564b6af",
   "metadata": {},
   "outputs": [],
   "source": [
    "// Spark SQL, temp view/temp table created with in spark session\n",
    "// we can expose the dataframe as table/temp table/view\n",
    "// no table space, row space created by spark, instaed it is same dataframe and rdd behind sql\n",
    "movieDf.createOrReplaceTempView(\"movies\")"
   ]
  },
  {
   "cell_type": "code",
   "execution_count": 7,
   "id": "9b10944b-6d84-4250-aa8c-13b1958c05de",
   "metadata": {},
   "outputs": [
    {
     "name": "stdout",
     "output_type": "stream",
     "text": [
      "root\n",
      " |-- movieId: integer (nullable = true)\n",
      " |-- title: string (nullable = true)\n",
      " |-- genres: string (nullable = true)\n",
      "\n",
      "+-------+----------------+--------------------+\n",
      "|movieId|           title|              genres|\n",
      "+-------+----------------+--------------------+\n",
      "|      1|Toy Story (1995)|Adventure|Animati...|\n",
      "|      2|  Jumanji (1995)|Adventure|Childre...|\n",
      "+-------+----------------+--------------------+\n",
      "only showing top 2 rows\n",
      "\n",
      "== Physical Plan ==\n",
      "FileScan csv [movieId#16,title#17,genres#18] Batched: false, DataFilters: [], Format: CSV, Location: InMemoryFileIndex[hdfs://localhost:9000/ml-latest-small/movies.csv], PartitionFilters: [], PushedFilters: [], ReadSchema: struct<movieId:int,title:string,genres:string>\n",
      "\n",
      "\n"
     ]
    },
    {
     "data": {
      "text/plain": [
       "df: org.apache.spark.sql.DataFrame = [movieId: int, title: string ... 1 more field]\n"
      ]
     },
     "execution_count": 7,
     "metadata": {},
     "output_type": "execute_result"
    }
   ],
   "source": [
    "// now we can use sql queries on movies\n",
    "// when we execute sql, we get dataframe\n",
    "val df = spark.sql(\"SELECT * FROM movies\")\n",
    "df.printSchema()\n",
    "df.show(2)\n",
    "df.explain()"
   ]
  },
  {
   "cell_type": "code",
   "execution_count": 8,
   "id": "3be033ea-571c-48d7-a7f9-a7c193fe5c7a",
   "metadata": {},
   "outputs": [],
   "source": [
    "ratingDf.createOrReplaceTempView(\"ratings\")"
   ]
  },
  {
   "cell_type": "code",
   "execution_count": 9,
   "id": "3e20ecb3-f620-49ef-b412-5c710f7a5de1",
   "metadata": {},
   "outputs": [
    {
     "name": "stdout",
     "output_type": "stream",
     "text": [
      "root\n",
      " |-- userId: integer (nullable = true)\n",
      " |-- movieId: integer (nullable = true)\n",
      " |-- rating: double (nullable = true)\n",
      " |-- timestamp: long (nullable = true)\n",
      "\n",
      "+------+-------+------+---------+\n",
      "|userId|movieId|rating|timestamp|\n",
      "+------+-------+------+---------+\n",
      "|     1|      1|   4.0|964982703|\n",
      "|     1|      3|   4.0|964981247|\n",
      "+------+-------+------+---------+\n",
      "only showing top 2 rows\n",
      "\n",
      "== Physical Plan ==\n",
      "FileScan csv [userId#38,movieId#39,rating#40,timestamp#41L] Batched: false, DataFilters: [], Format: CSV, Location: InMemoryFileIndex[hdfs://localhost:9000/ml-latest-small/ratings.csv], PartitionFilters: [], PushedFilters: [], ReadSchema: struct<userId:int,movieId:int,rating:double,timestamp:bigint>\n",
      "\n",
      "\n"
     ]
    },
    {
     "data": {
      "text/plain": [
       "df: org.apache.spark.sql.DataFrame = [userId: int, movieId: int ... 2 more fields]\n"
      ]
     },
     "execution_count": 9,
     "metadata": {},
     "output_type": "execute_result"
    }
   ],
   "source": [
    "val df = spark.sql(\"SELECT * FROM ratings\")\n",
    "df.printSchema()\n",
    "df.show(2)\n",
    "df.explain()"
   ]
  },
  {
   "cell_type": "code",
   "execution_count": 14,
   "id": "f8e4cb3a-f68a-447e-9024-7e781fb6f7a7",
   "metadata": {},
   "outputs": [
    {
     "name": "stdout",
     "output_type": "stream",
     "text": [
      "+-------+--------------------+--------------------+\n",
      "|movieId|        upper(title)|              genres|\n",
      "+-------+--------------------+--------------------+\n",
      "|      1|    TOY STORY (1995)|Adventure|Animati...|\n",
      "|      2|      JUMANJI (1995)|Adventure|Childre...|\n",
      "|      3|GRUMPIER OLD MEN ...|      Comedy|Romance|\n",
      "|      4|WAITING TO EXHALE...|Comedy|Drama|Romance|\n",
      "|      5|FATHER OF THE BRI...|              Comedy|\n",
      "+-------+--------------------+--------------------+\n",
      "\n",
      "+------+\n",
      "|rating|\n",
      "+------+\n",
      "|   0.5|\n",
      "|   1.0|\n",
      "|   1.5|\n",
      "|   2.0|\n",
      "|   2.5|\n",
      "|   3.0|\n",
      "|   3.5|\n",
      "|   4.0|\n",
      "|   4.5|\n",
      "|   5.0|\n",
      "+------+\n",
      "\n",
      "+------+\n",
      "|rating|\n",
      "+------+\n",
      "|   5.0|\n",
      "|   4.5|\n",
      "|   4.0|\n",
      "|   3.5|\n",
      "|   3.0|\n",
      "|   2.5|\n",
      "|   2.0|\n",
      "|   1.5|\n",
      "|   1.0|\n",
      "|   0.5|\n",
      "+------+\n",
      "\n"
     ]
    },
    {
     "data": {
      "text/plain": [
       "df2: org.apache.spark.sql.DataFrame = [movieId: int, upper(title): string ... 1 more field]\n",
       "df3: org.apache.spark.sql.DataFrame = [rating: double]\n",
       "df4: org.apache.spark.sql.DataFrame = [rating: double]\n"
      ]
     },
     "execution_count": 14,
     "metadata": {},
     "output_type": "execute_result"
    }
   ],
   "source": [
    "// DIY spark sql\n",
    "// select 5 reocrds from movies where convert  movie title  in upper case\n",
    "// select distinct rating from ratings and sort the rating\n",
    "val df2 = spark.sql(\"SELECT movieId, upper(title), genres from movies LIMIT 5\")\n",
    "df2.show()\n",
    "// asc\n",
    "val df3 = spark.sql(\"SELECT DISTINCT(rating) FROM ratings ORDER BY rating\")\n",
    "df3.show()\n",
    "\n",
    "// desc\n",
    "val df4 = spark.sql(\"SELECT DISTINCT(rating) FROM ratings ORDER BY rating DESC\")\n",
    "df4.show()"
   ]
  },
  {
   "cell_type": "code",
   "execution_count": 15,
   "id": "dbb5ec5e-7c1e-4595-8ad8-7d5f1d179ae8",
   "metadata": {},
   "outputs": [
    {
     "name": "stdout",
     "output_type": "stream",
     "text": [
      "+------+-------+------+---------+\n",
      "|userId|movieId|rating|timestamp|\n",
      "+------+-------+------+---------+\n",
      "|     1|      1|   4.0|964982703|\n",
      "|     1|      3|   4.0|964981247|\n",
      "+------+-------+------+---------+\n",
      "only showing top 2 rows\n",
      "\n"
     ]
    },
    {
     "data": {
      "text/plain": [
       "df: org.apache.spark.sql.DataFrame = [userId: int, movieId: int ... 2 more fields]\n"
      ]
     },
     "execution_count": 15,
     "metadata": {},
     "output_type": "execute_result"
    }
   ],
   "source": [
    "// DIY select all ratings where rating >=4 and <=5 \n",
    "val df = spark.sql(\"SELECT * FROM RATINGS WHERE rating >= 4 AND rating <= 5\")\n",
    "df.show(2)"
   ]
  },
  {
   "cell_type": "code",
   "execution_count": 25,
   "id": "5a547ffe-a89f-4ebd-8261-3ca6e6b1c55d",
   "metadata": {},
   "outputs": [
    {
     "name": "stdout",
     "output_type": "stream",
     "text": [
      "+-------+-----------------+-------------+\n",
      "|movieId|      avg_ratings|total_ratings|\n",
      "+-------+-----------------+-------------+\n",
      "|    318|4.450793650793651|          315|\n",
      "|    527|4.335680751173709|          213|\n",
      "|   2959|4.325581395348837|          215|\n",
      "|   1221|4.311023622047244|          127|\n",
      "|   2571|4.308550185873606|          269|\n",
      "+-------+-----------------+-------------+\n",
      "only showing top 5 rows\n",
      "\n"
     ]
    },
    {
     "data": {
      "text/plain": [
       "mostPopularMoviesDf: org.apache.spark.sql.DataFrame = [movieId: int, avg_ratings: double ... 1 more field]\n",
       "res21: Long = 113\n"
      ]
     },
     "execution_count": 25,
     "metadata": {},
     "output_type": "execute_result"
    }
   ],
   "source": [
    "// SELECT AVG rating of movie,  Count userId\n",
    "//  group by movieId, show the data in decending order of avg rating, exclude rating <= 1.0\n",
    "// filter the data based on avg_ratings , avg_ratings should be >= 3.5 and rated users count should be >= 100\n",
    "// Aggregate filter = HAVING\n",
    "// non aggregate fitler = WHERE\n",
    "val mostPopularMoviesDf = spark.sql(\"\"\"\n",
    "                    SELECT movieId, avg(rating) as avg_ratings, \n",
    "                                    count(userId) as total_ratings\n",
    "                        from ratings \n",
    "                        WHERE rating > 1.0\n",
    "                        group by movieId \n",
    "                        having avg_ratings >= 3.5 and total_ratings >= 100\n",
    "                        order by avg_ratings desc\n",
    "                    \"\"\")\n",
    "mostPopularMoviesDf.show(5)\n",
    "mostPopularMoviesDf.count()"
   ]
  },
  {
   "cell_type": "code",
   "execution_count": 28,
   "id": "c2ab0172-f496-4d03-83cd-e377101b1c1d",
   "metadata": {},
   "outputs": [
    {
     "name": "stdout",
     "output_type": "stream",
     "text": [
      "+-------+--------------------+-----------------+-------------+\n",
      "|movieid|               title|      avg_ratings|total_ratings|\n",
      "+-------+--------------------+-----------------+-------------+\n",
      "|    356| Forrest Gump (1994)|4.185015290519877|          327|\n",
      "|    318|Shawshank Redempt...|4.450793650793651|          315|\n",
      "|    296| Pulp Fiction (1994)|4.285953177257525|          299|\n",
      "|    593|Silence of the La...|4.212727272727273|          275|\n",
      "|   2571|  Matrix, The (1999)|4.308550185873606|          269|\n",
      "+-------+--------------------+-----------------+-------------+\n",
      "only showing top 5 rows\n",
      "\n"
     ]
    },
    {
     "data": {
      "text/plain": [
       "df: org.apache.spark.sql.DataFrame = [movieid: int, title: string ... 2 more fields]\n"
      ]
     },
     "execution_count": 28,
     "metadata": {},
     "output_type": "execute_result"
    }
   ],
   "source": [
    "// DIY,\n",
    "// mostPopularMoviesDf.createorrepl...... create a temp view called most_popular_movies\n",
    "//  join with movies + most_popular_movies temp view based on movie_id\n",
    "// then movieId, title, avg_ratings, total_ratings and sort by total_ratings desc\n",
    "\n",
    "mostPopularMoviesDf.createOrReplaceTempView(\"most_popular_movies\")\n",
    "\n",
    "val df = spark.sql(\"\"\"SELECT most_popular_movies.movieid, title, avg_ratings, total_ratings\n",
    "                      FROM most_popular_movies\n",
    "                      INNER JOIN movies ON movies.movieId = most_popular_movies.movieId\n",
    "                      ORDER BY total_ratings DESC\n",
    "                      \"\"\")\n",
    "df.show(5)\n"
   ]
  },
  {
   "cell_type": "code",
   "execution_count": 30,
   "id": "f505bd84-5aa2-4f3c-8707-de84da125ae5",
   "metadata": {},
   "outputs": [
    {
     "name": "stdout",
     "output_type": "stream",
     "text": [
      "+-------+--------------------+-----------------+-------------+\n",
      "|movieid|               title|      avg_ratings|total_ratings|\n",
      "+-------+--------------------+-----------------+-------------+\n",
      "|    356| Forrest Gump (1994)|4.185015290519877|          327|\n",
      "|    318|Shawshank Redempt...|4.450793650793651|          315|\n",
      "|    296| Pulp Fiction (1994)|4.285953177257525|          299|\n",
      "|    593|Silence of the La...|4.212727272727273|          275|\n",
      "|   2571|  Matrix, The (1999)|4.308550185873606|          269|\n",
      "+-------+--------------------+-----------------+-------------+\n",
      "only showing top 5 rows\n",
      "\n"
     ]
    },
    {
     "data": {
      "text/plain": [
       "popularMoviesDf: org.apache.spark.sql.DataFrame = [movieid: int, title: string ... 2 more fields]\n"
      ]
     },
     "execution_count": 30,
     "metadata": {},
     "output_type": "execute_result"
    }
   ],
   "source": [
    "// alais name\n",
    "mostPopularMoviesDf.createOrReplaceTempView(\"most_popular_movies\")\n",
    "\n",
    "val popularMoviesDf = spark.sql(\"\"\"SELECT mpm.movieid, title, avg_ratings, total_ratings\n",
    "                      FROM most_popular_movies mpm\n",
    "                      INNER JOIN movies m ON m.movieId = mpm.movieId\n",
    "                      ORDER BY total_ratings DESC\n",
    "                      \"\"\")\n",
    "popularMoviesDf.show(5)\n",
    "\n"
   ]
  },
  {
   "cell_type": "code",
   "execution_count": 31,
   "id": "f1cde72c-ddce-46c5-a24b-f73d0a956ebb",
   "metadata": {},
   "outputs": [],
   "source": [
    "// DIY\n",
    "// cache popularMoviesDf\n",
    "// check and print numver of partitions\n",
    "// use coalesce to reuce to 1\n",
    "// write to csv file in hadoop in directory /sql-popular-movies\n",
    "// write to json file in hadoop in a directory /sql-popular-movies-json\n",
    "\n",
    "// read sql-popular-movies from hadoop using inferSchema\n",
    "// read sql-popular-movies-json using inferSchema\n",
    "\n",
    "// explain popularMoviesDf with extended, go through plans.."
   ]
  },
  {
   "cell_type": "code",
   "execution_count": 32,
   "id": "e387db17-2a6e-48fd-84a1-06c32a2140e8",
   "metadata": {},
   "outputs": [
    {
     "data": {
      "text/plain": [
       "res28: org.apache.spark.sql.DataFrame = []\n"
      ]
     },
     "execution_count": 32,
     "metadata": {},
     "output_type": "execute_result"
    }
   ],
   "source": [
    "// CREATE   TABLE AS SELECT -  CTAS query\n",
    "spark.sql(\"\"\"CREATE OR REPLACE TEMP VIEW most_popular_temp_table AS \n",
    "                    SELECT movieId, avg(rating) as avg_ratings, \n",
    "                                    count(userId) as total_ratings\n",
    "                        from ratings \n",
    "                        WHERE rating > 1.0\n",
    "                        group by movieId \n",
    "                        having avg_ratings >= 3.5 and total_ratings >= 100\n",
    "                        order by avg_ratings desc\n",
    "                    \"\"\")"
   ]
  },
  {
   "cell_type": "code",
   "execution_count": 33,
   "id": "a4d565c1-1876-4560-ad61-d40e8b6899d0",
   "metadata": {},
   "outputs": [
    {
     "name": "stdout",
     "output_type": "stream",
     "text": [
      "+-------+-----------------+-------------+\n",
      "|movieId|      avg_ratings|total_ratings|\n",
      "+-------+-----------------+-------------+\n",
      "|    318|4.450793650793651|          315|\n",
      "|    527|4.335680751173709|          213|\n",
      "|   2959|4.325581395348837|          215|\n",
      "|   1221|4.311023622047244|          127|\n",
      "+-------+-----------------+-------------+\n",
      "only showing top 4 rows\n",
      "\n"
     ]
    }
   ],
   "source": [
    "spark.sql(\"SELECT * FROM most_popular_temp_table\").show(4)"
   ]
  },
  {
   "cell_type": "code",
   "execution_count": 34,
   "id": "1dfc4a2c-aab8-4985-850e-71a0afeaeab1",
   "metadata": {},
   "outputs": [
    {
     "name": "stdout",
     "output_type": "stream",
     "text": [
      "root\n",
      " |-- movieId: integer (nullable = true)\n",
      " |-- avg_ratings: double (nullable = true)\n",
      " |-- total_ratings: long (nullable = false)\n",
      "\n",
      "+-------+------------------+-------------+\n",
      "|movieId|       avg_ratings|total_ratings|\n",
      "+-------+------------------+-------------+\n",
      "|    318| 4.450793650793651|          315|\n",
      "|    527| 4.335680751173709|          213|\n",
      "|   2959| 4.325581395348837|          215|\n",
      "|   1221| 4.311023622047244|          127|\n",
      "|   2571| 4.308550185873606|          269|\n",
      "|    858| 4.306282722513089|          191|\n",
      "|    296| 4.285953177257525|          299|\n",
      "|  48516| 4.283018867924528|          106|\n",
      "|     50|  4.26980198019802|          202|\n",
      "|    260| 4.259036144578313|          249|\n",
      "|   1198| 4.258883248730965|          197|\n",
      "|   1213|              4.25|          126|\n",
      "|   4973| 4.241525423728813|          118|\n",
      "|  58559| 4.238255033557047|          149|\n",
      "|   1196| 4.233333333333333|          210|\n",
      "|   1197| 4.232394366197183|          142|\n",
      "|   1193|4.2272727272727275|          132|\n",
      "|   1089| 4.226923076923077|          130|\n",
      "|   1208| 4.219626168224299|          107|\n",
      "|   2329| 4.217054263565892|          129|\n",
      "+-------+------------------+-------------+\n",
      "only showing top 20 rows\n",
      "\n"
     ]
    },
    {
     "data": {
      "text/plain": [
       "df: org.apache.spark.sql.DataFrame = [movieId: int, avg_ratings: double ... 1 more field]\n"
      ]
     },
     "execution_count": 34,
     "metadata": {},
     "output_type": "execute_result"
    }
   ],
   "source": [
    "// Get DataFrame from a table\n",
    "val df = spark.table(\"most_popular_temp_table\")\n",
    "df.printSchema()\n",
    "df.show()"
   ]
  },
  {
   "cell_type": "code",
   "execution_count": null,
   "id": "d9f68b10-fadc-4810-99f1-aef227bf872e",
   "metadata": {},
   "outputs": [],
   "source": []
  }
 ],
 "metadata": {
  "kernelspec": {
   "display_name": "spylon-kernel",
   "language": "scala",
   "name": "spylon-kernel"
  },
  "language_info": {
   "codemirror_mode": "text/x-scala",
   "file_extension": ".scala",
   "help_links": [
    {
     "text": "MetaKernel Magics",
     "url": "https://metakernel.readthedocs.io/en/latest/source/README.html"
    }
   ],
   "mimetype": "text/x-scala",
   "name": "scala",
   "pygments_lexer": "scala",
   "version": "0.4.1"
  }
 },
 "nbformat": 4,
 "nbformat_minor": 5
}

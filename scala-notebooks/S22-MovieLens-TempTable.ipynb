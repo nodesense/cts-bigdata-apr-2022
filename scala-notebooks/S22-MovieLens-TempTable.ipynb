{
 "cells": [
  {
   "cell_type": "code",
   "execution_count": 1,
   "id": "75f959e9-a57b-43af-8d5b-07251bf5bf4e",
   "metadata": {},
   "outputs": [
    {
     "data": {
      "text/plain": [
       "Intitializing Scala interpreter ..."
      ]
     },
     "metadata": {},
     "output_type": "display_data"
    },
    {
     "data": {
      "text/plain": [
       "Spark Web UI available at http://192.168.174.129:4040\n",
       "SparkContext available as 'sc' (version = 3.1.3, master = local[*], app id = local-1652365162677)\n",
       "SparkSession available as 'spark'\n"
      ]
     },
     "metadata": {},
     "output_type": "display_data"
    },
    {
     "name": "stdout",
     "output_type": "stream",
     "text": [
      "root\n",
      " |-- movieId: integer (nullable = true)\n",
      " |-- title: string (nullable = true)\n",
      " |-- genres: string (nullable = true)\n",
      "\n",
      "+-------+----------------+--------------------+\n",
      "|movieId|           title|              genres|\n",
      "+-------+----------------+--------------------+\n",
      "|      1|Toy Story (1995)|Adventure|Animati...|\n",
      "|      2|  Jumanji (1995)|Adventure|Childre...|\n",
      "+-------+----------------+--------------------+\n",
      "only showing top 2 rows\n",
      "\n"
     ]
    },
    {
     "data": {
      "text/plain": [
       "movieDf: org.apache.spark.sql.DataFrame = [movieId: int, title: string ... 1 more field]\n"
      ]
     },
     "execution_count": 1,
     "metadata": {},
     "output_type": "execute_result"
    }
   ],
   "source": [
    "val movieDf = spark.read.format(\"csv\")\n",
    "                    .option(\"header\", true)\n",
    "                    .option(\"inferSchema\", true)\n",
    "                    .option(\"delimitter\", \",\")\n",
    "                    .load(\"hdfs://localhost:9000/ml-latest-small/movies.csv\")\n",
    "\n",
    "movieDf.printSchema()\n",
    "movieDf.show(2)"
   ]
  },
  {
   "cell_type": "code",
   "execution_count": 2,
   "id": "92e862b4-d567-40e9-841b-75112c6986a0",
   "metadata": {},
   "outputs": [
    {
     "data": {
      "text/plain": [
       "import org.apache.spark.sql.types.{StringType, StructType, DoubleType, IntegerType, LongType, StructField}\n",
       "RatingSchema: org.apache.spark.sql.types.StructType = StructType(StructField(userId,IntegerType,true), StructField(movieId,IntegerType,true), StructField(rating,DoubleType,true), StructField(timestamp,LongType,true))\n"
      ]
     },
     "execution_count": 2,
     "metadata": {},
     "output_type": "execute_result"
    }
   ],
   "source": [
    "// create schema\n",
    "import org.apache.spark.sql.types.{StringType, StructType, DoubleType, IntegerType, LongType, StructField}\n",
    "\n",
    "val RatingSchema = StructType (\n",
    "                                List(\n",
    "                                    StructField(\"userId\", IntegerType, true),\n",
    "                                    StructField(\"movieId\", IntegerType, true),\n",
    "                                      StructField(\"rating\", DoubleType, true),\n",
    "                                      StructField(\"timestamp\", LongType, true)\n",
    "                                    )\n",
    "                    )"
   ]
  },
  {
   "cell_type": "code",
   "execution_count": 3,
   "id": "b489816e-773a-49d9-8648-44768011fea3",
   "metadata": {},
   "outputs": [
    {
     "name": "stdout",
     "output_type": "stream",
     "text": [
      "root\n",
      " |-- userId: integer (nullable = true)\n",
      " |-- movieId: integer (nullable = true)\n",
      " |-- rating: double (nullable = true)\n",
      " |-- timestamp: long (nullable = true)\n",
      "\n",
      "+------+-------+------+---------+\n",
      "|userId|movieId|rating|timestamp|\n",
      "+------+-------+------+---------+\n",
      "|     1|      1|   4.0|964982703|\n",
      "|     1|      3|   4.0|964981247|\n",
      "+------+-------+------+---------+\n",
      "only showing top 2 rows\n",
      "\n"
     ]
    },
    {
     "data": {
      "text/plain": [
       "ratingDf: org.apache.spark.sql.DataFrame = [userId: int, movieId: int ... 2 more fields]\n"
      ]
     },
     "execution_count": 3,
     "metadata": {},
     "output_type": "execute_result"
    }
   ],
   "source": [
    "val ratingDf = spark.read.format(\"csv\")\n",
    "                    .option(\"header\", true)\n",
    "                    .option(\"delimitter\", \",\")\n",
    "                    .schema(RatingSchema)\n",
    "                    .load(\"hdfs://localhost:9000/ml-latest-small/ratings.csv\")\n",
    "\n",
    "ratingDf.printSchema()\n",
    "ratingDf.show(2)"
   ]
  },
  {
   "cell_type": "code",
   "execution_count": 4,
   "id": "960efe7a-8330-4dd7-b22e-7ef0b564b6af",
   "metadata": {},
   "outputs": [],
   "source": [
    "// Spark SQL, temp view/temp table created with in spark session\n",
    "// we can expose the dataframe as table/temp table/view\n",
    "// no table space, row space created by spark, instaed it is same dataframe and rdd behind sql\n",
    "movieDf.createOrReplaceTempView(\"movies\")"
   ]
  },
  {
   "cell_type": "code",
   "execution_count": 7,
   "id": "9b10944b-6d84-4250-aa8c-13b1958c05de",
   "metadata": {},
   "outputs": [
    {
     "name": "stdout",
     "output_type": "stream",
     "text": [
      "root\n",
      " |-- movieId: integer (nullable = true)\n",
      " |-- title: string (nullable = true)\n",
      " |-- genres: string (nullable = true)\n",
      "\n",
      "+-------+----------------+--------------------+\n",
      "|movieId|           title|              genres|\n",
      "+-------+----------------+--------------------+\n",
      "|      1|Toy Story (1995)|Adventure|Animati...|\n",
      "|      2|  Jumanji (1995)|Adventure|Childre...|\n",
      "+-------+----------------+--------------------+\n",
      "only showing top 2 rows\n",
      "\n",
      "== Physical Plan ==\n",
      "FileScan csv [movieId#16,title#17,genres#18] Batched: false, DataFilters: [], Format: CSV, Location: InMemoryFileIndex[hdfs://localhost:9000/ml-latest-small/movies.csv], PartitionFilters: [], PushedFilters: [], ReadSchema: struct<movieId:int,title:string,genres:string>\n",
      "\n",
      "\n"
     ]
    },
    {
     "data": {
      "text/plain": [
       "df: org.apache.spark.sql.DataFrame = [movieId: int, title: string ... 1 more field]\n"
      ]
     },
     "execution_count": 7,
     "metadata": {},
     "output_type": "execute_result"
    }
   ],
   "source": [
    "// now we can use sql queries on movies\n",
    "// when we execute sql, we get dataframe\n",
    "val df = spark.sql(\"SELECT * FROM movies\")\n",
    "df.printSchema()\n",
    "df.show(2)\n",
    "df.explain()"
   ]
  },
  {
   "cell_type": "code",
   "execution_count": 8,
   "id": "3be033ea-571c-48d7-a7f9-a7c193fe5c7a",
   "metadata": {},
   "outputs": [],
   "source": [
    "ratingDf.createOrReplaceTempView(\"ratings\")"
   ]
  },
  {
   "cell_type": "code",
   "execution_count": 9,
   "id": "3e20ecb3-f620-49ef-b412-5c710f7a5de1",
   "metadata": {},
   "outputs": [
    {
     "name": "stdout",
     "output_type": "stream",
     "text": [
      "root\n",
      " |-- userId: integer (nullable = true)\n",
      " |-- movieId: integer (nullable = true)\n",
      " |-- rating: double (nullable = true)\n",
      " |-- timestamp: long (nullable = true)\n",
      "\n",
      "+------+-------+------+---------+\n",
      "|userId|movieId|rating|timestamp|\n",
      "+------+-------+------+---------+\n",
      "|     1|      1|   4.0|964982703|\n",
      "|     1|      3|   4.0|964981247|\n",
      "+------+-------+------+---------+\n",
      "only showing top 2 rows\n",
      "\n",
      "== Physical Plan ==\n",
      "FileScan csv [userId#38,movieId#39,rating#40,timestamp#41L] Batched: false, DataFilters: [], Format: CSV, Location: InMemoryFileIndex[hdfs://localhost:9000/ml-latest-small/ratings.csv], PartitionFilters: [], PushedFilters: [], ReadSchema: struct<userId:int,movieId:int,rating:double,timestamp:bigint>\n",
      "\n",
      "\n"
     ]
    },
    {
     "data": {
      "text/plain": [
       "df: org.apache.spark.sql.DataFrame = [userId: int, movieId: int ... 2 more fields]\n"
      ]
     },
     "execution_count": 9,
     "metadata": {},
     "output_type": "execute_result"
    }
   ],
   "source": [
    "val df = spark.sql(\"SELECT * FROM ratings\")\n",
    "df.printSchema()\n",
    "df.show(2)\n",
    "df.explain()"
   ]
  },
  {
   "cell_type": "code",
   "execution_count": 14,
   "id": "f8e4cb3a-f68a-447e-9024-7e781fb6f7a7",
   "metadata": {},
   "outputs": [
    {
     "name": "stdout",
     "output_type": "stream",
     "text": [
      "+-------+--------------------+--------------------+\n",
      "|movieId|        upper(title)|              genres|\n",
      "+-------+--------------------+--------------------+\n",
      "|      1|    TOY STORY (1995)|Adventure|Animati...|\n",
      "|      2|      JUMANJI (1995)|Adventure|Childre...|\n",
      "|      3|GRUMPIER OLD MEN ...|      Comedy|Romance|\n",
      "|      4|WAITING TO EXHALE...|Comedy|Drama|Romance|\n",
      "|      5|FATHER OF THE BRI...|              Comedy|\n",
      "+-------+--------------------+--------------------+\n",
      "\n",
      "+------+\n",
      "|rating|\n",
      "+------+\n",
      "|   0.5|\n",
      "|   1.0|\n",
      "|   1.5|\n",
      "|   2.0|\n",
      "|   2.5|\n",
      "|   3.0|\n",
      "|   3.5|\n",
      "|   4.0|\n",
      "|   4.5|\n",
      "|   5.0|\n",
      "+------+\n",
      "\n",
      "+------+\n",
      "|rating|\n",
      "+------+\n",
      "|   5.0|\n",
      "|   4.5|\n",
      "|   4.0|\n",
      "|   3.5|\n",
      "|   3.0|\n",
      "|   2.5|\n",
      "|   2.0|\n",
      "|   1.5|\n",
      "|   1.0|\n",
      "|   0.5|\n",
      "+------+\n",
      "\n"
     ]
    },
    {
     "data": {
      "text/plain": [
       "df2: org.apache.spark.sql.DataFrame = [movieId: int, upper(title): string ... 1 more field]\n",
       "df3: org.apache.spark.sql.DataFrame = [rating: double]\n",
       "df4: org.apache.spark.sql.DataFrame = [rating: double]\n"
      ]
     },
     "execution_count": 14,
     "metadata": {},
     "output_type": "execute_result"
    }
   ],
   "source": [
    "// DIY spark sql\n",
    "// select 5 reocrds from movies where convert  movie title  in upper case\n",
    "// select distinct rating from ratings and sort the rating\n",
    "val df2 = spark.sql(\"SELECT movieId, upper(title), genres from movies LIMIT 5\")\n",
    "df2.show()\n",
    "// asc\n",
    "val df3 = spark.sql(\"SELECT DISTINCT(rating) FROM ratings ORDER BY rating\")\n",
    "df3.show()\n",
    "\n",
    "// desc\n",
    "val df4 = spark.sql(\"SELECT DISTINCT(rating) FROM ratings ORDER BY rating DESC\")\n",
    "df4.show()"
   ]
  },
  {
   "cell_type": "code",
   "execution_count": null,
   "id": "dbb5ec5e-7c1e-4595-8ad8-7d5f1d179ae8",
   "metadata": {},
   "outputs": [],
   "source": []
  }
 ],
 "metadata": {
  "kernelspec": {
   "display_name": "spylon-kernel",
   "language": "scala",
   "name": "spylon-kernel"
  },
  "language_info": {
   "codemirror_mode": "text/x-scala",
   "file_extension": ".scala",
   "help_links": [
    {
     "text": "MetaKernel Magics",
     "url": "https://metakernel.readthedocs.io/en/latest/source/README.html"
    }
   ],
   "mimetype": "text/x-scala",
   "name": "scala",
   "pygments_lexer": "scala",
   "version": "0.4.1"
  }
 },
 "nbformat": 4,
 "nbformat_minor": 5
}

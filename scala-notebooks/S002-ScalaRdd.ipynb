{
 "cells": [
  {
   "cell_type": "code",
   "execution_count": 1,
   "id": "2be73d09-d07d-47a2-8925-9478213dd55d",
   "metadata": {},
   "outputs": [
    {
     "data": {
      "text/plain": [
       "Intitializing Scala interpreter ..."
      ]
     },
     "metadata": {},
     "output_type": "display_data"
    },
    {
     "data": {
      "text/plain": [
       "Spark Web UI available at http://192.168.174.129:4041\n",
       "SparkContext available as 'sc' (version = 3.1.3, master = local[*], app id = local-1651846425798)\n",
       "SparkSession available as 'spark'\n"
      ]
     },
     "metadata": {},
     "output_type": "display_data"
    },
    {
     "name": "stdout",
     "output_type": "stream",
     "text": [
      "30\n"
     ]
    },
    {
     "data": {
      "text/plain": [
       "r: Int = 30\n"
      ]
     },
     "execution_count": 1,
     "metadata": {},
     "output_type": "execute_result"
    }
   ],
   "source": [
    "// scala code here\n",
    "\n",
    "val r = 10 + 20\n",
    "// Shift +Enter to execute cell\n",
    "println(r)\n",
    "\n",
    "// SparkContext - sc, Spark Session - spark is automatically registerd here"
   ]
  },
  {
   "cell_type": "code",
   "execution_count": 2,
   "id": "7bba75aa-2cc1-497d-802f-440f534017be",
   "metadata": {},
   "outputs": [
    {
     "data": {
      "text/plain": [
       "rdd: org.apache.spark.rdd.RDD[Int] = ParallelCollectionRDD[0] at parallelize at <console>:27\n"
      ]
     },
     "execution_count": 2,
     "metadata": {},
     "output_type": "execute_result"
    }
   ],
   "source": [
    "// intellisense \n",
    "// sc.<TAB><TAB><TAB>\n",
    "val rdd = sc.parallelize (1 to 10)"
   ]
  },
  {
   "cell_type": "code",
   "execution_count": 4,
   "id": "7a3a9793-e771-41b6-a14e-59f323017611",
   "metadata": {},
   "outputs": [],
   "source": [
    "// rdd is RDD[Int]\n",
    "// scala here will apply type hecking at compilation phase, before submitting code to spark\n",
    "\n",
    "// errror, compiler error, call toUpperCase on Int, compiltion error\n",
    "// error: value toUpperCase is not a member of Int\n",
    "// scla stops you at compiler level\n",
    "// in python, code is submitted to executor, runtime error thrown at executor level0\n",
    "// val rdd2 = rdd.map (n => n.toUpperCase())\n"
   ]
  },
  {
   "cell_type": "code",
   "execution_count": 5,
   "id": "88b4d0fa-70dd-4c52-84a6-8db4934b7030",
   "metadata": {},
   "outputs": [
    {
     "data": {
      "text/plain": [
       "res2: Array[Int] = Array(1, 2, 3, 4, 5, 6, 7, 8, 9, 10)\n"
      ]
     },
     "execution_count": 5,
     "metadata": {},
     "output_type": "execute_result"
    }
   ],
   "source": [
    "rdd.collect()"
   ]
  },
  {
   "cell_type": "code",
   "execution_count": 6,
   "id": "07426d6e-6069-4a94-ade0-0b1c6d3c0d09",
   "metadata": {},
   "outputs": [
    {
     "data": {
      "text/plain": [
       "oddNumbers: org.apache.spark.rdd.RDD[Int] = MapPartitionsRDD[1] at filter at <console>:26\n",
       "res3: Array[Int] = Array(1, 3, 5, 7, 9)\n"
      ]
     },
     "execution_count": 6,
     "metadata": {},
     "output_type": "execute_result"
    }
   ],
   "source": [
    "val oddNumbers = rdd.filter (n => n % 2 == 1) \n",
    "oddNumbers.collect()"
   ]
  },
  {
   "cell_type": "code",
   "execution_count": 7,
   "id": "afe61c5a-2c3b-4e87-8828-68b75d800969",
   "metadata": {},
   "outputs": [
    {
     "data": {
      "text/plain": [
       "mulRdd: org.apache.spark.rdd.RDD[Int] = MapPartitionsRDD[2] at map at <console>:26\n",
       "res4: Array[Int] = Array(10, 30, 50, 70, 90)\n"
      ]
     },
     "execution_count": 7,
     "metadata": {},
     "output_type": "execute_result"
    }
   ],
   "source": [
    "val mulRdd = oddNumbers.map ( n => n * 10 )\n",
    "mulRdd.collect()"
   ]
  },
  {
   "cell_type": "code",
   "execution_count": 8,
   "id": "5c510588-8474-4c2a-ab9a-d5242c97af4c",
   "metadata": {},
   "outputs": [
    {
     "data": {
      "text/plain": [
       "res5: String =\n",
       "(4) MapPartitionsRDD[2] at map at <console>:26 []\n",
       " |  MapPartitionsRDD[1] at filter at <console>:26 []\n",
       " |  ParallelCollectionRDD[0] at parallelize at <console>:27 []\n"
      ]
     },
     "execution_count": 8,
     "metadata": {},
     "output_type": "execute_result"
    }
   ],
   "source": [
    "// print rdd lineage\n",
    "mulRdd.toDebugString"
   ]
  },
  {
   "cell_type": "code",
   "execution_count": null,
   "id": "d1a3cd47-6d46-4673-982f-867a61338f0f",
   "metadata": {},
   "outputs": [],
   "source": []
  }
 ],
 "metadata": {
  "kernelspec": {
   "display_name": "spylon-kernel",
   "language": "scala",
   "name": "spylon-kernel"
  },
  "language_info": {
   "codemirror_mode": "text/x-scala",
   "file_extension": ".scala",
   "help_links": [
    {
     "text": "MetaKernel Magics",
     "url": "https://metakernel.readthedocs.io/en/latest/source/README.html"
    }
   ],
   "mimetype": "text/x-scala",
   "name": "scala",
   "pygments_lexer": "scala",
   "version": "0.4.1"
  }
 },
 "nbformat": 4,
 "nbformat_minor": 5
}

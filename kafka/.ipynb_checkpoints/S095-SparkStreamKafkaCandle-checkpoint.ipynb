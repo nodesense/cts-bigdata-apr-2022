{
 "cells": [
  {
   "cell_type": "code",
   "execution_count": 2,
   "id": "2ebcca32-8517-4eb6-8ad3-bfd1213a9494",
   "metadata": {},
   "outputs": [],
   "source": [
    "import os\n",
    "# save using vs code\n",
    "SCALA_VERSION = '2.12'\n",
    "SPARK_VERSION = '3.1.3'\n",
    "# Download Kafka Jar file, this for readStream.format(\"kafka\"), \"kafka\" is a driver\n",
    "# kafka driver code is part of Maven Jar file\n",
    "# https://mvnrepository.com/artifact/org.apache.spark/spark-sql-kafka-0-10_2.12/3.1.3\n",
    "# pyspark-shell shall download the jar file behind..\n",
    "os.environ['PYSPARK_SUBMIT_ARGS'] = f'--packages org.apache.spark:spark-sql-kafka-0-10_{SCALA_VERSION}:{SPARK_VERSION} pyspark-shell'\n"
   ]
  },
  {
   "cell_type": "code",
   "execution_count": 3,
   "id": "ce2e204d-554a-499f-b573-27c79ff74568",
   "metadata": {},
   "outputs": [],
   "source": [
    "# here we implement windowed candle data for 1 minute\n",
    "# here we implement windowed candle data for 3 minute\n",
    "# here we implement windowed candle data for 5 minute\n",
    "\n",
    "#     kafka-topics  --create --bootstrap-server localhost:9092 --replication-factor 1 --partitions 1 --topic candles-1min \n",
    "#     kafka-console-consumer --bootstrap-server localhost:9092 --topic  candles-1min  --from-beginning\n",
    " \n",
    "#     kafka-topics  --create --bootstrap-server localhost:9092 --replication-factor 1 --partitions 1 --topic candles-3min \n",
    "#     kafka-console-consumer --bootstrap-server localhost:9092 --topic  candles-3min  --from-beginning\n",
    "\n",
    "#     kafka-topics  --create --bootstrap-server localhost:9092 --replication-factor 1 --partitions 1 --topic candles-5min \n",
    "#     kafka-console-consumer --bootstrap-server localhost:9092 --topic  candles-5min  --from-beginning\n"
   ]
  },
  {
   "cell_type": "code",
   "execution_count": 4,
   "id": "b0719c3d-5e41-41cd-8418-0b16fa7f9d31",
   "metadata": {},
   "outputs": [],
   "source": [
    "import findspark\n",
    "findspark.init()"
   ]
  },
  {
   "cell_type": "code",
   "execution_count": 5,
   "id": "41658d7e-1730-47b3-8be3-f52ded21c40e",
   "metadata": {},
   "outputs": [
    {
     "name": "stderr",
     "output_type": "stream",
     "text": [
      "22/05/25 01:45:11 WARN Utils: Your hostname, ubuntu-virtual-machine resolves to a loopback address: 127.0.1.1; using 192.168.174.129 instead (on interface ens33)\n",
      "22/05/25 01:45:11 WARN Utils: Set SPARK_LOCAL_IP if you need to bind to another address\n"
     ]
    },
    {
     "name": "stdout",
     "output_type": "stream",
     "text": [
      ":: loading settings :: url = jar:file:/opt/spark-3.1.3-bin-hadoop2.7/jars/ivy-2.4.0.jar!/org/apache/ivy/core/settings/ivysettings.xml\n"
     ]
    },
    {
     "name": "stderr",
     "output_type": "stream",
     "text": [
      "Ivy Default Cache set to: /home/ubuntu/.ivy2/cache\n",
      "The jars for the packages stored in: /home/ubuntu/.ivy2/jars\n",
      "org.apache.spark#spark-sql-kafka-0-10_2.12 added as a dependency\n",
      ":: resolving dependencies :: org.apache.spark#spark-submit-parent-4d8f8a43-941f-43ef-b6c5-879491f48116;1.0\n",
      "\tconfs: [default]\n",
      "\tfound org.apache.spark#spark-sql-kafka-0-10_2.12;3.1.3 in central\n",
      "\tfound org.apache.spark#spark-token-provider-kafka-0-10_2.12;3.1.3 in central\n",
      "\tfound org.apache.kafka#kafka-clients;2.6.0 in central\n",
      "\tfound com.github.luben#zstd-jni;1.4.8-1 in central\n",
      "\tfound org.lz4#lz4-java;1.7.1 in central\n",
      "\tfound org.xerial.snappy#snappy-java;1.1.8.2 in central\n",
      "\tfound org.slf4j#slf4j-api;1.7.30 in central\n",
      "\tfound org.spark-project.spark#unused;1.0.0 in central\n",
      "\tfound org.apache.commons#commons-pool2;2.6.2 in central\n",
      ":: resolution report :: resolve 2237ms :: artifacts dl 13ms\n",
      "\t:: modules in use:\n",
      "\tcom.github.luben#zstd-jni;1.4.8-1 from central in [default]\n",
      "\torg.apache.commons#commons-pool2;2.6.2 from central in [default]\n",
      "\torg.apache.kafka#kafka-clients;2.6.0 from central in [default]\n",
      "\torg.apache.spark#spark-sql-kafka-0-10_2.12;3.1.3 from central in [default]\n",
      "\torg.apache.spark#spark-token-provider-kafka-0-10_2.12;3.1.3 from central in [default]\n",
      "\torg.lz4#lz4-java;1.7.1 from central in [default]\n",
      "\torg.slf4j#slf4j-api;1.7.30 from central in [default]\n",
      "\torg.spark-project.spark#unused;1.0.0 from central in [default]\n",
      "\torg.xerial.snappy#snappy-java;1.1.8.2 from central in [default]\n",
      "\t---------------------------------------------------------------------\n",
      "\t|                  |            modules            ||   artifacts   |\n",
      "\t|       conf       | number| search|dwnlded|evicted|| number|dwnlded|\n",
      "\t---------------------------------------------------------------------\n",
      "\t|      default     |   9   |   0   |   0   |   0   ||   9   |   0   |\n",
      "\t---------------------------------------------------------------------\n",
      ":: retrieving :: org.apache.spark#spark-submit-parent-4d8f8a43-941f-43ef-b6c5-879491f48116\n",
      "\tconfs: [default]\n",
      "\t0 artifacts copied, 9 already retrieved (0kB/18ms)\n",
      "22/05/25 01:45:17 WARN NativeCodeLoader: Unable to load native-hadoop library for your platform... using builtin-java classes where applicable\n",
      "Using Spark's default log4j profile: org/apache/spark/log4j-defaults.properties\n",
      "Setting default log level to \"WARN\".\n",
      "To adjust logging level use sc.setLogLevel(newLevel). For SparkR, use setLogLevel(newLevel).\n",
      "22/05/25 01:45:33 WARN Utils: Service 'SparkUI' could not bind on port 4040. Attempting port 4041.\n"
     ]
    }
   ],
   "source": [
    "import pyspark\n",
    "\n",
    "\n",
    "from pyspark.sql import SparkSession\n",
    "# spark groupBy has default setting for spark.sql.shuffle.partitions as 200\n",
    "# we set to  4, should NOT be done in production \n",
    "spark = SparkSession.builder.master(\"local[1]\")\\\n",
    "                            .config('spark.sql.shuffle.partitions', 4)\\\n",
    "                            .appName(\"SparkStreamingKafkaCandles\").getOrCreate()"
   ]
  },
  {
   "cell_type": "code",
   "execution_count": 6,
   "id": "a1826d39-26e5-4ec8-86ce-a9a99017f9c7",
   "metadata": {},
   "outputs": [],
   "source": [
    "# read from kafka, here spark is consumer for kafka topic called test\n",
    "# spark streaming works as dataframe/sql\n",
    "# group.id is consumer group id\n",
    "# subcribe is kafka topic\n",
    "# \"kafka\" driver is not available by default with spark, we need to download it, we did on cell 1\n",
    "\n",
    "kafkaDf = spark.readStream.format(\"kafka\")\\\n",
    "  .option(\"kafka.bootstrap.servers\", \"localhost:9092\")\\\n",
    "  .option(\"subscribe\", \"stock-ticks\")\\\n",
    "  .option(\"group.id\", \"stock-ticks-group\")\\\n",
    "  .load()"
   ]
  },
  {
   "cell_type": "code",
   "execution_count": 7,
   "id": "91969ee6-e289-47cf-bb85-73e4338ede96",
   "metadata": {},
   "outputs": [
    {
     "name": "stdout",
     "output_type": "stream",
     "text": [
      "root\n",
      " |-- key: binary (nullable = true)\n",
      " |-- value: binary (nullable = true)\n",
      " |-- topic: string (nullable = true)\n",
      " |-- partition: integer (nullable = true)\n",
      " |-- offset: long (nullable = true)\n",
      " |-- timestamp: timestamp (nullable = true)\n",
      " |-- timestampType: integer (nullable = true)\n",
      "\n"
     ]
    }
   ],
   "source": [
    "# key and value are binary type, we need to CAST To STRING type\n",
    "kafkaDf.printSchema()\n",
    "# timestampType values\n",
    "# CreateTime:  Timestamp relates to message creation time as set by a Kafka client/producer\n",
    "# LogAppendTime : Timestamp relates to the time a message was appended to a Kafka log.\n",
    "# UnknownType"
   ]
  },
  {
   "cell_type": "code",
   "execution_count": 8,
   "id": "7672c3f2-7a6b-4f28-a97f-597d0abfb92f",
   "metadata": {},
   "outputs": [
    {
     "name": "stdout",
     "output_type": "stream",
     "text": [
      "root\n",
      " |-- value: string (nullable = true)\n",
      " |-- timestamp: timestamp (nullable = true)\n",
      "\n"
     ]
    }
   ],
   "source": [
    "\n",
    "# Kafka value, key are in binary format\n",
    "# we need to type cast to STRING, \n",
    "# we pick only value, timestamp as we need for 10 minute window\n",
    "ticksDf = kafkaDf.selectExpr(\"CAST(value AS STRING)\", \"timestamp\")\n",
    "ticksDf.printSchema() # we get only value as string"
   ]
  },
  {
   "cell_type": "code",
   "execution_count": 9,
   "id": "e8fc3486-5b34-4366-a0a7-0ee7d7b1c039",
   "metadata": {},
   "outputs": [],
   "source": [
    "# echoOnconsole = ticksDf\\\n",
    "#                 .writeStream\\\n",
    "#                 .outputMode(\"update\")\\\n",
    "#                 .format(\"console\")\\\n",
    "#                 .option(\"truncate\", False)\\\n",
    "#                 .start() # start the query. spark will subscribe for data"
   ]
  },
  {
   "cell_type": "code",
   "execution_count": 10,
   "id": "7bd995da-d50a-4862-87ce-545997263e54",
   "metadata": {},
   "outputs": [],
   "source": [
    "import pyspark.sql.functions as F\n",
    "from pyspark.sql.types import StructField, StructType, DoubleType, StringType, LongType, TimestampType\n",
    "\n",
    "schema = StructType( [\n",
    "    StructField(\"symbol\", StringType(), True),\n",
    "    StructField(\"price\", DoubleType(), True),\n",
    "    StructField(\"volume\", LongType(), True),\n",
    "    StructField(\"timestamp\", LongType(),  True)\n",
    "])"
   ]
  },
  {
   "cell_type": "code",
   "execution_count": 11,
   "id": "0730eb4d-d24c-4882-85b6-d7b6fb164e77",
   "metadata": {},
   "outputs": [
    {
     "name": "stdout",
     "output_type": "stream",
     "text": [
      "root\n",
      " |-- value: struct (nullable = true)\n",
      " |    |-- symbol: string (nullable = true)\n",
      " |    |-- price: double (nullable = true)\n",
      " |    |-- volume: long (nullable = true)\n",
      " |    |-- timestamp: long (nullable = true)\n",
      " |-- timestamp: timestamp (nullable = true)\n",
      "\n"
     ]
    }
   ],
   "source": [
    "# we parse value which is JSON string to kafka struct, \n",
    "# this create a new column [replacing existing value which is string] with type\n",
    "jsonDf = ticksDf.withColumn(\"value\", F.from_json(\"value\", schema))\n",
    "jsonDf.printSchema()"
   ]
  },
  {
   "cell_type": "code",
   "execution_count": 12,
   "id": "cc4e0381-2d5e-4f6d-807b-14184b26a386",
   "metadata": {},
   "outputs": [
    {
     "name": "stdout",
     "output_type": "stream",
     "text": [
      "root\n",
      " |-- symbol: string (nullable = true)\n",
      " |-- price: double (nullable = true)\n",
      " |-- volume: long (nullable = true)\n",
      " |-- timestamp: long (nullable = true)\n",
      "\n"
     ]
    }
   ],
   "source": [
    "# now extract all the sub fields symbol, price, volume, timestamp into data frame\n",
    "# exisitng value, timestamp shall be removed. existing timestamp is value produced time, not a stock tick time\n",
    "# value.timestamp that comes from producer is basically a event time\n",
    "stockTickDf = jsonDf.select (F.col(\"value.*\")) # extract all sub fields as schema\n",
    "stockTickDf.printSchema()"
   ]
  },
  {
   "cell_type": "code",
   "execution_count": 13,
   "id": "15465c31-a292-468c-82cc-c5bf5ba7d948",
   "metadata": {},
   "outputs": [
    {
     "name": "stdout",
     "output_type": "stream",
     "text": [
      "root\n",
      " |-- symbol: string (nullable = true)\n",
      " |-- price: double (nullable = true)\n",
      " |-- volume: long (nullable = true)\n",
      " |-- timestamp: long (nullable = true)\n",
      " |-- traded_value: double (nullable = true)\n",
      "\n"
     ]
    }
   ],
   "source": [
    "stockTickDf = stockTickDf.withColumn(\"traded_value\", F.col(\"price\") * F.col(\"volume\"))\n",
    "stockTickDf.printSchema()"
   ]
  },
  {
   "cell_type": "code",
   "execution_count": 14,
   "id": "1412e0ad-ee05-4e8d-bce6-bb35aff697c9",
   "metadata": {},
   "outputs": [],
   "source": [
    "# we have data coming in stream, each record has timestamp\n",
    "# we have milli seconds 1647283268253, the actual seconds Mon Mar 14 2022 14:41:08\n",
    "# now we have to calculate 1 minute window, sum(volume) up to 1 minute\n",
    "# after conversions, we take timestamp which is truncatd to minute instead of milli seconds, drop temp columns\n",
    "stockTickDf = stockTickDf\\\n",
    "                .withColumn(\"timestampTemp\", (F.col(\"timestamp\") / 1000).cast(\"timestamp\"))\\\n",
    "                .withColumn(\"trade_time\", F.date_trunc(\"minute\", F.col(\"timestampTemp\")))\\\n",
    "                .drop(\"timestamp\")\\\n",
    "                .drop(\"timestampTemp\")\\\n",
    "                .withColumnRenamed(\"trade_time\", \"timestamp\")\n",
    "               \n",
    "\n",
    "# echoOnconsole = stockTickDf\\\n",
    "#                 .writeStream\\\n",
    "#                 .outputMode(\"update\")\\\n",
    "#                 .format(\"console\")\\\n",
    "#                 .option(\"truncate\", False)\\\n",
    "#                 .start() # start the query. spark will subscribe for data"
   ]
  },
  {
   "cell_type": "code",
   "execution_count": 15,
   "id": "ae933917-fcb1-414b-a0a8-44289c9d7ec8",
   "metadata": {},
   "outputs": [
    {
     "name": "stdout",
     "output_type": "stream",
     "text": [
      "root\n",
      " |-- symbol: string (nullable = true)\n",
      " |-- window: struct (nullable = false)\n",
      " |    |-- start: timestamp (nullable = true)\n",
      " |    |-- end: timestamp (nullable = true)\n",
      " |-- volume: long (nullable = true)\n",
      " |-- traded_value: double (nullable = true)\n",
      " |-- high: double (nullable = true)\n",
      " |-- low: double (nullable = true)\n",
      " |-- first: double (nullable = true)\n",
      " |-- last: double (nullable = true)\n",
      "\n"
     ]
    },
    {
     "name": "stderr",
     "output_type": "stream",
     "text": [
      "22/05/25 02:03:32 WARN StreamingQueryManager: Temporary checkpoint location created which is deleted normally when the query didn't fail: /tmp/temporary-4b407887-29b0-4274-aaee-2f45ed68a715. If it's required to delete it under any circumstances, please set spark.sql.streaming.forceDeleteTempCheckpointLocation to true. Important to know deleting temp checkpoint folder is best effort.\n"
     ]
    },
    {
     "data": {
      "text/plain": [
       "<pyspark.sql.streaming.StreamingQuery at 0x7f96d00bc7c0>"
      ]
     },
     "execution_count": 15,
     "metadata": {},
     "output_type": "execute_result"
    },
    {
     "name": "stderr",
     "output_type": "stream",
     "text": [
      "                                                                                \r"
     ]
    },
    {
     "name": "stdout",
     "output_type": "stream",
     "text": [
      "-------------------------------------------\n",
      "Batch: 0\n",
      "-------------------------------------------\n"
     ]
    },
    {
     "name": "stderr",
     "output_type": "stream",
     "text": [
      "[Stage 1:=============================>                             (2 + 1) / 4]\r"
     ]
    },
    {
     "name": "stdout",
     "output_type": "stream",
     "text": [
      "+------+------+------+------------+----+---+-----+----+\n",
      "|symbol|window|volume|traded_value|high|low|first|last|\n",
      "+------+------+------+------------+----+---+-----+----+\n",
      "+------+------+------+------------+----+---+-----+----+\n",
      "\n"
     ]
    },
    {
     "name": "stderr",
     "output_type": "stream",
     "text": [
      "22/05/25 02:04:14 WARN NetworkClient: [Producer clientId=producer-1] Error while fetching metadata with correlation id 1 : {candles-1min=LEADER_NOT_AVAILABLE}\n",
      "22/05/25 02:04:14 WARN NetworkClient: [Producer clientId=producer-1] Error while fetching metadata with correlation id 3 : {candles-1min=LEADER_NOT_AVAILABLE}\n",
      "                                                                                \r"
     ]
    },
    {
     "name": "stdout",
     "output_type": "stream",
     "text": [
      "-------------------------------------------\n",
      "Batch: 1\n",
      "-------------------------------------------\n",
      "+------+------------------------------------------+------+------------+----+----+-----+----+\n",
      "|symbol|window                                    |volume|traded_value|high|low |first|last|\n",
      "+------+------------------------------------------+------+------------+----+----+-----+----+\n",
      "|TSLA  |{2022-05-25 02:03:00, 2022-05-25 02:04:00}|30    |990.0       |33.0|33.0|33.0 |33.0|\n",
      "|MSFT  |{2022-05-25 02:04:00, 2022-05-25 02:05:00}|30    |510.0       |17.0|17.0|17.0 |17.0|\n",
      "|RELAXO|{2022-05-25 02:03:00, 2022-05-25 02:04:00}|10    |130.0       |13.0|13.0|13.0 |13.0|\n",
      "+------+------------------------------------------+------+------------+----+----+-----+----+\n",
      "\n"
     ]
    },
    {
     "name": "stderr",
     "output_type": "stream",
     "text": [
      "                                                                                \r"
     ]
    },
    {
     "name": "stdout",
     "output_type": "stream",
     "text": [
      "-------------------------------------------\n",
      "Batch: 2\n",
      "-------------------------------------------\n",
      "+------+------------------------------------------+------+------------+----+----+-----+----+\n",
      "|symbol|window                                    |volume|traded_value|high|low |first|last|\n",
      "+------+------------------------------------------+------+------------+----+----+-----+----+\n",
      "|MSFT  |{2022-05-25 02:04:00, 2022-05-25 02:05:00}|60    |1620.0      |37.0|17.0|17.0 |37.0|\n",
      "+------+------------------------------------------+------+------------+----+----+-----+----+\n",
      "\n"
     ]
    },
    {
     "name": "stderr",
     "output_type": "stream",
     "text": [
      "[Stage 13:=============>    (3 + 1) / 4][Stage 15:>                 (0 + 0) / 4]\r"
     ]
    },
    {
     "name": "stdout",
     "output_type": "stream",
     "text": [
      "-------------------------------------------\n",
      "Batch: 3\n",
      "-------------------------------------------\n",
      "+------+------------------------------------------+------+------------+----+----+-----+----+\n",
      "|symbol|window                                    |volume|traded_value|high|low |first|last|\n",
      "+------+------------------------------------------+------+------------+----+----+-----+----+\n",
      "|TSLA  |{2022-05-25 02:04:00, 2022-05-25 02:05:00}|50    |1300.0      |26.0|26.0|26.0 |26.0|\n",
      "+------+------------------------------------------+------+------------+----+----+-----+----+\n",
      "\n"
     ]
    },
    {
     "name": "stderr",
     "output_type": "stream",
     "text": [
      "                                                                                \r"
     ]
    },
    {
     "name": "stdout",
     "output_type": "stream",
     "text": [
      "-------------------------------------------\n",
      "Batch: 4\n",
      "-------------------------------------------\n",
      "+------+------------------------------------------+------+------------+----+----+-----+----+\n",
      "|symbol|window                                    |volume|traded_value|high|low |first|last|\n",
      "+------+------------------------------------------+------+------------+----+----+-----+----+\n",
      "|MARUTI|{2022-05-25 02:04:00, 2022-05-25 02:05:00}|10    |470.0       |47.0|47.0|47.0 |47.0|\n",
      "+------+------------------------------------------+------+------------+----+----+-----+----+\n",
      "\n"
     ]
    },
    {
     "name": "stderr",
     "output_type": "stream",
     "text": [
      "                                                                                \r"
     ]
    },
    {
     "name": "stdout",
     "output_type": "stream",
     "text": [
      "-------------------------------------------\n",
      "Batch: 5\n",
      "-------------------------------------------\n",
      "+------+------------------------------------------+------+------------+----+----+-----+----+\n",
      "|symbol|window                                    |volume|traded_value|high|low |first|last|\n",
      "+------+------------------------------------------+------+------------+----+----+-----+----+\n",
      "|MARUTI|{2022-05-25 02:04:00, 2022-05-25 02:05:00}|130   |5750.0      |47.0|44.0|47.0 |44.0|\n",
      "+------+------------------------------------------+------+------------+----+----+-----+----+\n",
      "\n"
     ]
    },
    {
     "name": "stderr",
     "output_type": "stream",
     "text": [
      "                                                                                \r"
     ]
    },
    {
     "name": "stdout",
     "output_type": "stream",
     "text": [
      "-------------------------------------------\n",
      "Batch: 6\n",
      "-------------------------------------------\n",
      "+------+------------------------------------------+------+------------+----+----+-----+----+\n",
      "|symbol|window                                    |volume|traded_value|high|low |first|last|\n",
      "+------+------------------------------------------+------+------------+----+----+-----+----+\n",
      "|RELAXO|{2022-05-25 02:04:00, 2022-05-25 02:05:00}|30    |600.0       |20.0|20.0|20.0 |20.0|\n",
      "+------+------------------------------------------+------+------------+----+----+-----+----+\n",
      "\n"
     ]
    },
    {
     "name": "stderr",
     "output_type": "stream",
     "text": [
      "                                                                                \r"
     ]
    },
    {
     "name": "stdout",
     "output_type": "stream",
     "text": [
      "-------------------------------------------\n",
      "Batch: 7\n",
      "-------------------------------------------\n",
      "+------+------------------------------------------+------+------------+----+----+-----+----+\n",
      "|symbol|window                                    |volume|traded_value|high|low |first|last|\n",
      "+------+------------------------------------------+------+------------+----+----+-----+----+\n",
      "|MARUTI|{2022-05-25 02:05:00, 2022-05-25 02:06:00}|40    |1240.0      |31.0|31.0|31.0 |31.0|\n",
      "+------+------------------------------------------+------+------------+----+----+-----+----+\n",
      "\n"
     ]
    },
    {
     "name": "stderr",
     "output_type": "stream",
     "text": [
      "                                                                                \r"
     ]
    },
    {
     "name": "stdout",
     "output_type": "stream",
     "text": [
      "-------------------------------------------\n",
      "Batch: 8\n",
      "-------------------------------------------\n",
      "+------+------+------+------------+----+---+-----+----+\n",
      "|symbol|window|volume|traded_value|high|low|first|last|\n",
      "+------+------+------+------------+----+---+-----+----+\n",
      "+------+------+------+------------+----+---+-----+----+\n",
      "\n"
     ]
    },
    {
     "name": "stderr",
     "output_type": "stream",
     "text": [
      "                                                                                \r"
     ]
    },
    {
     "name": "stdout",
     "output_type": "stream",
     "text": [
      "-------------------------------------------\n",
      "Batch: 9\n",
      "-------------------------------------------\n",
      "+------+------------------------------------------+------+------------+----+----+-----+----+\n",
      "|symbol|window                                    |volume|traded_value|high|low |first|last|\n",
      "+------+------------------------------------------+------+------------+----+----+-----+----+\n",
      "|MSFT  |{2022-05-25 02:05:00, 2022-05-25 02:06:00}|120   |5040.0      |42.0|42.0|42.0 |42.0|\n",
      "+------+------------------------------------------+------+------------+----+----+-----+----+\n",
      "\n"
     ]
    },
    {
     "name": "stderr",
     "output_type": "stream",
     "text": [
      "                                                                                \r"
     ]
    },
    {
     "name": "stdout",
     "output_type": "stream",
     "text": [
      "-------------------------------------------\n",
      "Batch: 10\n",
      "-------------------------------------------\n",
      "+------+------------------------------------------+------+------------+----+----+-----+----+\n",
      "|symbol|window                                    |volume|traded_value|high|low |first|last|\n",
      "+------+------------------------------------------+------+------------+----+----+-----+----+\n",
      "|MARUTI|{2022-05-25 02:05:00, 2022-05-25 02:06:00}|90    |2040.0      |31.0|16.0|31.0 |16.0|\n",
      "+------+------------------------------------------+------+------------+----+----+-----+----+\n",
      "\n"
     ]
    },
    {
     "name": "stderr",
     "output_type": "stream",
     "text": [
      "                                                                                \r"
     ]
    },
    {
     "name": "stdout",
     "output_type": "stream",
     "text": [
      "-------------------------------------------\n",
      "Batch: 11\n",
      "-------------------------------------------\n",
      "+------+------------------------------------------+------+------------+----+----+-----+----+\n",
      "|symbol|window                                    |volume|traded_value|high|low |first|last|\n",
      "+------+------------------------------------------+------+------------+----+----+-----+----+\n",
      "|MARUTI|{2022-05-25 02:05:00, 2022-05-25 02:06:00}|210   |5400.0      |31.0|16.0|31.0 |28.0|\n",
      "+------+------------------------------------------+------+------------+----+----+-----+----+\n",
      "\n"
     ]
    },
    {
     "name": "stderr",
     "output_type": "stream",
     "text": [
      "                                                                                \r"
     ]
    },
    {
     "name": "stdout",
     "output_type": "stream",
     "text": [
      "-------------------------------------------\n",
      "Batch: 12\n",
      "-------------------------------------------\n",
      "+------+------------------------------------------+------+------------+----+----+-----+----+\n",
      "|symbol|window                                    |volume|traded_value|high|low |first|last|\n",
      "+------+------------------------------------------+------+------------+----+----+-----+----+\n",
      "|TSLA  |{2022-05-25 02:05:00, 2022-05-25 02:06:00}|30    |930.0       |31.0|31.0|31.0 |31.0|\n",
      "+------+------------------------------------------+------+------------+----+----+-----+----+\n",
      "\n"
     ]
    },
    {
     "name": "stderr",
     "output_type": "stream",
     "text": [
      "                                                                                \r"
     ]
    },
    {
     "name": "stdout",
     "output_type": "stream",
     "text": [
      "-------------------------------------------\n",
      "Batch: 13\n",
      "-------------------------------------------\n",
      "+------+------------------------------------------+------+------------+----+----+-----+----+\n",
      "|symbol|window                                    |volume|traded_value|high|low |first|last|\n",
      "+------+------------------------------------------+------+------------+----+----+-----+----+\n",
      "|MSFT  |{2022-05-25 02:05:00, 2022-05-25 02:06:00}|170   |7240.0      |44.0|42.0|42.0 |44.0|\n",
      "+------+------------------------------------------+------+------------+----+----+-----+----+\n",
      "\n"
     ]
    },
    {
     "name": "stderr",
     "output_type": "stream",
     "text": [
      "[Stage 59:===========================================>              (3 + 1) / 4]\r"
     ]
    },
    {
     "name": "stdout",
     "output_type": "stream",
     "text": [
      "-------------------------------------------\n",
      "Batch: 14\n",
      "-------------------------------------------\n"
     ]
    },
    {
     "name": "stderr",
     "output_type": "stream",
     "text": [
      "                                                                                \r"
     ]
    },
    {
     "name": "stdout",
     "output_type": "stream",
     "text": [
      "+------+------------------------------------------+------+------------+----+----+-----+----+\n",
      "|symbol|window                                    |volume|traded_value|high|low |first|last|\n",
      "+------+------------------------------------------+------+------------+----+----+-----+----+\n",
      "|RELAXO|{2022-05-25 02:06:00, 2022-05-25 02:07:00}|100   |5000.0      |50.0|50.0|50.0 |50.0|\n",
      "+------+------------------------------------------+------+------------+----+----+-----+----+\n",
      "\n"
     ]
    },
    {
     "name": "stderr",
     "output_type": "stream",
     "text": [
      "                                                                                \r"
     ]
    },
    {
     "name": "stdout",
     "output_type": "stream",
     "text": [
      "-------------------------------------------\n",
      "Batch: 15\n",
      "-------------------------------------------\n",
      "+------+------+------+------------+----+---+-----+----+\n",
      "|symbol|window|volume|traded_value|high|low|first|last|\n",
      "+------+------+------+------------+----+---+-----+----+\n",
      "+------+------+------+------------+----+---+-----+----+\n",
      "\n"
     ]
    },
    {
     "name": "stderr",
     "output_type": "stream",
     "text": [
      "                                                                                \r"
     ]
    },
    {
     "name": "stdout",
     "output_type": "stream",
     "text": [
      "-------------------------------------------\n",
      "Batch: 16\n",
      "-------------------------------------------\n",
      "+------+------------------------------------------+------+------------+----+----+-----+----+\n",
      "|symbol|window                                    |volume|traded_value|high|low |first|last|\n",
      "+------+------------------------------------------+------+------------+----+----+-----+----+\n",
      "|MARUTI|{2022-05-25 02:06:00, 2022-05-25 02:07:00}|10    |330.0       |33.0|33.0|33.0 |33.0|\n",
      "+------+------------------------------------------+------+------------+----+----+-----+----+\n",
      "\n"
     ]
    },
    {
     "name": "stderr",
     "output_type": "stream",
     "text": [
      "                                                                                \r"
     ]
    },
    {
     "name": "stdout",
     "output_type": "stream",
     "text": [
      "-------------------------------------------\n",
      "Batch: 17\n",
      "-------------------------------------------\n",
      "+------+------------------------------------------+------+------------+----+----+-----+----+\n",
      "|symbol|window                                    |volume|traded_value|high|low |first|last|\n",
      "+------+------------------------------------------+------+------------+----+----+-----+----+\n",
      "|MARUTI|{2022-05-25 02:06:00, 2022-05-25 02:07:00}|50    |1530.0      |33.0|30.0|33.0 |30.0|\n",
      "+------+------------------------------------------+------+------------+----+----+-----+----+\n",
      "\n"
     ]
    },
    {
     "name": "stderr",
     "output_type": "stream",
     "text": [
      "                                                                                \r"
     ]
    },
    {
     "name": "stdout",
     "output_type": "stream",
     "text": [
      "-------------------------------------------\n",
      "Batch: 18\n",
      "-------------------------------------------\n",
      "+------+------------------------------------------+------+------------+----+----+-----+----+\n",
      "|symbol|window                                    |volume|traded_value|high|low |first|last|\n",
      "+------+------------------------------------------+------+------------+----+----+-----+----+\n",
      "|MARUTI|{2022-05-25 02:06:00, 2022-05-25 02:07:00}|170   |2970.0      |33.0|12.0|33.0 |12.0|\n",
      "+------+------------------------------------------+------+------------+----+----+-----+----+\n",
      "\n"
     ]
    },
    {
     "name": "stderr",
     "output_type": "stream",
     "text": [
      "                                                                                \r"
     ]
    },
    {
     "name": "stdout",
     "output_type": "stream",
     "text": [
      "-------------------------------------------\n",
      "Batch: 19\n",
      "-------------------------------------------\n",
      "+------+------------------------------------------+------+------------+----+----+-----+----+\n",
      "|symbol|window                                    |volume|traded_value|high|low |first|last|\n",
      "+------+------------------------------------------+------+------------+----+----+-----+----+\n",
      "|TSLA  |{2022-05-25 02:06:00, 2022-05-25 02:07:00}|120   |1440.0      |12.0|12.0|12.0 |12.0|\n",
      "+------+------------------------------------------+------+------------+----+----+-----+----+\n",
      "\n"
     ]
    },
    {
     "name": "stderr",
     "output_type": "stream",
     "text": [
      "                                                                                \r"
     ]
    },
    {
     "name": "stdout",
     "output_type": "stream",
     "text": [
      "-------------------------------------------\n",
      "Batch: 20\n",
      "-------------------------------------------\n",
      "+------+------------------------------------------+------+------------+----+----+-----+----+\n",
      "|symbol|window                                    |volume|traded_value|high|low |first|last|\n",
      "+------+------------------------------------------+------+------------+----+----+-----+----+\n",
      "|TSLA  |{2022-05-25 02:06:00, 2022-05-25 02:07:00}|160   |3320.0      |47.0|12.0|12.0 |47.0|\n",
      "+------+------------------------------------------+------+------------+----+----+-----+----+\n",
      "\n"
     ]
    },
    {
     "name": "stderr",
     "output_type": "stream",
     "text": [
      "                                                                                \r"
     ]
    },
    {
     "name": "stdout",
     "output_type": "stream",
     "text": [
      "-------------------------------------------\n",
      "Batch: 21\n",
      "-------------------------------------------\n",
      "+------+------------------------------------------+------+------------+----+----+-----+----+\n",
      "|symbol|window                                    |volume|traded_value|high|low |first|last|\n",
      "+------+------------------------------------------+------+------------+----+----+-----+----+\n",
      "|TSLA  |{2022-05-25 02:07:00, 2022-05-25 02:08:00}|30    |1500.0      |50.0|50.0|50.0 |50.0|\n",
      "+------+------------------------------------------+------+------------+----+----+-----+----+\n",
      "\n"
     ]
    },
    {
     "name": "stderr",
     "output_type": "stream",
     "text": [
      "                                                                                \r"
     ]
    },
    {
     "name": "stdout",
     "output_type": "stream",
     "text": [
      "-------------------------------------------\n",
      "Batch: 22\n",
      "-------------------------------------------\n",
      "+------+------+------+------------+----+---+-----+----+\n",
      "|symbol|window|volume|traded_value|high|low|first|last|\n",
      "+------+------+------+------------+----+---+-----+----+\n",
      "+------+------+------+------------+----+---+-----+----+\n",
      "\n"
     ]
    },
    {
     "name": "stderr",
     "output_type": "stream",
     "text": [
      "[Stage 95:===========================================>              (3 + 1) / 4]\r"
     ]
    },
    {
     "name": "stdout",
     "output_type": "stream",
     "text": [
      "-------------------------------------------\n",
      "Batch: 23\n",
      "-------------------------------------------\n",
      "+------+------------------------------------------+------+------------+----+----+-----+----+\n",
      "|symbol|window                                    |volume|traded_value|high|low |first|last|\n",
      "+------+------------------------------------------+------+------------+----+----+-----+----+\n",
      "|RELAXO|{2022-05-25 02:07:00, 2022-05-25 02:08:00}|10    |220.0       |22.0|22.0|22.0 |22.0|\n",
      "+------+------------------------------------------+------+------------+----+----+-----+----+\n",
      "\n"
     ]
    },
    {
     "name": "stderr",
     "output_type": "stream",
     "text": [
      "                                                                                \r"
     ]
    },
    {
     "name": "stdout",
     "output_type": "stream",
     "text": [
      "-------------------------------------------\n",
      "Batch: 24\n",
      "-------------------------------------------\n",
      "+------+------------------------------------------+------+------------+----+----+-----+----+\n",
      "|symbol|window                                    |volume|traded_value|high|low |first|last|\n",
      "+------+------------------------------------------+------+------------+----+----+-----+----+\n",
      "|MSFT  |{2022-05-25 02:07:00, 2022-05-25 02:08:00}|10    |210.0       |21.0|21.0|21.0 |21.0|\n",
      "+------+------------------------------------------+------+------------+----+----+-----+----+\n",
      "\n"
     ]
    },
    {
     "name": "stderr",
     "output_type": "stream",
     "text": [
      "                                                                                \r"
     ]
    },
    {
     "name": "stdout",
     "output_type": "stream",
     "text": [
      "-------------------------------------------\n",
      "Batch: 25\n",
      "-------------------------------------------\n",
      "+------+------------------------------------------+------+------------+----+---+-----+----+\n",
      "|symbol|window                                    |volume|traded_value|high|low|first|last|\n",
      "+------+------------------------------------------+------+------------+----+---+-----+----+\n",
      "|MSFT  |{2022-05-25 02:07:00, 2022-05-25 02:08:00}|130   |1170.0      |21.0|8.0|21.0 |8.0 |\n",
      "+------+------------------------------------------+------+------------+----+---+-----+----+\n",
      "\n"
     ]
    },
    {
     "name": "stderr",
     "output_type": "stream",
     "text": [
      "                                                                                \r"
     ]
    },
    {
     "name": "stdout",
     "output_type": "stream",
     "text": [
      "-------------------------------------------\n",
      "Batch: 26\n",
      "-------------------------------------------\n",
      "+------+------------------------------------------+------+------------+----+----+-----+----+\n",
      "|symbol|window                                    |volume|traded_value|high|low |first|last|\n",
      "+------+------------------------------------------+------+------------+----+----+-----+----+\n",
      "|TSLA  |{2022-05-25 02:07:00, 2022-05-25 02:08:00}|130   |3500.0      |50.0|20.0|50.0 |20.0|\n",
      "+------+------------------------------------------+------+------------+----+----+-----+----+\n",
      "\n"
     ]
    },
    {
     "name": "stderr",
     "output_type": "stream",
     "text": [
      "                                                                                \r"
     ]
    },
    {
     "name": "stdout",
     "output_type": "stream",
     "text": [
      "-------------------------------------------\n",
      "Batch: 27\n",
      "-------------------------------------------\n",
      "+------+------------------------------------------+------+------------+----+----+-----+----+\n",
      "|symbol|window                                    |volume|traded_value|high|low |first|last|\n",
      "+------+------------------------------------------+------+------------+----+----+-----+----+\n",
      "|TSLA  |{2022-05-25 02:07:00, 2022-05-25 02:08:00}|250   |8780.0      |50.0|20.0|50.0 |44.0|\n",
      "+------+------------------------------------------+------+------------+----+----+-----+----+\n",
      "\n"
     ]
    },
    {
     "name": "stderr",
     "output_type": "stream",
     "text": [
      "                                                                                \r"
     ]
    },
    {
     "name": "stdout",
     "output_type": "stream",
     "text": [
      "-------------------------------------------\n",
      "Batch: 28\n",
      "-------------------------------------------\n",
      "+------+------------------------------------------+------+------------+----+----+-----+----+\n",
      "|symbol|window                                    |volume|traded_value|high|low |first|last|\n",
      "+------+------------------------------------------+------+------------+----+----+-----+----+\n",
      "|MSFT  |{2022-05-25 02:08:00, 2022-05-25 02:09:00}|100   |3800.0      |38.0|38.0|38.0 |38.0|\n",
      "+------+------------------------------------------+------+------------+----+----+-----+----+\n",
      "\n"
     ]
    },
    {
     "name": "stderr",
     "output_type": "stream",
     "text": [
      "                                                                                \r"
     ]
    },
    {
     "name": "stdout",
     "output_type": "stream",
     "text": [
      "-------------------------------------------\n",
      "Batch: 29\n",
      "-------------------------------------------\n",
      "+------+------+------+------------+----+---+-----+----+\n",
      "|symbol|window|volume|traded_value|high|low|first|last|\n",
      "+------+------+------+------------+----+---+-----+----+\n",
      "+------+------+------+------------+----+---+-----+----+\n",
      "\n"
     ]
    },
    {
     "name": "stderr",
     "output_type": "stream",
     "text": [
      "                                                                                \r"
     ]
    },
    {
     "name": "stdout",
     "output_type": "stream",
     "text": [
      "-------------------------------------------\n",
      "Batch: 30\n",
      "-------------------------------------------\n",
      "+------+------------------------------------------+------+------------+----+---+-----+----+\n",
      "|symbol|window                                    |volume|traded_value|high|low|first|last|\n",
      "+------+------------------------------------------+------+------------+----+---+-----+----+\n",
      "|TSLA  |{2022-05-25 02:08:00, 2022-05-25 02:09:00}|50    |250.0       |5.0 |5.0|5.0  |5.0 |\n",
      "+------+------------------------------------------+------+------------+----+---+-----+----+\n",
      "\n"
     ]
    },
    {
     "name": "stderr",
     "output_type": "stream",
     "text": [
      "                                                                                \r"
     ]
    },
    {
     "name": "stdout",
     "output_type": "stream",
     "text": [
      "-------------------------------------------\n",
      "Batch: 31\n",
      "-------------------------------------------\n",
      "+------+------------------------------------------+------+------------+----+---+-----+----+\n",
      "|symbol|window                                    |volume|traded_value|high|low|first|last|\n",
      "+------+------------------------------------------+------+------------+----+---+-----+----+\n",
      "|TSLA  |{2022-05-25 02:08:00, 2022-05-25 02:09:00}|60    |630.0       |38.0|5.0|5.0  |38.0|\n",
      "+------+------------------------------------------+------+------------+----+---+-----+----+\n",
      "\n"
     ]
    },
    {
     "name": "stderr",
     "output_type": "stream",
     "text": [
      "                                                                                \r"
     ]
    },
    {
     "name": "stdout",
     "output_type": "stream",
     "text": [
      "-------------------------------------------\n",
      "Batch: 32\n",
      "-------------------------------------------\n",
      "+------+------------------------------------------+------+------------+----+---+-----+----+\n",
      "|symbol|window                                    |volume|traded_value|high|low|first|last|\n",
      "+------+------------------------------------------+------+------------+----+---+-----+----+\n",
      "|RELAXO|{2022-05-25 02:08:00, 2022-05-25 02:09:00}|30    |210.0       |7.0 |7.0|7.0  |7.0 |\n",
      "+------+------------------------------------------+------+------------+----+---+-----+----+\n",
      "\n"
     ]
    },
    {
     "name": "stderr",
     "output_type": "stream",
     "text": [
      "                                                                                \r"
     ]
    },
    {
     "name": "stdout",
     "output_type": "stream",
     "text": [
      "-------------------------------------------\n",
      "Batch: 33\n",
      "-------------------------------------------\n",
      "+------+------------------------------------------+------+------------+----+----+-----+----+\n",
      "|symbol|window                                    |volume|traded_value|high|low |first|last|\n",
      "+------+------------------------------------------+------+------------+----+----+-----+----+\n",
      "|MARUTI|{2022-05-25 02:08:00, 2022-05-25 02:09:00}|50    |1350.0      |27.0|27.0|27.0 |27.0|\n",
      "+------+------------------------------------------+------+------------+----+----+-----+----+\n",
      "\n"
     ]
    },
    {
     "name": "stderr",
     "output_type": "stream",
     "text": [
      "                                                                                \r"
     ]
    },
    {
     "name": "stdout",
     "output_type": "stream",
     "text": [
      "-------------------------------------------\n",
      "Batch: 34\n",
      "-------------------------------------------\n",
      "+------+------------------------------------------+------+------------+----+---+-----+----+\n",
      "|symbol|window                                    |volume|traded_value|high|low|first|last|\n",
      "+------+------------------------------------------+------+------------+----+---+-----+----+\n",
      "|MSFT  |{2022-05-25 02:08:00, 2022-05-25 02:09:00}|140   |4120.0      |38.0|8.0|38.0 |8.0 |\n",
      "+------+------------------------------------------+------+------------+----+---+-----+----+\n",
      "\n"
     ]
    },
    {
     "name": "stderr",
     "output_type": "stream",
     "text": [
      "                                                                                \r"
     ]
    },
    {
     "name": "stdout",
     "output_type": "stream",
     "text": [
      "-------------------------------------------\n",
      "Batch: 35\n",
      "-------------------------------------------\n",
      "+------+------------------------------------------+------+------------+----+----+-----+----+\n",
      "|symbol|window                                    |volume|traded_value|high|low |first|last|\n",
      "+------+------------------------------------------+------+------------+----+----+-----+----+\n",
      "|MARUTI|{2022-05-25 02:09:00, 2022-05-25 02:10:00}|120   |2400.0      |20.0|20.0|20.0 |20.0|\n",
      "+------+------------------------------------------+------+------------+----+----+-----+----+\n",
      "\n"
     ]
    },
    {
     "name": "stderr",
     "output_type": "stream",
     "text": [
      "                                                                                \r"
     ]
    },
    {
     "name": "stdout",
     "output_type": "stream",
     "text": [
      "-------------------------------------------\n",
      "Batch: 36\n",
      "-------------------------------------------\n",
      "+------+------+------+------------+----+---+-----+----+\n",
      "|symbol|window|volume|traded_value|high|low|first|last|\n",
      "+------+------+------+------------+----+---+-----+----+\n",
      "+------+------+------+------------+----+---+-----+----+\n",
      "\n"
     ]
    },
    {
     "name": "stderr",
     "output_type": "stream",
     "text": [
      "                                                                                \r"
     ]
    },
    {
     "name": "stdout",
     "output_type": "stream",
     "text": [
      "-------------------------------------------\n",
      "Batch: 37\n",
      "-------------------------------------------\n",
      "+------+------------------------------------------+------+------------+----+---+-----+----+\n",
      "|symbol|window                                    |volume|traded_value|high|low|first|last|\n",
      "+------+------------------------------------------+------+------------+----+---+-----+----+\n",
      "|MARUTI|{2022-05-25 02:09:00, 2022-05-25 02:10:00}|150   |2580.0      |20.0|6.0|20.0 |6.0 |\n",
      "+------+------------------------------------------+------+------------+----+---+-----+----+\n",
      "\n"
     ]
    },
    {
     "name": "stderr",
     "output_type": "stream",
     "text": [
      "                                                                                \r"
     ]
    },
    {
     "name": "stdout",
     "output_type": "stream",
     "text": [
      "-------------------------------------------\n",
      "Batch: 38\n",
      "-------------------------------------------\n",
      "+------+------------------------------------------+------+------------+----+----+-----+----+\n",
      "|symbol|window                                    |volume|traded_value|high|low |first|last|\n",
      "+------+------------------------------------------+------+------------+----+----+-----+----+\n",
      "|MSFT  |{2022-05-25 02:09:00, 2022-05-25 02:10:00}|100   |1000.0      |10.0|10.0|10.0 |10.0|\n",
      "+------+------------------------------------------+------+------------+----+----+-----+----+\n",
      "\n"
     ]
    },
    {
     "name": "stderr",
     "output_type": "stream",
     "text": [
      "                                                                                \r"
     ]
    },
    {
     "name": "stdout",
     "output_type": "stream",
     "text": [
      "-------------------------------------------\n",
      "Batch: 39\n",
      "-------------------------------------------\n",
      "+------+------------------------------------------+------+------------+----+---+-----+----+\n",
      "|symbol|window                                    |volume|traded_value|high|low|first|last|\n",
      "+------+------------------------------------------+------+------------+----+---+-----+----+\n",
      "|MSFT  |{2022-05-25 02:09:00, 2022-05-25 02:10:00}|220   |1720.0      |10.0|6.0|10.0 |6.0 |\n",
      "+------+------------------------------------------+------+------------+----+---+-----+----+\n",
      "\n"
     ]
    },
    {
     "name": "stderr",
     "output_type": "stream",
     "text": [
      "                                                                                \r"
     ]
    },
    {
     "name": "stdout",
     "output_type": "stream",
     "text": [
      "-------------------------------------------\n",
      "Batch: 40\n",
      "-------------------------------------------\n",
      "+------+------------------------------------------+------+------------+----+----+-----+----+\n",
      "|symbol|window                                    |volume|traded_value|high|low |first|last|\n",
      "+------+------------------------------------------+------+------------+----+----+-----+----+\n",
      "|RELAXO|{2022-05-25 02:09:00, 2022-05-25 02:10:00}|120   |1800.0      |15.0|15.0|15.0 |15.0|\n",
      "+------+------------------------------------------+------+------------+----+----+-----+----+\n",
      "\n"
     ]
    },
    {
     "name": "stderr",
     "output_type": "stream",
     "text": [
      "                                                                                \r"
     ]
    },
    {
     "name": "stdout",
     "output_type": "stream",
     "text": [
      "-------------------------------------------\n",
      "Batch: 41\n",
      "-------------------------------------------\n",
      "+------+------------------------------------------+------+------------+----+---+-----+----+\n",
      "|symbol|window                                    |volume|traded_value|high|low|first|last|\n",
      "+------+------------------------------------------+------+------------+----+---+-----+----+\n",
      "|MARUTI|{2022-05-25 02:09:00, 2022-05-25 02:10:00}|160   |2960.0      |38.0|6.0|20.0 |38.0|\n",
      "+------+------------------------------------------+------+------------+----+---+-----+----+\n",
      "\n"
     ]
    },
    {
     "name": "stderr",
     "output_type": "stream",
     "text": [
      "[Stage 169:============>    (3 + 1) / 4][Stage 171:>                (0 + 0) / 4]\r"
     ]
    },
    {
     "name": "stdout",
     "output_type": "stream",
     "text": [
      "-------------------------------------------\n",
      "Batch: 42\n",
      "-------------------------------------------\n",
      "+------+------------------------------------------+------+------------+----+----+-----+----+\n",
      "|symbol|window                                    |volume|traded_value|high|low |first|last|\n",
      "+------+------------------------------------------+------+------------+----+----+-----+----+\n",
      "|TSLA  |{2022-05-25 02:10:00, 2022-05-25 02:11:00}|10    |260.0       |26.0|26.0|26.0 |26.0|\n",
      "+------+------------------------------------------+------+------------+----+----+-----+----+\n",
      "\n"
     ]
    },
    {
     "name": "stderr",
     "output_type": "stream",
     "text": [
      "                                                                                \r"
     ]
    },
    {
     "name": "stdout",
     "output_type": "stream",
     "text": [
      "-------------------------------------------\n",
      "Batch: 43\n",
      "-------------------------------------------\n",
      "+------+------+------+------------+----+---+-----+----+\n",
      "|symbol|window|volume|traded_value|high|low|first|last|\n",
      "+------+------+------+------------+----+---+-----+----+\n",
      "+------+------+------+------------+----+---+-----+----+\n",
      "\n"
     ]
    },
    {
     "name": "stderr",
     "output_type": "stream",
     "text": [
      "                                                                                \r"
     ]
    },
    {
     "name": "stdout",
     "output_type": "stream",
     "text": [
      "-------------------------------------------\n",
      "Batch: 44\n",
      "-------------------------------------------\n",
      "+------+------------------------------------------+------+------------+----+----+-----+----+\n",
      "|symbol|window                                    |volume|traded_value|high|low |first|last|\n",
      "+------+------------------------------------------+------+------------+----+----+-----+----+\n",
      "|MSFT  |{2022-05-25 02:10:00, 2022-05-25 02:11:00}|40    |1720.0      |43.0|43.0|43.0 |43.0|\n",
      "+------+------------------------------------------+------+------------+----+----+-----+----+\n",
      "\n"
     ]
    },
    {
     "name": "stderr",
     "output_type": "stream",
     "text": [
      "                                                                                \r"
     ]
    },
    {
     "name": "stdout",
     "output_type": "stream",
     "text": [
      "-------------------------------------------\n",
      "Batch: 45\n",
      "-------------------------------------------\n",
      "+------+------------------------------------------+------+------------+----+----+-----+----+\n",
      "|symbol|window                                    |volume|traded_value|high|low |first|last|\n",
      "+------+------------------------------------------+------+------------+----+----+-----+----+\n",
      "|TSLA  |{2022-05-25 02:10:00, 2022-05-25 02:11:00}|20    |400.0       |26.0|14.0|26.0 |14.0|\n",
      "+------+------------------------------------------+------+------------+----+----+-----+----+\n",
      "\n"
     ]
    },
    {
     "name": "stderr",
     "output_type": "stream",
     "text": [
      "[Stage 185:============>    (3 + 1) / 4][Stage 187:>                (0 + 0) / 4]\r"
     ]
    },
    {
     "name": "stdout",
     "output_type": "stream",
     "text": [
      "-------------------------------------------\n",
      "Batch: 46\n",
      "-------------------------------------------\n",
      "+------+------------------------------------------+------+------------+----+---+-----+----+\n",
      "|symbol|window                                    |volume|traded_value|high|low|first|last|\n",
      "+------+------------------------------------------+------+------------+----+---+-----+----+\n",
      "|MARUTI|{2022-05-25 02:10:00, 2022-05-25 02:11:00}|120   |1080.0      |9.0 |9.0|9.0  |9.0 |\n",
      "+------+------------------------------------------+------+------------+----+---+-----+----+\n",
      "\n"
     ]
    },
    {
     "name": "stderr",
     "output_type": "stream",
     "text": [
      "                                                                                \r"
     ]
    },
    {
     "name": "stdout",
     "output_type": "stream",
     "text": [
      "-------------------------------------------\n",
      "Batch: 47\n",
      "-------------------------------------------\n",
      "+------+------------------------------------------+------+------------+----+----+-----+----+\n",
      "|symbol|window                                    |volume|traded_value|high|low |first|last|\n",
      "+------+------------------------------------------+------+------------+----+----+-----+----+\n",
      "|MSFT  |{2022-05-25 02:10:00, 2022-05-25 02:11:00}|50    |1860.0      |43.0|14.0|43.0 |14.0|\n",
      "+------+------------------------------------------+------+------------+----+----+-----+----+\n",
      "\n"
     ]
    },
    {
     "name": "stderr",
     "output_type": "stream",
     "text": [
      "                                                                                \r"
     ]
    },
    {
     "name": "stdout",
     "output_type": "stream",
     "text": [
      "-------------------------------------------\n",
      "Batch: 48\n",
      "-------------------------------------------\n",
      "+------+------------------------------------------+------+------------+----+----+-----+----+\n",
      "|symbol|window                                    |volume|traded_value|high|low |first|last|\n",
      "+------+------------------------------------------+------+------------+----+----+-----+----+\n",
      "|TSLA  |{2022-05-25 02:10:00, 2022-05-25 02:11:00}|120   |2400.0      |26.0|14.0|26.0 |20.0|\n",
      "+------+------------------------------------------+------+------------+----+----+-----+----+\n",
      "\n"
     ]
    },
    {
     "name": "stderr",
     "output_type": "stream",
     "text": [
      "                                                                                \r"
     ]
    },
    {
     "name": "stdout",
     "output_type": "stream",
     "text": [
      "-------------------------------------------\n",
      "Batch: 49\n",
      "-------------------------------------------\n",
      "+------+------------------------------------------+------+------------+----+---+-----+----+\n",
      "|symbol|window                                    |volume|traded_value|high|low|first|last|\n",
      "+------+------------------------------------------+------+------------+----+---+-----+----+\n",
      "|MARUTI|{2022-05-25 02:11:00, 2022-05-25 02:12:00}|100   |600.0       |6.0 |6.0|6.0  |6.0 |\n",
      "+------+------------------------------------------+------+------------+----+---+-----+----+\n",
      "\n",
      "-------------------------------------------\n",
      "Batch: 50\n",
      "-------------------------------------------\n",
      "+------+------+------+------------+----+---+-----+----+\n",
      "|symbol|window|volume|traded_value|high|low|first|last|\n",
      "+------+------+------+------------+----+---+-----+----+\n",
      "+------+------+------+------------+----+---+-----+----+\n",
      "\n"
     ]
    },
    {
     "name": "stderr",
     "output_type": "stream",
     "text": [
      "                                                                                \r"
     ]
    },
    {
     "name": "stdout",
     "output_type": "stream",
     "text": [
      "-------------------------------------------\n",
      "Batch: 51\n",
      "-------------------------------------------\n",
      "+------+------------------------------------------+------+------------+----+----+-----+----+\n",
      "|symbol|window                                    |volume|traded_value|high|low |first|last|\n",
      "+------+------------------------------------------+------+------------+----+----+-----+----+\n",
      "|MSFT  |{2022-05-25 02:11:00, 2022-05-25 02:12:00}|50    |2450.0      |49.0|49.0|49.0 |49.0|\n",
      "+------+------------------------------------------+------+------------+----+----+-----+----+\n",
      "\n"
     ]
    },
    {
     "name": "stderr",
     "output_type": "stream",
     "text": [
      "                                                                                \r"
     ]
    },
    {
     "name": "stdout",
     "output_type": "stream",
     "text": [
      "-------------------------------------------\n",
      "Batch: 52\n",
      "-------------------------------------------\n",
      "+------+------------------------------------------+------+------------+----+----+-----+----+\n",
      "|symbol|window                                    |volume|traded_value|high|low |first|last|\n",
      "+------+------------------------------------------+------+------------+----+----+-----+----+\n",
      "|MSFT  |{2022-05-25 02:11:00, 2022-05-25 02:12:00}|100   |3050.0      |49.0|12.0|49.0 |12.0|\n",
      "+------+------------------------------------------+------+------------+----+----+-----+----+\n",
      "\n"
     ]
    },
    {
     "name": "stderr",
     "output_type": "stream",
     "text": [
      "                                                                                \r"
     ]
    },
    {
     "name": "stdout",
     "output_type": "stream",
     "text": [
      "-------------------------------------------\n",
      "Batch: 53\n",
      "-------------------------------------------\n",
      "+------+------------------------------------------+------+------------+----+---+-----+----+\n",
      "|symbol|window                                    |volume|traded_value|high|low|first|last|\n",
      "+------+------------------------------------------+------+------------+----+---+-----+----+\n",
      "|MSFT  |{2022-05-25 02:11:00, 2022-05-25 02:12:00}|110   |3130.0      |49.0|8.0|49.0 |8.0 |\n",
      "+------+------------------------------------------+------+------------+----+---+-----+----+\n",
      "\n"
     ]
    },
    {
     "name": "stderr",
     "output_type": "stream",
     "text": [
      "                                                                                \r"
     ]
    },
    {
     "name": "stdout",
     "output_type": "stream",
     "text": [
      "-------------------------------------------\n",
      "Batch: 54\n",
      "-------------------------------------------\n",
      "+------+------------------------------------------+------+------------+----+---+-----+----+\n",
      "|symbol|window                                    |volume|traded_value|high|low|first|last|\n",
      "+------+------------------------------------------+------+------------+----+---+-----+----+\n",
      "|MSFT  |{2022-05-25 02:11:00, 2022-05-25 02:12:00}|120   |3280.0      |49.0|8.0|49.0 |15.0|\n",
      "+------+------------------------------------------+------+------------+----+---+-----+----+\n",
      "\n"
     ]
    },
    {
     "name": "stderr",
     "output_type": "stream",
     "text": [
      "                                                                                \r"
     ]
    },
    {
     "name": "stdout",
     "output_type": "stream",
     "text": [
      "-------------------------------------------\n",
      "Batch: 55\n",
      "-------------------------------------------\n",
      "+------+------------------------------------------+------+------------+----+---+-----+----+\n",
      "|symbol|window                                    |volume|traded_value|high|low|first|last|\n",
      "+------+------------------------------------------+------+------------+----+---+-----+----+\n",
      "|MARUTI|{2022-05-25 02:11:00, 2022-05-25 02:12:00}|150   |1400.0      |16.0|6.0|6.0  |16.0|\n",
      "+------+------------------------------------------+------+------------+----+---+-----+----+\n",
      "\n"
     ]
    },
    {
     "name": "stderr",
     "output_type": "stream",
     "text": [
      "                                                                                \r"
     ]
    },
    {
     "name": "stdout",
     "output_type": "stream",
     "text": [
      "-------------------------------------------\n",
      "Batch: 56\n",
      "-------------------------------------------\n",
      "+------+------------------------------------------+------+------------+----+----+-----+----+\n",
      "|symbol|window                                    |volume|traded_value|high|low |first|last|\n",
      "+------+------------------------------------------+------+------------+----+----+-----+----+\n",
      "|MARUTI|{2022-05-25 02:12:00, 2022-05-25 02:13:00}|100   |4600.0      |46.0|46.0|46.0 |46.0|\n",
      "+------+------------------------------------------+------+------------+----+----+-----+----+\n",
      "\n",
      "-------------------------------------------\n",
      "Batch: 57\n",
      "-------------------------------------------\n",
      "+------+------+------+------------+----+---+-----+----+\n",
      "|symbol|window|volume|traded_value|high|low|first|last|\n",
      "+------+------+------+------------+----+---+-----+----+\n",
      "+------+------+------+------------+----+---+-----+----+\n",
      "\n"
     ]
    },
    {
     "name": "stderr",
     "output_type": "stream",
     "text": [
      "                                                                                \r"
     ]
    },
    {
     "name": "stdout",
     "output_type": "stream",
     "text": [
      "-------------------------------------------\n",
      "Batch: 58\n",
      "-------------------------------------------\n",
      "+------+------------------------------------------+------+------------+----+----+-----+----+\n",
      "|symbol|window                                    |volume|traded_value|high|low |first|last|\n",
      "+------+------------------------------------------+------+------------+----+----+-----+----+\n",
      "|MSFT  |{2022-05-25 02:12:00, 2022-05-25 02:13:00}|50    |850.0       |17.0|17.0|17.0 |17.0|\n",
      "+------+------------------------------------------+------+------------+----+----+-----+----+\n",
      "\n"
     ]
    },
    {
     "name": "stderr",
     "output_type": "stream",
     "text": [
      "                                                                                \r"
     ]
    },
    {
     "name": "stdout",
     "output_type": "stream",
     "text": [
      "-------------------------------------------\n",
      "Batch: 59\n",
      "-------------------------------------------\n",
      "+------+------------------------------------------+------+------------+----+----+-----+----+\n",
      "|symbol|window                                    |volume|traded_value|high|low |first|last|\n",
      "+------+------------------------------------------+------+------------+----+----+-----+----+\n",
      "|TSLA  |{2022-05-25 02:12:00, 2022-05-25 02:13:00}|10    |430.0       |43.0|43.0|43.0 |43.0|\n",
      "+------+------------------------------------------+------+------------+----+----+-----+----+\n",
      "\n"
     ]
    },
    {
     "name": "stderr",
     "output_type": "stream",
     "text": [
      "                                                                                \r"
     ]
    },
    {
     "name": "stdout",
     "output_type": "stream",
     "text": [
      "-------------------------------------------\n",
      "Batch: 60\n",
      "-------------------------------------------\n",
      "+------+------------------------------------------+------+------------+----+----+-----+----+\n",
      "|symbol|window                                    |volume|traded_value|high|low |first|last|\n",
      "+------+------------------------------------------+------+------------+----+----+-----+----+\n",
      "|MARUTI|{2022-05-25 02:12:00, 2022-05-25 02:13:00}|200   |7700.0      |46.0|31.0|46.0 |31.0|\n",
      "+------+------------------------------------------+------+------------+----+----+-----+----+\n",
      "\n"
     ]
    },
    {
     "name": "stderr",
     "output_type": "stream",
     "text": [
      "                                                                                \r"
     ]
    },
    {
     "name": "stdout",
     "output_type": "stream",
     "text": [
      "-------------------------------------------\n",
      "Batch: 61\n",
      "-------------------------------------------\n",
      "+------+------------------------------------------+------+------------+----+----+-----+----+\n",
      "|symbol|window                                    |volume|traded_value|high|low |first|last|\n",
      "+------+------------------------------------------+------+------------+----+----+-----+----+\n",
      "|MARUTI|{2022-05-25 02:12:00, 2022-05-25 02:13:00}|320   |11780.0     |46.0|31.0|46.0 |34.0|\n",
      "+------+------------------------------------------+------+------------+----+----+-----+----+\n",
      "\n"
     ]
    },
    {
     "name": "stderr",
     "output_type": "stream",
     "text": [
      "[Stage 249:============>    (3 + 1) / 4][Stage 251:>                (0 + 0) / 4]\r"
     ]
    },
    {
     "name": "stdout",
     "output_type": "stream",
     "text": [
      "-------------------------------------------\n",
      "Batch: 62\n",
      "-------------------------------------------\n",
      "+------+------------------------------------------+------+------------+----+----+-----+----+\n",
      "|symbol|window                                    |volume|traded_value|high|low |first|last|\n",
      "+------+------------------------------------------+------+------------+----+----+-----+----+\n",
      "|MSFT  |{2022-05-25 02:12:00, 2022-05-25 02:13:00}|170   |3970.0      |26.0|17.0|17.0 |26.0|\n",
      "+------+------------------------------------------+------+------------+----+----+-----+----+\n",
      "\n"
     ]
    },
    {
     "name": "stderr",
     "output_type": "stream",
     "text": [
      "                                                                                \r"
     ]
    },
    {
     "name": "stdout",
     "output_type": "stream",
     "text": [
      "-------------------------------------------\n",
      "Batch: 63\n",
      "-------------------------------------------\n",
      "+------+------------------------------------------+------+------------+----+---+-----+----+\n",
      "|symbol|window                                    |volume|traded_value|high|low|first|last|\n",
      "+------+------------------------------------------+------+------------+----+---+-----+----+\n",
      "|RELAXO|{2022-05-25 02:13:00, 2022-05-25 02:14:00}|10    |80.0        |8.0 |8.0|8.0  |8.0 |\n",
      "+------+------------------------------------------+------+------------+----+---+-----+----+\n",
      "\n"
     ]
    },
    {
     "name": "stderr",
     "output_type": "stream",
     "text": [
      "                                                                                \r"
     ]
    },
    {
     "name": "stdout",
     "output_type": "stream",
     "text": [
      "-------------------------------------------\n",
      "Batch: 64\n",
      "-------------------------------------------\n",
      "+------+------+------+------------+----+---+-----+----+\n",
      "|symbol|window|volume|traded_value|high|low|first|last|\n",
      "+------+------+------+------------+----+---+-----+----+\n",
      "+------+------+------+------------+----+---+-----+----+\n",
      "\n"
     ]
    },
    {
     "name": "stderr",
     "output_type": "stream",
     "text": [
      "                                                                                \r"
     ]
    },
    {
     "name": "stdout",
     "output_type": "stream",
     "text": [
      "-------------------------------------------\n",
      "Batch: 65\n",
      "-------------------------------------------\n",
      "+------+------------------------------------------+------+------------+----+----+-----+----+\n",
      "|symbol|window                                    |volume|traded_value|high|low |first|last|\n",
      "+------+------------------------------------------+------+------------+----+----+-----+----+\n",
      "|MARUTI|{2022-05-25 02:13:00, 2022-05-25 02:14:00}|10    |340.0       |34.0|34.0|34.0 |34.0|\n",
      "+------+------------------------------------------+------+------------+----+----+-----+----+\n",
      "\n"
     ]
    },
    {
     "name": "stderr",
     "output_type": "stream",
     "text": [
      "                                                                                \r"
     ]
    },
    {
     "name": "stdout",
     "output_type": "stream",
     "text": [
      "-------------------------------------------\n",
      "Batch: 66\n",
      "-------------------------------------------\n",
      "+------+------------------------------------------+------+------------+----+----+-----+----+\n",
      "|symbol|window                                    |volume|traded_value|high|low |first|last|\n",
      "+------+------------------------------------------+------+------------+----+----+-----+----+\n",
      "|TSLA  |{2022-05-25 02:13:00, 2022-05-25 02:14:00}|50    |2050.0      |41.0|41.0|41.0 |41.0|\n",
      "+------+------------------------------------------+------+------------+----+----+-----+----+\n",
      "\n"
     ]
    },
    {
     "name": "stderr",
     "output_type": "stream",
     "text": [
      "                                                                                \r"
     ]
    },
    {
     "name": "stdout",
     "output_type": "stream",
     "text": [
      "-------------------------------------------\n",
      "Batch: 67\n",
      "-------------------------------------------\n",
      "+------+------------------------------------------+------+------------+----+----+-----+----+\n",
      "|symbol|window                                    |volume|traded_value|high|low |first|last|\n",
      "+------+------------------------------------------+------+------------+----+----+-----+----+\n",
      "|MSFT  |{2022-05-25 02:13:00, 2022-05-25 02:14:00}|40    |520.0       |13.0|13.0|13.0 |13.0|\n",
      "+------+------------------------------------------+------+------------+----+----+-----+----+\n",
      "\n"
     ]
    },
    {
     "name": "stderr",
     "output_type": "stream",
     "text": [
      "                                                                                \r"
     ]
    },
    {
     "name": "stdout",
     "output_type": "stream",
     "text": [
      "-------------------------------------------\n",
      "Batch: 68\n",
      "-------------------------------------------\n",
      "+------+------------------------------------------+------+------------+----+----+-----+----+\n",
      "|symbol|window                                    |volume|traded_value|high|low |first|last|\n",
      "+------+------------------------------------------+------+------------+----+----+-----+----+\n",
      "|TSLA  |{2022-05-25 02:13:00, 2022-05-25 02:14:00}|170   |4810.0      |41.0|23.0|41.0 |23.0|\n",
      "+------+------------------------------------------+------+------------+----+----+-----+----+\n",
      "\n"
     ]
    },
    {
     "name": "stderr",
     "output_type": "stream",
     "text": [
      "                                                                                \r"
     ]
    },
    {
     "name": "stdout",
     "output_type": "stream",
     "text": [
      "-------------------------------------------\n",
      "Batch: 69\n",
      "-------------------------------------------\n",
      "+------+------------------------------------------+------+------------+----+----+-----+----+\n",
      "|symbol|window                                    |volume|traded_value|high|low |first|last|\n",
      "+------+------------------------------------------+------+------------+----+----+-----+----+\n",
      "|MARUTI|{2022-05-25 02:13:00, 2022-05-25 02:14:00}|130   |5380.0      |42.0|34.0|34.0 |42.0|\n",
      "+------+------------------------------------------+------+------------+----+----+-----+----+\n",
      "\n"
     ]
    },
    {
     "name": "stderr",
     "output_type": "stream",
     "text": [
      "                                                                                \r"
     ]
    },
    {
     "name": "stdout",
     "output_type": "stream",
     "text": [
      "-------------------------------------------\n",
      "Batch: 70\n",
      "-------------------------------------------\n",
      "+------+------------------------------------------+------+------------+----+----+-----+----+\n",
      "|symbol|window                                    |volume|traded_value|high|low |first|last|\n",
      "+------+------------------------------------------+------+------------+----+----+-----+----+\n",
      "|MSFT  |{2022-05-25 02:14:00, 2022-05-25 02:15:00}|100   |2400.0      |24.0|24.0|24.0 |24.0|\n",
      "+------+------------------------------------------+------+------------+----+----+-----+----+\n",
      "\n"
     ]
    },
    {
     "name": "stderr",
     "output_type": "stream",
     "text": [
      "                                                                                \r"
     ]
    },
    {
     "name": "stdout",
     "output_type": "stream",
     "text": [
      "-------------------------------------------\n",
      "Batch: 71\n",
      "-------------------------------------------\n",
      "+------+------+------+------------+----+---+-----+----+\n",
      "|symbol|window|volume|traded_value|high|low|first|last|\n",
      "+------+------+------+------------+----+---+-----+----+\n",
      "+------+------+------+------------+----+---+-----+----+\n",
      "\n"
     ]
    },
    {
     "name": "stderr",
     "output_type": "stream",
     "text": [
      "                                                                                \r"
     ]
    },
    {
     "name": "stdout",
     "output_type": "stream",
     "text": [
      "-------------------------------------------\n",
      "Batch: 72\n",
      "-------------------------------------------\n",
      "+------+------------------------------------------+------+------------+----+----+-----+----+\n",
      "|symbol|window                                    |volume|traded_value|high|low |first|last|\n",
      "+------+------------------------------------------+------+------------+----+----+-----+----+\n",
      "|TSLA  |{2022-05-25 02:14:00, 2022-05-25 02:15:00}|30    |1470.0      |49.0|49.0|49.0 |49.0|\n",
      "+------+------------------------------------------+------+------------+----+----+-----+----+\n",
      "\n"
     ]
    },
    {
     "name": "stderr",
     "output_type": "stream",
     "text": [
      "                                                                                \r"
     ]
    },
    {
     "name": "stdout",
     "output_type": "stream",
     "text": [
      "-------------------------------------------\n",
      "Batch: 73\n",
      "-------------------------------------------\n",
      "+------+------------------------------------------+------+------------+----+----+-----+----+\n",
      "|symbol|window                                    |volume|traded_value|high|low |first|last|\n",
      "+------+------------------------------------------+------+------------+----+----+-----+----+\n",
      "|TSLA  |{2022-05-25 02:14:00, 2022-05-25 02:15:00}|70    |3350.0      |49.0|47.0|49.0 |47.0|\n",
      "+------+------------------------------------------+------+------------+----+----+-----+----+\n",
      "\n"
     ]
    },
    {
     "name": "stderr",
     "output_type": "stream",
     "text": [
      "                                                                                \r"
     ]
    },
    {
     "name": "stdout",
     "output_type": "stream",
     "text": [
      "-------------------------------------------\n",
      "Batch: 74\n",
      "-------------------------------------------\n",
      "+------+------------------------------------------+------+------------+----+----+-----+----+\n",
      "|symbol|window                                    |volume|traded_value|high|low |first|last|\n",
      "+------+------------------------------------------+------+------------+----+----+-----+----+\n",
      "|MSFT  |{2022-05-25 02:14:00, 2022-05-25 02:15:00}|150   |3150.0      |24.0|15.0|24.0 |15.0|\n",
      "+------+------------------------------------------+------+------------+----+----+-----+----+\n",
      "\n"
     ]
    },
    {
     "name": "stderr",
     "output_type": "stream",
     "text": [
      "                                                                                \r"
     ]
    },
    {
     "name": "stdout",
     "output_type": "stream",
     "text": [
      "-------------------------------------------\n",
      "Batch: 75\n",
      "-------------------------------------------\n",
      "+------+------------------------------------------+------+------------+----+----+-----+----+\n",
      "|symbol|window                                    |volume|traded_value|high|low |first|last|\n",
      "+------+------------------------------------------+------+------------+----+----+-----+----+\n",
      "|RELAXO|{2022-05-25 02:14:00, 2022-05-25 02:15:00}|120   |1200.0      |10.0|10.0|10.0 |10.0|\n",
      "+------+------------------------------------------+------+------------+----+----+-----+----+\n",
      "\n"
     ]
    },
    {
     "name": "stderr",
     "output_type": "stream",
     "text": [
      "                                                                                \r"
     ]
    },
    {
     "name": "stdout",
     "output_type": "stream",
     "text": [
      "-------------------------------------------\n",
      "Batch: 76\n",
      "-------------------------------------------\n",
      "+------+------------------------------------------+------+------------+----+---+-----+----+\n",
      "|symbol|window                                    |volume|traded_value|high|low|first|last|\n",
      "+------+------------------------------------------+------+------------+----+---+-----+----+\n",
      "|MARUTI|{2022-05-25 02:14:00, 2022-05-25 02:15:00}|10    |70.0        |7.0 |7.0|7.0  |7.0 |\n",
      "+------+------------------------------------------+------+------------+----+---+-----+----+\n",
      "\n"
     ]
    },
    {
     "name": "stderr",
     "output_type": "stream",
     "text": [
      "                                                                                \r"
     ]
    },
    {
     "name": "stdout",
     "output_type": "stream",
     "text": [
      "-------------------------------------------\n",
      "Batch: 77\n",
      "-------------------------------------------\n",
      "+------+------------------------------------------+------+------------+----+----+-----+----+\n",
      "|symbol|window                                    |volume|traded_value|high|low |first|last|\n",
      "+------+------------------------------------------+------+------------+----+----+-----+----+\n",
      "|RELAXO|{2022-05-25 02:15:00, 2022-05-25 02:16:00}|10    |250.0       |25.0|25.0|25.0 |25.0|\n",
      "+------+------------------------------------------+------+------------+----+----+-----+----+\n",
      "\n"
     ]
    },
    {
     "name": "stderr",
     "output_type": "stream",
     "text": [
      "                                                                                \r"
     ]
    },
    {
     "name": "stdout",
     "output_type": "stream",
     "text": [
      "-------------------------------------------\n",
      "Batch: 78\n",
      "-------------------------------------------\n",
      "+------+------+------+------------+----+---+-----+----+\n",
      "|symbol|window|volume|traded_value|high|low|first|last|\n",
      "+------+------+------+------------+----+---+-----+----+\n",
      "+------+------+------+------------+----+---+-----+----+\n",
      "\n"
     ]
    },
    {
     "name": "stderr",
     "output_type": "stream",
     "text": [
      "                                                                                \r"
     ]
    },
    {
     "name": "stdout",
     "output_type": "stream",
     "text": [
      "-------------------------------------------\n",
      "Batch: 79\n",
      "-------------------------------------------\n",
      "+------+------------------------------------------+------+------------+----+----+-----+----+\n",
      "|symbol|window                                    |volume|traded_value|high|low |first|last|\n",
      "+------+------------------------------------------+------+------------+----+----+-----+----+\n",
      "|MSFT  |{2022-05-25 02:15:00, 2022-05-25 02:16:00}|10    |290.0       |29.0|29.0|29.0 |29.0|\n",
      "+------+------------------------------------------+------+------------+----+----+-----+----+\n",
      "\n"
     ]
    },
    {
     "name": "stderr",
     "output_type": "stream",
     "text": [
      "                                                                                \r"
     ]
    },
    {
     "name": "stdout",
     "output_type": "stream",
     "text": [
      "-------------------------------------------\n",
      "Batch: 80\n",
      "-------------------------------------------\n",
      "+------+------------------------------------------+------+------------+----+----+-----+----+\n",
      "|symbol|window                                    |volume|traded_value|high|low |first|last|\n",
      "+------+------------------------------------------+------+------------+----+----+-----+----+\n",
      "|RELAXO|{2022-05-25 02:15:00, 2022-05-25 02:16:00}|130   |5530.0      |44.0|25.0|25.0 |44.0|\n",
      "+------+------------------------------------------+------+------------+----+----+-----+----+\n",
      "\n"
     ]
    },
    {
     "name": "stderr",
     "output_type": "stream",
     "text": [
      "                                                                                \r"
     ]
    },
    {
     "name": "stdout",
     "output_type": "stream",
     "text": [
      "-------------------------------------------\n",
      "Batch: 81\n",
      "-------------------------------------------\n",
      "+------+------------------------------------------+------+------------+----+----+-----+----+\n",
      "|symbol|window                                    |volume|traded_value|high|low |first|last|\n",
      "+------+------------------------------------------+------+------------+----+----+-----+----+\n",
      "|MARUTI|{2022-05-25 02:15:00, 2022-05-25 02:16:00}|10    |150.0       |15.0|15.0|15.0 |15.0|\n",
      "+------+------------------------------------------+------+------------+----+----+-----+----+\n",
      "\n"
     ]
    },
    {
     "name": "stderr",
     "output_type": "stream",
     "text": [
      "                                                                                \r"
     ]
    },
    {
     "name": "stdout",
     "output_type": "stream",
     "text": [
      "-------------------------------------------\n",
      "Batch: 82\n",
      "-------------------------------------------\n",
      "+------+------------------------------------------+------+------------+----+----+-----+----+\n",
      "|symbol|window                                    |volume|traded_value|high|low |first|last|\n",
      "+------+------------------------------------------+------+------------+----+----+-----+----+\n",
      "|MARUTI|{2022-05-25 02:15:00, 2022-05-25 02:16:00}|130   |5310.0      |43.0|15.0|15.0 |43.0|\n",
      "+------+------------------------------------------+------+------------+----+----+-----+----+\n",
      "\n"
     ]
    },
    {
     "name": "stderr",
     "output_type": "stream",
     "text": [
      "                                                                                \r"
     ]
    },
    {
     "name": "stdout",
     "output_type": "stream",
     "text": [
      "-------------------------------------------\n",
      "Batch: 83\n",
      "-------------------------------------------\n",
      "+------+------------------------------------------+------+------------+----+----+-----+----+\n",
      "|symbol|window                                    |volume|traded_value|high|low |first|last|\n",
      "+------+------------------------------------------+------+------------+----+----+-----+----+\n",
      "|MSFT  |{2022-05-25 02:15:00, 2022-05-25 02:16:00}|130   |6050.0      |48.0|29.0|29.0 |48.0|\n",
      "+------+------------------------------------------+------+------------+----+----+-----+----+\n",
      "\n"
     ]
    },
    {
     "name": "stderr",
     "output_type": "stream",
     "text": [
      "                                                                                \r"
     ]
    },
    {
     "name": "stdout",
     "output_type": "stream",
     "text": [
      "-------------------------------------------\n",
      "Batch: 84\n",
      "-------------------------------------------\n",
      "+------+------------------------------------------+------+------------+----+---+-----+----+\n",
      "|symbol|window                                    |volume|traded_value|high|low|first|last|\n",
      "+------+------------------------------------------+------+------------+----+---+-----+----+\n",
      "|RELAXO|{2022-05-25 02:16:00, 2022-05-25 02:17:00}|50    |450.0       |9.0 |9.0|9.0  |9.0 |\n",
      "+------+------------------------------------------+------+------------+----+---+-----+----+\n",
      "\n"
     ]
    },
    {
     "name": "stderr",
     "output_type": "stream",
     "text": [
      "                                                                                \r"
     ]
    },
    {
     "name": "stdout",
     "output_type": "stream",
     "text": [
      "-------------------------------------------\n",
      "Batch: 85\n",
      "-------------------------------------------\n",
      "+------+------+------+------------+----+---+-----+----+\n",
      "|symbol|window|volume|traded_value|high|low|first|last|\n",
      "+------+------+------+------------+----+---+-----+----+\n",
      "+------+------+------+------------+----+---+-----+----+\n",
      "\n"
     ]
    },
    {
     "name": "stderr",
     "output_type": "stream",
     "text": [
      "                                                                                \r"
     ]
    },
    {
     "name": "stdout",
     "output_type": "stream",
     "text": [
      "-------------------------------------------\n",
      "Batch: 86\n",
      "-------------------------------------------\n",
      "+------+------------------------------------------+------+------------+----+----+-----+----+\n",
      "|symbol|window                                    |volume|traded_value|high|low |first|last|\n",
      "+------+------------------------------------------+------+------------+----+----+-----+----+\n",
      "|TSLA  |{2022-05-25 02:16:00, 2022-05-25 02:17:00}|120   |3720.0      |31.0|31.0|31.0 |31.0|\n",
      "+------+------------------------------------------+------+------------+----+----+-----+----+\n",
      "\n"
     ]
    },
    {
     "name": "stderr",
     "output_type": "stream",
     "text": [
      "                                                                                \r"
     ]
    },
    {
     "name": "stdout",
     "output_type": "stream",
     "text": [
      "-------------------------------------------\n",
      "Batch: 87\n",
      "-------------------------------------------\n",
      "+------+------------------------------------------+------+------------+----+----+-----+----+\n",
      "|symbol|window                                    |volume|traded_value|high|low |first|last|\n",
      "+------+------------------------------------------+------+------------+----+----+-----+----+\n",
      "|MSFT  |{2022-05-25 02:16:00, 2022-05-25 02:17:00}|50    |2000.0      |40.0|40.0|40.0 |40.0|\n",
      "+------+------------------------------------------+------+------------+----+----+-----+----+\n",
      "\n"
     ]
    },
    {
     "name": "stderr",
     "output_type": "stream",
     "text": [
      "                                                                                \r"
     ]
    },
    {
     "name": "stdout",
     "output_type": "stream",
     "text": [
      "-------------------------------------------\n",
      "Batch: 88\n",
      "-------------------------------------------\n",
      "+------+------------------------------------------+------+------------+----+----+-----+----+\n",
      "|symbol|window                                    |volume|traded_value|high|low |first|last|\n",
      "+------+------------------------------------------+------+------------+----+----+-----+----+\n",
      "|TSLA  |{2022-05-25 02:16:00, 2022-05-25 02:17:00}|220   |6720.0      |31.0|30.0|31.0 |30.0|\n",
      "+------+------------------------------------------+------+------------+----+----+-----+----+\n",
      "\n"
     ]
    },
    {
     "name": "stderr",
     "output_type": "stream",
     "text": [
      "                                                                                \r"
     ]
    },
    {
     "name": "stdout",
     "output_type": "stream",
     "text": [
      "-------------------------------------------\n",
      "Batch: 89\n",
      "-------------------------------------------\n",
      "+------+------------------------------------------+------+------------+----+----+-----+----+\n",
      "|symbol|window                                    |volume|traded_value|high|low |first|last|\n",
      "+------+------------------------------------------+------+------------+----+----+-----+----+\n",
      "|MSFT  |{2022-05-25 02:16:00, 2022-05-25 02:17:00}|90    |3960.0      |49.0|40.0|40.0 |49.0|\n",
      "+------+------------------------------------------+------+------------+----+----+-----+----+\n",
      "\n"
     ]
    },
    {
     "name": "stderr",
     "output_type": "stream",
     "text": [
      "                                                                                \r"
     ]
    },
    {
     "name": "stdout",
     "output_type": "stream",
     "text": [
      "-------------------------------------------\n",
      "Batch: 90\n",
      "-------------------------------------------\n",
      "+------+------------------------------------------+------+------------+----+---+-----+----+\n",
      "|symbol|window                                    |volume|traded_value|high|low|first|last|\n",
      "+------+------------------------------------------+------+------------+----+---+-----+----+\n",
      "|MARUTI|{2022-05-25 02:16:00, 2022-05-25 02:17:00}|30    |150.0       |5.0 |5.0|5.0  |5.0 |\n",
      "+------+------------------------------------------+------+------------+----+---+-----+----+\n",
      "\n"
     ]
    },
    {
     "name": "stderr",
     "output_type": "stream",
     "text": [
      "                                                                                \r"
     ]
    },
    {
     "name": "stdout",
     "output_type": "stream",
     "text": [
      "-------------------------------------------\n",
      "Batch: 91\n",
      "-------------------------------------------\n",
      "+------+------------------------------------------+------+------------+----+----+-----+----+\n",
      "|symbol|window                                    |volume|traded_value|high|low |first|last|\n",
      "+------+------------------------------------------+------+------------+----+----+-----+----+\n",
      "|TSLA  |{2022-05-25 02:17:00, 2022-05-25 02:18:00}|10    |480.0       |48.0|48.0|48.0 |48.0|\n",
      "+------+------------------------------------------+------+------------+----+----+-----+----+\n",
      "\n",
      "-------------------------------------------\n",
      "Batch: 92\n",
      "-------------------------------------------\n",
      "+------+------+------+------------+----+---+-----+----+\n",
      "|symbol|window|volume|traded_value|high|low|first|last|\n",
      "+------+------+------+------------+----+---+-----+----+\n",
      "+------+------+------+------------+----+---+-----+----+\n",
      "\n"
     ]
    },
    {
     "name": "stderr",
     "output_type": "stream",
     "text": [
      "                                                                                \r"
     ]
    },
    {
     "name": "stdout",
     "output_type": "stream",
     "text": [
      "-------------------------------------------\n",
      "Batch: 93\n",
      "-------------------------------------------\n",
      "+------+------------------------------------------+------+------------+----+----+-----+----+\n",
      "|symbol|window                                    |volume|traded_value|high|low |first|last|\n",
      "+------+------------------------------------------+------+------------+----+----+-----+----+\n",
      "|RELAXO|{2022-05-25 02:17:00, 2022-05-25 02:18:00}|120   |2400.0      |20.0|20.0|20.0 |20.0|\n",
      "+------+------------------------------------------+------+------------+----+----+-----+----+\n",
      "\n"
     ]
    },
    {
     "name": "stderr",
     "output_type": "stream",
     "text": [
      "                                                                                \r"
     ]
    },
    {
     "name": "stdout",
     "output_type": "stream",
     "text": [
      "-------------------------------------------\n",
      "Batch: 94\n",
      "-------------------------------------------\n",
      "+------+------------------------------------------+------+------------+----+----+-----+----+\n",
      "|symbol|window                                    |volume|traded_value|high|low |first|last|\n",
      "+------+------------------------------------------+------+------------+----+----+-----+----+\n",
      "|RELAXO|{2022-05-25 02:17:00, 2022-05-25 02:18:00}|240   |8040.0      |47.0|20.0|20.0 |47.0|\n",
      "+------+------------------------------------------+------+------------+----+----+-----+----+\n",
      "\n"
     ]
    },
    {
     "name": "stderr",
     "output_type": "stream",
     "text": [
      "                                                                                \r"
     ]
    },
    {
     "name": "stdout",
     "output_type": "stream",
     "text": [
      "-------------------------------------------\n",
      "Batch: 95\n",
      "-------------------------------------------\n",
      "+------+------------------------------------------+------+------------+----+----+-----+----+\n",
      "|symbol|window                                    |volume|traded_value|high|low |first|last|\n",
      "+------+------------------------------------------+------+------------+----+----+-----+----+\n",
      "|MARUTI|{2022-05-25 02:17:00, 2022-05-25 02:18:00}|40    |560.0       |14.0|14.0|14.0 |14.0|\n",
      "+------+------------------------------------------+------+------------+----+----+-----+----+\n",
      "\n"
     ]
    },
    {
     "name": "stderr",
     "output_type": "stream",
     "text": [
      "                                                                                \r"
     ]
    },
    {
     "name": "stdout",
     "output_type": "stream",
     "text": [
      "-------------------------------------------\n",
      "Batch: 96\n",
      "-------------------------------------------\n",
      "+------+------------------------------------------+------+------------+----+---+-----+----+\n",
      "|symbol|window                                    |volume|traded_value|high|low|first|last|\n",
      "+------+------------------------------------------+------+------------+----+---+-----+----+\n",
      "|TSLA  |{2022-05-25 02:17:00, 2022-05-25 02:18:00}|50    |840.0       |48.0|9.0|48.0 |9.0 |\n",
      "+------+------------------------------------------+------+------------+----+---+-----+----+\n",
      "\n"
     ]
    },
    {
     "name": "stderr",
     "output_type": "stream",
     "text": [
      "                                                                                \r"
     ]
    },
    {
     "name": "stdout",
     "output_type": "stream",
     "text": [
      "-------------------------------------------\n",
      "Batch: 97\n",
      "-------------------------------------------\n",
      "+------+------------------------------------------+------+------------+----+---+-----+----+\n",
      "|symbol|window                                    |volume|traded_value|high|low|first|last|\n",
      "+------+------------------------------------------+------+------------+----+---+-----+----+\n",
      "|MARUTI|{2022-05-25 02:17:00, 2022-05-25 02:18:00}|80    |800.0       |14.0|6.0|14.0 |6.0 |\n",
      "+------+------------------------------------------+------+------------+----+---+-----+----+\n",
      "\n"
     ]
    },
    {
     "name": "stderr",
     "output_type": "stream",
     "text": [
      "                                                                                \r"
     ]
    },
    {
     "name": "stdout",
     "output_type": "stream",
     "text": [
      "-------------------------------------------\n",
      "Batch: 98\n",
      "-------------------------------------------\n",
      "+------+------------------------------------------+------+------------+----+----+-----+----+\n",
      "|symbol|window                                    |volume|traded_value|high|low |first|last|\n",
      "+------+------------------------------------------+------+------------+----+----+-----+----+\n",
      "|MSFT  |{2022-05-25 02:18:00, 2022-05-25 02:19:00}|40    |1880.0      |47.0|47.0|47.0 |47.0|\n",
      "+------+------------------------------------------+------+------------+----+----+-----+----+\n",
      "\n"
     ]
    },
    {
     "name": "stderr",
     "output_type": "stream",
     "text": [
      "                                                                                \r"
     ]
    },
    {
     "name": "stdout",
     "output_type": "stream",
     "text": [
      "-------------------------------------------\n",
      "Batch: 99\n",
      "-------------------------------------------\n",
      "+------+------+------+------------+----+---+-----+----+\n",
      "|symbol|window|volume|traded_value|high|low|first|last|\n",
      "+------+------+------+------------+----+---+-----+----+\n",
      "+------+------+------+------------+----+---+-----+----+\n",
      "\n"
     ]
    },
    {
     "name": "stderr",
     "output_type": "stream",
     "text": [
      "                                                                                \r"
     ]
    },
    {
     "name": "stdout",
     "output_type": "stream",
     "text": [
      "-------------------------------------------\n",
      "Batch: 100\n",
      "-------------------------------------------\n",
      "+------+------------------------------------------+------+------------+----+----+-----+----+\n",
      "|symbol|window                                    |volume|traded_value|high|low |first|last|\n",
      "+------+------------------------------------------+------+------------+----+----+-----+----+\n",
      "|MARUTI|{2022-05-25 02:18:00, 2022-05-25 02:19:00}|30    |840.0       |28.0|28.0|28.0 |28.0|\n",
      "+------+------------------------------------------+------+------------+----+----+-----+----+\n",
      "\n"
     ]
    },
    {
     "name": "stderr",
     "output_type": "stream",
     "text": [
      "                                                                                \r"
     ]
    },
    {
     "name": "stdout",
     "output_type": "stream",
     "text": [
      "-------------------------------------------\n",
      "Batch: 101\n",
      "-------------------------------------------\n",
      "+------+------------------------------------------+------+------------+----+----+-----+----+\n",
      "|symbol|window                                    |volume|traded_value|high|low |first|last|\n",
      "+------+------------------------------------------+------+------------+----+----+-----+----+\n",
      "|RELAXO|{2022-05-25 02:18:00, 2022-05-25 02:19:00}|30    |1080.0      |36.0|36.0|36.0 |36.0|\n",
      "+------+------------------------------------------+------+------------+----+----+-----+----+\n",
      "\n"
     ]
    },
    {
     "name": "stderr",
     "output_type": "stream",
     "text": [
      "                                                                                \r"
     ]
    },
    {
     "name": "stdout",
     "output_type": "stream",
     "text": [
      "-------------------------------------------\n",
      "Batch: 102\n",
      "-------------------------------------------\n",
      "+------+------------------------------------------+------+------------+----+----+-----+----+\n",
      "|symbol|window                                    |volume|traded_value|high|low |first|last|\n",
      "+------+------------------------------------------+------+------------+----+----+-----+----+\n",
      "|MARUTI|{2022-05-25 02:18:00, 2022-05-25 02:19:00}|70    |2440.0      |40.0|28.0|28.0 |40.0|\n",
      "+------+------------------------------------------+------+------------+----+----+-----+----+\n",
      "\n"
     ]
    },
    {
     "name": "stderr",
     "output_type": "stream",
     "text": [
      "                                                                                \r"
     ]
    },
    {
     "name": "stdout",
     "output_type": "stream",
     "text": [
      "-------------------------------------------\n",
      "Batch: 103\n",
      "-------------------------------------------\n",
      "+------+------------------------------------------+------+------------+----+----+-----+----+\n",
      "|symbol|window                                    |volume|traded_value|high|low |first|last|\n",
      "+------+------------------------------------------+------+------------+----+----+-----+----+\n",
      "|MARUTI|{2022-05-25 02:18:00, 2022-05-25 02:19:00}|170   |4940.0      |40.0|25.0|28.0 |25.0|\n",
      "+------+------------------------------------------+------+------------+----+----+-----+----+\n",
      "\n"
     ]
    },
    {
     "name": "stderr",
     "output_type": "stream",
     "text": [
      "                                                                                \r"
     ]
    },
    {
     "name": "stdout",
     "output_type": "stream",
     "text": [
      "-------------------------------------------\n",
      "Batch: 104\n",
      "-------------------------------------------\n",
      "+------+------------------------------------------+------+------------+----+----+-----+----+\n",
      "|symbol|window                                    |volume|traded_value|high|low |first|last|\n",
      "+------+------------------------------------------+------+------------+----+----+-----+----+\n",
      "|MARUTI|{2022-05-25 02:18:00, 2022-05-25 02:19:00}|270   |7140.0      |40.0|22.0|28.0 |22.0|\n",
      "+------+------------------------------------------+------+------------+----+----+-----+----+\n",
      "\n"
     ]
    },
    {
     "name": "stderr",
     "output_type": "stream",
     "text": [
      "[Stage 421:============================>                            (2 + 1) / 4]\r"
     ]
    },
    {
     "name": "stdout",
     "output_type": "stream",
     "text": [
      "-------------------------------------------\n",
      "Batch: 105\n",
      "-------------------------------------------\n",
      "+------+------------------------------------------+------+------------+----+----+-----+----+\n",
      "|symbol|window                                    |volume|traded_value|high|low |first|last|\n",
      "+------+------------------------------------------+------+------------+----+----+-----+----+\n",
      "|RELAXO|{2022-05-25 02:19:00, 2022-05-25 02:20:00}|30    |1170.0      |39.0|39.0|39.0 |39.0|\n",
      "+------+------------------------------------------+------+------------+----+----+-----+----+\n",
      "\n"
     ]
    },
    {
     "name": "stderr",
     "output_type": "stream",
     "text": [
      "                                                                                \r"
     ]
    },
    {
     "name": "stdout",
     "output_type": "stream",
     "text": [
      "-------------------------------------------\n",
      "Batch: 106\n",
      "-------------------------------------------\n",
      "+------+------+------+------------+----+---+-----+----+\n",
      "|symbol|window|volume|traded_value|high|low|first|last|\n",
      "+------+------+------+------------+----+---+-----+----+\n",
      "+------+------+------+------------+----+---+-----+----+\n",
      "\n"
     ]
    },
    {
     "name": "stderr",
     "output_type": "stream",
     "text": [
      "                                                                                \r"
     ]
    },
    {
     "name": "stdout",
     "output_type": "stream",
     "text": [
      "-------------------------------------------\n",
      "Batch: 107\n",
      "-------------------------------------------\n",
      "+------+------------------------------------------+------+------------+----+----+-----+----+\n",
      "|symbol|window                                    |volume|traded_value|high|low |first|last|\n",
      "+------+------------------------------------------+------+------------+----+----+-----+----+\n",
      "|RELAXO|{2022-05-25 02:19:00, 2022-05-25 02:20:00}|70    |2610.0      |39.0|36.0|39.0 |36.0|\n",
      "+------+------------------------------------------+------+------------+----+----+-----+----+\n",
      "\n"
     ]
    },
    {
     "name": "stderr",
     "output_type": "stream",
     "text": [
      "                                                                                \r"
     ]
    },
    {
     "name": "stdout",
     "output_type": "stream",
     "text": [
      "-------------------------------------------\n",
      "Batch: 108\n",
      "-------------------------------------------\n",
      "+------+------------------------------------------+------+------------+----+----+-----+----+\n",
      "|symbol|window                                    |volume|traded_value|high|low |first|last|\n",
      "+------+------------------------------------------+------+------------+----+----+-----+----+\n",
      "|RELAXO|{2022-05-25 02:19:00, 2022-05-25 02:20:00}|80    |2910.0      |39.0|30.0|39.0 |30.0|\n",
      "+------+------------------------------------------+------+------------+----+----+-----+----+\n",
      "\n"
     ]
    },
    {
     "name": "stderr",
     "output_type": "stream",
     "text": [
      "                                                                                \r"
     ]
    },
    {
     "name": "stdout",
     "output_type": "stream",
     "text": [
      "-------------------------------------------\n",
      "Batch: 109\n",
      "-------------------------------------------\n",
      "+------+------------------------------------------+------+------------+----+----+-----+----+\n",
      "|symbol|window                                    |volume|traded_value|high|low |first|last|\n",
      "+------+------------------------------------------+------+------------+----+----+-----+----+\n",
      "|MSFT  |{2022-05-25 02:19:00, 2022-05-25 02:20:00}|100   |4200.0      |42.0|42.0|42.0 |42.0|\n",
      "+------+------------------------------------------+------+------------+----+----+-----+----+\n",
      "\n"
     ]
    },
    {
     "name": "stderr",
     "output_type": "stream",
     "text": [
      "                                                                                \r"
     ]
    },
    {
     "name": "stdout",
     "output_type": "stream",
     "text": [
      "-------------------------------------------\n",
      "Batch: 110\n",
      "-------------------------------------------\n",
      "+------+------------------------------------------+------+------------+----+----+-----+----+\n",
      "|symbol|window                                    |volume|traded_value|high|low |first|last|\n",
      "+------+------------------------------------------+------+------------+----+----+-----+----+\n",
      "|MARUTI|{2022-05-25 02:19:00, 2022-05-25 02:20:00}|10    |410.0       |41.0|41.0|41.0 |41.0|\n",
      "+------+------------------------------------------+------+------------+----+----+-----+----+\n",
      "\n"
     ]
    },
    {
     "name": "stderr",
     "output_type": "stream",
     "text": [
      "                                                                                \r"
     ]
    },
    {
     "name": "stdout",
     "output_type": "stream",
     "text": [
      "-------------------------------------------\n",
      "Batch: 111\n",
      "-------------------------------------------\n",
      "+------+------------------------------------------+------+------------+----+----+-----+----+\n",
      "|symbol|window                                    |volume|traded_value|high|low |first|last|\n",
      "+------+------------------------------------------+------+------------+----+----+-----+----+\n",
      "|RELAXO|{2022-05-25 02:19:00, 2022-05-25 02:20:00}|200   |5310.0      |39.0|20.0|39.0 |20.0|\n",
      "+------+------------------------------------------+------+------------+----+----+-----+----+\n",
      "\n"
     ]
    },
    {
     "name": "stderr",
     "output_type": "stream",
     "text": [
      "                                                                                \r"
     ]
    },
    {
     "name": "stdout",
     "output_type": "stream",
     "text": [
      "-------------------------------------------\n",
      "Batch: 112\n",
      "-------------------------------------------\n",
      "+------+------------------------------------------+------+------------+----+----+-----+----+\n",
      "|symbol|window                                    |volume|traded_value|high|low |first|last|\n",
      "+------+------------------------------------------+------+------------+----+----+-----+----+\n",
      "|RELAXO|{2022-05-25 02:20:00, 2022-05-25 02:21:00}|100   |4200.0      |42.0|42.0|42.0 |42.0|\n",
      "+------+------------------------------------------+------+------------+----+----+-----+----+\n",
      "\n",
      "-------------------------------------------\n",
      "Batch: 113\n",
      "-------------------------------------------\n",
      "+------+------+------+------------+----+---+-----+----+\n",
      "|symbol|window|volume|traded_value|high|low|first|last|\n",
      "+------+------+------+------------+----+---+-----+----+\n",
      "+------+------+------+------------+----+---+-----+----+\n",
      "\n"
     ]
    },
    {
     "name": "stderr",
     "output_type": "stream",
     "text": [
      "                                                                                \r"
     ]
    },
    {
     "name": "stdout",
     "output_type": "stream",
     "text": [
      "-------------------------------------------\n",
      "Batch: 114\n",
      "-------------------------------------------\n",
      "+------+------------------------------------------+------+------------+----+----+-----+----+\n",
      "|symbol|window                                    |volume|traded_value|high|low |first|last|\n",
      "+------+------------------------------------------+------+------------+----+----+-----+----+\n",
      "|MSFT  |{2022-05-25 02:20:00, 2022-05-25 02:21:00}|30    |720.0       |24.0|24.0|24.0 |24.0|\n",
      "+------+------------------------------------------+------+------------+----+----+-----+----+\n",
      "\n"
     ]
    },
    {
     "name": "stderr",
     "output_type": "stream",
     "text": [
      "                                                                                \r"
     ]
    },
    {
     "name": "stdout",
     "output_type": "stream",
     "text": [
      "-------------------------------------------\n",
      "Batch: 115\n",
      "-------------------------------------------\n",
      "+------+------------------------------------------+------+------------+----+----+-----+----+\n",
      "|symbol|window                                    |volume|traded_value|high|low |first|last|\n",
      "+------+------------------------------------------+------+------------+----+----+-----+----+\n",
      "|RELAXO|{2022-05-25 02:20:00, 2022-05-25 02:21:00}|150   |6050.0      |42.0|37.0|42.0 |37.0|\n",
      "+------+------------------------------------------+------+------------+----+----+-----+----+\n",
      "\n"
     ]
    },
    {
     "name": "stderr",
     "output_type": "stream",
     "text": [
      "                                                                                \r"
     ]
    },
    {
     "name": "stdout",
     "output_type": "stream",
     "text": [
      "-------------------------------------------\n",
      "Batch: 116\n",
      "-------------------------------------------\n",
      "+------+------------------------------------------+------+------------+----+----+-----+----+\n",
      "|symbol|window                                    |volume|traded_value|high|low |first|last|\n",
      "+------+------------------------------------------+------+------------+----+----+-----+----+\n",
      "|MARUTI|{2022-05-25 02:20:00, 2022-05-25 02:21:00}|120   |2880.0      |24.0|24.0|24.0 |24.0|\n",
      "+------+------------------------------------------+------+------------+----+----+-----+----+\n",
      "\n"
     ]
    },
    {
     "name": "stderr",
     "output_type": "stream",
     "text": [
      "                                                                                \r"
     ]
    },
    {
     "name": "stdout",
     "output_type": "stream",
     "text": [
      "-------------------------------------------\n",
      "Batch: 117\n",
      "-------------------------------------------\n",
      "+------+------------------------------------------+------+------------+----+----+-----+----+\n",
      "|symbol|window                                    |volume|traded_value|high|low |first|last|\n",
      "+------+------------------------------------------+------+------------+----+----+-----+----+\n",
      "|MSFT  |{2022-05-25 02:20:00, 2022-05-25 02:21:00}|80    |1220.0      |24.0|10.0|24.0 |10.0|\n",
      "+------+------------------------------------------+------+------------+----+----+-----+----+\n",
      "\n"
     ]
    },
    {
     "name": "stderr",
     "output_type": "stream",
     "text": [
      "                                                                                \r"
     ]
    },
    {
     "name": "stdout",
     "output_type": "stream",
     "text": [
      "-------------------------------------------\n",
      "Batch: 118\n",
      "-------------------------------------------\n",
      "+------+------------------------------------------+------+------------+----+----+-----+----+\n",
      "|symbol|window                                    |volume|traded_value|high|low |first|last|\n",
      "+------+------------------------------------------+------+------------+----+----+-----+----+\n",
      "|MARUTI|{2022-05-25 02:20:00, 2022-05-25 02:21:00}|160   |3440.0      |24.0|14.0|24.0 |14.0|\n",
      "+------+------------------------------------------+------+------------+----+----+-----+----+\n",
      "\n"
     ]
    },
    {
     "name": "stderr",
     "output_type": "stream",
     "text": [
      "                                                                                \r"
     ]
    },
    {
     "name": "stdout",
     "output_type": "stream",
     "text": [
      "-------------------------------------------\n",
      "Batch: 119\n",
      "-------------------------------------------\n",
      "+------+------------------------------------------+------+------------+----+----+-----+----+\n",
      "|symbol|window                                    |volume|traded_value|high|low |first|last|\n",
      "+------+------------------------------------------+------+------------+----+----+-----+----+\n",
      "|TSLA  |{2022-05-25 02:21:00, 2022-05-25 02:22:00}|100   |2800.0      |28.0|28.0|28.0 |28.0|\n",
      "+------+------------------------------------------+------+------------+----+----+-----+----+\n",
      "\n"
     ]
    },
    {
     "name": "stderr",
     "output_type": "stream",
     "text": [
      "                                                                                \r"
     ]
    },
    {
     "name": "stdout",
     "output_type": "stream",
     "text": [
      "-------------------------------------------\n",
      "Batch: 120\n",
      "-------------------------------------------\n",
      "+------+------+------+------------+----+---+-----+----+\n",
      "|symbol|window|volume|traded_value|high|low|first|last|\n",
      "+------+------+------+------------+----+---+-----+----+\n",
      "+------+------+------+------------+----+---+-----+----+\n",
      "\n"
     ]
    },
    {
     "name": "stderr",
     "output_type": "stream",
     "text": [
      "                                                                                \r"
     ]
    },
    {
     "name": "stdout",
     "output_type": "stream",
     "text": [
      "-------------------------------------------\n",
      "Batch: 121\n",
      "-------------------------------------------\n",
      "+------+------------------------------------------+------+------------+----+----+-----+----+\n",
      "|symbol|window                                    |volume|traded_value|high|low |first|last|\n",
      "+------+------------------------------------------+------+------------+----+----+-----+----+\n",
      "|TSLA  |{2022-05-25 02:21:00, 2022-05-25 02:22:00}|140   |3840.0      |28.0|26.0|28.0 |26.0|\n",
      "+------+------------------------------------------+------+------------+----+----+-----+----+\n",
      "\n"
     ]
    },
    {
     "name": "stderr",
     "output_type": "stream",
     "text": [
      "                                                                                \r"
     ]
    },
    {
     "name": "stdout",
     "output_type": "stream",
     "text": [
      "-------------------------------------------\n",
      "Batch: 122\n",
      "-------------------------------------------\n",
      "+------+------------------------------------------+------+------------+----+----+-----+----+\n",
      "|symbol|window                                    |volume|traded_value|high|low |first|last|\n",
      "+------+------------------------------------------+------+------------+----+----+-----+----+\n",
      "|TSLA  |{2022-05-25 02:21:00, 2022-05-25 02:22:00}|150   |4010.0      |28.0|17.0|28.0 |17.0|\n",
      "+------+------------------------------------------+------+------------+----+----+-----+----+\n",
      "\n"
     ]
    },
    {
     "name": "stderr",
     "output_type": "stream",
     "text": [
      "                                                                                \r"
     ]
    },
    {
     "name": "stdout",
     "output_type": "stream",
     "text": [
      "-------------------------------------------\n",
      "Batch: 123\n",
      "-------------------------------------------\n",
      "+------+------------------------------------------+------+------------+----+----+-----+----+\n",
      "|symbol|window                                    |volume|traded_value|high|low |first|last|\n",
      "+------+------------------------------------------+------+------------+----+----+-----+----+\n",
      "|RELAXO|{2022-05-25 02:21:00, 2022-05-25 02:22:00}|50    |1900.0      |38.0|38.0|38.0 |38.0|\n",
      "+------+------------------------------------------+------+------------+----+----+-----+----+\n",
      "\n"
     ]
    },
    {
     "name": "stderr",
     "output_type": "stream",
     "text": [
      "                                                                                \r"
     ]
    },
    {
     "name": "stdout",
     "output_type": "stream",
     "text": [
      "-------------------------------------------\n",
      "Batch: 124\n",
      "-------------------------------------------\n",
      "+------+------------------------------------------+------+------------+----+----+-----+----+\n",
      "|symbol|window                                    |volume|traded_value|high|low |first|last|\n",
      "+------+------------------------------------------+------+------------+----+----+-----+----+\n",
      "|RELAXO|{2022-05-25 02:21:00, 2022-05-25 02:22:00}|170   |4900.0      |38.0|25.0|38.0 |25.0|\n",
      "+------+------------------------------------------+------+------------+----+----+-----+----+\n",
      "\n"
     ]
    },
    {
     "name": "stderr",
     "output_type": "stream",
     "text": [
      "                                                                                \r"
     ]
    },
    {
     "name": "stdout",
     "output_type": "stream",
     "text": [
      "-------------------------------------------\n",
      "Batch: 125\n",
      "-------------------------------------------\n",
      "+------+------------------------------------------+------+------------+----+----+-----+----+\n",
      "|symbol|window                                    |volume|traded_value|high|low |first|last|\n",
      "+------+------------------------------------------+------+------------+----+----+-----+----+\n",
      "|MSFT  |{2022-05-25 02:21:00, 2022-05-25 02:22:00}|10    |140.0       |14.0|14.0|14.0 |14.0|\n",
      "+------+------------------------------------------+------+------------+----+----+-----+----+\n",
      "\n"
     ]
    },
    {
     "name": "stderr",
     "output_type": "stream",
     "text": [
      "                                                                                \r"
     ]
    },
    {
     "name": "stdout",
     "output_type": "stream",
     "text": [
      "-------------------------------------------\n",
      "Batch: 126\n",
      "-------------------------------------------\n",
      "+------+------------------------------------------+------+------------+----+----+-----+----+\n",
      "|symbol|window                                    |volume|traded_value|high|low |first|last|\n",
      "+------+------------------------------------------+------+------------+----+----+-----+----+\n",
      "|RELAXO|{2022-05-25 02:22:00, 2022-05-25 02:23:00}|40    |1120.0      |28.0|28.0|28.0 |28.0|\n",
      "+------+------------------------------------------+------+------------+----+----+-----+----+\n",
      "\n"
     ]
    },
    {
     "name": "stderr",
     "output_type": "stream",
     "text": [
      "                                                                                \r"
     ]
    },
    {
     "name": "stdout",
     "output_type": "stream",
     "text": [
      "-------------------------------------------\n",
      "Batch: 127\n",
      "-------------------------------------------\n",
      "+------+------+------+------------+----+---+-----+----+\n",
      "|symbol|window|volume|traded_value|high|low|first|last|\n",
      "+------+------+------+------------+----+---+-----+----+\n",
      "+------+------+------+------------+----+---+-----+----+\n",
      "\n"
     ]
    },
    {
     "name": "stderr",
     "output_type": "stream",
     "text": [
      "                                                                                \r"
     ]
    },
    {
     "name": "stdout",
     "output_type": "stream",
     "text": [
      "-------------------------------------------\n",
      "Batch: 128\n",
      "-------------------------------------------\n",
      "+------+------------------------------------------+------+------------+----+----+-----+----+\n",
      "|symbol|window                                    |volume|traded_value|high|low |first|last|\n",
      "+------+------------------------------------------+------+------------+----+----+-----+----+\n",
      "|MARUTI|{2022-05-25 02:22:00, 2022-05-25 02:23:00}|30    |720.0       |24.0|24.0|24.0 |24.0|\n",
      "+------+------------------------------------------+------+------------+----+----+-----+----+\n",
      "\n"
     ]
    },
    {
     "name": "stderr",
     "output_type": "stream",
     "text": [
      "                                                                                \r"
     ]
    },
    {
     "name": "stdout",
     "output_type": "stream",
     "text": [
      "-------------------------------------------\n",
      "Batch: 129\n",
      "-------------------------------------------\n",
      "+------+------------------------------------------+------+------------+----+----+-----+----+\n",
      "|symbol|window                                    |volume|traded_value|high|low |first|last|\n",
      "+------+------------------------------------------+------+------------+----+----+-----+----+\n",
      "|MSFT  |{2022-05-25 02:22:00, 2022-05-25 02:23:00}|50    |2500.0      |50.0|50.0|50.0 |50.0|\n",
      "+------+------------------------------------------+------+------------+----+----+-----+----+\n",
      "\n"
     ]
    },
    {
     "name": "stderr",
     "output_type": "stream",
     "text": [
      "                                                                                \r"
     ]
    },
    {
     "name": "stdout",
     "output_type": "stream",
     "text": [
      "-------------------------------------------\n",
      "Batch: 130\n",
      "-------------------------------------------\n",
      "+------+------------------------------------------+------+------------+----+----+-----+----+\n",
      "|symbol|window                                    |volume|traded_value|high|low |first|last|\n",
      "+------+------------------------------------------+------+------------+----+----+-----+----+\n",
      "|TSLA  |{2022-05-25 02:22:00, 2022-05-25 02:23:00}|120   |3960.0      |33.0|33.0|33.0 |33.0|\n",
      "+------+------------------------------------------+------+------------+----+----+-----+----+\n",
      "\n"
     ]
    },
    {
     "name": "stderr",
     "output_type": "stream",
     "text": [
      "                                                                                \r"
     ]
    },
    {
     "name": "stdout",
     "output_type": "stream",
     "text": [
      "-------------------------------------------\n",
      "Batch: 131\n",
      "-------------------------------------------\n",
      "+------+------------------------------------------+------+------------+----+----+-----+----+\n",
      "|symbol|window                                    |volume|traded_value|high|low |first|last|\n",
      "+------+------------------------------------------+------+------------+----+----+-----+----+\n",
      "|MSFT  |{2022-05-25 02:22:00, 2022-05-25 02:23:00}|60    |2770.0      |50.0|27.0|50.0 |27.0|\n",
      "+------+------------------------------------------+------+------------+----+----+-----+----+\n",
      "\n"
     ]
    },
    {
     "name": "stderr",
     "output_type": "stream",
     "text": [
      "                                                                                \r"
     ]
    },
    {
     "name": "stdout",
     "output_type": "stream",
     "text": [
      "-------------------------------------------\n",
      "Batch: 132\n",
      "-------------------------------------------\n",
      "+------+------------------------------------------+------+------------+----+----+-----+----+\n",
      "|symbol|window                                    |volume|traded_value|high|low |first|last|\n",
      "+------+------------------------------------------+------+------------+----+----+-----+----+\n",
      "|MARUTI|{2022-05-25 02:22:00, 2022-05-25 02:23:00}|150   |2160.0      |24.0|12.0|24.0 |12.0|\n",
      "+------+------------------------------------------+------+------------+----+----+-----+----+\n",
      "\n"
     ]
    },
    {
     "name": "stderr",
     "output_type": "stream",
     "text": [
      "                                                                                \r"
     ]
    },
    {
     "name": "stdout",
     "output_type": "stream",
     "text": [
      "-------------------------------------------\n",
      "Batch: 133\n",
      "-------------------------------------------\n",
      "+------+------------------------------------------+------+------------+----+---+-----+----+\n",
      "|symbol|window                                    |volume|traded_value|high|low|first|last|\n",
      "+------+------------------------------------------+------+------------+----+---+-----+----+\n",
      "|MSFT  |{2022-05-25 02:23:00, 2022-05-25 02:24:00}|50    |450.0       |9.0 |9.0|9.0  |9.0 |\n",
      "+------+------------------------------------------+------+------------+----+---+-----+----+\n",
      "\n"
     ]
    },
    {
     "name": "stderr",
     "output_type": "stream",
     "text": [
      "                                                                                \r"
     ]
    },
    {
     "name": "stdout",
     "output_type": "stream",
     "text": [
      "-------------------------------------------\n",
      "Batch: 134\n",
      "-------------------------------------------\n",
      "+------+------+------+------------+----+---+-----+----+\n",
      "|symbol|window|volume|traded_value|high|low|first|last|\n",
      "+------+------+------+------------+----+---+-----+----+\n",
      "+------+------+------+------------+----+---+-----+----+\n",
      "\n"
     ]
    },
    {
     "name": "stderr",
     "output_type": "stream",
     "text": [
      "                                                                                \r"
     ]
    },
    {
     "name": "stdout",
     "output_type": "stream",
     "text": [
      "-------------------------------------------\n",
      "Batch: 135\n",
      "-------------------------------------------\n",
      "+------+------------------------------------------+------+------------+----+----+-----+----+\n",
      "|symbol|window                                    |volume|traded_value|high|low |first|last|\n",
      "+------+------------------------------------------+------+------------+----+----+-----+----+\n",
      "|TSLA  |{2022-05-25 02:23:00, 2022-05-25 02:24:00}|50    |2450.0      |49.0|49.0|49.0 |49.0|\n",
      "+------+------------------------------------------+------+------------+----+----+-----+----+\n",
      "\n"
     ]
    },
    {
     "name": "stderr",
     "output_type": "stream",
     "text": [
      "                                                                                \r"
     ]
    },
    {
     "name": "stdout",
     "output_type": "stream",
     "text": [
      "-------------------------------------------\n",
      "Batch: 136\n",
      "-------------------------------------------\n",
      "+------+------------------------------------------+------+------------+----+----+-----+----+\n",
      "|symbol|window                                    |volume|traded_value|high|low |first|last|\n",
      "+------+------------------------------------------+------+------------+----+----+-----+----+\n",
      "|RELAXO|{2022-05-25 02:23:00, 2022-05-25 02:24:00}|50    |1950.0      |39.0|39.0|39.0 |39.0|\n",
      "+------+------------------------------------------+------+------------+----+----+-----+----+\n",
      "\n"
     ]
    },
    {
     "name": "stderr",
     "output_type": "stream",
     "text": [
      "                                                                                \r"
     ]
    },
    {
     "name": "stdout",
     "output_type": "stream",
     "text": [
      "-------------------------------------------\n",
      "Batch: 137\n",
      "-------------------------------------------\n",
      "+------+------------------------------------------+------+------------+----+---+-----+----+\n",
      "|symbol|window                                    |volume|traded_value|high|low|first|last|\n",
      "+------+------------------------------------------+------+------------+----+---+-----+----+\n",
      "|TSLA  |{2022-05-25 02:23:00, 2022-05-25 02:24:00}|100   |2900.0      |49.0|9.0|49.0 |9.0 |\n",
      "+------+------------------------------------------+------+------------+----+---+-----+----+\n",
      "\n"
     ]
    },
    {
     "name": "stderr",
     "output_type": "stream",
     "text": [
      "                                                                                \r"
     ]
    },
    {
     "name": "stdout",
     "output_type": "stream",
     "text": [
      "-------------------------------------------\n",
      "Batch: 138\n",
      "-------------------------------------------\n",
      "+------+------------------------------------------+------+------------+----+---+-----+----+\n",
      "|symbol|window                                    |volume|traded_value|high|low|first|last|\n",
      "+------+------------------------------------------+------+------------+----+---+-----+----+\n",
      "|MSFT  |{2022-05-25 02:23:00, 2022-05-25 02:24:00}|100   |2200.0      |35.0|9.0|9.0  |35.0|\n",
      "+------+------------------------------------------+------+------------+----+---+-----+----+\n",
      "\n"
     ]
    },
    {
     "name": "stderr",
     "output_type": "stream",
     "text": [
      "                                                                                \r"
     ]
    },
    {
     "name": "stdout",
     "output_type": "stream",
     "text": [
      "-------------------------------------------\n",
      "Batch: 139\n",
      "-------------------------------------------\n",
      "+------+------------------------------------------+------+------------+----+----+-----+----+\n",
      "|symbol|window                                    |volume|traded_value|high|low |first|last|\n",
      "+------+------------------------------------------+------+------------+----+----+-----+----+\n",
      "|RELAXO|{2022-05-25 02:23:00, 2022-05-25 02:24:00}|150   |5950.0      |40.0|39.0|39.0 |40.0|\n",
      "+------+------------------------------------------+------+------------+----+----+-----+----+\n",
      "\n"
     ]
    },
    {
     "name": "stderr",
     "output_type": "stream",
     "text": [
      "                                                                                \r"
     ]
    },
    {
     "name": "stdout",
     "output_type": "stream",
     "text": [
      "-------------------------------------------\n",
      "Batch: 140\n",
      "-------------------------------------------\n",
      "+------+------------------------------------------+------+------------+----+----+-----+----+\n",
      "|symbol|window                                    |volume|traded_value|high|low |first|last|\n",
      "+------+------------------------------------------+------+------------+----+----+-----+----+\n",
      "|MSFT  |{2022-05-25 02:24:00, 2022-05-25 02:25:00}|120   |3000.0      |25.0|25.0|25.0 |25.0|\n",
      "+------+------------------------------------------+------+------------+----+----+-----+----+\n",
      "\n",
      "-------------------------------------------\n",
      "Batch: 141\n",
      "-------------------------------------------\n",
      "+------+------+------+------------+----+---+-----+----+\n",
      "|symbol|window|volume|traded_value|high|low|first|last|\n",
      "+------+------+------+------------+----+---+-----+----+\n",
      "+------+------+------+------------+----+---+-----+----+\n",
      "\n"
     ]
    },
    {
     "name": "stderr",
     "output_type": "stream",
     "text": [
      "                                                                                \r"
     ]
    },
    {
     "name": "stdout",
     "output_type": "stream",
     "text": [
      "-------------------------------------------\n",
      "Batch: 142\n",
      "-------------------------------------------\n",
      "+------+------------------------------------------+------+------------+----+----+-----+----+\n",
      "|symbol|window                                    |volume|traded_value|high|low |first|last|\n",
      "+------+------------------------------------------+------+------------+----+----+-----+----+\n",
      "|MSFT  |{2022-05-25 02:24:00, 2022-05-25 02:25:00}|240   |6480.0      |29.0|25.0|25.0 |29.0|\n",
      "+------+------------------------------------------+------+------------+----+----+-----+----+\n",
      "\n"
     ]
    },
    {
     "name": "stderr",
     "output_type": "stream",
     "text": [
      "                                                                                \r"
     ]
    },
    {
     "name": "stdout",
     "output_type": "stream",
     "text": [
      "-------------------------------------------\n",
      "Batch: 143\n",
      "-------------------------------------------\n",
      "+------+------------------------------------------+------+------------+----+----+-----+----+\n",
      "|symbol|window                                    |volume|traded_value|high|low |first|last|\n",
      "+------+------------------------------------------+------+------------+----+----+-----+----+\n",
      "|TSLA  |{2022-05-25 02:24:00, 2022-05-25 02:25:00}|100   |1500.0      |15.0|15.0|15.0 |15.0|\n",
      "+------+------------------------------------------+------+------------+----+----+-----+----+\n",
      "\n"
     ]
    },
    {
     "name": "stderr",
     "output_type": "stream",
     "text": [
      "                                                                                \r"
     ]
    },
    {
     "name": "stdout",
     "output_type": "stream",
     "text": [
      "-------------------------------------------\n",
      "Batch: 144\n",
      "-------------------------------------------\n",
      "+------+------------------------------------------+------+------------+----+----+-----+----+\n",
      "|symbol|window                                    |volume|traded_value|high|low |first|last|\n",
      "+------+------------------------------------------+------+------------+----+----+-----+----+\n",
      "|MARUTI|{2022-05-25 02:24:00, 2022-05-25 02:25:00}|50    |1150.0      |23.0|23.0|23.0 |23.0|\n",
      "+------+------------------------------------------+------+------------+----+----+-----+----+\n",
      "\n"
     ]
    },
    {
     "name": "stderr",
     "output_type": "stream",
     "text": [
      "                                                                                \r"
     ]
    },
    {
     "name": "stdout",
     "output_type": "stream",
     "text": [
      "-------------------------------------------\n",
      "Batch: 145\n",
      "-------------------------------------------\n",
      "+------+------------------------------------------+------+------------+----+----+-----+----+\n",
      "|symbol|window                                    |volume|traded_value|high|low |first|last|\n",
      "+------+------------------------------------------+------+------------+----+----+-----+----+\n",
      "|MSFT  |{2022-05-25 02:24:00, 2022-05-25 02:25:00}|290   |7430.0      |29.0|19.0|25.0 |19.0|\n",
      "+------+------------------------------------------+------+------------+----+----+-----+----+\n",
      "\n"
     ]
    },
    {
     "name": "stderr",
     "output_type": "stream",
     "text": [
      "                                                                                \r"
     ]
    },
    {
     "name": "stdout",
     "output_type": "stream",
     "text": [
      "-------------------------------------------\n",
      "Batch: 146\n",
      "-------------------------------------------\n",
      "+------+------------------------------------------+------+------------+----+----+-----+----+\n",
      "|symbol|window                                    |volume|traded_value|high|low |first|last|\n",
      "+------+------------------------------------------+------+------------+----+----+-----+----+\n",
      "|MSFT  |{2022-05-25 02:24:00, 2022-05-25 02:25:00}|330   |8950.0      |38.0|19.0|25.0 |38.0|\n",
      "+------+------------------------------------------+------+------------+----+----+-----+----+\n",
      "\n"
     ]
    },
    {
     "name": "stderr",
     "output_type": "stream",
     "text": [
      "                                                                                \r"
     ]
    },
    {
     "name": "stdout",
     "output_type": "stream",
     "text": [
      "-------------------------------------------\n",
      "Batch: 147\n",
      "-------------------------------------------\n",
      "+------+------------------------------------------+------+------------+----+----+-----+----+\n",
      "|symbol|window                                    |volume|traded_value|high|low |first|last|\n",
      "+------+------------------------------------------+------+------------+----+----+-----+----+\n",
      "|RELAXO|{2022-05-25 02:25:00, 2022-05-25 02:26:00}|30    |840.0       |28.0|28.0|28.0 |28.0|\n",
      "+------+------------------------------------------+------+------------+----+----+-----+----+\n",
      "\n"
     ]
    },
    {
     "name": "stderr",
     "output_type": "stream",
     "text": [
      "                                                                                \r"
     ]
    },
    {
     "name": "stdout",
     "output_type": "stream",
     "text": [
      "-------------------------------------------\n",
      "Batch: 148\n",
      "-------------------------------------------\n",
      "+------+------+------+------------+----+---+-----+----+\n",
      "|symbol|window|volume|traded_value|high|low|first|last|\n",
      "+------+------+------+------------+----+---+-----+----+\n",
      "+------+------+------+------------+----+---+-----+----+\n",
      "\n"
     ]
    },
    {
     "name": "stderr",
     "output_type": "stream",
     "text": [
      "                                                                                \r"
     ]
    },
    {
     "name": "stdout",
     "output_type": "stream",
     "text": [
      "-------------------------------------------\n",
      "Batch: 149\n",
      "-------------------------------------------\n",
      "+------+------------------------------------------+------+------------+----+----+-----+----+\n",
      "|symbol|window                                    |volume|traded_value|high|low |first|last|\n",
      "+------+------------------------------------------+------+------------+----+----+-----+----+\n",
      "|TSLA  |{2022-05-25 02:25:00, 2022-05-25 02:26:00}|120   |1200.0      |10.0|10.0|10.0 |10.0|\n",
      "+------+------------------------------------------+------+------------+----+----+-----+----+\n",
      "\n"
     ]
    },
    {
     "name": "stderr",
     "output_type": "stream",
     "text": [
      "                                                                                \r"
     ]
    },
    {
     "name": "stdout",
     "output_type": "stream",
     "text": [
      "-------------------------------------------\n",
      "Batch: 150\n",
      "-------------------------------------------\n",
      "+------+------------------------------------------+------+------------+----+----+-----+----+\n",
      "|symbol|window                                    |volume|traded_value|high|low |first|last|\n",
      "+------+------------------------------------------+------+------------+----+----+-----+----+\n",
      "|MSFT  |{2022-05-25 02:25:00, 2022-05-25 02:26:00}|10    |430.0       |43.0|43.0|43.0 |43.0|\n",
      "+------+------------------------------------------+------+------------+----+----+-----+----+\n",
      "\n"
     ]
    },
    {
     "name": "stderr",
     "output_type": "stream",
     "text": [
      "                                                                                \r"
     ]
    },
    {
     "name": "stdout",
     "output_type": "stream",
     "text": [
      "-------------------------------------------\n",
      "Batch: 151\n",
      "-------------------------------------------\n",
      "+------+------------------------------------------+------+------------+----+----+-----+----+\n",
      "|symbol|window                                    |volume|traded_value|high|low |first|last|\n",
      "+------+------------------------------------------+------+------------+----+----+-----+----+\n",
      "|MARUTI|{2022-05-25 02:25:00, 2022-05-25 02:26:00}|10    |500.0       |50.0|50.0|50.0 |50.0|\n",
      "+------+------------------------------------------+------+------------+----+----+-----+----+\n",
      "\n"
     ]
    },
    {
     "name": "stderr",
     "output_type": "stream",
     "text": [
      "                                                                                \r"
     ]
    },
    {
     "name": "stdout",
     "output_type": "stream",
     "text": [
      "-------------------------------------------\n",
      "Batch: 152\n",
      "-------------------------------------------\n",
      "+------+------------------------------------------+------+------------+----+----+-----+----+\n",
      "|symbol|window                                    |volume|traded_value|high|low |first|last|\n",
      "+------+------------------------------------------+------+------------+----+----+-----+----+\n",
      "|TSLA  |{2022-05-25 02:25:00, 2022-05-25 02:26:00}|220   |2600.0      |14.0|10.0|10.0 |14.0|\n",
      "+------+------------------------------------------+------+------------+----+----+-----+----+\n",
      "\n"
     ]
    },
    {
     "name": "stderr",
     "output_type": "stream",
     "text": [
      "                                                                                \r"
     ]
    },
    {
     "name": "stdout",
     "output_type": "stream",
     "text": [
      "-------------------------------------------\n",
      "Batch: 153\n",
      "-------------------------------------------\n",
      "+------+------------------------------------------+------+------------+----+----+-----+----+\n",
      "|symbol|window                                    |volume|traded_value|high|low |first|last|\n",
      "+------+------------------------------------------+------+------------+----+----+-----+----+\n",
      "|TSLA  |{2022-05-25 02:25:00, 2022-05-25 02:26:00}|320   |4700.0      |21.0|10.0|10.0 |21.0|\n",
      "+------+------------------------------------------+------+------------+----+----+-----+----+\n",
      "\n"
     ]
    },
    {
     "name": "stderr",
     "output_type": "stream",
     "text": [
      "                                                                                \r"
     ]
    },
    {
     "name": "stdout",
     "output_type": "stream",
     "text": [
      "-------------------------------------------\n",
      "Batch: 154\n",
      "-------------------------------------------\n",
      "+------+------------------------------------------+------+------------+----+----+-----+----+\n",
      "|symbol|window                                    |volume|traded_value|high|low |first|last|\n",
      "+------+------------------------------------------+------+------------+----+----+-----+----+\n",
      "|MSFT  |{2022-05-25 02:26:00, 2022-05-25 02:27:00}|40    |1640.0      |41.0|41.0|41.0 |41.0|\n",
      "+------+------------------------------------------+------+------------+----+----+-----+----+\n",
      "\n"
     ]
    },
    {
     "name": "stderr",
     "output_type": "stream",
     "text": [
      "                                                                                \r"
     ]
    },
    {
     "name": "stdout",
     "output_type": "stream",
     "text": [
      "-------------------------------------------\n",
      "Batch: 155\n",
      "-------------------------------------------\n",
      "+------+------+------+------------+----+---+-----+----+\n",
      "|symbol|window|volume|traded_value|high|low|first|last|\n",
      "+------+------+------+------------+----+---+-----+----+\n",
      "+------+------+------+------------+----+---+-----+----+\n",
      "\n"
     ]
    },
    {
     "name": "stderr",
     "output_type": "stream",
     "text": [
      "                                                                                \r"
     ]
    },
    {
     "name": "stdout",
     "output_type": "stream",
     "text": [
      "-------------------------------------------\n",
      "Batch: 156\n",
      "-------------------------------------------\n",
      "+------+------------------------------------------+------+------------+----+----+-----+----+\n",
      "|symbol|window                                    |volume|traded_value|high|low |first|last|\n",
      "+------+------------------------------------------+------+------------+----+----+-----+----+\n",
      "|MARUTI|{2022-05-25 02:26:00, 2022-05-25 02:27:00}|100   |1400.0      |14.0|14.0|14.0 |14.0|\n",
      "+------+------------------------------------------+------+------------+----+----+-----+----+\n",
      "\n"
     ]
    },
    {
     "name": "stderr",
     "output_type": "stream",
     "text": [
      "                                                                                \r"
     ]
    },
    {
     "name": "stdout",
     "output_type": "stream",
     "text": [
      "-------------------------------------------\n",
      "Batch: 157\n",
      "-------------------------------------------\n",
      "+------+------------------------------------------+------+------------+----+----+-----+----+\n",
      "|symbol|window                                    |volume|traded_value|high|low |first|last|\n",
      "+------+------------------------------------------+------+------------+----+----+-----+----+\n",
      "|MSFT  |{2022-05-25 02:26:00, 2022-05-25 02:27:00}|80    |2760.0      |41.0|28.0|41.0 |28.0|\n",
      "+------+------------------------------------------+------+------------+----+----+-----+----+\n",
      "\n"
     ]
    },
    {
     "name": "stderr",
     "output_type": "stream",
     "text": [
      "                                                                                \r"
     ]
    },
    {
     "name": "stdout",
     "output_type": "stream",
     "text": [
      "-------------------------------------------\n",
      "Batch: 158\n",
      "-------------------------------------------\n",
      "+------+------------------------------------------+------+------------+----+----+-----+----+\n",
      "|symbol|window                                    |volume|traded_value|high|low |first|last|\n",
      "+------+------------------------------------------+------+------------+----+----+-----+----+\n",
      "|MSFT  |{2022-05-25 02:26:00, 2022-05-25 02:27:00}|180   |7660.0      |49.0|28.0|41.0 |49.0|\n",
      "+------+------------------------------------------+------+------------+----+----+-----+----+\n",
      "\n"
     ]
    },
    {
     "name": "stderr",
     "output_type": "stream",
     "text": [
      "                                                                                \r"
     ]
    },
    {
     "name": "stdout",
     "output_type": "stream",
     "text": [
      "-------------------------------------------\n",
      "Batch: 159\n",
      "-------------------------------------------\n",
      "+------+------------------------------------------+------+------------+----+----+-----+----+\n",
      "|symbol|window                                    |volume|traded_value|high|low |first|last|\n",
      "+------+------------------------------------------+------+------------+----+----+-----+----+\n",
      "|MSFT  |{2022-05-25 02:26:00, 2022-05-25 02:27:00}|210   |9010.0      |49.0|28.0|41.0 |45.0|\n",
      "+------+------------------------------------------+------+------------+----+----+-----+----+\n",
      "\n"
     ]
    },
    {
     "name": "stderr",
     "output_type": "stream",
     "text": [
      "                                                                                \r"
     ]
    },
    {
     "name": "stdout",
     "output_type": "stream",
     "text": [
      "-------------------------------------------\n",
      "Batch: 160\n",
      "-------------------------------------------\n",
      "+------+------------------------------------------+------+------------+----+---+-----+----+\n",
      "|symbol|window                                    |volume|traded_value|high|low|first|last|\n",
      "+------+------------------------------------------+------+------------+----+---+-----+----+\n",
      "|RELAXO|{2022-05-25 02:26:00, 2022-05-25 02:27:00}|100   |600.0       |6.0 |6.0|6.0  |6.0 |\n",
      "+------+------------------------------------------+------+------------+----+---+-----+----+\n",
      "\n"
     ]
    },
    {
     "name": "stderr",
     "output_type": "stream",
     "text": [
      "                                                                                \r"
     ]
    },
    {
     "name": "stdout",
     "output_type": "stream",
     "text": [
      "-------------------------------------------\n",
      "Batch: 161\n",
      "-------------------------------------------\n",
      "+------+------------------------------------------+------+------------+----+----+-----+----+\n",
      "|symbol|window                                    |volume|traded_value|high|low |first|last|\n",
      "+------+------------------------------------------+------+------------+----+----+-----+----+\n",
      "|RELAXO|{2022-05-25 02:27:00, 2022-05-25 02:28:00}|10    |130.0       |13.0|13.0|13.0 |13.0|\n",
      "+------+------------------------------------------+------+------------+----+----+-----+----+\n",
      "\n"
     ]
    },
    {
     "name": "stderr",
     "output_type": "stream",
     "text": [
      "                                                                                \r"
     ]
    },
    {
     "name": "stdout",
     "output_type": "stream",
     "text": [
      "-------------------------------------------\n",
      "Batch: 162\n",
      "-------------------------------------------\n",
      "+------+------+------+------------+----+---+-----+----+\n",
      "|symbol|window|volume|traded_value|high|low|first|last|\n",
      "+------+------+------+------------+----+---+-----+----+\n",
      "+------+------+------+------------+----+---+-----+----+\n",
      "\n"
     ]
    },
    {
     "name": "stderr",
     "output_type": "stream",
     "text": [
      "[Stage 653:============================>                            (2 + 1) / 4]\r"
     ]
    },
    {
     "name": "stdout",
     "output_type": "stream",
     "text": [
      "-------------------------------------------\n",
      "Batch: 163\n",
      "-------------------------------------------\n",
      "+------+------------------------------------------+------+------------+----+----+-----+----+\n",
      "|symbol|window                                    |volume|traded_value|high|low |first|last|\n",
      "+------+------------------------------------------+------+------------+----+----+-----+----+\n",
      "|TSLA  |{2022-05-25 02:27:00, 2022-05-25 02:28:00}|30    |660.0       |22.0|22.0|22.0 |22.0|\n",
      "+------+------------------------------------------+------+------------+----+----+-----+----+\n",
      "\n"
     ]
    },
    {
     "name": "stderr",
     "output_type": "stream",
     "text": [
      "                                                                                \r"
     ]
    },
    {
     "name": "stdout",
     "output_type": "stream",
     "text": [
      "-------------------------------------------\n",
      "Batch: 164\n",
      "-------------------------------------------\n",
      "+------+------------------------------------------+------+------------+----+----+-----+----+\n",
      "|symbol|window                                    |volume|traded_value|high|low |first|last|\n",
      "+------+------------------------------------------+------+------------+----+----+-----+----+\n",
      "|TSLA  |{2022-05-25 02:27:00, 2022-05-25 02:28:00}|40    |1050.0      |39.0|22.0|22.0 |39.0|\n",
      "+------+------------------------------------------+------+------------+----+----+-----+----+\n",
      "\n"
     ]
    },
    {
     "name": "stderr",
     "output_type": "stream",
     "text": [
      "                                                                                \r"
     ]
    },
    {
     "name": "stdout",
     "output_type": "stream",
     "text": [
      "-------------------------------------------\n",
      "Batch: 165\n",
      "-------------------------------------------\n",
      "+------+------------------------------------------+------+------------+----+----+-----+----+\n",
      "|symbol|window                                    |volume|traded_value|high|low |first|last|\n",
      "+------+------------------------------------------+------+------------+----+----+-----+----+\n",
      "|TSLA  |{2022-05-25 02:27:00, 2022-05-25 02:28:00}|90    |2200.0      |39.0|22.0|22.0 |23.0|\n",
      "+------+------------------------------------------+------+------------+----+----+-----+----+\n",
      "\n"
     ]
    },
    {
     "name": "stderr",
     "output_type": "stream",
     "text": [
      "                                                                                \r"
     ]
    },
    {
     "name": "stdout",
     "output_type": "stream",
     "text": [
      "-------------------------------------------\n",
      "Batch: 166\n",
      "-------------------------------------------\n",
      "+------+------------------------------------------+------+------------+----+----+-----+----+\n",
      "|symbol|window                                    |volume|traded_value|high|low |first|last|\n",
      "+------+------------------------------------------+------+------------+----+----+-----+----+\n",
      "|TSLA  |{2022-05-25 02:27:00, 2022-05-25 02:28:00}|210   |7960.0      |48.0|22.0|22.0 |48.0|\n",
      "+------+------------------------------------------+------+------------+----+----+-----+----+\n",
      "\n"
     ]
    },
    {
     "name": "stderr",
     "output_type": "stream",
     "text": [
      "[Stage 669:============>    (3 + 1) / 4][Stage 671:>                (0 + 0) / 4]\r"
     ]
    },
    {
     "name": "stdout",
     "output_type": "stream",
     "text": [
      "-------------------------------------------\n",
      "Batch: 167\n",
      "-------------------------------------------\n",
      "+------+------------------------------------------+------+------------+----+----+-----+----+\n",
      "|symbol|window                                    |volume|traded_value|high|low |first|last|\n",
      "+------+------------------------------------------+------+------------+----+----+-----+----+\n",
      "|MSFT  |{2022-05-25 02:27:00, 2022-05-25 02:28:00}|120   |2520.0      |21.0|21.0|21.0 |21.0|\n",
      "+------+------------------------------------------+------+------------+----+----+-----+----+\n",
      "\n"
     ]
    },
    {
     "name": "stderr",
     "output_type": "stream",
     "text": [
      "                                                                                \r"
     ]
    },
    {
     "name": "stdout",
     "output_type": "stream",
     "text": [
      "-------------------------------------------\n",
      "Batch: 168\n",
      "-------------------------------------------\n",
      "+------+------------------------------------------+------+------------+----+----+-----+----+\n",
      "|symbol|window                                    |volume|traded_value|high|low |first|last|\n",
      "+------+------------------------------------------+------+------------+----+----+-----+----+\n",
      "|TSLA  |{2022-05-25 02:28:00, 2022-05-25 02:29:00}|40    |1000.0      |25.0|25.0|25.0 |25.0|\n",
      "+------+------------------------------------------+------+------------+----+----+-----+----+\n",
      "\n",
      "-------------------------------------------\n",
      "Batch: 169\n",
      "-------------------------------------------\n",
      "+------+------+------+------------+----+---+-----+----+\n",
      "|symbol|window|volume|traded_value|high|low|first|last|\n",
      "+------+------+------+------------+----+---+-----+----+\n",
      "+------+------+------+------------+----+---+-----+----+\n",
      "\n"
     ]
    },
    {
     "name": "stderr",
     "output_type": "stream",
     "text": [
      "                                                                                \r"
     ]
    },
    {
     "name": "stdout",
     "output_type": "stream",
     "text": [
      "-------------------------------------------\n",
      "Batch: 170\n",
      "-------------------------------------------\n",
      "+------+------------------------------------------+------+------------+----+----+-----+----+\n",
      "|symbol|window                                    |volume|traded_value|high|low |first|last|\n",
      "+------+------------------------------------------+------+------------+----+----+-----+----+\n",
      "|TSLA  |{2022-05-25 02:28:00, 2022-05-25 02:29:00}|90    |2700.0      |34.0|25.0|25.0 |34.0|\n",
      "+------+------------------------------------------+------+------------+----+----+-----+----+\n",
      "\n"
     ]
    },
    {
     "name": "stderr",
     "output_type": "stream",
     "text": [
      "                                                                                \r"
     ]
    },
    {
     "name": "stdout",
     "output_type": "stream",
     "text": [
      "-------------------------------------------\n",
      "Batch: 171\n",
      "-------------------------------------------\n",
      "+------+------------------------------------------+------+------------+----+----+-----+----+\n",
      "|symbol|window                                    |volume|traded_value|high|low |first|last|\n",
      "+------+------------------------------------------+------+------------+----+----+-----+----+\n",
      "|MARUTI|{2022-05-25 02:28:00, 2022-05-25 02:29:00}|10    |140.0       |14.0|14.0|14.0 |14.0|\n",
      "+------+------------------------------------------+------+------------+----+----+-----+----+\n",
      "\n"
     ]
    },
    {
     "name": "stderr",
     "output_type": "stream",
     "text": [
      "                                                                                \r"
     ]
    },
    {
     "name": "stdout",
     "output_type": "stream",
     "text": [
      "-------------------------------------------\n",
      "Batch: 172\n",
      "-------------------------------------------\n",
      "+------+------------------------------------------+------+------------+----+---+-----+----+\n",
      "|symbol|window                                    |volume|traded_value|high|low|first|last|\n",
      "+------+------------------------------------------+------+------------+----+---+-----+----+\n",
      "|MSFT  |{2022-05-25 02:28:00, 2022-05-25 02:29:00}|120   |840.0       |7.0 |7.0|7.0  |7.0 |\n",
      "+------+------------------------------------------+------+------------+----+---+-----+----+\n",
      "\n"
     ]
    },
    {
     "name": "stderr",
     "output_type": "stream",
     "text": [
      "                                                                                \r"
     ]
    },
    {
     "name": "stdout",
     "output_type": "stream",
     "text": [
      "-------------------------------------------\n",
      "Batch: 173\n",
      "-------------------------------------------\n",
      "+------+------------------------------------------+------+------------+----+----+-----+----+\n",
      "|symbol|window                                    |volume|traded_value|high|low |first|last|\n",
      "+------+------------------------------------------+------+------------+----+----+-----+----+\n",
      "|TSLA  |{2022-05-25 02:28:00, 2022-05-25 02:29:00}|140   |3600.0      |34.0|18.0|25.0 |18.0|\n",
      "+------+------------------------------------------+------+------------+----+----+-----+----+\n",
      "\n"
     ]
    }
   ],
   "source": [
    "# aggregate\n",
    "# sum (volume), sum(traded_value), candles open, high, low, close [OHLC]\n",
    "# groupBy by symbol, timestamp\n",
    "\n",
    "# now add delayed record processing with waterMark\n",
    "stockTickDf1Min = stockTickDf\\\n",
    "                            .withWatermark(\"timestamp\", \"1 seconds\")\\\n",
    "                            .groupBy(\"symbol\", F.window(\"timestamp\", \"60 seconds\"))\\\n",
    "                          .agg( F.sum(\"volume\").alias(\"volume\"),\\\n",
    "                                F.sum(\"traded_value\").alias(\"traded_value\"),\\\n",
    "                                F.max(\"price\").alias(\"high\"),\\\n",
    "                                F.min(\"price\").alias(\"low\"),\\\n",
    "                                F.first(\"price\").alias(\"first\"),\\\n",
    "                                F.last(\"price\").alias(\"last\")\\\n",
    "                              )\n",
    "stockTickDf1Min.printSchema()\n",
    "echoOnconsole = stockTickDf1Min\\\n",
    "                .writeStream\\\n",
    "                .outputMode(\"update\")\\\n",
    "                .format(\"console\")\\\n",
    "                .option(\"truncate\", False)\\\n",
    "                .start() # start the query. spark will subscribe for data\n",
    "\n",
    "# write result to kafka\n",
    "# we need to publish all the field together as value\n",
    "# we take all columns, convert to json string\n",
    "# publish json as value to kafka\n",
    "\n",
    "stockTickDf1MinKafka = stockTickDf1Min\\\n",
    "                            .selectExpr(\"to_json(struct(*)) AS value\")\n",
    "\n",
    "stockTickDf1MinKafka\\\n",
    "            .writeStream\\\n",
    "             .format(\"kafka\")\\\n",
    "            .outputMode(\"update\")\\\n",
    "             .option(\"kafka.bootstrap.servers\", \"localhost:9092\")\\\n",
    "            .option(\"topic\", \"candles-1min\")\\\n",
    "            .option(\"checkpointLocation\", \"file:///tmp/spark3\")\\\n",
    "            .start()\n",
    "            \n",
    "# use kafka console consumer to subscrbe candles-1min, command is given in 2 nd cell"
   ]
  },
  {
   "cell_type": "code",
   "execution_count": null,
   "id": "dec68e87-d2ed-4529-89fe-38b661aad1df",
   "metadata": {},
   "outputs": [],
   "source": []
  }
 ],
 "metadata": {
  "kernelspec": {
   "display_name": "Python 3 (ipykernel)",
   "language": "python",
   "name": "python3"
  },
  "language_info": {
   "codemirror_mode": {
    "name": "ipython",
    "version": 3
   },
   "file_extension": ".py",
   "mimetype": "text/x-python",
   "name": "python",
   "nbconvert_exporter": "python",
   "pygments_lexer": "ipython3",
   "version": "3.8.12"
  }
 },
 "nbformat": 4,
 "nbformat_minor": 5
}

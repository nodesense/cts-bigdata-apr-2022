{
 "cells": [
  {
   "cell_type": "code",
   "execution_count": 1,
   "id": "0b9500b8-4c30-44ca-9afc-6ae953a3d1a1",
   "metadata": {},
   "outputs": [],
   "source": [
    "import os\n",
    "# save using vs code\n",
    "SCALA_VERSION = '2.12'\n",
    "SPARK_VERSION = '3.1.3'\n",
    "# Download Kafka Jar file, this for readStream.format(\"kafka\"), \"kafka\" is a driver\n",
    "# kafka driver code is part of Maven Jar file\n",
    "# https://mvnrepository.com/artifact/org.apache.spark/spark-sql-kafka-0-10_2.12/3.1.3\n",
    "# pyspark-shell shall download the jar file behind..\n",
    "os.environ['PYSPARK_SUBMIT_ARGS'] = f'--packages org.apache.spark:spark-sql-kafka-0-10_{SCALA_VERSION}:{SPARK_VERSION} pyspark-shell'\n"
   ]
  },
  {
   "cell_type": "code",
   "execution_count": 2,
   "id": "ed63cb3a-f523-46d2-9b0a-9a6cd7a58342",
   "metadata": {},
   "outputs": [],
   "source": [
    "# connect kafka with spark with simple word count example\n",
    "# run on a terminal after starting kafka\n",
    "#     kafka-topics  --create --bootstrap-server localhost:9092 --replication-factor 1 --partitions 1 --topic test\n",
    "#     kafka-console-producer --bootstrap-server localhost:9092 --topic test  \n",
    "\n",
    "\n",
    "# here we implement windowed word count, the word count would reset every minute, we fix  5 minute window\n",
    "\n",
    "#     kafka-topics  --create --bootstrap-server localhost:9092 --replication-factor 1 --partitions 1 --topic word-counts-5min \n",
    "#     kafka-console-consumer --bootstrap-server localhost:9092 --topic  word-counts-5min  --from-beginning  \n"
   ]
  },
  {
   "cell_type": "code",
   "execution_count": 3,
   "id": "098ed0b3-05ff-404c-84f6-d7c0165e3709",
   "metadata": {},
   "outputs": [],
   "source": [
    "import findspark\n",
    "findspark.init()"
   ]
  },
  {
   "cell_type": "code",
   "execution_count": 4,
   "id": "ea0090fa-5c07-4022-937a-f6f454059801",
   "metadata": {},
   "outputs": [
    {
     "name": "stderr",
     "output_type": "stream",
     "text": [
      "22/05/25 00:48:14 WARN Utils: Your hostname, ubuntu-virtual-machine resolves to a loopback address: 127.0.1.1; using 192.168.174.129 instead (on interface ens33)\n",
      "22/05/25 00:48:14 WARN Utils: Set SPARK_LOCAL_IP if you need to bind to another address\n"
     ]
    },
    {
     "name": "stdout",
     "output_type": "stream",
     "text": [
      ":: loading settings :: url = jar:file:/opt/spark-3.1.3-bin-hadoop2.7/jars/ivy-2.4.0.jar!/org/apache/ivy/core/settings/ivysettings.xml\n"
     ]
    },
    {
     "name": "stderr",
     "output_type": "stream",
     "text": [
      "Ivy Default Cache set to: /home/ubuntu/.ivy2/cache\n",
      "The jars for the packages stored in: /home/ubuntu/.ivy2/jars\n",
      "org.apache.spark#spark-sql-kafka-0-10_2.12 added as a dependency\n",
      ":: resolving dependencies :: org.apache.spark#spark-submit-parent-3f688fc2-24d7-4789-9e9b-841096968bf7;1.0\n",
      "\tconfs: [default]\n",
      "\tfound org.apache.spark#spark-sql-kafka-0-10_2.12;3.1.3 in central\n",
      "\tfound org.apache.spark#spark-token-provider-kafka-0-10_2.12;3.1.3 in central\n",
      "\tfound org.apache.kafka#kafka-clients;2.6.0 in central\n",
      "\tfound com.github.luben#zstd-jni;1.4.8-1 in central\n",
      "\tfound org.lz4#lz4-java;1.7.1 in central\n",
      "\tfound org.xerial.snappy#snappy-java;1.1.8.2 in central\n",
      "\tfound org.slf4j#slf4j-api;1.7.30 in central\n",
      "\tfound org.spark-project.spark#unused;1.0.0 in central\n",
      "\tfound org.apache.commons#commons-pool2;2.6.2 in central\n",
      ":: resolution report :: resolve 2195ms :: artifacts dl 29ms\n",
      "\t:: modules in use:\n",
      "\tcom.github.luben#zstd-jni;1.4.8-1 from central in [default]\n",
      "\torg.apache.commons#commons-pool2;2.6.2 from central in [default]\n",
      "\torg.apache.kafka#kafka-clients;2.6.0 from central in [default]\n",
      "\torg.apache.spark#spark-sql-kafka-0-10_2.12;3.1.3 from central in [default]\n",
      "\torg.apache.spark#spark-token-provider-kafka-0-10_2.12;3.1.3 from central in [default]\n",
      "\torg.lz4#lz4-java;1.7.1 from central in [default]\n",
      "\torg.slf4j#slf4j-api;1.7.30 from central in [default]\n",
      "\torg.spark-project.spark#unused;1.0.0 from central in [default]\n",
      "\torg.xerial.snappy#snappy-java;1.1.8.2 from central in [default]\n",
      "\t---------------------------------------------------------------------\n",
      "\t|                  |            modules            ||   artifacts   |\n",
      "\t|       conf       | number| search|dwnlded|evicted|| number|dwnlded|\n",
      "\t---------------------------------------------------------------------\n",
      "\t|      default     |   9   |   0   |   0   |   0   ||   9   |   0   |\n",
      "\t---------------------------------------------------------------------\n",
      ":: retrieving :: org.apache.spark#spark-submit-parent-3f688fc2-24d7-4789-9e9b-841096968bf7\n",
      "\tconfs: [default]\n",
      "\t0 artifacts copied, 9 already retrieved (0kB/37ms)\n",
      "22/05/25 00:48:18 WARN NativeCodeLoader: Unable to load native-hadoop library for your platform... using builtin-java classes where applicable\n",
      "Using Spark's default log4j profile: org/apache/spark/log4j-defaults.properties\n",
      "Setting default log level to \"WARN\".\n",
      "To adjust logging level use sc.setLogLevel(newLevel). For SparkR, use setLogLevel(newLevel).\n"
     ]
    }
   ],
   "source": [
    "import pyspark\n",
    "\n",
    "\n",
    "from pyspark.sql import SparkSession\n",
    "# spark groupBy has default setting for spark.sql.shuffle.partitions as 200\n",
    "# we set to  4, should NOT be done in production \n",
    "spark = SparkSession.builder.master(\"local[1]\")\\\n",
    "                            .config('spark.sql.shuffle.partitions', 4)\\\n",
    "                            .appName(\"SparkStreamingKafkaBasic\").getOrCreate()"
   ]
  },
  {
   "cell_type": "code",
   "execution_count": 5,
   "id": "a0d8d269-dfa7-420c-9722-e07b3abfd4b7",
   "metadata": {},
   "outputs": [],
   "source": [
    "# read from kafka, here spark is consumer for kafka topic called test\n",
    "# spark streaming works as dataframe/sql\n",
    "# group.id is consumer group id\n",
    "# subcribe is kafka topic\n",
    "# \"kafka\" driver is not available by default with spark, we need to download it, we did on cell 1\n",
    "\n",
    "kafkaDf = spark.readStream.format(\"kafka\")\\\n",
    "  .option(\"kafka.bootstrap.servers\", \"localhost:9092\")\\\n",
    "  .option(\"subscribe\", \"test\")\\\n",
    "  .option(\"group.id\", \"wordcount-group\")\\\n",
    "  .load()"
   ]
  },
  {
   "cell_type": "code",
   "execution_count": 6,
   "id": "e550ca07-992b-4713-bc1d-2fbd5f6f6c34",
   "metadata": {},
   "outputs": [
    {
     "name": "stdout",
     "output_type": "stream",
     "text": [
      "root\n",
      " |-- key: binary (nullable = true)\n",
      " |-- value: binary (nullable = true)\n",
      " |-- topic: string (nullable = true)\n",
      " |-- partition: integer (nullable = true)\n",
      " |-- offset: long (nullable = true)\n",
      " |-- timestamp: timestamp (nullable = true)\n",
      " |-- timestampType: integer (nullable = true)\n",
      "\n"
     ]
    }
   ],
   "source": [
    "# key and value are binary type, we need to CAST To STRING type\n",
    "kafkaDf.printSchema()\n",
    "# timestampType values\n",
    "# CreateTime:  Timestamp relates to message creation time as set by a Kafka client/producer\n",
    "# LogAppendTime : Timestamp relates to the time a message was appended to a Kafka log.\n",
    "# UnknownType"
   ]
  },
  {
   "cell_type": "code",
   "execution_count": 7,
   "id": "d47edb03-53d5-4ee5-8fcc-d9d66c496cfa",
   "metadata": {},
   "outputs": [
    {
     "name": "stdout",
     "output_type": "stream",
     "text": [
      "root\n",
      " |-- value: string (nullable = true)\n",
      " |-- timestamp: timestamp (nullable = true)\n",
      "\n"
     ]
    }
   ],
   "source": [
    "# Kafka value, key are in binary format\n",
    "# we need to type cast to STRING, \n",
    "# we pick only value, timestamp as we need for 5 minute window\n",
    "linesDf = kafkaDf.selectExpr(\"CAST(value AS STRING)\", \"timestamp\")\n",
    "linesDf.printSchema() # we get only value as string"
   ]
  },
  {
   "cell_type": "code",
   "execution_count": 8,
   "id": "f63a8c90-d64b-4a41-9d14-44ab1062eb82",
   "metadata": {},
   "outputs": [
    {
     "name": "stdout",
     "output_type": "stream",
     "text": [
      "root\n",
      " |-- word: string (nullable = true)\n",
      " |-- timestamp: timestamp (nullable = true)\n",
      "\n",
      "root\n",
      " |-- word: string (nullable = true)\n",
      " |-- window: struct (nullable = false)\n",
      " |    |-- start: timestamp (nullable = true)\n",
      " |    |-- end: timestamp (nullable = true)\n",
      " |-- count: long (nullable = false)\n",
      "\n"
     ]
    }
   ],
   "source": [
    "# THUMBLING WINDOW \n",
    "# Also known as NON OVERLAPPING WINDOW\n",
    "# No duplicate data processing\n",
    "# window(\"5 minutes\") Thumbling Window [No Slide Time mentioned]\n",
    "\n",
    "import pyspark.sql.functions as F\n",
    "# split line into word list\n",
    "# flatten word list into individual element as output, similar to flatMap\n",
    "\n",
    "wordsDf = linesDf.select(F.explode(F.split(linesDf.value,\" \")).alias(\"word\"), \"timestamp\" )\n",
    "wordsDf.printSchema()\n",
    "# apply 5 Minute Window\n",
    "# groupBy can be useful to mention more columns, we are 1 minute window as another group by\n",
    "# within minute, the count start from 0, goes on based on number words\n",
    "# Thumbling Window\n",
    "wordCountsDf = wordsDf.groupBy(\"word\", F.window(wordsDf.timestamp, \"5 minutes\")).count()\n",
    "wordCountsDf.printSchema()"
   ]
  },
  {
   "cell_type": "code",
   "execution_count": 9,
   "id": "252404da-baa4-41f3-9afe-eee2c44b44ed",
   "metadata": {},
   "outputs": [
    {
     "name": "stderr",
     "output_type": "stream",
     "text": [
      "22/05/25 00:51:33 WARN StreamingQueryManager: Temporary checkpoint location created which is deleted normally when the query didn't fail: /tmp/temporary-5adfc41e-7e82-424b-ad2e-5aa0075ac029. If it's required to delete it under any circumstances, please set spark.sql.streaming.forceDeleteTempCheckpointLocation to true. Important to know deleting temp checkpoint folder is best effort.\n",
      "22/05/25 00:51:36 WARN NetworkClient: [Consumer clientId=consumer-spark-kafka-source-9686d3c0-7115-463a-8f73-475aa3907251-1308792722-driver-0-1, groupId=spark-kafka-source-9686d3c0-7115-463a-8f73-475aa3907251-1308792722-driver-0] Error while fetching metadata with correlation id 2 : {test=LEADER_NOT_AVAILABLE}\n",
      "22/05/25 00:51:36 WARN NetworkClient: [Consumer clientId=consumer-spark-kafka-source-9686d3c0-7115-463a-8f73-475aa3907251-1308792722-driver-0-1, groupId=spark-kafka-source-9686d3c0-7115-463a-8f73-475aa3907251-1308792722-driver-0] Error while fetching metadata with correlation id 6 : {test=LEADER_NOT_AVAILABLE}\n",
      "22/05/25 00:51:36 WARN ConsumerCoordinator: [Consumer clientId=consumer-spark-kafka-source-9686d3c0-7115-463a-8f73-475aa3907251-1308792722-driver-0-1, groupId=spark-kafka-source-9686d3c0-7115-463a-8f73-475aa3907251-1308792722-driver-0] The following subscribed topics are not assigned to any members: [test] \n",
      "[Stage 1:>                                                          (0 + 1) / 4]\r"
     ]
    }
   ],
   "source": [
    "echoOnconsole = wordCountsDf\\\n",
    "                .writeStream\\\n",
    "                .outputMode(\"complete\")\\\n",
    "                .format(\"console\")\\\n",
    "                .start() # start the query. spark will subscribe for data"
   ]
  },
  {
   "cell_type": "code",
   "execution_count": 10,
   "id": "a46f6706-c43f-4c8d-90f2-c146405f3abe",
   "metadata": {},
   "outputs": [
    {
     "name": "stdout",
     "output_type": "stream",
     "text": [
      "root\n",
      " |-- value: string (nullable = true)\n",
      "\n"
     ]
    },
    {
     "name": "stderr",
     "output_type": "stream",
     "text": [
      "                                                                                \r"
     ]
    },
    {
     "name": "stdout",
     "output_type": "stream",
     "text": [
      "-------------------------------------------\n",
      "Batch: 0\n",
      "-------------------------------------------\n",
      "+----+------+-----+\n",
      "|word|window|count|\n",
      "+----+------+-----+\n",
      "+----+------+-----+\n",
      "\n"
     ]
    },
    {
     "name": "stderr",
     "output_type": "stream",
     "text": [
      "                                                                                \r"
     ]
    },
    {
     "name": "stdout",
     "output_type": "stream",
     "text": [
      "-------------------------------------------\n",
      "Batch: 1\n",
      "-------------------------------------------\n",
      "+----+------+-----+\n",
      "|word|window|count|\n",
      "+----+------+-----+\n",
      "+----+------+-----+\n",
      "\n"
     ]
    }
   ],
   "source": [
    "# now publish the word count result (word, count columns) to kafka topic \"word-counts\", publish as json format\n",
    "# {\"word\": \"kafka\", \"count\": 8}\n",
    "\n",
    "# F is alias for all functions, we can access col by F.col \n",
    "import pyspark.sql.functions as F\n",
    "\n",
    "# convert all the columns into json\n",
    "# * represent all columns ie word, count, \n",
    "# struct create a structure around word, count columns\n",
    "# to json convert structure to column\n",
    "# value is Kafka value part of message\n",
    "wordCountsToKafkaDf = wordCountsDf\\\n",
    "                    .selectExpr(\"to_json(struct(*)) as value\")\n",
    "\n",
    "wordCountsToKafkaDf.printSchema()"
   ]
  },
  {
   "cell_type": "code",
   "execution_count": 11,
   "id": "4c51c791-9e98-4551-b5d4-e65e32c31cda",
   "metadata": {},
   "outputs": [
    {
     "data": {
      "text/plain": [
       "<pyspark.sql.streaming.StreamingQuery at 0x7f22943ac730>"
      ]
     },
     "execution_count": 11,
     "metadata": {},
     "output_type": "execute_result"
    },
    {
     "name": "stderr",
     "output_type": "stream",
     "text": [
      "                                                                                \r"
     ]
    },
    {
     "name": "stdout",
     "output_type": "stream",
     "text": [
      "-------------------------------------------\n",
      "Batch: 2\n",
      "-------------------------------------------\n",
      "+-----+--------------------+-----+\n",
      "| word|              window|count|\n",
      "+-----+--------------------+-----+\n",
      "|kafka|{2022-05-25 00:55...|    1|\n",
      "|spark|{2022-05-25 00:55...|    1|\n",
      "+-----+--------------------+-----+\n",
      "\n"
     ]
    },
    {
     "name": "stderr",
     "output_type": "stream",
     "text": [
      "22/05/25 00:55:11 WARN NetworkClient: [Producer clientId=producer-1] Error while fetching metadata with correlation id 1 : {word-counts-5min=LEADER_NOT_AVAILABLE}\n",
      "22/05/25 00:55:12 WARN NetworkClient: [Producer clientId=producer-1] Error while fetching metadata with correlation id 3 : {word-counts-5min=LEADER_NOT_AVAILABLE}\n",
      "                                                                                \r"
     ]
    },
    {
     "name": "stdout",
     "output_type": "stream",
     "text": [
      "-------------------------------------------\n",
      "Batch: 3\n",
      "-------------------------------------------\n",
      "+-----+--------------------+-----+\n",
      "| word|              window|count|\n",
      "+-----+--------------------+-----+\n",
      "|kafka|{2022-05-25 00:55...|    2|\n",
      "|spark|{2022-05-25 00:55...|    2|\n",
      "+-----+--------------------+-----+\n",
      "\n"
     ]
    },
    {
     "name": "stderr",
     "output_type": "stream",
     "text": [
      "                                                                                \r"
     ]
    },
    {
     "name": "stdout",
     "output_type": "stream",
     "text": [
      "-------------------------------------------\n",
      "Batch: 4\n",
      "-------------------------------------------\n",
      "+------+--------------------+-----+\n",
      "|  word|              window|count|\n",
      "+------+--------------------+-----+\n",
      "| kafka|{2022-05-25 00:55...|    2|\n",
      "|apache|{2022-05-25 00:55...|    1|\n",
      "| spark|{2022-05-25 00:55...|    2|\n",
      "+------+--------------------+-----+\n",
      "\n"
     ]
    },
    {
     "name": "stderr",
     "output_type": "stream",
     "text": [
      "                                                                                \r"
     ]
    },
    {
     "name": "stdout",
     "output_type": "stream",
     "text": [
      "-------------------------------------------\n",
      "Batch: 5\n",
      "-------------------------------------------\n",
      "+------+--------------------+-----+\n",
      "|  word|              window|count|\n",
      "+------+--------------------+-----+\n",
      "| kafka|{2022-05-25 00:55...|    2|\n",
      "|apache|{2022-05-25 00:55...|    1|\n",
      "| spark|{2022-05-25 00:55...|    3|\n",
      "+------+--------------------+-----+\n",
      "\n"
     ]
    },
    {
     "name": "stderr",
     "output_type": "stream",
     "text": [
      "                                                                                \r"
     ]
    },
    {
     "name": "stdout",
     "output_type": "stream",
     "text": [
      "-------------------------------------------\n",
      "Batch: 6\n",
      "-------------------------------------------\n",
      "+------+--------------------+-----+\n",
      "|  word|              window|count|\n",
      "+------+--------------------+-----+\n",
      "| kafka|{2022-05-25 00:55...|    2|\n",
      "|apache|{2022-05-25 00:55...|    2|\n",
      "| spark|{2022-05-25 00:55...|    3|\n",
      "+------+--------------------+-----+\n",
      "\n"
     ]
    },
    {
     "name": "stderr",
     "output_type": "stream",
     "text": [
      "                                                                                \r"
     ]
    },
    {
     "name": "stdout",
     "output_type": "stream",
     "text": [
      "-------------------------------------------\n",
      "Batch: 7\n",
      "-------------------------------------------\n",
      "+------+--------------------+-----+\n",
      "|  word|              window|count|\n",
      "+------+--------------------+-----+\n",
      "| kafka|{2022-05-25 00:55...|    3|\n",
      "|apache|{2022-05-25 00:55...|    3|\n",
      "| spark|{2022-05-25 00:55...|    4|\n",
      "+------+--------------------+-----+\n",
      "\n"
     ]
    },
    {
     "name": "stderr",
     "output_type": "stream",
     "text": [
      "                                                                                \r"
     ]
    },
    {
     "name": "stdout",
     "output_type": "stream",
     "text": [
      "-------------------------------------------\n",
      "Batch: 8\n",
      "-------------------------------------------\n",
      "+------+--------------------+-----+\n",
      "|  word|              window|count|\n",
      "+------+--------------------+-----+\n",
      "| kafka|{2022-05-25 00:55...|    3|\n",
      "|apache|{2022-05-25 00:55...|    3|\n",
      "| spark|{2022-05-25 00:55...|    4|\n",
      "| kafka|{2022-05-25 01:00...|    1|\n",
      "|apache|{2022-05-25 01:00...|    1|\n",
      "| spark|{2022-05-25 01:00...|    1|\n",
      "+------+--------------------+-----+\n",
      "\n"
     ]
    },
    {
     "name": "stderr",
     "output_type": "stream",
     "text": [
      "                                                                                \r"
     ]
    },
    {
     "name": "stdout",
     "output_type": "stream",
     "text": [
      "-------------------------------------------\n",
      "Batch: 9\n",
      "-------------------------------------------\n",
      "+------+--------------------+-----+\n",
      "|  word|              window|count|\n",
      "+------+--------------------+-----+\n",
      "|  java|{2022-05-25 01:00...|    1|\n",
      "| kafka|{2022-05-25 00:55...|    3|\n",
      "|apache|{2022-05-25 00:55...|    3|\n",
      "| spark|{2022-05-25 00:55...|    4|\n",
      "| kafka|{2022-05-25 01:00...|    2|\n",
      "|apache|{2022-05-25 01:00...|    1|\n",
      "| spark|{2022-05-25 01:00...|    2|\n",
      "+------+--------------------+-----+\n",
      "\n"
     ]
    }
   ],
   "source": [
    "# checkpointLocation is for storing local state, for system restart, system failure in between\n",
    "# ensure to run kafka console consumer for topic \"word-counts-5min, commands are present in top of file\n",
    "wordCountsToKafkaDf.writeStream.format(\"kafka\")\\\n",
    "                    .outputMode(\"complete\")\\\n",
    "                     .option(\"kafka.bootstrap.servers\", \"localhost:9092\")\\\n",
    "                    .option(\"topic\", \"word-counts-5min\")\\\n",
    "                    .option(\"checkpointLocation\", \"file:///tmp/spark22\")\\\n",
    "                    .start()\n",
    "                    "
   ]
  },
  {
   "cell_type": "code",
   "execution_count": null,
   "id": "85d441fb-a61e-4f44-bc4f-fcff23bf90f7",
   "metadata": {},
   "outputs": [],
   "source": []
  }
 ],
 "metadata": {
  "kernelspec": {
   "display_name": "Python 3 (ipykernel)",
   "language": "python",
   "name": "python3"
  },
  "language_info": {
   "codemirror_mode": {
    "name": "ipython",
    "version": 3
   },
   "file_extension": ".py",
   "mimetype": "text/x-python",
   "name": "python",
   "nbconvert_exporter": "python",
   "pygments_lexer": "ipython3",
   "version": "3.8.12"
  }
 },
 "nbformat": 4,
 "nbformat_minor": 5
}

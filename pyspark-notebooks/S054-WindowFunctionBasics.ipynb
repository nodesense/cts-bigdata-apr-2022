{
 "cells": [
  {
   "cell_type": "code",
   "execution_count": 1,
   "id": "05ce193f-20ec-4532-baa4-8af2ea837e46",
   "metadata": {},
   "outputs": [],
   "source": [
    "import findspark\n",
    "findspark.init()"
   ]
  },
  {
   "cell_type": "code",
   "execution_count": 2,
   "id": "4dddc3b0-f19b-4818-9e1e-375a1a3e022e",
   "metadata": {},
   "outputs": [
    {
     "name": "stderr",
     "output_type": "stream",
     "text": [
      "22/05/10 00:07:00 WARN Utils: Your hostname, ubuntu-virtual-machine resolves to a loopback address: 127.0.1.1; using 192.168.174.129 instead (on interface ens33)\n",
      "22/05/10 00:07:00 WARN Utils: Set SPARK_LOCAL_IP if you need to bind to another address\n",
      "22/05/10 00:07:03 WARN NativeCodeLoader: Unable to load native-hadoop library for your platform... using builtin-java classes where applicable\n",
      "Using Spark's default log4j profile: org/apache/spark/log4j-defaults.properties\n",
      "Setting default log level to \"WARN\".\n",
      "To adjust logging level use sc.setLogLevel(newLevel). For SparkR, use setLogLevel(newLevel).\n",
      "22/05/10 00:07:12 WARN Utils: Service 'SparkUI' could not bind on port 4040. Attempting port 4041.\n",
      "22/05/10 00:07:12 WARN Utils: Service 'SparkUI' could not bind on port 4041. Attempting port 4042.\n",
      "22/05/10 00:07:12 WARN Utils: Service 'SparkUI' could not bind on port 4042. Attempting port 4043.\n",
      "22/05/10 00:07:12 WARN Utils: Service 'SparkUI' could not bind on port 4043. Attempting port 4044.\n",
      "22/05/10 00:07:12 WARN Utils: Service 'SparkUI' could not bind on port 4044. Attempting port 4045.\n"
     ]
    }
   ],
   "source": [
    "from pyspark.conf import SparkConf\n",
    "config = SparkConf()\n",
    "# config.set(\"property\", \"value\")\n",
    "config.setMaster(\"local[4]\").setAppName(\"WindowFunction\")\n",
    "\n",
    "from pyspark.sql import SparkSession\n",
    "# spark Session, entry point for Spark SQL, DataFrame\n",
    "spark = SparkSession.builder\\\n",
    "                    .config(conf=config)\\\n",
    "                    .getOrCreate()\n",
    "\n",
    "sc = spark.sparkContext"
   ]
  },
  {
   "cell_type": "code",
   "execution_count": 16,
   "id": "c425b3ff-09ab-48a1-95f4-c16cd2e3377d",
   "metadata": {},
   "outputs": [
    {
     "name": "stdout",
     "output_type": "stream",
     "text": [
      "root\n",
      " |-- name: string (nullable = true)\n",
      " |-- dept: string (nullable = true)\n",
      " |-- salary: long (nullable = true)\n",
      "\n",
      "+-------+---------+------+\n",
      "|   name|     dept|salary|\n",
      "+-------+---------+------+\n",
      "|  James|    Sales|  3000|\n",
      "|Michael|    Sales|  4600|\n",
      "| Robert|    Sales|  4100|\n",
      "|  Maria|  Finance|  3000|\n",
      "|  James|    Sales|  3000|\n",
      "|  Scott|  Finance|  3300|\n",
      "|    Jen|  Finance|  3900|\n",
      "|   Jeff|Marketing|  3000|\n",
      "|  Kumar|Marketing|  2000|\n",
      "|   Saif|    Sales|  4100|\n",
      "|    Joe|    Sales|  4200|\n",
      "| Venkat|    Sales|  4000|\n",
      "+-------+---------+------+\n",
      "\n"
     ]
    },
    {
     "data": {
      "text/plain": [
       "4"
      ]
     },
     "execution_count": 16,
     "metadata": {},
     "output_type": "execute_result"
    }
   ],
   "source": [
    "data = [ (\"James\", \"Sales\", 3000),\n",
    "    (\"Michael\", \"Sales\", 4600),\n",
    "    (\"Robert\", \"Sales\", 4100),\n",
    "    (\"Maria\", \"Finance\", 3000),\n",
    "    (\"James\", \"Sales\", 3000),\n",
    "    (\"Scott\", \"Finance\", 3300),\n",
    "    (\"Jen\", \"Finance\", 3900),\n",
    "    (\"Jeff\", \"Marketing\", 3000),\n",
    "    (\"Kumar\", \"Marketing\", 2000),\n",
    "    (\"Saif\", \"Sales\", 4100),\n",
    "    (\"Joe\", \"Sales\", 4200),\n",
    "    (\"Venkat\", \"Sales\", 4000),\n",
    "        \n",
    "   ]\n",
    "\n",
    "empDf = spark.createDataFrame(data=data, schema=['name', 'dept', 'salary'])\n",
    "empDf.printSchema()\n",
    "empDf.show()\n",
    "\n",
    "empDf.rdd.getNumPartitions()"
   ]
  },
  {
   "cell_type": "code",
   "execution_count": 4,
   "id": "521942e7-d99a-4b8d-b5fc-a71d7f77b700",
   "metadata": {},
   "outputs": [
    {
     "name": "stderr",
     "output_type": "stream",
     "text": [
      "                                                                                \r"
     ]
    },
    {
     "data": {
      "text/plain": [
       "[[Row(name='James', dept='Sales', salary=3000),\n",
       "  Row(name='Michael', dept='Sales', salary=4600)],\n",
       " [Row(name='Robert', dept='Sales', salary=4100),\n",
       "  Row(name='Maria', dept='Finance', salary=3000)],\n",
       " [Row(name='James', dept='Sales', salary=3000),\n",
       "  Row(name='Scott', dept='Finance', salary=3300)],\n",
       " [Row(name='Jen', dept='Finance', salary=3900),\n",
       "  Row(name='Jeff', dept='Marketing', salary=3000),\n",
       "  Row(name='Kumar', dept='Marketing', salary=2000),\n",
       "  Row(name='Saif', dept='Sales', salary=4100)]]"
      ]
     },
     "execution_count": 4,
     "metadata": {},
     "output_type": "execute_result"
    }
   ],
   "source": [
    "empDf.rdd.glom().collect()"
   ]
  },
  {
   "cell_type": "code",
   "execution_count": 5,
   "id": "91fc9008-817b-4380-b78d-0c4c37d78202",
   "metadata": {},
   "outputs": [
    {
     "name": "stderr",
     "output_type": "stream",
     "text": [
      "                                                                                \r"
     ]
    }
   ],
   "source": [
    "empDf.write.option(\"header\", True)\\\n",
    "  .partitionBy(\"dept\")\\\n",
    "  .csv(\"/home/ubuntu/employees\")"
   ]
  },
  {
   "cell_type": "code",
   "execution_count": 10,
   "id": "1ac0b033-393e-4f84-93ec-affc97b7340f",
   "metadata": {},
   "outputs": [
    {
     "name": "stdout",
     "output_type": "stream",
     "text": [
      "root\n",
      " |-- name: string (nullable = true)\n",
      " |-- dept: string (nullable = true)\n",
      " |-- salary: long (nullable = true)\n",
      " |-- slno: integer (nullable = true)\n",
      "\n"
     ]
    },
    {
     "name": "stderr",
     "output_type": "stream",
     "text": [
      "                                                                                \r"
     ]
    },
    {
     "name": "stdout",
     "output_type": "stream",
     "text": [
      "+-------+---------+------+----+\n",
      "|   name|     dept|salary|slno|\n",
      "+-------+---------+------+----+\n",
      "|  James|    Sales|  3000|   1|\n",
      "|  James|    Sales|  3000|   2|\n",
      "| Robert|    Sales|  4100|   3|\n",
      "|   Saif|    Sales|  4100|   4|\n",
      "|Michael|    Sales|  4600|   5|\n",
      "|  Maria|  Finance|  3000|   1|\n",
      "|  Scott|  Finance|  3300|   2|\n",
      "|    Jen|  Finance|  3900|   3|\n",
      "|  Kumar|Marketing|  2000|   1|\n",
      "|   Jeff|Marketing|  3000|   2|\n",
      "+-------+---------+------+----+\n",
      "\n"
     ]
    },
    {
     "name": "stderr",
     "output_type": "stream",
     "text": [
      "[Stage 93:===============================================>        (63 + 7) / 75]\r"
     ]
    },
    {
     "name": "stdout",
     "output_type": "stream",
     "text": [
      "+-----+---------+------+----+\n",
      "| name|     dept|salary|slno|\n",
      "+-----+---------+------+----+\n",
      "|James|    Sales|  3000|   1|\n",
      "|Maria|  Finance|  3000|   1|\n",
      "|Kumar|Marketing|  2000|   1|\n",
      "+-----+---------+------+----+\n",
      "\n"
     ]
    },
    {
     "name": "stderr",
     "output_type": "stream",
     "text": [
      "                                                                                \r"
     ]
    }
   ],
   "source": [
    "from pyspark.sql.window import Window\n",
    "from pyspark.sql.functions import row_number\n",
    "\n",
    "# specification for window, partitions, functions that should be applied on partition\n",
    "# with in department, order the data based on salary in ascending order\n",
    "windowSpec = Window.partitionBy(\"dept\").orderBy(\"salary\")\n",
    "# we have apply the spec on dataframe\n",
    "df = empDf.withColumn(\"slno\", row_number().over(windowSpec))\n",
    "\n",
    "df.printSchema()\n",
    "df.show()\n",
    "\n",
    "df.filter (df.slno == 1).show()"
   ]
  },
  {
   "cell_type": "code",
   "execution_count": 11,
   "id": "6aafacf1-81b9-45eb-947e-b565ee7df6cb",
   "metadata": {},
   "outputs": [
    {
     "name": "stderr",
     "output_type": "stream",
     "text": [
      "                                                                                \r"
     ]
    },
    {
     "name": "stdout",
     "output_type": "stream",
     "text": [
      "+-------+---------+------+----+\n",
      "|   name|     dept|salary|rank|\n",
      "+-------+---------+------+----+\n",
      "|  James|    Sales|  3000|   1|\n",
      "|  James|    Sales|  3000|   1|\n",
      "| Robert|    Sales|  4100|   3|\n",
      "|   Saif|    Sales|  4100|   3|\n",
      "|Michael|    Sales|  4600|   5|\n",
      "|  Maria|  Finance|  3000|   1|\n",
      "|  Scott|  Finance|  3300|   2|\n",
      "|    Jen|  Finance|  3900|   3|\n",
      "|  Kumar|Marketing|  2000|   1|\n",
      "|   Jeff|Marketing|  3000|   2|\n",
      "+-------+---------+------+----+\n",
      "\n"
     ]
    },
    {
     "name": "stderr",
     "output_type": "stream",
     "text": [
      "                                                                                \r"
     ]
    }
   ],
   "source": [
    "from pyspark.sql.window import Window\n",
    "from pyspark.sql.functions import rank\n",
    "\n",
    "# rank with gap with ascending order\n",
    "\"\"\"\n",
    "score  rank\n",
    "90      1\n",
    "90      1\n",
    "89      3  [gap, 2 not included]\n",
    "\"\"\"\n",
    "windowSpec = Window.partitionBy(\"dept\").orderBy(\"salary\")\n",
    "\n",
    "df = empDf.withColumn(\"rank\", rank().over(windowSpec))\n",
    "df.show()"
   ]
  },
  {
   "cell_type": "code",
   "execution_count": 12,
   "id": "cf05a71a-11af-46eb-91bc-f643e08aca7f",
   "metadata": {},
   "outputs": [
    {
     "name": "stderr",
     "output_type": "stream",
     "text": [
      "                                                                                \r"
     ]
    },
    {
     "name": "stdout",
     "output_type": "stream",
     "text": [
      "+-------+---------+------+----+\n",
      "|   name|     dept|salary|rank|\n",
      "+-------+---------+------+----+\n",
      "|Michael|    Sales|  4600|   1|\n",
      "| Robert|    Sales|  4100|   2|\n",
      "|   Saif|    Sales|  4100|   2|\n",
      "|  James|    Sales|  3000|   4|\n",
      "|  James|    Sales|  3000|   4|\n",
      "|    Jen|  Finance|  3900|   1|\n",
      "|  Scott|  Finance|  3300|   2|\n",
      "|  Maria|  Finance|  3000|   3|\n",
      "|   Jeff|Marketing|  3000|   1|\n",
      "|  Kumar|Marketing|  2000|   2|\n",
      "+-------+---------+------+----+\n",
      "\n"
     ]
    },
    {
     "name": "stderr",
     "output_type": "stream",
     "text": [
      "                                                                                \r"
     ]
    }
   ],
   "source": [
    "from pyspark.sql.window import Window\n",
    "from pyspark.sql.functions import rank, desc\n",
    "\n",
    "# rank with gap\n",
    "\"\"\"\n",
    "score  rank\n",
    "90      1\n",
    "90      1\n",
    "89      3  [gap, 2 not included]\n",
    "\"\"\"\n",
    "windowSpec = Window.partitionBy(\"dept\").orderBy(desc(\"salary\"))\n",
    "\n",
    "df = empDf.withColumn(\"rank\", rank().over(windowSpec))\n",
    "df.show()"
   ]
  },
  {
   "cell_type": "code",
   "execution_count": 13,
   "id": "25768961-8cf4-4a9b-a998-c2402b4e6ff8",
   "metadata": {},
   "outputs": [
    {
     "name": "stderr",
     "output_type": "stream",
     "text": [
      "                                                                                \r"
     ]
    },
    {
     "name": "stdout",
     "output_type": "stream",
     "text": [
      "+-------+---------+------+----+\n",
      "|   name|     dept|salary|rank|\n",
      "+-------+---------+------+----+\n",
      "|Michael|    Sales|  4600|   1|\n",
      "| Robert|    Sales|  4100|   2|\n",
      "|   Saif|    Sales|  4100|   2|\n",
      "|  James|    Sales|  3000|   3|\n",
      "|  James|    Sales|  3000|   3|\n",
      "|    Jen|  Finance|  3900|   1|\n",
      "|  Scott|  Finance|  3300|   2|\n",
      "|  Maria|  Finance|  3000|   3|\n",
      "|   Jeff|Marketing|  3000|   1|\n",
      "|  Kumar|Marketing|  2000|   2|\n",
      "+-------+---------+------+----+\n",
      "\n"
     ]
    },
    {
     "name": "stderr",
     "output_type": "stream",
     "text": [
      "                                                                                \r"
     ]
    }
   ],
   "source": [
    "from pyspark.sql.window import Window\n",
    "from pyspark.sql.functions import dense_rank, desc\n",
    "\n",
    "# dense_rank ranking without gap\n",
    "\"\"\"\n",
    "score  rank\n",
    "90      1\n",
    "90      1\n",
    "89      2  \n",
    "\"\"\"\n",
    "windowSpec = Window.partitionBy(\"dept\").orderBy(desc(\"salary\"))\n",
    "\n",
    "df = empDf.withColumn(\"rank\", dense_rank().over(windowSpec))\n",
    "df.show()"
   ]
  },
  {
   "cell_type": "code",
   "execution_count": 14,
   "id": "6974943e-5533-4c62-9368-276660e0da96",
   "metadata": {},
   "outputs": [
    {
     "name": "stderr",
     "output_type": "stream",
     "text": [
      "                                                                                \r"
     ]
    },
    {
     "name": "stdout",
     "output_type": "stream",
     "text": [
      "+-------+---------+------+----+\n",
      "|   name|     dept|salary|rank|\n",
      "+-------+---------+------+----+\n",
      "|Michael|    Sales|  4600| 0.0|\n",
      "| Robert|    Sales|  4100|0.25|\n",
      "|   Saif|    Sales|  4100|0.25|\n",
      "|  James|    Sales|  3000|0.75|\n",
      "|  James|    Sales|  3000|0.75|\n",
      "|    Jen|  Finance|  3900| 0.0|\n",
      "|  Scott|  Finance|  3300| 0.5|\n",
      "|  Maria|  Finance|  3000| 1.0|\n",
      "|   Jeff|Marketing|  3000| 0.0|\n",
      "|  Kumar|Marketing|  2000| 1.0|\n",
      "+-------+---------+------+----+\n",
      "\n"
     ]
    },
    {
     "name": "stderr",
     "output_type": "stream",
     "text": [
      "                                                                                \r"
     ]
    }
   ],
   "source": [
    "from pyspark.sql.window import Window\n",
    "from pyspark.sql.functions import percent_rank, desc\n",
    "\n",
    "# percent_rank ranking with perecent calculation\n",
    "\"\"\"\n",
    " \n",
    "\"\"\"\n",
    "windowSpec = Window.partitionBy(\"dept\").orderBy(desc(\"salary\"))\n",
    "\n",
    "df = empDf.withColumn(\"rank\", percent_rank().over(windowSpec))\n",
    "df.show()"
   ]
  },
  {
   "cell_type": "code",
   "execution_count": 19,
   "id": "b18f4ad2-73d1-40ac-be6c-78bb81416a15",
   "metadata": {},
   "outputs": [
    {
     "name": "stderr",
     "output_type": "stream",
     "text": [
      "[Stage 175:==================================================>   (93 + 4) / 100]\r"
     ]
    },
    {
     "name": "stdout",
     "output_type": "stream",
     "text": [
      "+-------+---------+------+----+\n",
      "|   name|     dept|salary|rank|\n",
      "+-------+---------+------+----+\n",
      "|Michael|    Sales|  4600|   1|\n",
      "|    Joe|    Sales|  4200|   1|\n",
      "| Robert|    Sales|  4100|   2|\n",
      "|   Saif|    Sales|  4100|   2|\n",
      "| Venkat|    Sales|  4000|   3|\n",
      "|  James|    Sales|  3000|   3|\n",
      "|  James|    Sales|  3000|   4|\n",
      "|    Jen|  Finance|  3900|   1|\n",
      "|  Scott|  Finance|  3300|   2|\n",
      "|  Maria|  Finance|  3000|   3|\n",
      "|   Jeff|Marketing|  3000|   1|\n",
      "|  Kumar|Marketing|  2000|   2|\n",
      "+-------+---------+------+----+\n",
      "\n"
     ]
    },
    {
     "name": "stderr",
     "output_type": "stream",
     "text": [
      "                                                                                \r"
     ]
    }
   ],
   "source": [
    "from pyspark.sql.window import Window\n",
    "from pyspark.sql.functions import ntile, desc\n",
    "\n",
    "# ntile ranking with related certain range for range\n",
    "# rank shall fit into a range\n",
    "\"\"\"\n",
    " \n",
    "\"\"\"\n",
    "windowSpec = Window.partitionBy(\"dept\").orderBy(desc(\"salary\"))\n",
    "\n",
    "df = empDf.withColumn(\"rank\", ntile(4).over(windowSpec))\n",
    "df.show()"
   ]
  },
  {
   "cell_type": "code",
   "execution_count": 20,
   "id": "75d9e3ac-5265-49d0-b94d-ee5bd3c8833b",
   "metadata": {},
   "outputs": [
    {
     "name": "stderr",
     "output_type": "stream",
     "text": [
      "                                                                                \r"
     ]
    },
    {
     "name": "stdout",
     "output_type": "stream",
     "text": [
      "+-------+---------+------+-------------------+\n",
      "|   name|     dept|salary|          cume_dist|\n",
      "+-------+---------+------+-------------------+\n",
      "|Michael|    Sales|  4600|0.14285714285714285|\n",
      "|    Joe|    Sales|  4200| 0.2857142857142857|\n",
      "| Robert|    Sales|  4100| 0.5714285714285714|\n",
      "|   Saif|    Sales|  4100| 0.5714285714285714|\n",
      "| Venkat|    Sales|  4000| 0.7142857142857143|\n",
      "|  James|    Sales|  3000|                1.0|\n",
      "|  James|    Sales|  3000|                1.0|\n",
      "|    Jen|  Finance|  3900| 0.3333333333333333|\n",
      "|  Scott|  Finance|  3300| 0.6666666666666666|\n",
      "|  Maria|  Finance|  3000|                1.0|\n",
      "|   Jeff|Marketing|  3000|                0.5|\n",
      "|  Kumar|Marketing|  2000|                1.0|\n",
      "+-------+---------+------+-------------------+\n",
      "\n"
     ]
    },
    {
     "name": "stderr",
     "output_type": "stream",
     "text": [
      "                                                                                \r"
     ]
    }
   ],
   "source": [
    "# Analytic functions\n",
    "# Cumulative distribution - similar to rank, calcualted and values are bound between \n",
    "# 0 and 1\n",
    "\n",
    "# 10 USD per share => 13 USD per share      = 3 USD per share, 30 % gain .3\n",
    "# 100 USD per share => 110 USD per share    = 10 USD per share, 10% gain .1\n",
    "# cumulative distribution\n",
    "from pyspark.sql.window import Window\n",
    "from pyspark.sql.functions import cume_dist, desc\n",
    "\n",
    "# similar to  rank  \n",
    " \n",
    "windowSpec = Window.partitionBy(\"dept\").orderBy(desc(\"salary\"))\n",
    "\n",
    "df = empDf.withColumn(\"cume_dist\", cume_dist().over(windowSpec))\n",
    "df.show()"
   ]
  },
  {
   "cell_type": "code",
   "execution_count": 23,
   "id": "46a88ad0-5a46-4ac2-88c7-a37d13fcd84c",
   "metadata": {},
   "outputs": [
    {
     "name": "stdout",
     "output_type": "stream",
     "text": [
      "+-------+---------+------+----+\n",
      "|   name|     dept|salary| lag|\n",
      "+-------+---------+------+----+\n",
      "|  James|    Sales|  3000|null|\n",
      "|  James|    Sales|  3000|3000|\n",
      "| Venkat|    Sales|  4000|3000|\n",
      "| Robert|    Sales|  4100|4000|\n",
      "|   Saif|    Sales|  4100|4100|\n",
      "|    Joe|    Sales|  4200|4100|\n",
      "|Michael|    Sales|  4600|4200|\n",
      "|  Maria|  Finance|  3000|null|\n",
      "|  Scott|  Finance|  3300|3000|\n",
      "|    Jen|  Finance|  3900|3300|\n",
      "|  Kumar|Marketing|  2000|null|\n",
      "|   Jeff|Marketing|  3000|2000|\n",
      "+-------+---------+------+----+\n",
      "\n"
     ]
    }
   ],
   "source": [
    "# lag - previous lag\n",
    "from pyspark.sql.window import Window\n",
    "from pyspark.sql.functions import lag, desc\n",
    "\n",
    "windowSpec = Window.partitionBy(\"dept\").orderBy(\"salary\")\n",
    "\n",
    "df = empDf.withColumn(\"lag\", lag(\"salary\",1).over(windowSpec))\n",
    "df.show()"
   ]
  },
  {
   "cell_type": "code",
   "execution_count": 26,
   "id": "bd885665-b210-4972-83be-725c1e158413",
   "metadata": {},
   "outputs": [
    {
     "name": "stdout",
     "output_type": "stream",
     "text": [
      "+-------+---------+------+----+\n",
      "|   name|     dept|salary|lead|\n",
      "+-------+---------+------+----+\n",
      "|  James|    Sales|  3000|3000|\n",
      "|  James|    Sales|  3000|4000|\n",
      "| Venkat|    Sales|  4000|4100|\n",
      "| Robert|    Sales|  4100|4100|\n",
      "|   Saif|    Sales|  4100|4200|\n",
      "|    Joe|    Sales|  4200|4600|\n",
      "|Michael|    Sales|  4600|null|\n",
      "|  Maria|  Finance|  3000|3300|\n",
      "|  Scott|  Finance|  3300|3900|\n",
      "|    Jen|  Finance|  3900|null|\n",
      "|  Kumar|Marketing|  2000|3000|\n",
      "|   Jeff|Marketing|  3000|null|\n",
      "+-------+---------+------+----+\n",
      "\n"
     ]
    }
   ],
   "source": [
    "# lead -  the one ahead, \n",
    "from pyspark.sql.window import Window\n",
    "from pyspark.sql.functions import lead, desc\n",
    "\n",
    "windowSpec = Window.partitionBy(\"dept\").orderBy(\"salary\")\n",
    "\n",
    "df = empDf.withColumn(\"lead\", lead(\"salary\", 1).over(windowSpec))\n",
    "df.show()"
   ]
  },
  {
   "cell_type": "code",
   "execution_count": 27,
   "id": "b67e017e-0330-4190-b48c-a00c643c0a24",
   "metadata": {},
   "outputs": [
    {
     "name": "stderr",
     "output_type": "stream",
     "text": [
      "[Stage 255:========================================>             (75 + 4) / 100]\r"
     ]
    },
    {
     "name": "stdout",
     "output_type": "stream",
     "text": [
      "+-------+---------+------+----+----+------------------+-----+-----+\n",
      "|   name|     dept|salary| min| max|               avg|count|  sum|\n",
      "+-------+---------+------+----+----+------------------+-----+-----+\n",
      "|  James|    Sales|  3000|3000|4600|3857.1428571428573|    7|27000|\n",
      "|Michael|    Sales|  4600|3000|4600|3857.1428571428573|    7|27000|\n",
      "| Robert|    Sales|  4100|3000|4600|3857.1428571428573|    7|27000|\n",
      "|  James|    Sales|  3000|3000|4600|3857.1428571428573|    7|27000|\n",
      "|   Saif|    Sales|  4100|3000|4600|3857.1428571428573|    7|27000|\n",
      "|    Joe|    Sales|  4200|3000|4600|3857.1428571428573|    7|27000|\n",
      "| Venkat|    Sales|  4000|3000|4600|3857.1428571428573|    7|27000|\n",
      "|  Maria|  Finance|  3000|3000|3900|            3400.0|    3|10200|\n",
      "|  Scott|  Finance|  3300|3000|3900|            3400.0|    3|10200|\n",
      "|    Jen|  Finance|  3900|3000|3900|            3400.0|    3|10200|\n",
      "|   Jeff|Marketing|  3000|2000|3000|            2500.0|    2| 5000|\n",
      "|  Kumar|Marketing|  2000|2000|3000|            2500.0|    2| 5000|\n",
      "+-------+---------+------+----+----+------------------+-----+-----+\n",
      "\n"
     ]
    },
    {
     "name": "stderr",
     "output_type": "stream",
     "text": [
      "                                                                                \r"
     ]
    }
   ],
   "source": [
    "# aggregate functions, min, max, sum, count, avg\n",
    "\n",
    "from pyspark.sql.window import Window\n",
    "from pyspark.sql.functions import avg, sum, min, max, count, col\n",
    "\n",
    "windowSpec = Window.partitionBy(\"dept\")\n",
    "\n",
    "df = empDf\\\n",
    "          .withColumn(\"min\", min(col(\"salary\")).over(windowSpec))\\\n",
    "          .withColumn(\"max\", max(col(\"salary\")).over(windowSpec))\\\n",
    "          .withColumn(\"avg\", avg(col(\"salary\")).over(windowSpec))\\\n",
    "          .withColumn(\"count\", count(col(\"salary\")).over(windowSpec))\\\n",
    "          .withColumn(\"sum\", sum(col(\"salary\")).over(windowSpec))\n",
    "\n",
    "df.show()"
   ]
  },
  {
   "cell_type": "code",
   "execution_count": null,
   "id": "a56b3e4f-101e-413f-8d1b-917482a8347e",
   "metadata": {},
   "outputs": [],
   "source": []
  }
 ],
 "metadata": {
  "kernelspec": {
   "display_name": "Python 3 (ipykernel)",
   "language": "python",
   "name": "python3"
  },
  "language_info": {
   "codemirror_mode": {
    "name": "ipython",
    "version": 3
   },
   "file_extension": ".py",
   "mimetype": "text/x-python",
   "name": "python",
   "nbconvert_exporter": "python",
   "pygments_lexer": "ipython3",
   "version": "3.8.12"
  }
 },
 "nbformat": 4,
 "nbformat_minor": 5
}

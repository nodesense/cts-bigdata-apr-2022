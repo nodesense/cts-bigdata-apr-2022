{
 "cells": [
  {
   "cell_type": "code",
   "execution_count": 1,
   "id": "48b7bc1b-4615-4303-95f6-0b155f115849",
   "metadata": {},
   "outputs": [],
   "source": [
    "import findspark\n",
    "findspark.init()"
   ]
  },
  {
   "cell_type": "code",
   "execution_count": 2,
   "id": "22209994-1dd0-46c5-8946-d3e508b8e3a4",
   "metadata": {},
   "outputs": [
    {
     "name": "stderr",
     "output_type": "stream",
     "text": [
      "22/05/07 00:44:33 WARN Utils: Your hostname, ubuntu-virtual-machine resolves to a loopback address: 127.0.1.1; using 192.168.174.129 instead (on interface ens33)\n",
      "22/05/07 00:44:33 WARN Utils: Set SPARK_LOCAL_IP if you need to bind to another address\n",
      "22/05/07 00:44:35 WARN NativeCodeLoader: Unable to load native-hadoop library for your platform... using builtin-java classes where applicable\n",
      "Using Spark's default log4j profile: org/apache/spark/log4j-defaults.properties\n",
      "Setting default log level to \"WARN\".\n",
      "To adjust logging level use sc.setLogLevel(newLevel). For SparkR, use setLogLevel(newLevel).\n"
     ]
    }
   ],
   "source": [
    "from pyspark import SparkContext\n",
    "sc = SparkContext(\"local\", \"Accumulator\")"
   ]
  },
  {
   "cell_type": "code",
   "execution_count": 3,
   "id": "7b636110-0ac6-4575-82f5-7f0efb9f0da6",
   "metadata": {},
   "outputs": [
    {
     "name": "stderr",
     "output_type": "stream",
     "text": [
      "                                                                                \r"
     ]
    },
    {
     "name": "stdout",
     "output_type": "stream",
     "text": [
      "Data  [[0, 1, 2, 3, 4], [5, 6, 7, 8, 9], [10, 11, 12, 13, 14], [15, 16, 17, 18, 19]]\n",
      "Acc value is  190\n"
     ]
    }
   ],
   "source": [
    "# Databricks notebook source\n",
    "# accumulator designed to fetch data from executor to notebook\n",
    "# Databricks notebook source\n",
    "# accumulator useful to collect data from executor to driver program\n",
    "rdd = sc.parallelize(range(0, 20), 4) # 4 partitions\n",
    "\n",
    "print(\"Data \", rdd.glom().collect())\n",
    "\n",
    "sumAccum = sc.accumulator(0)\n",
    "# add does sum values 0 (initial value) + 1 + 2 + 3 + ..+ 19\n",
    "rdd.foreach(lambda n: sumAccum.add(n))  # run inside executor\n",
    "\n",
    "print(\"Acc value is \", sumAccum.value) # driver"
   ]
  },
  {
   "cell_type": "code",
   "execution_count": 4,
   "id": "71fbc98a-9a05-487c-b43e-d74889133002",
   "metadata": {},
   "outputs": [
    {
     "name": "stdout",
     "output_type": "stream",
     "text": [
      "sum of first elements  30\n"
     ]
    }
   ],
   "source": [
    "\n",
    "sumFirstValueInPartitionAccum = sc.accumulator(0)\n",
    "\n",
    "# write a accumulator that picks first element in each partition and sum them up\n",
    "def sumFirstElement(partitionItr):\n",
    "  global sumFirstValueInPartitionAccum\n",
    "  for n in partitionItr: \n",
    "    sumFirstValueInPartitionAccum.add(n)\n",
    "    break # we process only 1st element in the partition and end the loop\n",
    "    \n",
    "rdd.foreachPartition(lambda itr: sumFirstElement(itr))\n",
    "\n",
    "print (\"sum of first elements \", sumFirstValueInPartitionAccum.value)\n"
   ]
  },
  {
   "cell_type": "code",
   "execution_count": 5,
   "id": "cca83dd6-6c64-4ae7-a21f-fa25425a6649",
   "metadata": {},
   "outputs": [],
   "source": [
    "\n",
    "# custom accumulator\n",
    "# collect first element in each parition [not to sum/count]\n",
    "# zero, addInPlace are default functions will be invoked by accumulator \n",
    "from  pyspark.accumulators import AccumulatorParam\n",
    "class ListItemParamAccumulator(AccumulatorParam):\n",
    "  def zero(self, v):\n",
    "    return [] # return list, empty list used when no seed value given initially\n",
    "  # variable is list, value is the arg we pass via add function\n",
    "  # acc.add(value) ==> calls addInPlace()\n",
    "  def addInPlace(self, variable, value):\n",
    "    # fixme, we are muating list, fix to immutable    \n",
    "    variable.append(value)\n",
    "    return variable\n",
    "  "
   ]
  },
  {
   "cell_type": "code",
   "execution_count": 6,
   "id": "f76e098e-c14f-469a-89e7-452bd7e2efc6",
   "metadata": {},
   "outputs": [
    {
     "name": "stdout",
     "output_type": "stream",
     "text": [
      " first elements in each partition  [[0], [5], [10], [15]]\n"
     ]
    }
   ],
   "source": [
    "\n",
    "# create accumulator\n",
    "# [] is empty list\n",
    "# ListItemParamAccumulator is custom accumulator defiend above\n",
    "firstValueAccum = sc.accumulator([], ListItemParamAccumulator())\n",
    "\n",
    "\n",
    "# write a accumulator that picks first element in each partition and sum them up\n",
    "def sampleFirstElement(partitionItr):\n",
    "  global firstValueAccum\n",
    "  for n in partitionItr: \n",
    "    # n is passed as value to addInPlace function\n",
    "    firstValueAccum.add(n) # this will call ListItemParamAccumulator addInPlace function\n",
    "    break\n",
    "    \n",
    "rdd.foreachPartition(lambda itr: sampleFirstElement(itr))\n",
    "\n",
    "print (\" first elements in each partition \", firstValueAccum.value)\n",
    "\n"
   ]
  },
  {
   "cell_type": "code",
   "execution_count": null,
   "id": "a998cba6-0ca3-40ca-9e68-bfc9559479dc",
   "metadata": {},
   "outputs": [],
   "source": []
  }
 ],
 "metadata": {
  "kernelspec": {
   "display_name": "Python 3 (ipykernel)",
   "language": "python",
   "name": "python3"
  },
  "language_info": {
   "codemirror_mode": {
    "name": "ipython",
    "version": 3
   },
   "file_extension": ".py",
   "mimetype": "text/x-python",
   "name": "python",
   "nbconvert_exporter": "python",
   "pygments_lexer": "ipython3",
   "version": "3.8.12"
  }
 },
 "nbformat": 4,
 "nbformat_minor": 5
}

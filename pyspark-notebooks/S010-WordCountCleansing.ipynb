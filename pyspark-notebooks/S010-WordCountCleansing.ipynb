{
 "cells": [
  {
   "cell_type": "code",
   "execution_count": 1,
   "id": "754801c0-0b5b-49e6-842d-9d60007241a6",
   "metadata": {},
   "outputs": [],
   "source": [
    "import findspark\n",
    "findspark.init()"
   ]
  },
  {
   "cell_type": "code",
   "execution_count": 2,
   "id": "19a01601-bc16-44ad-b6ca-3ff3adf8da7f",
   "metadata": {},
   "outputs": [
    {
     "name": "stderr",
     "output_type": "stream",
     "text": [
      "22/05/06 00:27:41 WARN Utils: Your hostname, ubuntu-virtual-machine resolves to a loopback address: 127.0.1.1; using 192.168.174.129 instead (on interface ens33)\n",
      "22/05/06 00:27:41 WARN Utils: Set SPARK_LOCAL_IP if you need to bind to another address\n",
      "22/05/06 00:27:42 WARN NativeCodeLoader: Unable to load native-hadoop library for your platform... using builtin-java classes where applicable\n",
      "Using Spark's default log4j profile: org/apache/spark/log4j-defaults.properties\n",
      "Setting default log level to \"WARN\".\n",
      "To adjust logging level use sc.setLogLevel(newLevel). For SparkR, use setLogLevel(newLevel).\n",
      "22/05/06 00:27:45 WARN Utils: Service 'SparkUI' could not bind on port 4040. Attempting port 4041.\n"
     ]
    }
   ],
   "source": [
    "from pyspark import SparkContext\n",
    "sc = SparkContext(\"local\", \"WordCountCleansing\")"
   ]
  },
  {
   "cell_type": "code",
   "execution_count": 4,
   "id": "a9a1f52a-86a4-4ed5-8272-6e25f29fef30",
   "metadata": {},
   "outputs": [
    {
     "data": {
      "text/plain": [
       "'prince dont welcome'"
      ]
     },
     "execution_count": 4,
     "metadata": {},
     "output_type": "execute_result"
    }
   ],
   "source": [
    "# how to remove special chars\n",
    "# we will all ascii\n",
    "def to_ascii(text):\n",
    "    import re\n",
    "    output = re.sub(r\"[^a-zA-Z0-9 ]\",\"\",text)\n",
    "    #print(output)\n",
    "    return output\n",
    "\n",
    "text = \"prince, don't ;welcome\"\n",
    "to_ascii(text)"
   ]
  },
  {
   "cell_type": "code",
   "execution_count": 5,
   "id": "0a88c877-2541-4f8f-b321-1b3002714633",
   "metadata": {},
   "outputs": [
    {
     "name": "stderr",
     "output_type": "stream",
     "text": [
      "                                                                                \r"
     ]
    },
    {
     "data": {
      "text/plain": [
       "[('chapter', 367),\n",
       " ('i', 4089),\n",
       " ('well', 741),\n",
       " ('prince', 1886),\n",
       " ('so', 1852),\n",
       " ('genoa', 3),\n",
       " ('and', 22082),\n",
       " ('lucca', 2),\n",
       " ('are', 1259),\n",
       " ('now', 1305)]"
      ]
     },
     "execution_count": 5,
     "metadata": {},
     "output_type": "execute_result"
    }
   ],
   "source": [
    "wordCountRdd = sc.textFile(\"hdfs://localhost:9000/books/book-war-and-peace.txt\")\\\n",
    "                 .map (lambda line: to_ascii(line))\\\n",
    "                  .map (lambda line: line.strip().lower())\\\n",
    "                 .map (lambda line: line.split(\" \"))\\\n",
    "                 .flatMap(lambda elements: elements)\\\n",
    "                 .filter (lambda word: word != \"\")\\\n",
    "                 .map (lambda word: (word, 1))\\\n",
    "                 .reduceByKey(lambda acc, value: acc + value)\n",
    "\n",
    "wordCountRdd.take(10)"
   ]
  },
  {
   "cell_type": "code",
   "execution_count": null,
   "id": "d92b1a72-b893-43d1-aa1a-ddac446f062f",
   "metadata": {},
   "outputs": [],
   "source": [
    "# DIY, download romeo-juliet text book from github, upload to hadoop books directory\n",
    "# use that uploaded book to find wordcount"
   ]
  }
 ],
 "metadata": {
  "kernelspec": {
   "display_name": "Python 3 (ipykernel)",
   "language": "python",
   "name": "python3"
  },
  "language_info": {
   "codemirror_mode": {
    "name": "ipython",
    "version": 3
   },
   "file_extension": ".py",
   "mimetype": "text/x-python",
   "name": "python",
   "nbconvert_exporter": "python",
   "pygments_lexer": "ipython3",
   "version": "3.8.12"
  }
 },
 "nbformat": 4,
 "nbformat_minor": 5
}

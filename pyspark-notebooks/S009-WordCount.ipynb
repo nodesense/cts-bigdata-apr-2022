{
 "cells": [
  {
   "cell_type": "code",
   "execution_count": 1,
   "id": "06521007-34ea-4ca4-bf00-42adb85db561",
   "metadata": {},
   "outputs": [],
   "source": [
    "import findspark\n",
    "findspark.init()"
   ]
  },
  {
   "cell_type": "code",
   "execution_count": 2,
   "id": "73ab6d8e-83f8-4c89-bab5-097ac28928ca",
   "metadata": {},
   "outputs": [
    {
     "name": "stderr",
     "output_type": "stream",
     "text": [
      "22/05/05 23:42:47 WARN Utils: Your hostname, ubuntu-virtual-machine resolves to a loopback address: 127.0.1.1; using 192.168.174.129 instead (on interface ens33)\n",
      "22/05/05 23:42:47 WARN Utils: Set SPARK_LOCAL_IP if you need to bind to another address\n",
      "22/05/05 23:42:49 WARN NativeCodeLoader: Unable to load native-hadoop library for your platform... using builtin-java classes where applicable\n",
      "Using Spark's default log4j profile: org/apache/spark/log4j-defaults.properties\n",
      "Setting default log level to \"WARN\".\n",
      "To adjust logging level use sc.setLogLevel(newLevel). For SparkR, use setLogLevel(newLevel).\n"
     ]
    }
   ],
   "source": [
    "from pyspark import SparkContext\n",
    "sc = SparkContext(\"local\", \"WordCount\")"
   ]
  },
  {
   "cell_type": "code",
   "execution_count": 3,
   "id": "0feaf17b-a77e-4666-a17d-6a21c293482a",
   "metadata": {},
   "outputs": [
    {
     "name": "stderr",
     "output_type": "stream",
     "text": [
      "[Stage 0:>                                                          (0 + 1) / 1]\r"
     ]
    },
    {
     "name": "stdout",
     "output_type": "stream",
     "text": [
      "153\n"
     ]
    },
    {
     "name": "stderr",
     "output_type": "stream",
     "text": [
      "                                                                                \r"
     ]
    }
   ],
   "source": [
    "# Lazy evaluation, files won't be read until some action is applied on data\n",
    "fileRdd = sc.textFile(\"hdfs://localhost:9000/ml-latest-small/README.txt\")\n",
    "print(fileRdd.count())"
   ]
  },
  {
   "cell_type": "code",
   "execution_count": 4,
   "id": "4da1f9ba-8e34-4dc5-bc47-f5b800329ba5",
   "metadata": {},
   "outputs": [
    {
     "data": {
      "text/plain": [
       "['Summary',\n",
       " '=======',\n",
       " '',\n",
       " 'This dataset (ml-latest-small) describes 5-star rating and free-text tagging activity from [MovieLens](http://movielens.org), a movie recommendation service. It contains 100836 ratings and 3683 tag applications across 9742 movies. These data were created by 610 users between March 29, 1996 and September 24, 2018. This dataset was generated on September 26, 2018.',\n",
       " '']"
      ]
     },
     "execution_count": 4,
     "metadata": {},
     "output_type": "execute_result"
    }
   ],
   "source": [
    "fileRdd.take(5)"
   ]
  },
  {
   "cell_type": "code",
   "execution_count": 5,
   "id": "f9cc25b0-2936-4039-bead-1a8748073e4b",
   "metadata": {},
   "outputs": [
    {
     "data": {
      "text/plain": [
       "['summary',\n",
       " '=======',\n",
       " '',\n",
       " 'this dataset (ml-latest-small) describes 5-star rating and free-text tagging activity from [movielens](http://movielens.org), a movie recommendation service. it contains 100836 ratings and 3683 tag applications across 9742 movies. these data were created by 610 users between march 29, 1996 and september 24, 2018. this dataset was generated on september 26, 2018.',\n",
       " '']"
      ]
     },
     "execution_count": 5,
     "metadata": {},
     "output_type": "execute_result"
    }
   ],
   "source": [
    "# RDD Lineage\n",
    "# Map is transformation ,lazy evaluation, no job is created\n",
    "lowerCaseRdd = fileRdd.map (lambda line: line.strip().lower())\n",
    "lowerCaseRdd.take(5)"
   ]
  },
  {
   "cell_type": "code",
   "execution_count": 7,
   "id": "b6baaf8b-de33-43cd-8131-4017966f67cf",
   "metadata": {},
   "outputs": [
    {
     "data": {
      "text/plain": [
       "[['summary'],\n",
       " ['======='],\n",
       " [''],\n",
       " ['this',\n",
       "  'dataset',\n",
       "  '(ml-latest-small)',\n",
       "  'describes',\n",
       "  '5-star',\n",
       "  'rating',\n",
       "  'and',\n",
       "  'free-text',\n",
       "  'tagging',\n",
       "  'activity',\n",
       "  'from',\n",
       "  '[movielens](http://movielens.org),',\n",
       "  'a',\n",
       "  'movie',\n",
       "  'recommendation',\n",
       "  'service.',\n",
       "  'it',\n",
       "  'contains',\n",
       "  '100836',\n",
       "  'ratings',\n",
       "  'and',\n",
       "  '3683',\n",
       "  'tag',\n",
       "  'applications',\n",
       "  'across',\n",
       "  '9742',\n",
       "  'movies.',\n",
       "  'these',\n",
       "  'data',\n",
       "  'were',\n",
       "  'created',\n",
       "  'by',\n",
       "  '610',\n",
       "  'users',\n",
       "  'between',\n",
       "  'march',\n",
       "  '29,',\n",
       "  '1996',\n",
       "  'and',\n",
       "  'september',\n",
       "  '24,',\n",
       "  '2018.',\n",
       "  'this',\n",
       "  'dataset',\n",
       "  'was',\n",
       "  'generated',\n",
       "  'on',\n",
       "  'september',\n",
       "  '26,',\n",
       "  '2018.'],\n",
       " ['']]"
      ]
     },
     "execution_count": 7,
     "metadata": {},
     "output_type": "execute_result"
    }
   ],
   "source": [
    "wordListRdd = lowerCaseRdd.map (lambda line: line.split(\" \"))\n",
    "wordListRdd.take(5)"
   ]
  },
  {
   "cell_type": "code",
   "execution_count": 8,
   "id": "41d139e4-6390-478e-9c46-c3a7b297f987",
   "metadata": {},
   "outputs": [
    {
     "name": "stdout",
     "output_type": "stream",
     "text": [
      "1278\n"
     ]
    }
   ],
   "source": [
    "# flatMap, remove the list, project element in the list as record\n",
    "wordRdd = wordListRdd.flatMap(lambda elements: elements)\n",
    "\n",
    "print(wordRdd.count())"
   ]
  },
  {
   "cell_type": "code",
   "execution_count": 9,
   "id": "8940d016-74e8-4c38-b958-6c681e9d65c3",
   "metadata": {},
   "outputs": [
    {
     "name": "stdout",
     "output_type": "stream",
     "text": [
      "1216\n"
     ]
    }
   ],
   "source": [
    "# filter out empty words\n",
    "wordRdd =  wordRdd.filter (lambda word: word != \"\")\n",
    "print(wordRdd.count())"
   ]
  },
  {
   "cell_type": "code",
   "execution_count": 10,
   "id": "72fa06c4-4a33-459f-ad6d-c933cc368816",
   "metadata": {},
   "outputs": [
    {
     "data": {
      "text/plain": [
       "[('summary', 1),\n",
       " ('=======', 1),\n",
       " ('this', 1),\n",
       " ('dataset', 1),\n",
       " ('(ml-latest-small)', 1)]"
      ]
     },
     "execution_count": 10,
     "metadata": {},
     "output_type": "execute_result"
    }
   ],
   "source": [
    "# convert word into (key,value) rdd (spark, 1) for reduceByKey\n",
    "pairRdd = wordRdd.map (lambda word: (word, 1))\n",
    "pairRdd.take(5)"
   ]
  },
  {
   "cell_type": "code",
   "execution_count": 12,
   "id": "58c2e9b8-2c4e-4c26-a9ac-40b76dd0508a",
   "metadata": {},
   "outputs": [
    {
     "name": "stderr",
     "output_type": "stream",
     "text": [
      "                                                                                \r"
     ]
    },
    {
     "data": {
      "text/plain": [
       "[('summary', 1),\n",
       " ('=======', 1),\n",
       " ('this', 13),\n",
       " ('dataset', 6),\n",
       " ('(ml-latest-small)', 1)]"
      ]
     },
     "execution_count": 12,
     "metadata": {},
     "output_type": "execute_result"
    }
   ],
   "source": [
    "# get word count using reduceByKey\n",
    "# transformation\n",
    "wordCountRdd = pairRdd.reduceByKey(lambda acc, value: acc + value)\n",
    "wordCountRdd.take(5)"
   ]
  },
  {
   "cell_type": "code",
   "execution_count": 13,
   "id": "2912f3e3-98ef-47b4-b425-78703d5f87d8",
   "metadata": {},
   "outputs": [
    {
     "name": "stderr",
     "output_type": "stream",
     "text": [
      "                                                                                \r"
     ]
    }
   ],
   "source": [
    "# write the result into text file in hdfs\n",
    "# saveAsTextFile is an ACTION Method\n",
    "# word-count-results is a folder, inside we will shall partition files\n",
    "\n",
    "wordCountRdd.saveAsTextFile (\"hdfs://localhost:9000/word-count-results\")"
   ]
  },
  {
   "cell_type": "code",
   "execution_count": 14,
   "id": "4edb5bb1-5243-4424-8601-eab27539aeec",
   "metadata": {},
   "outputs": [],
   "source": [
    "# hdfs dfs -ls /word-count-results\n",
    "#  _SUCCESS 0 bytes , to state that last operation successfuly stored\n",
    "# part-00000 - partition files \n",
    "# note the partition file name, part-00000 or other file name \n",
    "# hdfs dfs -cat /word-count-results/part-00000\n",
    "\n",
    "# use hdfs web ui  http://localhost:50070/"
   ]
  },
  {
   "cell_type": "code",
   "execution_count": 15,
   "id": "4199eab6-0bb2-4e17-bedc-ac4588b6ed44",
   "metadata": {},
   "outputs": [
    {
     "name": "stderr",
     "output_type": "stream",
     "text": [
      "                                                                                \r"
     ]
    }
   ],
   "source": [
    "# saveAsTextFile with two partitioned data\n",
    "wordCountRdd.repartition(2)\\\n",
    "            .saveAsTextFile(\"hdfs://localhost:9000/word-count-results2\")"
   ]
  },
  {
   "cell_type": "code",
   "execution_count": null,
   "id": "5a9405c0-fcaa-4d92-bc10-4d429cf4e24f",
   "metadata": {},
   "outputs": [],
   "source": [
    "# hdfs dfs -ls /word-count-results2\n",
    "# hdfs dfs -cat /word-count-results2/part-00000\n",
    "# hdfs dfs -cat /word-count-results2/part-00001"
   ]
  }
 ],
 "metadata": {
  "kernelspec": {
   "display_name": "Python 3 (ipykernel)",
   "language": "python",
   "name": "python3"
  },
  "language_info": {
   "codemirror_mode": {
    "name": "ipython",
    "version": 3
   },
   "file_extension": ".py",
   "mimetype": "text/x-python",
   "name": "python",
   "nbconvert_exporter": "python",
   "pygments_lexer": "ipython3",
   "version": "3.8.12"
  }
 },
 "nbformat": 4,
 "nbformat_minor": 5
}

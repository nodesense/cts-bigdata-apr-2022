{
 "cells": [
  {
   "cell_type": "code",
   "execution_count": 1,
   "id": "bf777c08-e5e8-4de4-8b3d-6967bf5d199f",
   "metadata": {},
   "outputs": [],
   "source": [
    "# regex module called re\n",
    "import re\n",
    "\n",
    "# findall [all occurance], search [first occ]\n"
   ]
  },
  {
   "cell_type": "code",
   "execution_count": 21,
   "id": "3198e34f-9af7-4f1e-905a-a03b97eef57b",
   "metadata": {},
   "outputs": [],
   "source": [
    "s = \"\"\"\n",
    "hello\n",
    "learning python\n",
    "learning pyspark\n",
    "learning driving\n",
    "learning kafka\n",
    "all * stars\n",
    "cooking food\n",
    "eating food\n",
    "\"\"\""
   ]
  },
  {
   "cell_type": "code",
   "execution_count": 14,
   "id": "a47e4445-888d-4c96-99e2-ac9d2dd7e04b",
   "metadata": {},
   "outputs": [
    {
     "name": "stdout",
     "output_type": "stream",
     "text": [
      "<re.Match object; span=(7, 22), match='learning python'>\n"
     ]
    }
   ],
   "source": [
    "# ^ start of string on each line\n",
    "# search means first occurance\n",
    "# .* means anything\n",
    "# start with learning then anything\n",
    "#s = \"learning python\"\n",
    "# $ end of line\n",
    "result = re.search(\"^learning.*$\", s, re.MULTILINE)\n",
    "print (result)\n",
    "# if result is not NONE means we have match,or \n",
    "# if result is none means no match"
   ]
  },
  {
   "cell_type": "code",
   "execution_count": 15,
   "id": "77ebaa23-df97-4146-bc61-ef0163b64cd4",
   "metadata": {},
   "outputs": [
    {
     "name": "stdout",
     "output_type": "stream",
     "text": [
      "['learning python', 'learning pyspark', 'learning driving', 'learning kafka']\n"
     ]
    }
   ],
   "source": [
    "# returns list of matches, empty list if no match\n",
    "result = re.findall(\"^learning.*$\", s, re.MULTILINE)\n",
    "print (result)"
   ]
  },
  {
   "cell_type": "code",
   "execution_count": 17,
   "id": "dca6ee5d-8c29-4b5f-9864-62f02cfb6fbe",
   "metadata": {},
   "outputs": [
    {
     "name": "stdout",
     "output_type": "stream",
     "text": [
      "['learning python', 'learning pyspark', 'learning driving', 'learning kafka', 'cooking food', 'eating food']\n"
     ]
    }
   ],
   "source": [
    "# find lines that has ing\n",
    "result = re.findall(\"^.*ing.*$\", s, re.MULTILINE)\n",
    "print (result)"
   ]
  },
  {
   "cell_type": "code",
   "execution_count": 22,
   "id": "be71d27f-8929-4c22-aaba-c5e2fd77365d",
   "metadata": {},
   "outputs": [
    {
     "name": "stdout",
     "output_type": "stream",
     "text": [
      "['all * stars']\n"
     ]
    }
   ],
   "source": [
    "# fidn the line which has * astrick\n",
    "# *, +  is special symbol, syntax\n",
    "# use ESCAPE \\ to present as char/assii instad of regular expression syntax\n",
    "result = re.findall(\"^.*\\*.*$\", s, re.MULTILINE)\n",
    "print (result)"
   ]
  },
  {
   "cell_type": "code",
   "execution_count": 29,
   "id": "943e829b-3312-414c-af36-55604ceff69c",
   "metadata": {},
   "outputs": [
    {
     "name": "stdout",
     "output_type": "stream",
     "text": [
      "['5', '0', '3', '0', '3']\n"
     ]
    }
   ],
   "source": [
    "# set using []\n",
    "# [abc] matches a stirng that has a or b or c but not abc\n",
    "# [a-z] = a, b,c, d.....z\n",
    "# [A-Z]= A, B, C, D ....Z\n",
    "# [0-9] = 0,1,2,3,4...9\n",
    "# + means repetive first match is 5 then followed by other number\n",
    "s2 = \"prince of iphone is $503 buy on june 03\"\n",
    "result = re.findall(\"[0-9]\", s2, re.MULTILINE)\n",
    "print (result)"
   ]
  },
  {
   "cell_type": "code",
   "execution_count": 30,
   "id": "057c509b-8b24-4b25-b9ae-3e0fbdf88ba7",
   "metadata": {},
   "outputs": [
    {
     "name": "stdout",
     "output_type": "stream",
     "text": [
      "['503', '03']\n"
     ]
    }
   ],
   "source": [
    "# + means repetive first match is 5 then followed by other number\n",
    "s2 = \"prince of iphone is $503 buy on june 03\"\n",
    "result = re.findall(\"[0-9]+\", s2, re.MULTILINE)\n",
    "print (result)"
   ]
  },
  {
   "cell_type": "code",
   "execution_count": null,
   "id": "899560d3-2768-457d-b7e8-c038bff65f3f",
   "metadata": {},
   "outputs": [],
   "source": []
  }
 ],
 "metadata": {
  "kernelspec": {
   "display_name": "Python 3 (ipykernel)",
   "language": "python",
   "name": "python3"
  },
  "language_info": {
   "codemirror_mode": {
    "name": "ipython",
    "version": 3
   },
   "file_extension": ".py",
   "mimetype": "text/x-python",
   "name": "python",
   "nbconvert_exporter": "python",
   "pygments_lexer": "ipython3",
   "version": "3.8.12"
  }
 },
 "nbformat": 4,
 "nbformat_minor": 5
}

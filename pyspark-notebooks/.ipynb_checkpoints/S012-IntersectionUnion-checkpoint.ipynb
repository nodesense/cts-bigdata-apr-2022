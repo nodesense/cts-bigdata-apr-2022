{
 "cells": [
  {
   "cell_type": "code",
   "execution_count": 1,
   "id": "4d412609-5ad2-4069-bef0-6ff2a19b4874",
   "metadata": {},
   "outputs": [],
   "source": [
    "import findspark\n",
    "findspark.init()"
   ]
  },
  {
   "cell_type": "code",
   "execution_count": 2,
   "id": "3695e467-5f4f-4648-9df6-a3bec1720c79",
   "metadata": {},
   "outputs": [
    {
     "name": "stderr",
     "output_type": "stream",
     "text": [
      "22/05/06 01:00:45 WARN Utils: Your hostname, ubuntu-virtual-machine resolves to a loopback address: 127.0.1.1; using 192.168.174.129 instead (on interface ens33)\n",
      "22/05/06 01:00:45 WARN Utils: Set SPARK_LOCAL_IP if you need to bind to another address\n",
      "22/05/06 01:00:47 WARN NativeCodeLoader: Unable to load native-hadoop library for your platform... using builtin-java classes where applicable\n",
      "Using Spark's default log4j profile: org/apache/spark/log4j-defaults.properties\n",
      "Setting default log level to \"WARN\".\n",
      "To adjust logging level use sc.setLogLevel(newLevel). For SparkR, use setLogLevel(newLevel).\n",
      "22/05/06 01:00:51 WARN Utils: Service 'SparkUI' could not bind on port 4040. Attempting port 4041.\n",
      "22/05/06 01:00:51 WARN Utils: Service 'SparkUI' could not bind on port 4041. Attempting port 4042.\n",
      "22/05/06 01:00:51 WARN Utils: Service 'SparkUI' could not bind on port 4042. Attempting port 4043.\n"
     ]
    }
   ],
   "source": [
    "from pyspark import SparkContext\n",
    "sc = SparkContext(\"local\", \"InterSectionUnion\")"
   ]
  },
  {
   "cell_type": "code",
   "execution_count": 3,
   "id": "d997b9a3-83e6-4f63-8955-1115570dc1f2",
   "metadata": {},
   "outputs": [],
   "source": [
    "# here general rdd apis\n",
    "\n",
    "dayTradeSymbols = sc.parallelize(['INFY', 'MINDTREE', 'TSLA'])\n",
    "swingTradeSymbols = sc.parallelize(['EMR', 'AAPL', 'TSLA', 'INFY'])"
   ]
  },
  {
   "cell_type": "code",
   "execution_count": 4,
   "id": "22e60354-f6fe-468f-9155-735709a0d832",
   "metadata": {},
   "outputs": [
    {
     "name": "stderr",
     "output_type": "stream",
     "text": [
      "                                                                                \r"
     ]
    },
    {
     "data": {
      "text/plain": [
       "['INFY', 'TSLA']"
      ]
     },
     "execution_count": 4,
     "metadata": {},
     "output_type": "execute_result"
    }
   ],
   "source": [
    "# return the elements/stock that are present in both\n",
    "intersectionRdd = dayTradeSymbols.intersection(swingTradeSymbols)\n",
    "intersectionRdd.collect()"
   ]
  },
  {
   "cell_type": "code",
   "execution_count": 5,
   "id": "578fe0a1-ebbd-4795-8763-6ee831cbce25",
   "metadata": {},
   "outputs": [
    {
     "data": {
      "text/plain": [
       "['INFY', 'MINDTREE', 'TSLA', 'EMR', 'AAPL', 'TSLA', 'INFY']"
      ]
     },
     "execution_count": 5,
     "metadata": {},
     "output_type": "execute_result"
    }
   ],
   "source": [
    "# union of two RDD, add items from both the RDD, duplicates possible\n",
    "unionRdd = dayTradeSymbols.union(swingTradeSymbols)\n",
    "unionRdd.collect()"
   ]
  },
  {
   "cell_type": "code",
   "execution_count": 6,
   "id": "125473fa-b405-4a88-8f9a-f6bbc2183d18",
   "metadata": {},
   "outputs": [
    {
     "data": {
      "text/plain": [
       "['INFY', 'EMR', 'MINDTREE', 'TSLA', 'AAPL']"
      ]
     },
     "execution_count": 6,
     "metadata": {},
     "output_type": "execute_result"
    }
   ],
   "source": [
    "# distrinct , remove duplicates \n",
    "# unionRdd has duplicates TSLA, INFY coming twice\n",
    "distinctRdd = unionRdd.distinct()\n",
    "distinctRdd.collect()"
   ]
  },
  {
   "cell_type": "code",
   "execution_count": null,
   "id": "c6d68aee-c1d1-4e53-b97d-74cede58cb0c",
   "metadata": {},
   "outputs": [],
   "source": []
  }
 ],
 "metadata": {
  "kernelspec": {
   "display_name": "Python 3 (ipykernel)",
   "language": "python",
   "name": "python3"
  },
  "language_info": {
   "codemirror_mode": {
    "name": "ipython",
    "version": 3
   },
   "file_extension": ".py",
   "mimetype": "text/x-python",
   "name": "python",
   "nbconvert_exporter": "python",
   "pygments_lexer": "ipython3",
   "version": "3.8.12"
  }
 },
 "nbformat": 4,
 "nbformat_minor": 5
}

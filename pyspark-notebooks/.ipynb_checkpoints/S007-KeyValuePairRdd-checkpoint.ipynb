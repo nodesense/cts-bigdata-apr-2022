{
 "cells": [
  {
   "cell_type": "code",
   "execution_count": 1,
   "id": "507a5397-f29c-4409-abda-80e2387e7225",
   "metadata": {},
   "outputs": [],
   "source": [
    "import findspark\n",
    "findspark.init()"
   ]
  },
  {
   "cell_type": "code",
   "execution_count": 2,
   "id": "c1243062-f21a-4a23-a000-44e3de5b71a2",
   "metadata": {},
   "outputs": [
    {
     "name": "stderr",
     "output_type": "stream",
     "text": [
      "22/05/05 19:58:07 WARN Utils: Your hostname, ubuntu-virtual-machine resolves to a loopback address: 127.0.1.1; using 192.168.174.129 instead (on interface ens33)\n",
      "22/05/05 19:58:07 WARN Utils: Set SPARK_LOCAL_IP if you need to bind to another address\n",
      "22/05/05 19:58:09 WARN NativeCodeLoader: Unable to load native-hadoop library for your platform... using builtin-java classes where applicable\n",
      "Using Spark's default log4j profile: org/apache/spark/log4j-defaults.properties\n",
      "Setting default log level to \"WARN\".\n",
      "To adjust logging level use sc.setLogLevel(newLevel). For SparkR, use setLogLevel(newLevel).\n",
      "22/05/05 19:58:13 WARN Utils: Service 'SparkUI' could not bind on port 4040. Attempting port 4041.\n",
      "22/05/05 19:58:13 WARN Utils: Service 'SparkUI' could not bind on port 4041. Attempting port 4042.\n"
     ]
    }
   ],
   "source": [
    "from pyspark import SparkContext\n",
    "sc = SparkContext(\"local\", \"KeyValuePairRDD\")"
   ]
  },
  {
   "cell_type": "code",
   "execution_count": 3,
   "id": "bcc5f108-6872-486b-a7c4-ea8d46afb7a3",
   "metadata": {},
   "outputs": [],
   "source": [
    "# Key Value pair formed from tuple, where as first element in tuple is known as key\n",
    "# second element known as value\n",
    "# (key, value)\n",
    "# apple is key, 20 is value\n",
    "data = [\n",
    "    ('apple', 20),\n",
    "    ('orange', 30),\n",
    "    ('apple', 10),\n",
    "    ('mango', 50),\n",
    "    ('orange', 15),\n",
    "     ('mango', 10),\n",
    "     ('apple', 5),\n",
    "]\n",
    "\n",
    "rdd = sc.parallelize(data)"
   ]
  },
  {
   "cell_type": "code",
   "execution_count": 4,
   "id": "54e6dafe-0f86-4593-b625-662deda04731",
   "metadata": {},
   "outputs": [
    {
     "name": "stderr",
     "output_type": "stream",
     "text": [
      "                                                                                \r"
     ]
    },
    {
     "data": {
      "text/plain": [
       "defaultdict(int, {'apple': 3, 'orange': 2, 'mango': 2})"
      ]
     },
     "execution_count": 4,
     "metadata": {},
     "output_type": "execute_result"
    }
   ],
   "source": [
    "# find the count keys\n",
    "# for rdd functions with \"Key\" can use this dataset\n",
    "# in KEy Value pair RDD, the first element in tuple considered to be key, second element considered to be value\n",
    "result = rdd.countByKey() # action\n",
    "result # result is dictionary, it returns count of keys"
   ]
  },
  {
   "cell_type": "code",
   "execution_count": 6,
   "id": "973a437e-2f38-4b1a-8b4e-08fe3c88fe49",
   "metadata": {},
   "outputs": [
    {
     "data": {
      "text/plain": [
       "[('apple', 35), ('orange', 45), ('mango', 60)]"
      ]
     },
     "execution_count": 6,
     "metadata": {},
     "output_type": "execute_result"
    }
   ],
   "source": [
    "# reduce refers to aggregation\n",
    "# find the total kilogram of fruits sold (apple - 30, orange - 30, mongo - 50), sum of kilograms of fruits sold\n",
    "# reduceByKey , useful for sum or custom code\n",
    "# lambda function here woun't be called first time when key found\n",
    "# first time key value pair used for initialization\n",
    "\"\"\"\n",
    "Input\n",
    "('apple', 20) <- apple is first time, this value directly placed in table, lambda not called\n",
    "('orange', 30) <- orange is first time, this value directly placed in table, lambda not called\n",
    "('apple', 10) <- apple is second time, lambda shall be called\n",
    "                 lambda has two params, acc, value\n",
    "                 acc value taken from table shown below, value from record \n",
    "                 acc = 20, value  10\n",
    "                 (20, 10) => acc + value = (20 + 10) = 30, this value updated in table\n",
    "('mango', 50)<- first time, lambda not called, values directly placed\n",
    " ('orange', 15) <- DIY\n",
    " ('mango', 10) <- DIY\n",
    " ('apple', 5 <- DIY\n",
    " \n",
    "assume there is a table inside reduceByKey func\n",
    "\n",
    "Key       acc\n",
    "apple      30\n",
    "orange     30\n",
    "mango      50\n",
    "\n",
    "\n",
    "\"\"\"\n",
    "# acc is just variable, called accumulator\n",
    "# value is from rdd, 20, 30, 10 ,50\n",
    "# lambda takes 2 arguments, acc is accumulator based on key, value is from record/tuple\n",
    "result = rdd.reduceByKey(lambda acc, value: acc + value) # TRANSFORAMTION\n",
    "result.collect()"
   ]
  },
  {
   "cell_type": "code",
   "execution_count": 8,
   "id": "cd07b2a7-4cd3-4544-8942-3e5e8b922ffa",
   "metadata": {},
   "outputs": [
    {
     "name": "stdout",
     "output_type": "stream",
     "text": [
      "Group  apple <pyspark.resultiterable.ResultIterable object at 0x7fa8e40fd9d0>\n",
      "\tVAlue  20\n",
      "\tVAlue  10\n",
      "\tVAlue  5\n",
      "Group  orange <pyspark.resultiterable.ResultIterable object at 0x7fa8e4182d90>\n",
      "\tVAlue  30\n",
      "\tVAlue  15\n",
      "Group  mango <pyspark.resultiterable.ResultIterable object at 0x7fa8e4182340>\n",
      "\tVAlue  50\n",
      "\tVAlue  10\n"
     ]
    },
    {
     "name": "stderr",
     "output_type": "stream",
     "text": [
      "----------------------------------------\n",
      "Exception happened during processing of request from ('127.0.0.1', 44902)\n",
      "Traceback (most recent call last):\n",
      "  File \"/home/ubuntu/miniconda3/lib/python3.8/socketserver.py\", line 316, in _handle_request_noblock\n",
      "    self.process_request(request, client_address)\n",
      "  File \"/home/ubuntu/miniconda3/lib/python3.8/socketserver.py\", line 347, in process_request\n",
      "    self.finish_request(request, client_address)\n",
      "  File \"/home/ubuntu/miniconda3/lib/python3.8/socketserver.py\", line 360, in finish_request\n",
      "    self.RequestHandlerClass(request, client_address, self)\n",
      "  File \"/home/ubuntu/miniconda3/lib/python3.8/socketserver.py\", line 747, in __init__\n",
      "    self.handle()\n",
      "  File \"/opt/spark-3.1.3-bin-hadoop2.7/python/pyspark/accumulators.py\", line 262, in handle\n",
      "    poll(accum_updates)\n",
      "  File \"/opt/spark-3.1.3-bin-hadoop2.7/python/pyspark/accumulators.py\", line 235, in poll\n",
      "    if func():\n",
      "  File \"/opt/spark-3.1.3-bin-hadoop2.7/python/pyspark/accumulators.py\", line 239, in accum_updates\n",
      "    num_updates = read_int(self.rfile)\n",
      "  File \"/opt/spark-3.1.3-bin-hadoop2.7/python/pyspark/serializers.py\", line 564, in read_int\n",
      "    raise EOFError\n",
      "EOFError\n",
      "----------------------------------------\n"
     ]
    }
   ],
   "source": [
    "resultRdd = rdd.groupByKey() # transformation, group the values by key\n",
    " \n",
    "results = resultRdd.collect()\n",
    "\n",
    "for key, valueItr in results:\n",
    "    print(\"Group \", key, valueItr)\n",
    "    # iterator the result to get the actual data\n",
    "    for value in valueItr:\n",
    "        print (\"\\tVAlue \", value)"
   ]
  },
  {
   "cell_type": "code",
   "execution_count": null,
   "id": "253b2c41-049c-4868-b6d5-23f2ed9c1c57",
   "metadata": {},
   "outputs": [],
   "source": []
  }
 ],
 "metadata": {
  "kernelspec": {
   "display_name": "Python 3 (ipykernel)",
   "language": "python",
   "name": "python3"
  },
  "language_info": {
   "codemirror_mode": {
    "name": "ipython",
    "version": 3
   },
   "file_extension": ".py",
   "mimetype": "text/x-python",
   "name": "python",
   "nbconvert_exporter": "python",
   "pygments_lexer": "ipython3",
   "version": "3.8.12"
  }
 },
 "nbformat": 4,
 "nbformat_minor": 5
}

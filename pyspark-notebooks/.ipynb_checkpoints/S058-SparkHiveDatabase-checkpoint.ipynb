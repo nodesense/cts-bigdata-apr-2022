{
 "cells": [
  {
   "cell_type": "code",
   "execution_count": 1,
   "id": "d0659857-7588-4311-8235-74064ece5190",
   "metadata": {},
   "outputs": [],
   "source": [
    "import findspark\n",
    "findspark.init()"
   ]
  },
  {
   "cell_type": "code",
   "execution_count": 2,
   "id": "f41430c4-ca95-415d-bf65-7beb1e22abc6",
   "metadata": {},
   "outputs": [
    {
     "name": "stderr",
     "output_type": "stream",
     "text": [
      "Warning: Ignoring non-Spark config property: hive.metastore.uris\n",
      "Warning: Ignoring non-Spark config property: hive.metastore.warehouse.dir\n",
      "22/05/16 21:03:38 WARN Utils: Your hostname, ubuntu-virtual-machine resolves to a loopback address: 127.0.1.1; using 192.168.174.129 instead (on interface ens33)\n",
      "22/05/16 21:03:38 WARN Utils: Set SPARK_LOCAL_IP if you need to bind to another address\n",
      "22/05/16 21:03:40 WARN NativeCodeLoader: Unable to load native-hadoop library for your platform... using builtin-java classes where applicable\n",
      "Using Spark's default log4j profile: org/apache/spark/log4j-defaults.properties\n",
      "Setting default log level to \"WARN\".\n",
      "To adjust logging level use sc.setLogLevel(newLevel). For SparkR, use setLogLevel(newLevel).\n",
      "22/05/16 21:03:41 WARN SparkConf: Note that spark.local.dir will be overridden by the value set by the cluster manager (via SPARK_LOCAL_DIRS in mesos/standalone/kubernetes and LOCAL_DIRS in YARN).\n"
     ]
    }
   ],
   "source": [
    "from pyspark.conf import SparkConf\n",
    "config = SparkConf()\n",
    "# config.set(\"property\", \"value\")\n",
    "config.setMaster(\"local\").setAppName(\"SparkHiveDatabase\")\n",
    "\n",
    "# centarlized hive meta server\n",
    "# hdfs hive for data warehouse\n",
    "# enable hive support must for sql database\n",
    " \n",
    "config.set(\"spark.local.dir\", \"/home/ubuntu/spark-temp\")\n",
    "\n",
    "# while using hive.metastore.warehouse.dir, we should not use spark warehouse dir\n",
    "\n",
    "config.set(\"hive.metastore.uris\", \"thrift://localhost:9083\")\n",
    "config.set(\"hive.metastore.warehouse.dir\", \"hdfs://localhost:9000/user/hive/warehouse\")\n",
    "\n",
    "\n",
    "from pyspark.sql import SparkSession\n",
    "# spark Session, entry point for Spark SQL, DataFrame\n",
    "\n",
    "# enableHiveSupport() now using hive meta server running as server\n",
    "# multiple notebooks can share hive meta server, work in parallel\n",
    "# we use hive warehouse directory for spark too, this way hive and spark can co-exists\n",
    "# metastore shall have meta data: database, tables, columns, data types, where exactly\n",
    "# data located in hdfs or file system or s3\n",
    "\n",
    "spark = SparkSession.builder\\\n",
    "                    .config(conf=config)\\\n",
    "                    .enableHiveSupport()\\\n",
    "                    .getOrCreate()\n",
    "\n",
    "sc = spark.sparkContext"
   ]
  },
  {
   "cell_type": "code",
   "execution_count": 3,
   "id": "44430d33-3103-4c3f-8647-7eda664f4589",
   "metadata": {},
   "outputs": [
    {
     "data": {
      "text/html": [
       "\n",
       "            <div>\n",
       "                <p><b>SparkSession - hive</b></p>\n",
       "                \n",
       "        <div>\n",
       "            <p><b>SparkContext</b></p>\n",
       "\n",
       "            <p><a href=\"http://192.168.174.129:4040\">Spark UI</a></p>\n",
       "\n",
       "            <dl>\n",
       "              <dt>Version</dt>\n",
       "                <dd><code>v3.1.3</code></dd>\n",
       "              <dt>Master</dt>\n",
       "                <dd><code>local</code></dd>\n",
       "              <dt>AppName</dt>\n",
       "                <dd><code>SparkHiveDatabase</code></dd>\n",
       "            </dl>\n",
       "        </div>\n",
       "        \n",
       "            </div>\n",
       "        "
      ],
      "text/plain": [
       "<pyspark.sql.session.SparkSession at 0x7fd00c7a5760>"
      ]
     },
     "execution_count": 3,
     "metadata": {},
     "output_type": "execute_result"
    }
   ],
   "source": [
    "spark"
   ]
  },
  {
   "cell_type": "code",
   "execution_count": 5,
   "id": "9007bd3b-a2b2-4e1d-9e81-547bdd90a83f",
   "metadata": {},
   "outputs": [
    {
     "name": "stdout",
     "output_type": "stream",
     "text": [
      "+----------+\n",
      "| namespace|\n",
      "+----------+\n",
      "|   default|\n",
      "|   moviedb|\n",
      "|  ordersdb|\n",
      "|productsdb|\n",
      "+----------+\n",
      "\n"
     ]
    }
   ],
   "source": [
    "# should display all hive databases\n",
    "spark.sql(\"SHOW DATABASES\").show()\n"
   ]
  },
  {
   "cell_type": "code",
   "execution_count": 6,
   "id": "fe88fc87-1fa7-41a9-9289-b1d3bc56a7ea",
   "metadata": {},
   "outputs": [
    {
     "name": "stdout",
     "output_type": "stream",
     "text": [
      "+--------+---------+-----------+\n",
      "|database|tableName|isTemporary|\n",
      "+--------+---------+-----------+\n",
      "| moviedb|   movies|      false|\n",
      "| moviedb|  ratings|      false|\n",
      "+--------+---------+-----------+\n",
      "\n"
     ]
    }
   ],
   "source": [
    "spark.sql(\"SHOW TABLES IN moviedb\").show()"
   ]
  },
  {
   "cell_type": "code",
   "execution_count": 7,
   "id": "746bdfde-484f-40ca-921b-a42d577c43d3",
   "metadata": {},
   "outputs": [],
   "source": [
    "#DIY\n",
    "# 1.select 10 movies and show\n",
    "# 2. select 10 ratings and show\n",
    "# 3. Refer Temp table sql, now run analytical query on ratings table\n",
    "#    find avg rating, count of users [ratings count] group by movieID no temp tale, only select\n",
    "\n",
    "# 4. Create temp view called \"popular_movies\", to get avg rating, users count group by movieid, \n",
    "     # filter avg rating >= 3.5 and users count >= 100\n",
    "    \n",
    "# 5. spark.sql(\"select * from popular_movies\").show()"
   ]
  },
  {
   "cell_type": "code",
   "execution_count": 8,
   "id": "ebbd0e94-69c5-4e5a-94a0-c431625a2a4a",
   "metadata": {},
   "outputs": [
    {
     "name": "stderr",
     "output_type": "stream",
     "text": [
      "                                                                                \r"
     ]
    },
    {
     "name": "stdout",
     "output_type": "stream",
     "text": [
      "+-------+--------+------+----------------+\n",
      "|user_id|movie_id|rating|rating_timestamp|\n",
      "+-------+--------+------+----------------+\n",
      "|   null|    null|  null|            null|\n",
      "|      1|       1|     4|       964982703|\n",
      "|      1|       3|     4|       964981247|\n",
      "|      1|       6|     4|       964982224|\n",
      "|      1|      47|     5|       964983815|\n",
      "|      1|      50|     5|       964982931|\n",
      "|      1|      70|     3|       964982400|\n",
      "|      1|     101|     5|       964980868|\n",
      "|      1|     110|     4|       964982176|\n",
      "|      1|     151|     5|       964984041|\n",
      "+-------+--------+------+----------------+\n",
      "\n"
     ]
    }
   ],
   "source": [
    "spark.sql(\"SELECT * FROM moviedb.ratings LIMIT 10\").show()"
   ]
  },
  {
   "cell_type": "code",
   "execution_count": 9,
   "id": "198a8dbf-3609-47b4-9b41-0222b22edbc1",
   "metadata": {},
   "outputs": [
    {
     "name": "stdout",
     "output_type": "stream",
     "text": [
      "+--------+--------------------+--------------------+\n",
      "|movie_id|               title|              genres|\n",
      "+--------+--------------------+--------------------+\n",
      "|    null|               title|              genres|\n",
      "|       1|    Toy Story (1995)|Adventure|Animati...|\n",
      "|       2|      Jumanji (1995)|Adventure|Childre...|\n",
      "|       3|Grumpier Old Men ...|      Comedy|Romance|\n",
      "|       4|Waiting to Exhale...|Comedy|Drama|Romance|\n",
      "|       5|Father of the Bri...|              Comedy|\n",
      "|       6|         Heat (1995)|Action|Crime|Thri...|\n",
      "|       7|      Sabrina (1995)|      Comedy|Romance|\n",
      "|       8| Tom and Huck (1995)|  Adventure|Children|\n",
      "|       9| Sudden Death (1995)|              Action|\n",
      "+--------+--------------------+--------------------+\n",
      "\n"
     ]
    }
   ],
   "source": [
    "spark.sql(\"SELECT * FROM moviedb.movies LIMIT 10\").show()"
   ]
  },
  {
   "cell_type": "code",
   "execution_count": 12,
   "id": "dd3c38da-dad3-4f71-9e1f-ce867633eea1",
   "metadata": {},
   "outputs": [
    {
     "name": "stderr",
     "output_type": "stream",
     "text": [
      "[Stage 4:>                                                          (0 + 1) / 1]\r"
     ]
    },
    {
     "name": "stdout",
     "output_type": "stream",
     "text": [
      "+--------+-----------+-------------+\n",
      "|movie_id|avg_ratings|total_ratings|\n",
      "+--------+-----------+-------------+\n",
      "|    1580|     3.6852|          162|\n",
      "|    2366|     3.7200|           25|\n",
      "|    1088|     3.7692|           39|\n",
      "|   32460|     4.5000|            4|\n",
      "|   44022|     3.5909|           22|\n",
      "|   96488|     4.5000|            4|\n",
      "|    1238|     4.1111|            9|\n",
      "|    1342|     3.0000|            9|\n",
      "|    1591|     3.0909|           22|\n",
      "|    1645|     3.6531|           49|\n",
      "|    3175|     3.7671|           73|\n",
      "|    4519|     3.4444|            9|\n",
      "|    2142|     3.0000|            9|\n",
      "|     471|     3.7895|           38|\n",
      "|    3997|     2.5000|            8|\n",
      "|     833|     2.7500|            4|\n",
      "|    3918|     3.6250|            8|\n",
      "|    7982|     4.6667|            3|\n",
      "|    1959|     3.8000|           15|\n",
      "|   68135|     3.9000|           10|\n",
      "+--------+-----------+-------------+\n",
      "only showing top 20 rows\n",
      "\n"
     ]
    },
    {
     "name": "stderr",
     "output_type": "stream",
     "text": [
      "                                                                                \r"
     ]
    }
   ],
   "source": [
    "spark.sql(\"\"\"\n",
    " SELECT movie_id, avg(rating) as avg_ratings, \n",
    "                                    count(user_id) as total_ratings\n",
    "                        from moviedb.ratings \n",
    "                        WHERE rating > 1.0\n",
    "                        group by movie_id\n",
    "\"\"\").show()"
   ]
  },
  {
   "cell_type": "code",
   "execution_count": 13,
   "id": "8ffda571-24ba-4176-a27c-9c4413f131c3",
   "metadata": {},
   "outputs": [
    {
     "data": {
      "text/plain": [
       "DataFrame[]"
      ]
     },
     "execution_count": 13,
     "metadata": {},
     "output_type": "execute_result"
    }
   ],
   "source": [
    "spark.sql(\"\"\"CREATE OR REPLACE TEMP VIEW most_popular_temp_table AS \n",
    "                    SELECT movie_id, avg(rating) as avg_ratings, \n",
    "                                    count(user_id) as total_ratings\n",
    "                        from moviedb.ratings \n",
    "                        WHERE rating > 1.0\n",
    "                        group by movie_id \n",
    "                        having avg_ratings >= 3.5 and total_ratings >= 100\n",
    "                        order by avg_ratings desc\n",
    "                    \"\"\")"
   ]
  },
  {
   "cell_type": "code",
   "execution_count": 14,
   "id": "dd9e86b8-de9e-4cd2-a292-36cf7412f7c9",
   "metadata": {},
   "outputs": [
    {
     "name": "stdout",
     "output_type": "stream",
     "text": [
      "+--------+--------------------+-----------+\n",
      "|database|           tableName|isTemporary|\n",
      "+--------+--------------------+-----------+\n",
      "| default|              brands|      false|\n",
      "| default|           employees|      false|\n",
      "|        |most_popular_temp...|       true|\n",
      "+--------+--------------------+-----------+\n",
      "\n"
     ]
    }
   ],
   "source": [
    "spark.sql(\"SHOW TABLES\").show()"
   ]
  },
  {
   "cell_type": "code",
   "execution_count": 15,
   "id": "ee21df75-83ef-44bb-98e8-2684d4f56e1e",
   "metadata": {},
   "outputs": [
    {
     "name": "stderr",
     "output_type": "stream",
     "text": [
      "[Stage 7:===================================================>   (187 + 1) / 200]\r"
     ]
    },
    {
     "name": "stdout",
     "output_type": "stream",
     "text": [
      "+--------+-----------+-------------+\n",
      "|movie_id|avg_ratings|total_ratings|\n",
      "+--------+-----------+-------------+\n",
      "|     318|     4.5524|          315|\n",
      "|   48516|     4.5000|          106|\n",
      "|    2959|     4.4884|          215|\n",
      "|     527|     4.4601|          213|\n",
      "|    2571|     4.4312|          269|\n",
      "|   58559|     4.4295|          149|\n",
      "|    1221|     4.4252|          127|\n",
      "|     858|     4.4136|          191|\n",
      "|    4226|     4.4065|          155|\n",
      "|      50|     4.4059|          202|\n",
      "+--------+-----------+-------------+\n",
      "only showing top 10 rows\n",
      "\n"
     ]
    },
    {
     "name": "stderr",
     "output_type": "stream",
     "text": [
      "                                                                                \r"
     ]
    }
   ],
   "source": [
    "spark.sql(\"SELECT * FROM most_popular_temp_table\").show(10)"
   ]
  },
  {
   "cell_type": "code",
   "execution_count": 16,
   "id": "85f3e202-735d-4bf5-b5fe-e68bbc67d1ac",
   "metadata": {},
   "outputs": [],
   "source": [
    "# DIY\n",
    "# 1. join most_popular_temp_table temp view with moviedb.movies on movie_id, so that\n",
    "#  select movie id, title, avg rating, count of ratings\n",
    "\n",
    "#2. Create a permanent table called popular_movies under moviedb from result of query 1\n",
    "\n",
    "# CTAS CREATE OR REPLACE TABLE  moviedb.popular_movies AS\n",
    "      # followed by query 1\n"
   ]
  },
  {
   "cell_type": "code",
   "execution_count": 18,
   "id": "5de9e8d3-16ef-433d-9276-566dbbaafe51",
   "metadata": {},
   "outputs": [
    {
     "name": "stderr",
     "output_type": "stream",
     "text": [
      "22/05/16 23:51:54 WARN LazyStruct: Extra bytes detected at the end of the row! Ignoring similar problems.\n",
      "                                                                                \r"
     ]
    },
    {
     "name": "stdout",
     "output_type": "stream",
     "text": [
      "+--------+--------------------+-----------+-------------+\n",
      "|movie_id|               title|avg_ratings|total_ratings|\n",
      "+--------+--------------------+-----------+-------------+\n",
      "|    1580|Men in Black (a.k...|     3.6852|          162|\n",
      "|    1721|      Titanic (1997)|     3.6716|          134|\n",
      "|     858|          \"Godfather|     4.4136|          191|\n",
      "|    1270|Back to the Futur...|     4.2071|          169|\n",
      "|    1265|Groundhog Day (1993)|     4.1135|          141|\n",
      "|     588|      Aladdin (1992)|     3.9006|          181|\n",
      "|     296| Pulp Fiction (1994)|     4.3846|          299|\n",
      "|   68954|           Up (2009)|     4.2115|          104|\n",
      "|   58559|        \"Dark Knight|     4.4295|          149|\n",
      "|     593|\"Silence of the L...|     4.3164|          275|\n",
      "+--------+--------------------+-----------+-------------+\n",
      "only showing top 10 rows\n",
      "\n"
     ]
    }
   ],
   "source": [
    "spark.sql(\"\"\"\n",
    "SELECT mp.movie_id, title, avg_ratings, total_ratings \n",
    "    FROM most_popular_temp_table mp\n",
    "    INNER JOIN moviedb.movies m ON mp.movie_id = m.movie_id\n",
    "\"\"\").show(10)"
   ]
  },
  {
   "cell_type": "code",
   "execution_count": null,
   "id": "428f0e1e-cc9a-4041-ad0b-bfb344e107ae",
   "metadata": {},
   "outputs": [],
   "source": [
    "spark.sql(\"\"\"\n",
    "CREATE OR REPLACE TABLE moviedb.popular_movies AS\n",
    "SELECT mp.movie_id, title, avg_ratings, total_ratings \n",
    "    FROM most_popular_temp_table mp\n",
    "    INNER JOIN moviedb.movies m ON mp.movie_id = m.movie_id\n",
    "\"\"\").show(10)"
   ]
  }
 ],
 "metadata": {
  "kernelspec": {
   "display_name": "Python 3 (ipykernel)",
   "language": "python",
   "name": "python3"
  },
  "language_info": {
   "codemirror_mode": {
    "name": "ipython",
    "version": 3
   },
   "file_extension": ".py",
   "mimetype": "text/x-python",
   "name": "python",
   "nbconvert_exporter": "python",
   "pygments_lexer": "ipython3",
   "version": "3.8.12"
  }
 },
 "nbformat": 4,
 "nbformat_minor": 5
}

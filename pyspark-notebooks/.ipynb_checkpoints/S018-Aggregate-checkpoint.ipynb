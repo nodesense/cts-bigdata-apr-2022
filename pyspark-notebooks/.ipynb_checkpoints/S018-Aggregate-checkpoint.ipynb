{
 "cells": [
  {
   "cell_type": "code",
   "execution_count": 1,
   "id": "5aa2a6e8-1121-4a2b-89cc-d8231d3813f9",
   "metadata": {},
   "outputs": [],
   "source": [
    "import findspark\n",
    "findspark.init()"
   ]
  },
  {
   "cell_type": "code",
   "execution_count": 2,
   "id": "56484b6a-2b90-4c6e-9d03-f620917b5be3",
   "metadata": {},
   "outputs": [
    {
     "name": "stderr",
     "output_type": "stream",
     "text": [
      "22/05/07 01:32:24 WARN Utils: Your hostname, ubuntu-virtual-machine resolves to a loopback address: 127.0.1.1; using 192.168.174.129 instead (on interface ens33)\n",
      "22/05/07 01:32:24 WARN Utils: Set SPARK_LOCAL_IP if you need to bind to another address\n",
      "22/05/07 01:32:25 WARN NativeCodeLoader: Unable to load native-hadoop library for your platform... using builtin-java classes where applicable\n",
      "Using Spark's default log4j profile: org/apache/spark/log4j-defaults.properties\n",
      "Setting default log level to \"WARN\".\n",
      "To adjust logging level use sc.setLogLevel(newLevel). For SparkR, use setLogLevel(newLevel).\n",
      "22/05/07 01:32:28 WARN Utils: Service 'SparkUI' could not bind on port 4040. Attempting port 4041.\n"
     ]
    }
   ],
   "source": [
    "from pyspark import SparkContext\n",
    "sc = SparkContext(\"local\", \"Aggregate\")"
   ]
  },
  {
   "cell_type": "code",
   "execution_count": 5,
   "id": "ce55b283-eb9b-4b0a-a564-bbf48f5eb0f4",
   "metadata": {},
   "outputs": [
    {
     "data": {
      "text/plain": [
       "(15, 6)"
      ]
     },
     "execution_count": 5,
     "metadata": {},
     "output_type": "execute_result"
    }
   ],
   "source": [
    "seqOp = (lambda x, y: (x[0] + y, x[1] + 1))\n",
    "combOp = (lambda x, y: (x[0] + y[0], x[1] + y[1]))\n",
    "sc.parallelize([1, 2, 3]).aggregate((0, 0), seqOp, combOp)"
   ]
  },
  {
   "cell_type": "code",
   "execution_count": 10,
   "id": "b44733dc-7838-437a-a840-b3c81c0125e5",
   "metadata": {},
   "outputs": [
    {
     "name": "stdout",
     "output_type": "stream",
     "text": [
      "cOp (0, 0) (10, 4)\n",
      "cOp (10, 4) (35, 5)\n",
      "result  (45, 9)\n"
     ]
    },
    {
     "name": "stderr",
     "output_type": "stream",
     "text": [
      "sOP (0, 0) 1\n",
      "sOP (1, 1) 2\n",
      "sOP (3, 2) 3\n",
      "sOP (6, 3) 4\n",
      "sOP (0, 0) 5\n",
      "sOP (5, 1) 6\n",
      "sOP (11, 2) 7\n",
      "sOP (18, 3) 8\n",
      "sOP (26, 4) 9\n"
     ]
    }
   ],
   "source": [
    "def sOp(x, y):\n",
    "    print(\"sOP\", x, y)\n",
    "    # x is tuple, x[0] is sum value, x[1] is count  value\n",
    "    return (x[0] + y, x[1] + 1) # return tuple\n",
    "def cOp(x, y):\n",
    "    print (\"cOp\", x, y)\n",
    "    # x is tuple, x[0] is sum value, x[1] is count value, since it is combine func, we sum total result\n",
    "    return (x[0] + y[0], x[1] + y[1]) # return tuple\n",
    "    \n",
    "seqOp = (lambda x, y: sOp(x, y) )\n",
    "combOp = (lambda x, y: cOp(x, y))\n",
    "\"\"\"\n",
    "(0, 0)  -- aggregate initial value \n",
    "            first   0 - represent sum of values\n",
    "            second 0 - represent count of values\n",
    "            \n",
    "seqOp - Sequence operation is executed first at all teh partitions\n",
    "combOp - Combine operations - executed last , result of SeqOp is passed as input to combine Operation\n",
    "\"\"\"\n",
    "result = sc.parallelize([1, 2, 3, 4, 5, 6, 7, 8,9], 2).aggregate((0, 0), seqOp, combOp)\n",
    "print(\"result \", result)"
   ]
  },
  {
   "cell_type": "code",
   "execution_count": null,
   "id": "5a63c3f5-4d8f-4591-a812-943f893e38e4",
   "metadata": {},
   "outputs": [],
   "source": []
  }
 ],
 "metadata": {
  "kernelspec": {
   "display_name": "Python 3 (ipykernel)",
   "language": "python",
   "name": "python3"
  },
  "language_info": {
   "codemirror_mode": {
    "name": "ipython",
    "version": 3
   },
   "file_extension": ".py",
   "mimetype": "text/x-python",
   "name": "python",
   "nbconvert_exporter": "python",
   "pygments_lexer": "ipython3",
   "version": "3.8.12"
  }
 },
 "nbformat": 4,
 "nbformat_minor": 5
}

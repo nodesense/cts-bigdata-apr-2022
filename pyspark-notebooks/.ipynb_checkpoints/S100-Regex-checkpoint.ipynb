{
 "cells": [
  {
   "cell_type": "code",
   "execution_count": 1,
   "id": "bf777c08-e5e8-4de4-8b3d-6967bf5d199f",
   "metadata": {},
   "outputs": [],
   "source": [
    "# regex module called re\n",
    "import re\n",
    "\n",
    "# findall [all occurance], search [first occ]\n"
   ]
  },
  {
   "cell_type": "code",
   "execution_count": 13,
   "id": "3198e34f-9af7-4f1e-905a-a03b97eef57b",
   "metadata": {},
   "outputs": [],
   "source": [
    "s = \"\"\"\n",
    "hello\n",
    "learning python\n",
    "learning pyspark\n",
    "learning driving\n",
    "learning kafka\n",
    "all * stars\n",
    "cooking food\n",
    "eating food\n",
    "\"\"\""
   ]
  },
  {
   "cell_type": "code",
   "execution_count": 14,
   "id": "a47e4445-888d-4c96-99e2-ac9d2dd7e04b",
   "metadata": {},
   "outputs": [
    {
     "name": "stdout",
     "output_type": "stream",
     "text": [
      "<re.Match object; span=(7, 22), match='learning python'>\n"
     ]
    }
   ],
   "source": [
    "# ^ start of string on each line\n",
    "# search means first occurance\n",
    "# .* means anything\n",
    "# start with learning then anything\n",
    "#s = \"learning python\"\n",
    "# $ end of line\n",
    "result = re.search(\"^learning.*$\", s, re.MULTILINE)\n",
    "print (result)\n",
    "# if result is not NONE means we have match,or \n",
    "# if result is none means no match"
   ]
  },
  {
   "cell_type": "code",
   "execution_count": 15,
   "id": "77ebaa23-df97-4146-bc61-ef0163b64cd4",
   "metadata": {},
   "outputs": [
    {
     "name": "stdout",
     "output_type": "stream",
     "text": [
      "['learning python', 'learning pyspark', 'learning driving', 'learning kafka']\n"
     ]
    }
   ],
   "source": [
    "# returns list of matches, empty list if no match\n",
    "result = re.findall(\"^learning.*$\", s, re.MULTILINE)\n",
    "print (result)"
   ]
  },
  {
   "cell_type": "code",
   "execution_count": 17,
   "id": "dca6ee5d-8c29-4b5f-9864-62f02cfb6fbe",
   "metadata": {},
   "outputs": [
    {
     "name": "stdout",
     "output_type": "stream",
     "text": [
      "['learning python', 'learning pyspark', 'learning driving', 'learning kafka', 'cooking food', 'eating food']\n"
     ]
    }
   ],
   "source": [
    "# find lines that has ing\n",
    "result = re.findall(\"^.*ing.*$\", s, re.MULTILINE)\n",
    "print (result)"
   ]
  },
  {
   "cell_type": "code",
   "execution_count": null,
   "id": "be71d27f-8929-4c22-aaba-c5e2fd77365d",
   "metadata": {},
   "outputs": [],
   "source": []
  }
 ],
 "metadata": {
  "kernelspec": {
   "display_name": "Python 3 (ipykernel)",
   "language": "python",
   "name": "python3"
  },
  "language_info": {
   "codemirror_mode": {
    "name": "ipython",
    "version": 3
   },
   "file_extension": ".py",
   "mimetype": "text/x-python",
   "name": "python",
   "nbconvert_exporter": "python",
   "pygments_lexer": "ipython3",
   "version": "3.8.12"
  }
 },
 "nbformat": 4,
 "nbformat_minor": 5
}

{
 "cells": [
  {
   "cell_type": "code",
   "execution_count": 1,
   "id": "95802bfa-fc9c-4961-aa53-831c5536f447",
   "metadata": {},
   "outputs": [],
   "source": [
    "import findspark\n",
    "findspark.init()"
   ]
  },
  {
   "cell_type": "code",
   "execution_count": 2,
   "id": "19f94604-07f3-488b-baa2-904f95b48766",
   "metadata": {},
   "outputs": [
    {
     "name": "stderr",
     "output_type": "stream",
     "text": [
      "22/05/09 20:15:06 WARN Utils: Your hostname, ubuntu-virtual-machine resolves to a loopback address: 127.0.1.1; using 192.168.174.129 instead (on interface ens33)\n",
      "22/05/09 20:15:06 WARN Utils: Set SPARK_LOCAL_IP if you need to bind to another address\n",
      "22/05/09 20:15:08 WARN NativeCodeLoader: Unable to load native-hadoop library for your platform... using builtin-java classes where applicable\n",
      "Using Spark's default log4j profile: org/apache/spark/log4j-defaults.properties\n",
      "Setting default log level to \"WARN\".\n",
      "To adjust logging level use sc.setLogLevel(newLevel). For SparkR, use setLogLevel(newLevel).\n",
      "22/05/09 20:15:17 WARN Utils: Service 'SparkUI' could not bind on port 4040. Attempting port 4041.\n",
      "22/05/09 20:15:17 WARN Utils: Service 'SparkUI' could not bind on port 4041. Attempting port 4042.\n",
      "22/05/09 20:15:17 WARN Utils: Service 'SparkUI' could not bind on port 4042. Attempting port 4043.\n"
     ]
    }
   ],
   "source": [
    "\n",
    "from pyspark.conf import SparkConf\n",
    "config = SparkConf()\n",
    "# config.set(\"property\", \"value\")\n",
    "config.setMaster(\"local\").setAppName(\"DataFrameBasic\")\n",
    "\n",
    "from pyspark.sql import SparkSession\n",
    "# spark Session, entry point for Spark SQL, DataFrame\n",
    "spark = SparkSession.builder\\\n",
    "                    .config(conf=config)\\\n",
    "                    .getOrCreate()\n",
    "\n",
    "sc = spark.sparkContext"
   ]
  },
  {
   "cell_type": "code",
   "execution_count": 3,
   "id": "d774f091-22c6-4868-bc8a-0d10efe616e6",
   "metadata": {},
   "outputs": [],
   "source": [
    "# spark dataframe\n",
    "# Structured Data\n",
    "# data + schema\n",
    "# schema will contain columns and data types\n",
    "# data - rows with columns as per schema\n",
    "# DataFrame Core Engine, Spark SQL Core are same\n",
    "# DataFRame internally has RDD,, Rdd[Row]\n",
    "# DataFrame is as alias, the actual data still on RDD only\n",
    "# Data Frame is API, when we call the API, internally API is converted into \n",
    "# various plans [logical, optimized, physical plans] and finally physical plan\n",
    "# used to create Java Byte Code using Scala Compiler\n",
    "# When it comes to execution, it is Still RDD, transformation, action only"
   ]
  },
  {
   "cell_type": "code",
   "execution_count": 4,
   "id": "9eb9051a-50bc-461c-b03d-b3b68d25e194",
   "metadata": {},
   "outputs": [
    {
     "name": "stdout",
     "output_type": "stream",
     "text": [
      "root\n",
      " |-- product_id: long (nullable = true)\n",
      " |-- product_name: string (nullable = true)\n",
      " |-- price: double (nullable = true)\n",
      " |-- brand_id: long (nullable = true)\n",
      " |-- offer: long (nullable = true)\n",
      "\n"
     ]
    },
    {
     "name": "stderr",
     "output_type": "stream",
     "text": [
      "                                                                                \r"
     ]
    },
    {
     "name": "stdout",
     "output_type": "stream",
     "text": [
      "+----------+------------+------+--------+-----+\n",
      "|product_id|product_name| price|brand_id|offer|\n",
      "+----------+------------+------+--------+-----+\n",
      "|         1|      iPhone|1000.0|     100|    0|\n",
      "|         2|      Galaxy| 545.5|     101| null|\n",
      "|         3|       Pixel|645.99|     101| null|\n",
      "+----------+------------+------+--------+-----+\n",
      "\n"
     ]
    }
   ],
   "source": [
    "products = [\n",
    "    # (product_id, product_name, price, brand_id, offer)\n",
    "    (1, 'iPhone', 1000.0, 100, 0),\n",
    "    (2, 'Galaxy', 545.50, 101, None),\n",
    "    (3, 'Pixel', 645.99, 101, None)\n",
    "]\n",
    "\n",
    "# no data type mentioned, however we will let spark to infer schema by reading data\n",
    "schema = ['product_id', 'product_name', 'price', 'brand_id', 'offer']\n",
    "\n",
    "productDf = spark.createDataFrame(data=products, schema=schema)\n",
    "\n",
    "# every data frame has schema, we can print it\n",
    "productDf.printSchema()\n",
    "# ASCII FORMAT\n",
    "productDf.show() # 20 records"
   ]
  },
  {
   "cell_type": "code",
   "execution_count": 5,
   "id": "0aadd6b2-6f3a-4112-9076-59ba246aa1b1",
   "metadata": {},
   "outputs": [
    {
     "data": {
      "text/plain": [
       "[Row(product_id=1, product_name='iPhone', price=1000.0, brand_id=100, offer=0),\n",
       " Row(product_id=2, product_name='Galaxy', price=545.5, brand_id=101, offer=None),\n",
       " Row(product_id=3, product_name='Pixel', price=645.99, brand_id=101, offer=None)]"
      ]
     },
     "execution_count": 5,
     "metadata": {},
     "output_type": "execute_result"
    }
   ],
   "source": [
    "# every data frame has rdd internally\n",
    "# data is nothing but api applied on rdd\n",
    "# DF is RDD of Row, each has has column name, value\n",
    "productDf.rdd.collect()"
   ]
  },
  {
   "cell_type": "code",
   "execution_count": 6,
   "id": "d484bc23-7b8d-4a49-b943-5423c947c8a8",
   "metadata": {},
   "outputs": [
    {
     "data": {
      "text/plain": [
       "1"
      ]
     },
     "execution_count": 6,
     "metadata": {},
     "output_type": "execute_result"
    }
   ],
   "source": [
    "# dataframe rdd partitions\n",
    "productDf.rdd.getNumPartitions()"
   ]
  },
  {
   "cell_type": "code",
   "execution_count": 7,
   "id": "a7a5ec1e-3b6e-4a21-b598-a057b869c189",
   "metadata": {},
   "outputs": [
    {
     "name": "stdout",
     "output_type": "stream",
     "text": [
      "root\n",
      " |-- product_id: long (nullable = true)\n",
      " |-- product_name: string (nullable = true)\n",
      " |-- price: double (nullable = true)\n",
      " |-- brand_id: long (nullable = true)\n",
      " |-- offer: long (nullable = true)\n",
      "\n",
      "+----------+------------+------+--------+-----+\n",
      "|product_id|product_name| price|brand_id|offer|\n",
      "+----------+------------+------+--------+-----+\n",
      "|         2|      Galaxy| 545.5|     101| null|\n",
      "|         3|       Pixel|645.99|     101| null|\n",
      "+----------+------------+------+--------+-----+\n",
      "\n"
     ]
    }
   ],
   "source": [
    "# data frame has transformation and actions\n",
    "# filter:  transformations, filter shall return dataframe which immutable\n",
    "# transformation are lazy\n",
    "# data frame filter\n",
    "# return a new data dataframe, it won't execute the data, no job, no action\n",
    "# Filer is api of dataframe, in sql known as where\n",
    "# python syntax\n",
    "df = productDf.filter (productDf[\"price\"] <= 750)\n",
    "df.printSchema()\n",
    "df.show()"
   ]
  },
  {
   "cell_type": "code",
   "execution_count": 8,
   "id": "9e1179bb-6256-40e1-8276-f2e1466f0e3d",
   "metadata": {},
   "outputs": [
    {
     "name": "stdout",
     "output_type": "stream",
     "text": [
      "root\n",
      " |-- product_name: string (nullable = true)\n",
      " |-- price: double (nullable = true)\n",
      "\n",
      "+------------+------+\n",
      "|product_name| price|\n",
      "+------------+------+\n",
      "|      iPhone|1000.0|\n",
      "|      Galaxy| 545.5|\n",
      "|       Pixel|645.99|\n",
      "+------------+------+\n",
      "\n"
     ]
    }
   ],
   "source": [
    "# select api, projection \n",
    "# creates schema with columns data type\n",
    "df = productDf.select(\"product_name\", \"price\")\n",
    "df.printSchema()\n",
    "df.show()"
   ]
  },
  {
   "cell_type": "code",
   "execution_count": 9,
   "id": "1a67e5ff-24e5-45c5-8161-cd84831e2f28",
   "metadata": {},
   "outputs": [
    {
     "name": "stdout",
     "output_type": "stream",
     "text": [
      "root\n",
      " |-- product_name: string (nullable = true)\n",
      " |-- upper(product_name): string (nullable = true)\n",
      " |-- price: double (nullable = true)\n",
      " |-- (price * 0.9): double (nullable = true)\n",
      "\n",
      "+------------+-------------------+------+-----------------+\n",
      "|product_name|upper(product_name)| price|    (price * 0.9)|\n",
      "+------------+-------------------+------+-----------------+\n",
      "|      iPhone|             IPHONE|1000.0|            900.0|\n",
      "|      Galaxy|             GALAXY| 545.5|           490.95|\n",
      "|       Pixel|              PIXEL|645.99|581.3910000000001|\n",
      "+------------+-------------------+------+-----------------+\n",
      "\n"
     ]
    }
   ],
   "source": [
    "# selectExpr dynamic expression, CAST, \n",
    "# SELECT upper(product_name), price * 0.9 \n",
    "df = productDf.selectExpr(\"product_name\", \"upper(product_name)\", \n",
    "                          \"price\", \"price  * .9\")\n",
    "\n",
    "df.printSchema()\n",
    "df.show()"
   ]
  },
  {
   "cell_type": "code",
   "execution_count": 10,
   "id": "f559ebd7-f797-4ce1-8338-caaa3d2eaf74",
   "metadata": {},
   "outputs": [
    {
     "name": "stdout",
     "output_type": "stream",
     "text": [
      "root\n",
      " |-- product_name: string (nullable = true)\n",
      " |-- title: string (nullable = true)\n",
      " |-- price: double (nullable = true)\n",
      " |-- grand_total: double (nullable = true)\n",
      "\n",
      "+------------+------+------+-----------------+\n",
      "|product_name| title| price|      grand_total|\n",
      "+------------+------+------+-----------------+\n",
      "|      iPhone|IPHONE|1000.0|            900.0|\n",
      "|      Galaxy|GALAXY| 545.5|           490.95|\n",
      "|       Pixel| PIXEL|645.99|581.3910000000001|\n",
      "+------------+------+------+-----------------+\n",
      "\n"
     ]
    }
   ],
   "source": [
    "# selectExpr dynamic expression, CAST, \n",
    "# SELECT upper(product_name), price * 0.9 \n",
    "# mixing python, sql\n",
    "df = productDf.selectExpr(\"product_name\", \"upper(product_name) as title\", \n",
    "                          \"price\", \"price  * .9 as grand_total\")\n",
    "\n",
    "df.printSchema()\n",
    "df.show()"
   ]
  },
  {
   "cell_type": "code",
   "execution_count": 11,
   "id": "363bacbf-a31c-4da5-9a73-e7c84c5f662d",
   "metadata": {},
   "outputs": [
    {
     "name": "stdout",
     "output_type": "stream",
     "text": [
      "root\n",
      " |-- product_id: long (nullable = true)\n",
      " |-- product_name: string (nullable = true)\n",
      " |-- price: double (nullable = true)\n",
      " |-- brand_id: long (nullable = true)\n",
      " |-- offer: long (nullable = true)\n",
      " |-- offer_price: double (nullable = true)\n",
      "\n",
      "+----------+------------+------+--------+-----+-----------------+\n",
      "|product_id|product_name| price|brand_id|offer|      offer_price|\n",
      "+----------+------------+------+--------+-----+-----------------+\n",
      "|         1|      iPhone|1000.0|     100|    0|            900.0|\n",
      "|         2|      Galaxy| 545.5|     101| null|           490.95|\n",
      "|         3|       Pixel|645.99|     101| null|581.3910000000001|\n",
      "+----------+------------+------+--------+-----+-----------------+\n",
      "\n"
     ]
    }
   ],
   "source": [
    "# derived a new column called offer_price, adding new column from existing columns\n",
    "df = productDf.withColumn(\"offer_price\", productDf.price * 0.9)\n",
    "df.printSchema()\n",
    "df.show()"
   ]
  },
  {
   "cell_type": "code",
   "execution_count": 12,
   "id": "e294a3ef-9f1e-4841-b38b-b556000ef152",
   "metadata": {},
   "outputs": [
    {
     "name": "stdout",
     "output_type": "stream",
     "text": [
      "root\n",
      " |-- product_id: long (nullable = true)\n",
      " |-- product_name: string (nullable = true)\n",
      " |-- total: double (nullable = true)\n",
      " |-- brand_id: long (nullable = true)\n",
      " |-- offer: long (nullable = true)\n",
      "\n",
      "+----------+------------+------+--------+-----+\n",
      "|product_id|product_name| total|brand_id|offer|\n",
      "+----------+------------+------+--------+-----+\n",
      "|         1|      iPhone|1000.0|     100|    0|\n",
      "|         2|      Galaxy| 545.5|     101| null|\n",
      "|         3|       Pixel|645.99|     101| null|\n",
      "+----------+------------+------+--------+-----+\n",
      "\n"
     ]
    }
   ],
   "source": [
    "# rename column\n",
    "df = productDf.withColumnRenamed(\"price\", \"total\")\n",
    "df.printSchema()\n",
    "df.show()"
   ]
  },
  {
   "cell_type": "code",
   "execution_count": 13,
   "id": "ef56e4dc-1b3f-4bd7-9dc1-df6d98dc67da",
   "metadata": {},
   "outputs": [
    {
     "name": "stdout",
     "output_type": "stream",
     "text": [
      "root\n",
      " |-- product_id: long (nullable = true)\n",
      " |-- product_name: string (nullable = true)\n",
      " |-- price: double (nullable = true)\n",
      " |-- offer: long (nullable = true)\n",
      "\n",
      "+----------+------------+------+-----+\n",
      "|product_id|product_name| price|offer|\n",
      "+----------+------------+------+-----+\n",
      "|         1|      iPhone|1000.0|    0|\n",
      "|         2|      Galaxy| 545.5| null|\n",
      "|         3|       Pixel|645.99| null|\n",
      "+----------+------------+------+-----+\n",
      "\n"
     ]
    }
   ],
   "source": [
    "# drop Columns\n",
    "df = productDf.drop(\"brand_id\")\n",
    "df.printSchema()\n",
    "df.show()"
   ]
  },
  {
   "cell_type": "code",
   "execution_count": 14,
   "id": "b44670ee-45c5-494a-a6f3-82016199feb2",
   "metadata": {},
   "outputs": [
    {
     "name": "stdout",
     "output_type": "stream",
     "text": [
      "root\n",
      " |-- product_id: long (nullable = true)\n",
      " |-- product_name: string (nullable = true)\n",
      " |-- price: double (nullable = true)\n",
      " |-- brand_id: long (nullable = true)\n",
      " |-- offer: long (nullable = true)\n",
      "\n",
      "+----------+------------+-----+--------+-----+\n",
      "|product_id|product_name|price|brand_id|offer|\n",
      "+----------+------------+-----+--------+-----+\n",
      "|         2|      Galaxy|545.5|     101| null|\n",
      "+----------+------------+-----+--------+-----+\n",
      "\n"
     ]
    }
   ],
   "source": [
    "# filter, where conditions\n",
    "# filter and where are same, alias\n",
    "# python expression\n",
    "df = productDf.filter( (productDf.price >= 500) & (productDf[\"price\"] < 600))\n",
    "df.printSchema()\n",
    "df.show()"
   ]
  },
  {
   "cell_type": "code",
   "execution_count": 15,
   "id": "5a1bae46-0946-4085-bc2a-a2bc9bb61335",
   "metadata": {},
   "outputs": [
    {
     "name": "stdout",
     "output_type": "stream",
     "text": [
      "root\n",
      " |-- product_id: long (nullable = true)\n",
      " |-- product_name: string (nullable = true)\n",
      " |-- price: double (nullable = true)\n",
      " |-- brand_id: long (nullable = true)\n",
      " |-- offer: long (nullable = true)\n",
      "\n",
      "+----------+------------+-----+--------+-----+\n",
      "|product_id|product_name|price|brand_id|offer|\n",
      "+----------+------------+-----+--------+-----+\n",
      "|         2|      Galaxy|545.5|     101| null|\n",
      "+----------+------------+-----+--------+-----+\n",
      "\n"
     ]
    }
   ],
   "source": [
    "# filter and where are same\n",
    "df = productDf.where( (productDf.price >= 500) & (productDf[\"price\"] < 600))\n",
    "df.printSchema()\n",
    "df.show()"
   ]
  },
  {
   "cell_type": "code",
   "execution_count": 22,
   "id": "79946b5e-695a-402a-8ae2-1b090941ed44",
   "metadata": {},
   "outputs": [
    {
     "name": "stdout",
     "output_type": "stream",
     "text": [
      "root\n",
      " |-- product_id: long (nullable = true)\n",
      " |-- product_name: string (nullable = true)\n",
      " |-- price: double (nullable = true)\n",
      " |-- brand_id: long (nullable = true)\n",
      " |-- offer: long (nullable = true)\n",
      "\n",
      "+----------+------------+-----+--------+-----+\n",
      "|product_id|product_name|price|brand_id|offer|\n",
      "+----------+------------+-----+--------+-----+\n",
      "|         2|      Galaxy|545.5|     101| null|\n",
      "+----------+------------+-----+--------+-----+\n",
      "\n"
     ]
    }
   ],
   "source": [
    "# pyspark, filter, or where with sql expression, MIX\n",
    "df = productDf.where (\" price >= 500 AND price < 600\")\n",
    "df.printSchema()\n",
    "df.show()"
   ]
  },
  {
   "cell_type": "code",
   "execution_count": 21,
   "id": "8045dac6-3f89-4a21-b203-074a4682b3c6",
   "metadata": {},
   "outputs": [
    {
     "name": "stdout",
     "output_type": "stream",
     "text": [
      "root\n",
      " |-- product_id: long (nullable = true)\n",
      " |-- product_name: string (nullable = true)\n",
      " |-- price: double (nullable = true)\n",
      " |-- brand_id: long (nullable = true)\n",
      " |-- offer: long (nullable = true)\n",
      "\n",
      "df schema\n",
      "root\n",
      " |-- product_id: long (nullable = true)\n",
      " |-- product_name: string (nullable = true)\n",
      " |-- price: double (nullable = true)\n",
      " |-- offer: long (nullable = true)\n",
      "\n",
      "+----------+------------+-------+-----+\n",
      "|product_id|product_name|  price|offer|\n",
      "+----------+------------+-------+-----+\n",
      "|         1|      iPhone| 2000.0|    0|\n",
      "|         2|      Galaxy| 1091.0| null|\n",
      "|         3|       Pixel|1291.98| null|\n",
      "+----------+------------+-------+-----+\n",
      "\n",
      "+----------+------------+------+-----+\n",
      "|product_id|product_name| price|offer|\n",
      "+----------+------------+------+-----+\n",
      "|         1|      iPhone|1000.0|    0|\n",
      "|         2|      Galaxy| 545.5| null|\n",
      "|         3|       Pixel|645.99| null|\n",
      "+----------+------------+------+-----+\n",
      "\n"
     ]
    }
   ],
   "source": [
    "df = productDf.drop(\"brand_id\")\n",
    "productDf.printSchema()\n",
    "print(\"df schema\")\n",
    "df.printSchema()\n",
    "df2 = df.withColumn(\"price\", df[\"price\"] * 2)\n",
    "df2.show()\n",
    "df.show()"
   ]
  },
  {
   "cell_type": "code",
   "execution_count": 23,
   "id": "b1814624-41d0-41a1-b43b-ca3064849ab3",
   "metadata": {},
   "outputs": [
    {
     "name": "stdout",
     "output_type": "stream",
     "text": [
      "Column<'price'>\n",
      "Column<'price'>\n",
      "Column<'price'>\n"
     ]
    }
   ],
   "source": [
    "\n",
    "# how to reference columns in pyspark, all refers to a class called Column\n",
    "print(productDf.price)\n",
    "print(productDf['price'])\n",
    "\n",
    "# with function col - column\n",
    "from pyspark.sql.functions import col\n",
    "print(col(\"price\"))\n"
   ]
  },
  {
   "cell_type": "code",
   "execution_count": 27,
   "id": "ee8e0536-5dcb-4dc3-bfaa-6afc9b4c5378",
   "metadata": {},
   "outputs": [
    {
     "name": "stdout",
     "output_type": "stream",
     "text": [
      "root\n",
      " |-- product_id: long (nullable = true)\n",
      " |-- product_name: string (nullable = true)\n",
      " |-- price: double (nullable = true)\n",
      " |-- brand_id: long (nullable = true)\n",
      " |-- offer: long (nullable = true)\n",
      " |-- qty: integer (nullable = false)\n",
      " |-- amount: double (nullable = true)\n",
      "\n",
      "+----------+------------+------+--------+-----+---+-------+\n",
      "|product_id|product_name| price|brand_id|offer|qty| amount|\n",
      "+----------+------------+------+--------+-----+---+-------+\n",
      "|         1|      iPhone|1000.0|     100|    0|  4| 4000.0|\n",
      "|         2|      Galaxy| 545.5|     101| null|  4| 2182.0|\n",
      "|         3|       Pixel|645.99|     101| null|  4|2583.96|\n",
      "+----------+------------+------+--------+-----+---+-------+\n",
      "\n"
     ]
    }
   ],
   "source": [
    "# add a new column, which a fixed constant\n",
    "from pyspark.sql.functions import lit , col\n",
    "# lit - literal - constant\n",
    "df = productDf.withColumn(\"qty\", lit(4))\\\n",
    "              .withColumn(\"amount\", col(\"qty\")  *  productDf.price)\n",
    "\n",
    "df.printSchema()\n",
    "df.show()"
   ]
  },
  {
   "cell_type": "code",
   "execution_count": 28,
   "id": "caccedab-5b1b-4c90-ad94-4ed79b2879c4",
   "metadata": {},
   "outputs": [
    {
     "name": "stdout",
     "output_type": "stream",
     "text": [
      "+----------+------------+------+--------+-----+\n",
      "|product_id|product_name| price|brand_id|offer|\n",
      "+----------+------------+------+--------+-----+\n",
      "|         2|      Galaxy| 545.5|     101| null|\n",
      "|         3|       Pixel|645.99|     101| null|\n",
      "|         1|      iPhone|1000.0|     100|    0|\n",
      "+----------+------------+------+--------+-----+\n",
      "\n"
     ]
    }
   ],
   "source": [
    "# sort data ascending order\n",
    "df = productDf.sort(\"price\") # spark sql, asc is default\n",
    "df.show()"
   ]
  },
  {
   "cell_type": "code",
   "execution_count": 30,
   "id": "b6dcf7fe-407c-40e1-a4ea-8898ea524ad3",
   "metadata": {},
   "outputs": [
    {
     "name": "stdout",
     "output_type": "stream",
     "text": [
      "+----------+------------+------+--------+-----+\n",
      "|product_id|product_name| price|brand_id|offer|\n",
      "+----------+------------+------+--------+-----+\n",
      "|         2|      Galaxy| 545.5|     101| null|\n",
      "|         3|       Pixel|645.99|     101| null|\n",
      "|         1|      iPhone|1000.0|     100|    0|\n",
      "+----------+------------+------+--------+-----+\n",
      "\n"
     ]
    }
   ],
   "source": [
    "# sorting decending order\n",
    "from pyspark.sql.functions import desc, asc\n",
    "df = productDf.sort(desc(\"price\"))\n",
    "df.show()"
   ]
  },
  {
   "cell_type": "code",
   "execution_count": 31,
   "id": "09dbdc68-9183-4595-b691-e09a020c494f",
   "metadata": {},
   "outputs": [
    {
     "name": "stdout",
     "output_type": "stream",
     "text": [
      "+----------+------------+------+--------+-----+\n",
      "|product_id|product_name| price|brand_id|offer|\n",
      "+----------+------------+------+--------+-----+\n",
      "|         2|      Galaxy| 545.5|     101| null|\n",
      "|         3|       Pixel|645.99|     101| null|\n",
      "|         1|      iPhone|1000.0|     100|    0|\n",
      "+----------+------------+------+--------+-----+\n",
      "\n",
      "+----------+------------+------+--------+-----+\n",
      "|product_id|product_name| price|brand_id|offer|\n",
      "+----------+------------+------+--------+-----+\n",
      "|         1|      iPhone|1000.0|     100|    0|\n",
      "|         3|       Pixel|645.99|     101| null|\n",
      "|         2|      Galaxy| 545.5|     101| null|\n",
      "+----------+------------+------+--------+-----+\n",
      "\n"
     ]
    }
   ],
   "source": [
    "# alternatively use dataframe columns if we have df reference\n",
    "df = productDf.sort (productDf.price.asc())\n",
    "df.show()\n",
    "# desc\n",
    "df = productDf.sort (productDf.price.desc())\n",
    "df.show()"
   ]
  },
  {
   "cell_type": "code",
   "execution_count": 32,
   "id": "207121ab-2f3d-4b08-8387-863158ec9d8d",
   "metadata": {},
   "outputs": [
    {
     "name": "stdout",
     "output_type": "stream",
     "text": [
      "+----------+------------+------+--------+-----+\n",
      "|product_id|product_name| price|brand_id|offer|\n",
      "+----------+------------+------+--------+-----+\n",
      "|         1|      iPhone|1000.0|     100|    0|\n",
      "|         2|      Galaxy| 545.5|     101| null|\n",
      "|         3|       Pixel|645.99|     101| null|\n",
      "+----------+------------+------+--------+-----+\n",
      "\n",
      "+----------+------------+------+--------+-----+\n",
      "|product_id|product_name| price|brand_id|offer|\n",
      "+----------+------------+------+--------+-----+\n",
      "|         1|      iPhone|1000.0|     100|    0|\n",
      "|         2|      Galaxy| 545.5|     101|    0|\n",
      "|         3|       Pixel|645.99|     101|    0|\n",
      "+----------+------------+------+--------+-----+\n",
      "\n"
     ]
    }
   ],
   "source": [
    "# now fillna /non available\n",
    "productDf.show()\n",
    "df = productDf.fillna(value=0) # null value is replaced with 0 value\n",
    "df.show()"
   ]
  },
  {
   "cell_type": "code",
   "execution_count": 35,
   "id": "44f7d907-cfd5-4607-ac34-8f5d4e3c0811",
   "metadata": {},
   "outputs": [
    {
     "name": "stdout",
     "output_type": "stream",
     "text": [
      "+----------+------------+------+--------+-----+\n",
      "|product_id|product_name| price|brand_id|offer|\n",
      "+----------+------------+------+--------+-----+\n",
      "|         1|      iPhone|1000.0|     100|    0|\n",
      "|         2|      Galaxy| 545.5|     101| null|\n",
      "|         3|       Pixel|645.99|     101| null|\n",
      "+----------+------------+------+--------+-----+\n",
      "\n",
      "+----------+------------+------+--------+-----+\n",
      "|product_id|product_name| price|brand_id|offer|\n",
      "+----------+------------+------+--------+-----+\n",
      "|         1|      iPhone|1000.0|     100|    0|\n",
      "|         2|      Galaxy| 545.5|     101|    0|\n",
      "|         3|       Pixel|645.99|     101|    0|\n",
      "+----------+------------+------+--------+-----+\n",
      "\n"
     ]
    }
   ],
   "source": [
    "# now fillna /non available, limit to specific columns\n",
    "productDf.show()\n",
    "df = productDf.fillna(value=0, subset=['offer']) # null value is replaced with 0 value\n",
    "df.show()"
   ]
  },
  {
   "cell_type": "code",
   "execution_count": null,
   "id": "83903d58-2814-40ab-8cf2-486a75e97535",
   "metadata": {},
   "outputs": [],
   "source": []
  }
 ],
 "metadata": {
  "kernelspec": {
   "display_name": "Python 3 (ipykernel)",
   "language": "python",
   "name": "python3"
  },
  "language_info": {
   "codemirror_mode": {
    "name": "ipython",
    "version": 3
   },
   "file_extension": ".py",
   "mimetype": "text/x-python",
   "name": "python",
   "nbconvert_exporter": "python",
   "pygments_lexer": "ipython3",
   "version": "3.8.12"
  }
 },
 "nbformat": 4,
 "nbformat_minor": 5
}

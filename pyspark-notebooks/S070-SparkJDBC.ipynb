{
 "cells": [
  {
   "cell_type": "code",
   "execution_count": 1,
   "id": "6ec3282c-6e5c-42ed-9785-7003ceaf842c",
   "metadata": {},
   "outputs": [],
   "source": [
    "import findspark\n",
    "findspark.init()"
   ]
  },
  {
   "cell_type": "code",
   "execution_count": 2,
   "id": "eeb29566-855e-464d-8cf4-6af40b4b438f",
   "metadata": {},
   "outputs": [
    {
     "name": "stderr",
     "output_type": "stream",
     "text": [
      "22/05/26 02:16:22 WARN Utils: Your hostname, ubuntu-virtual-machine resolves to a loopback address: 127.0.1.1; using 192.168.174.129 instead (on interface ens33)\n",
      "22/05/26 02:16:22 WARN Utils: Set SPARK_LOCAL_IP if you need to bind to another address\n",
      "22/05/26 02:16:24 WARN NativeCodeLoader: Unable to load native-hadoop library for your platform... using builtin-java classes where applicable\n",
      "Using Spark's default log4j profile: org/apache/spark/log4j-defaults.properties\n",
      "Setting default log level to \"WARN\".\n",
      "To adjust logging level use sc.setLogLevel(newLevel). For SparkR, use setLogLevel(newLevel).\n"
     ]
    }
   ],
   "source": [
    "from pyspark.conf import SparkConf\n",
    "config = SparkConf()\n",
    "# config.set(\"property\", \"value\")\n",
    "config.setMaster(\"local\").setAppName(\"HelloSparkSession\")\n",
    "\n",
    "from pyspark.sql import SparkSession\n",
    "# spark Session, entry point for Spark SQL, DataFrame\n",
    "spark = SparkSession.builder\\\n",
    "                    .config(conf=config)\\\n",
    "                    .getOrCreate()\n",
    "\n",
    "sc = spark.sparkContext"
   ]
  },
  {
   "cell_type": "code",
   "execution_count": null,
   "id": "f450fb54-682d-43c5-88a1-d31c31e07d04",
   "metadata": {},
   "outputs": [],
   "source": [
    "# sudo mysql -u root\n",
    "# CREATE DATABASE stockdb; \n",
    "# GRANT ALL PRIVILEGES ON stockdb.* TO 'team'@'localhost';"
   ]
  },
  {
   "cell_type": "code",
   "execution_count": 3,
   "id": "5eccb541-1717-4822-ab15-ddd64f381535",
   "metadata": {},
   "outputs": [
    {
     "name": "stderr",
     "output_type": "stream",
     "text": [
      "                                                                                \r"
     ]
    },
    {
     "name": "stdout",
     "output_type": "stream",
     "text": [
      "root\n",
      " |-- Company Name: string (nullable = true)\n",
      " |-- Industry: string (nullable = true)\n",
      " |-- Symbol: string (nullable = true)\n",
      " |-- Series: string (nullable = true)\n",
      " |-- ISIN Code: string (nullable = true)\n",
      "\n",
      "+------------------+------------------+----------+------+------------+\n",
      "|      Company Name|          Industry|    Symbol|Series|   ISIN Code|\n",
      "+------------------+------------------+----------+------+------------+\n",
      "|    Axis Bank Ltd.|FINANCIAL SERVICES|  AXISBANK|    EQ|INE238A01034|\n",
      "|Bajaj Finance Ltd.|FINANCIAL SERVICES|BAJFINANCE|    EQ|INE296A01024|\n",
      "+------------------+------------------+----------+------+------------+\n",
      "only showing top 2 rows\n",
      "\n"
     ]
    }
   ],
   "source": [
    "sectorDf =  ( spark.read\n",
    "                    .format(\"csv\")\n",
    "                    .option(\"header\", True)\n",
    "                    .option(\"inferSchema\", True)\n",
    "                    .option(\"delimitter\", \",\")\n",
    "                    .load(\"hdfs://192.168.11.48:9000/sectors\")\n",
    "            )\n",
    "sectorDf.printSchema()\n",
    "sectorDf.show(2)"
   ]
  },
  {
   "cell_type": "code",
   "execution_count": null,
   "id": "dd5b6169-20bd-4a2f-aab6-85167f9aca8b",
   "metadata": {},
   "outputs": [],
   "source": [
    "# ensure we have driver for mysql jdbc connectors\n",
    "# cd ~\n",
    "# wget https://dev.mysql.com/get/Downloads/Connector-J/mysql-connector-java-5.1.47.tar.gz\n",
    "# tar xf mysql-connector-java-5.1.47.tar.gz\n",
    "# cp mysql-connector-java-5.1.47/*.jar $SPARK_HOME/jars"
   ]
  },
  {
   "cell_type": "code",
   "execution_count": 7,
   "id": "8b6d9080-7c00-424e-a598-c3b7e89dfb86",
   "metadata": {},
   "outputs": [
    {
     "name": "stderr",
     "output_type": "stream",
     "text": [
      "                                                                                \r"
     ]
    }
   ],
   "source": [
    "# // Write dataframe into mysql\n",
    "# // mode - overwrite - sectors/existing  table, data shall be deleted\n",
    "# // mode - append - add records to existing table\n",
    "# // mode - ignore - if table already exist, silently ignore no write\n",
    "#                    if table not exist, it creates and insert record\n",
    "# // mode - error , throw error if table already has data\n",
    "#                   if no table exist, then it create table, insert record\n",
    "# // new table created, records shall be inserted\n",
    "# // \"jdbc\" - write to connect to db\n",
    "# // driver - mysql class name\n",
    "# // user - mysql user name\n",
    "# // password - mysql password\n",
    "# // dbtable - mysql table name\n",
    "( sectorDf\n",
    ".withColumnRenamed(\"Company Name\", \"Company\")\n",
    ".withColumnRenamed(\"ISIN Code\", \"ISIN\")\n",
    ".write\n",
    " .mode(\"overwrite\")\n",
    ".format(\"jdbc\")\n",
    ".option(\"url\", \"jdbc:mysql://localhost:3306/stockdb?allowPublicKeyRetrieval=true&autoReconnect=true&useSSL=false\")\n",
    ".option(\"driver\", \"com.mysql.jdbc.Driver\")\n",
    ".option(\"user\", \"team\")\n",
    ".option(\"password\", \"team1234\")\n",
    ".option(\"dbtable\", \"sectors_pyspark\")\n",
    " .save()\n",
    ")"
   ]
  },
  {
   "cell_type": "code",
   "execution_count": 8,
   "id": "a3475b92-6a2f-4c5f-8fbc-8ea306e9a073",
   "metadata": {},
   "outputs": [],
   "source": [
    "# check in mysql\n",
    "# use stockdb;\n",
    "# show tables;\n",
    "# desc sectors_pyspark;\n",
    "# select * from sectors_pyspark;"
   ]
  },
  {
   "cell_type": "code",
   "execution_count": 9,
   "id": "55c49802-bd9e-4c74-889b-166bedb7f487",
   "metadata": {},
   "outputs": [
    {
     "name": "stdout",
     "output_type": "stream",
     "text": [
      "root\n",
      " |-- Company: string (nullable = true)\n",
      " |-- Industry: string (nullable = true)\n",
      " |-- Symbol: string (nullable = true)\n",
      " |-- Series: string (nullable = true)\n",
      " |-- ISIN: string (nullable = true)\n",
      "\n",
      "+--------------------+------------------+----------+------+------------+\n",
      "|             Company|          Industry|    Symbol|Series|        ISIN|\n",
      "+--------------------+------------------+----------+------+------------+\n",
      "|      Axis Bank Ltd.|FINANCIAL SERVICES|  AXISBANK|    EQ|INE238A01034|\n",
      "|  Bajaj Finance Ltd.|FINANCIAL SERVICES|BAJFINANCE|    EQ|INE296A01024|\n",
      "|  Bajaj Finserv Ltd.|FINANCIAL SERVICES|BAJAJFINSV|    EQ|INE918I01018|\n",
      "|Cholamandalam Inv...|FINANCIAL SERVICES|  CHOLAFIN|    EQ|INE121A01024|\n",
      "|HDFC Asset Manage...|FINANCIAL SERVICES|   HDFCAMC|    EQ|INE127D01025|\n",
      "+--------------------+------------------+----------+------+------------+\n",
      "only showing top 5 rows\n",
      "\n"
     ]
    }
   ],
   "source": [
    "# // Now read data from mysql to DataFrame\n",
    "# // this will create schema automatically because database\n",
    "# // is structured already, it has table, column, data type etc\n",
    "# // Spark will read scheme definition from mysql and create dataframe\n",
    "# // automatically\n",
    "sectorDataFromMySqlDf = ( spark.read\n",
    ".format(\"jdbc\")\n",
    ".option(\"url\", \"jdbc:mysql://localhost:3306/stockdb?allowPublicKeyRetrieval=true&autoReconnect=true&useSSL=false\")\n",
    ".option(\"driver\", \"com.mysql.jdbc.Driver\")\n",
    ".option(\"user\", \"team\")\n",
    ".option(\"password\", \"team1234\")\n",
    ".option(\"dbtable\", \"sectors_pyspark\")\n",
    " .load()\n",
    " )\n",
    "\n",
    "sectorDataFromMySqlDf.printSchema()\n",
    "sectorDataFromMySqlDf.show(5)"
   ]
  },
  {
   "cell_type": "code",
   "execution_count": null,
   "id": "93f351b7-9074-4d3c-8b06-a4bdd21284d8",
   "metadata": {},
   "outputs": [],
   "source": []
  }
 ],
 "metadata": {
  "kernelspec": {
   "display_name": "Python 3 (ipykernel)",
   "language": "python",
   "name": "python3"
  },
  "language_info": {
   "codemirror_mode": {
    "name": "ipython",
    "version": 3
   },
   "file_extension": ".py",
   "mimetype": "text/x-python",
   "name": "python",
   "nbconvert_exporter": "python",
   "pygments_lexer": "ipython3",
   "version": "3.8.12"
  }
 },
 "nbformat": 4,
 "nbformat_minor": 5
}

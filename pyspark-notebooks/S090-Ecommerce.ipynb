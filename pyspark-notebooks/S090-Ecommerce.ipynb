{
 "cells": [
  {
   "cell_type": "code",
   "execution_count": null,
   "metadata": {
    "application/vnd.databricks.v1+cell": {
     "inputWidgets": {},
     "nuid": "038b416a-2ecc-4207-98c7-0c98bd1773c9",
     "showTitle": false,
     "title": ""
    }
   },
   "outputs": [
    {
     "data": {
      "text/html": [
       "<style scoped>\n",
       "  .ansiout {\n",
       "    display: block;\n",
       "    unicode-bidi: embed;\n",
       "    white-space: pre-wrap;\n",
       "    word-wrap: break-word;\n",
       "    word-break: break-all;\n",
       "    font-family: \"Source Code Pro\", \"Menlo\", monospace;;\n",
       "    font-size: 13px;\n",
       "    color: #555;\n",
       "    margin-left: 4px;\n",
       "    line-height: 19px;\n",
       "  }\n",
       "</style>\n",
       "<div class=\"ansiout\">+---------+---------+--------------------+--------+-----------+---------+----------+--------------+\n",
       "InvoiceNo|StockCode|         Description|Quantity|InvoiceDate|UnitPrice|CustomerID|       Country|\n",
       "+---------+---------+--------------------+--------+-----------+---------+----------+--------------+\n",
       "   536365|   85123A|WHITE HANGING HEA...|       6| 2010-12-01|     2.55|     17850|United Kingdom|\n",
       "   536365|    71053| WHITE METAL LANTERN|       6| 2010-12-01|     3.39|     17850|United Kingdom|\n",
       "+---------+---------+--------------------+--------+-----------+---------+----------+--------------+\n",
       "only showing top 2 rows\n",
       "\n",
       "</div>"
      ]
     },
     "metadata": {
      "application/vnd.databricks.v1+output": {
       "addedWidgets": {},
       "arguments": {},
       "data": "<div class=\"ansiout\">+---------+---------+--------------------+--------+-----------+---------+----------+--------------+\n|InvoiceNo|StockCode|         Description|Quantity|InvoiceDate|UnitPrice|CustomerID|       Country|\n+---------+---------+--------------------+--------+-----------+---------+----------+--------------+\n|   536365|   85123A|WHITE HANGING HEA...|       6| 2010-12-01|     2.55|     17850|United Kingdom|\n|   536365|    71053| WHITE METAL LANTERN|       6| 2010-12-01|     3.39|     17850|United Kingdom|\n+---------+---------+--------------------+--------+-----------+---------+----------+--------------+\nonly showing top 2 rows\n\n</div>",
       "datasetInfos": [
        {
         "name": "df",
         "schema": {
          "fields": [
           {
            "metadata": {},
            "name": "InvoiceNo",
            "nullable": true,
            "type": "string"
           },
           {
            "metadata": {},
            "name": "StockCode",
            "nullable": true,
            "type": "string"
           },
           {
            "metadata": {},
            "name": "Description",
            "nullable": true,
            "type": "string"
           },
           {
            "metadata": {},
            "name": "Quantity",
            "nullable": true,
            "type": "integer"
           },
           {
            "metadata": {},
            "name": "InvoiceDate",
            "nullable": true,
            "type": "date"
           },
           {
            "metadata": {},
            "name": "UnitPrice",
            "nullable": true,
            "type": "double"
           },
           {
            "metadata": {},
            "name": "CustomerID",
            "nullable": true,
            "type": "integer"
           },
           {
            "metadata": {},
            "name": "Country",
            "nullable": true,
            "type": "string"
           }
          ],
          "type": "struct"
         },
         "tableIdentifier": null,
         "typeStr": "pyspark.sql.dataframe.DataFrame"
        }
       ],
       "metadata": {},
       "removedWidgets": [],
       "type": "html"
      }
     },
     "output_type": "display_data"
    }
   ],
   "source": [
    "# Use Spark SQL with DataFrame, find the amount spend  by country code\n",
    "from pyspark.sql.types import DoubleType,StructType, StringType, IntegerType, DateType\n",
    "schema = StructType() \\\n",
    "         .add(\"InvoiceNo\", StringType(), True) \\\n",
    "         .add(\"StockCode\", StringType(), True) \\\n",
    "         .add(\"Description\", StringType(), True) \\\n",
    "         .add(\"Quantity\", IntegerType(), True) \\\n",
    "         .add(\"InvoiceDate\", DateType(), True) \\\n",
    "         .add(\"UnitPrice\", DoubleType(), True) \\\n",
    "         .add(\"CustomerID\", IntegerType(), True) \\\n",
    "         .add(\"Country\", StringType(), True)\n",
    "\n",
    "\n",
    "df = spark.read.format(\"csv\") \\\n",
    "                .option(\"header\", True) \\\n",
    "                .schema(schema) \\\n",
    "                .option(\"dateFormat\", \"MM/dd/yyyy HH:mm\")\\\n",
    "                .load(\"/FileStore/tables/data.csv\")\n",
    "\n",
    "df.show(2)\n"
   ]
  },
  {
   "cell_type": "code",
   "execution_count": null,
   "metadata": {
    "application/vnd.databricks.v1+cell": {
     "inputWidgets": {},
     "nuid": "2c1dd6df-5a76-46da-8a1f-6bd5df460225",
     "showTitle": false,
     "title": ""
    }
   },
   "outputs": [
    {
     "data": {
      "text/html": [
       "<style scoped>\n",
       "  .ansiout {\n",
       "    display: block;\n",
       "    unicode-bidi: embed;\n",
       "    white-space: pre-wrap;\n",
       "    word-wrap: break-word;\n",
       "    word-break: break-all;\n",
       "    font-family: \"Source Code Pro\", \"Menlo\", monospace;;\n",
       "    font-size: 13px;\n",
       "    color: #555;\n",
       "    margin-left: 4px;\n",
       "    line-height: 19px;\n",
       "  }\n",
       "</style>\n",
       "<div class=\"ansiout\">+---------+---------+--------------------+--------+-----------+---------+----------+--------------+\n",
       "InvoiceNo|StockCode|         Description|Quantity|InvoiceDate|UnitPrice|CustomerID|       Country|\n",
       "+---------+---------+--------------------+--------+-----------+---------+----------+--------------+\n",
       "   536365|   85123A|WHITE HANGING HEA...|       6| 2010-12-01|     2.55|     17850|United Kingdom|\n",
       "   536365|    71053| WHITE METAL LANTERN|       6| 2010-12-01|     3.39|     17850|United Kingdom|\n",
       "+---------+---------+--------------------+--------+-----------+---------+----------+--------------+\n",
       "only showing top 2 rows\n",
       "\n",
       "</div>"
      ]
     },
     "metadata": {
      "application/vnd.databricks.v1+output": {
       "addedWidgets": {},
       "arguments": {},
       "data": "<div class=\"ansiout\">+---------+---------+--------------------+--------+-----------+---------+----------+--------------+\n|InvoiceNo|StockCode|         Description|Quantity|InvoiceDate|UnitPrice|CustomerID|       Country|\n+---------+---------+--------------------+--------+-----------+---------+----------+--------------+\n|   536365|   85123A|WHITE HANGING HEA...|       6| 2010-12-01|     2.55|     17850|United Kingdom|\n|   536365|    71053| WHITE METAL LANTERN|       6| 2010-12-01|     3.39|     17850|United Kingdom|\n+---------+---------+--------------------+--------+-----------+---------+----------+--------------+\nonly showing top 2 rows\n\n</div>",
       "datasetInfos": [
        {
         "name": "filteredDf",
         "schema": {
          "fields": [
           {
            "metadata": {},
            "name": "InvoiceNo",
            "nullable": true,
            "type": "string"
           },
           {
            "metadata": {},
            "name": "StockCode",
            "nullable": true,
            "type": "string"
           },
           {
            "metadata": {},
            "name": "Description",
            "nullable": true,
            "type": "string"
           },
           {
            "metadata": {},
            "name": "Quantity",
            "nullable": true,
            "type": "integer"
           },
           {
            "metadata": {},
            "name": "InvoiceDate",
            "nullable": true,
            "type": "date"
           },
           {
            "metadata": {},
            "name": "UnitPrice",
            "nullable": true,
            "type": "double"
           },
           {
            "metadata": {},
            "name": "CustomerID",
            "nullable": true,
            "type": "integer"
           },
           {
            "metadata": {},
            "name": "Country",
            "nullable": true,
            "type": "string"
           }
          ],
          "type": "struct"
         },
         "tableIdentifier": null,
         "typeStr": "pyspark.sql.dataframe.DataFrame"
        }
       ],
       "metadata": {},
       "removedWidgets": [],
       "type": "html"
      }
     },
     "output_type": "display_data"
    }
   ],
   "source": [
    "from pyspark.sql.functions import col\n",
    " \n",
    "filteredDf = df.filter (\"Quantity  > 0 AND Quantity is NOT NULL\" )\n",
    "filteredDf.cache()\n",
    "filteredDf.show(2)"
   ]
  },
  {
   "cell_type": "code",
   "execution_count": null,
   "metadata": {
    "application/vnd.databricks.v1+cell": {
     "inputWidgets": {},
     "nuid": "98fb219f-c4b2-44f9-b473-f1f21b9c7a02",
     "showTitle": false,
     "title": ""
    }
   },
   "outputs": [
    {
     "data": {
      "text/html": [
       "<style scoped>\n",
       "  .ansiout {\n",
       "    display: block;\n",
       "    unicode-bidi: embed;\n",
       "    white-space: pre-wrap;\n",
       "    word-wrap: break-word;\n",
       "    word-break: break-all;\n",
       "    font-family: \"Source Code Pro\", \"Menlo\", monospace;;\n",
       "    font-size: 13px;\n",
       "    color: #555;\n",
       "    margin-left: 4px;\n",
       "    line-height: 19px;\n",
       "  }\n",
       "</style>\n",
       "<div class=\"ansiout\">+--------+---------+--------------+\n",
       "Quantity|UnitPrice|       Country|\n",
       "+--------+---------+--------------+\n",
       "       6|     2.55|United Kingdom|\n",
       "       6|     3.39|United Kingdom|\n",
       "+--------+---------+--------------+\n",
       "only showing top 2 rows\n",
       "\n",
       "</div>"
      ]
     },
     "metadata": {
      "application/vnd.databricks.v1+output": {
       "addedWidgets": {},
       "arguments": {},
       "data": "<div class=\"ansiout\">+--------+---------+--------------+\n|Quantity|UnitPrice|       Country|\n+--------+---------+--------------+\n|       6|     2.55|United Kingdom|\n|       6|     3.39|United Kingdom|\n+--------+---------+--------------+\nonly showing top 2 rows\n\n</div>",
       "datasetInfos": [
        {
         "name": "projectionDf",
         "schema": {
          "fields": [
           {
            "metadata": {},
            "name": "Quantity",
            "nullable": true,
            "type": "integer"
           },
           {
            "metadata": {},
            "name": "UnitPrice",
            "nullable": true,
            "type": "double"
           },
           {
            "metadata": {},
            "name": "Country",
            "nullable": true,
            "type": "string"
           }
          ],
          "type": "struct"
         },
         "tableIdentifier": null,
         "typeStr": "pyspark.sql.dataframe.DataFrame"
        }
       ],
       "metadata": {},
       "removedWidgets": [],
       "type": "html"
      }
     },
     "output_type": "display_data"
    }
   ],
   "source": [
    "projectionDf = filteredDf.select (\"Quantity\", \"UnitPrice\",  \"Country\")\n",
    "projectionDf.show(2)"
   ]
  },
  {
   "cell_type": "code",
   "execution_count": null,
   "metadata": {
    "application/vnd.databricks.v1+cell": {
     "inputWidgets": {},
     "nuid": "b12ef60d-40b6-436f-aa4f-90d2c65b2697",
     "showTitle": false,
     "title": ""
    }
   },
   "outputs": [
    {
     "data": {
      "text/html": [
       "<style scoped>\n",
       "  .ansiout {\n",
       "    display: block;\n",
       "    unicode-bidi: embed;\n",
       "    white-space: pre-wrap;\n",
       "    word-wrap: break-word;\n",
       "    word-break: break-all;\n",
       "    font-family: \"Source Code Pro\", \"Menlo\", monospace;;\n",
       "    font-size: 13px;\n",
       "    color: #555;\n",
       "    margin-left: 4px;\n",
       "    line-height: 19px;\n",
       "  }\n",
       "</style>\n",
       "<div class=\"ansiout\">+--------------+------------------+\n",
       "       Country|            Amount|\n",
       "+--------------+------------------+\n",
       "United Kingdom|15.299999999999999|\n",
       "United Kingdom|             20.34|\n",
       "United Kingdom|              22.0|\n",
       "United Kingdom|             20.34|\n",
       "United Kingdom|             20.34|\n",
       "United Kingdom|              15.3|\n",
       "United Kingdom|              25.5|\n",
       "United Kingdom|11.100000000000001|\n",
       "United Kingdom|11.100000000000001|\n",
       "United Kingdom|             54.08|\n",
       "United Kingdom|12.600000000000001|\n",
       "United Kingdom|12.600000000000001|\n",
       "United Kingdom|              30.0|\n",
       "United Kingdom| 9.899999999999999|\n",
       "United Kingdom|              25.5|\n",
       "United Kingdom|14.850000000000001|\n",
       "United Kingdom|              19.9|\n",
       "United Kingdom|             17.85|\n",
       "United Kingdom|             17.85|\n",
       "United Kingdom|              31.8|\n",
       "+--------------+------------------+\n",
       "only showing top 20 rows\n",
       "\n",
       "</div>"
      ]
     },
     "metadata": {
      "application/vnd.databricks.v1+output": {
       "addedWidgets": {},
       "arguments": {},
       "data": "<div class=\"ansiout\">+--------------+------------------+\n|       Country|            Amount|\n+--------------+------------------+\n|United Kingdom|15.299999999999999|\n|United Kingdom|             20.34|\n|United Kingdom|              22.0|\n|United Kingdom|             20.34|\n|United Kingdom|             20.34|\n|United Kingdom|              15.3|\n|United Kingdom|              25.5|\n|United Kingdom|11.100000000000001|\n|United Kingdom|11.100000000000001|\n|United Kingdom|             54.08|\n|United Kingdom|12.600000000000001|\n|United Kingdom|12.600000000000001|\n|United Kingdom|              30.0|\n|United Kingdom| 9.899999999999999|\n|United Kingdom|              25.5|\n|United Kingdom|14.850000000000001|\n|United Kingdom|              19.9|\n|United Kingdom|             17.85|\n|United Kingdom|             17.85|\n|United Kingdom|              31.8|\n+--------------+------------------+\nonly showing top 20 rows\n\n</div>",
       "datasetInfos": [
        {
         "name": "projectionDf2",
         "schema": {
          "fields": [
           {
            "metadata": {},
            "name": "Country",
            "nullable": true,
            "type": "string"
           },
           {
            "metadata": {},
            "name": "Amount",
            "nullable": true,
            "type": "double"
           }
          ],
          "type": "struct"
         },
         "tableIdentifier": null,
         "typeStr": "pyspark.sql.dataframe.DataFrame"
        }
       ],
       "metadata": {},
       "removedWidgets": [],
       "type": "html"
      }
     },
     "output_type": "display_data"
    }
   ],
   "source": [
    "from pyspark.sql.functions import split, month, year\n",
    "from pyspark.sql.functions import asc, desc, avg, col, count, avg, sum\n",
    "import pyspark.sql.functions as F\n",
    "# 1/17/2011 17:44 MONTH/DAY/YEAR\n",
    "# projectionDf.withColumn(\"Date\", split_col.getItem(0))\\\n",
    " \n",
    "\n",
    "from pyspark.sql.functions import concat, lit\n",
    "projectionDf2 = projectionDf\\\n",
    "                            .withColumn(\"Amount\",  col(\"Quantity\") * col(\"UnitPrice\"))\\\n",
    "                            .drop(\"Quantity\", \"UnitPrice\")\n",
    "                            \n",
    "                            \n",
    "\n",
    "#split_date = split(projectionDf[\"Date\"],\"/\") \n",
    "\n",
    "projectionDf2.show(20)"
   ]
  },
  {
   "cell_type": "code",
   "execution_count": null,
   "metadata": {
    "application/vnd.databricks.v1+cell": {
     "inputWidgets": {},
     "nuid": "5898b669-20f2-4963-9305-01b52eaae095",
     "showTitle": false,
     "title": ""
    }
   },
   "outputs": [
    {
     "data": {
      "text/html": [
       "<style scoped>\n",
       "  .ansiout {\n",
       "    display: block;\n",
       "    unicode-bidi: embed;\n",
       "    white-space: pre-wrap;\n",
       "    word-wrap: break-word;\n",
       "    word-break: break-all;\n",
       "    font-family: \"Source Code Pro\", \"Menlo\", monospace;;\n",
       "    font-size: 13px;\n",
       "    color: #555;\n",
       "    margin-left: 4px;\n",
       "    line-height: 19px;\n",
       "  }\n",
       "</style>\n",
       "<div class=\"ansiout\">+---------------+------------------+\n",
       "        Country|            Amount|\n",
       "+---------------+------------------+\n",
       " United Kingdom| 9003097.963999517|\n",
       "    Netherlands|285446.33999999997|\n",
       "           EIRE| 283453.9599999997|\n",
       "        Germany| 228867.1400000001|\n",
       "         France|209715.11000000002|\n",
       "      Australia|         138521.31|\n",
       "          Spain|61577.110000000015|\n",
       "    Switzerland| 57089.89999999996|\n",
       "        Belgium| 41196.34000000001|\n",
       "         Sweden|          38378.33|\n",
       "          Japan|          37416.37|\n",
       "         Norway|          36165.44|\n",
       "       Portugal|33747.100000000006|\n",
       "        Finland|22546.079999999998|\n",
       "      Singapore|          21279.29|\n",
       "Channel Islands|20450.440000000006|\n",
       "        Denmark|          18955.34|\n",
       "          Italy|17483.239999999998|\n",
       "      Hong Kong|15691.799999999994|\n",
       "         Cyprus|13590.379999999997|\n",
       "+---------------+------------------+\n",
       "only showing top 20 rows\n",
       "\n",
       "</div>"
      ]
     },
     "metadata": {
      "application/vnd.databricks.v1+output": {
       "addedWidgets": {},
       "arguments": {},
       "data": "<div class=\"ansiout\">+---------------+------------------+\n|        Country|            Amount|\n+---------------+------------------+\n| United Kingdom| 9003097.963999517|\n|    Netherlands|285446.33999999997|\n|           EIRE| 283453.9599999997|\n|        Germany| 228867.1400000001|\n|         France|209715.11000000002|\n|      Australia|         138521.31|\n|          Spain|61577.110000000015|\n|    Switzerland| 57089.89999999996|\n|        Belgium| 41196.34000000001|\n|         Sweden|          38378.33|\n|          Japan|          37416.37|\n|         Norway|          36165.44|\n|       Portugal|33747.100000000006|\n|        Finland|22546.079999999998|\n|      Singapore|          21279.29|\n|Channel Islands|20450.440000000006|\n|        Denmark|          18955.34|\n|          Italy|17483.239999999998|\n|      Hong Kong|15691.799999999994|\n|         Cyprus|13590.379999999997|\n+---------------+------------------+\nonly showing top 20 rows\n\n</div>",
       "datasetInfos": [
        {
         "name": "resultDf",
         "schema": {
          "fields": [
           {
            "metadata": {},
            "name": "Country",
            "nullable": true,
            "type": "string"
           },
           {
            "metadata": {},
            "name": "Amount",
            "nullable": true,
            "type": "double"
           }
          ],
          "type": "struct"
         },
         "tableIdentifier": null,
         "typeStr": "pyspark.sql.dataframe.DataFrame"
        }
       ],
       "metadata": {},
       "removedWidgets": [],
       "type": "html"
      }
     },
     "output_type": "display_data"
    }
   ],
   "source": [
    "from pyspark.sql.functions import desc\n",
    "\n",
    "resultDf = projectionDf2.groupBy(\"Country\")\\\n",
    "                    .agg(sum(\"Amount\"))\\\n",
    "                    .withColumnRenamed(\"sum(Amount)\", \"Amount\")\\\n",
    "                    .sort(desc(\"Amount\"))\n",
    "\n",
    "resultDf.show(20)"
   ]
  },
  {
   "cell_type": "code",
   "execution_count": null,
   "metadata": {
    "application/vnd.databricks.v1+cell": {
     "inputWidgets": {},
     "nuid": "7396e1f9-2086-48e1-9da5-04e549792f17",
     "showTitle": false,
     "title": ""
    }
   },
   "outputs": [
    {
     "data": {
      "text/html": [
       "<style scoped>\n",
       "  .ansiout {\n",
       "    display: block;\n",
       "    unicode-bidi: embed;\n",
       "    white-space: pre-wrap;\n",
       "    word-wrap: break-word;\n",
       "    word-break: break-all;\n",
       "    font-family: \"Source Code Pro\", \"Menlo\", monospace;;\n",
       "    font-size: 13px;\n",
       "    color: #555;\n",
       "    margin-left: 4px;\n",
       "    line-height: 19px;\n",
       "  }\n",
       "</style>\n",
       "<div class=\"ansiout\"></div>"
      ]
     },
     "metadata": {
      "application/vnd.databricks.v1+output": {
       "addedWidgets": {},
       "arguments": {},
       "data": "<div class=\"ansiout\"></div>",
       "datasetInfos": [
        {
         "name": "resultDf",
         "schema": {
          "fields": [
           {
            "metadata": {},
            "name": "StockCode",
            "nullable": true,
            "type": "string"
           },
           {
            "metadata": {},
            "name": "Date",
            "nullable": true,
            "type": "string"
           },
           {
            "metadata": {},
            "name": "Quantity",
            "nullable": true,
            "type": "long"
           }
          ],
          "type": "struct"
         },
         "tableIdentifier": null,
         "typeStr": "pyspark.sql.dataframe.DataFrame"
        }
       ],
       "metadata": {},
       "removedWidgets": [],
       "type": "html"
      }
     },
     "output_type": "display_data"
    }
   ],
   "source": [
    "outputFile = \"/FileStore/tables/assessment-5/results.csv\"\n",
    "# repartition will suffle data, good to be used between your analytics work, not end of the file writing\n",
    "# coalesce - will not suffle data, reduce  the partition, good to be used before producing file\n",
    "resultDf = resultDf.coalesce(1)\n",
    "resultDf.write.mode(\"overwrite\").option(\"header\", True).format(\"csv\").save(outputFile)"
   ]
  },
  {
   "cell_type": "code",
   "execution_count": null,
   "metadata": {
    "application/vnd.databricks.v1+cell": {
     "inputWidgets": {},
     "nuid": "68e8310a-070f-4ef6-b62a-790f7f62bc17",
     "showTitle": false,
     "title": ""
    }
   },
   "outputs": [
    {
     "data": {
      "text/html": [
       "<style scoped>\n",
       "  .ansiout {\n",
       "    display: block;\n",
       "    unicode-bidi: embed;\n",
       "    white-space: pre-wrap;\n",
       "    word-wrap: break-word;\n",
       "    word-break: break-all;\n",
       "    font-family: \"Source Code Pro\", \"Menlo\", monospace;;\n",
       "    font-size: 13px;\n",
       "    color: #555;\n",
       "    margin-left: 4px;\n",
       "    line-height: 19px;\n",
       "  }\n",
       "</style>"
      ]
     },
     "metadata": {
      "application/vnd.databricks.v1+output": {
       "arguments": {},
       "data": "",
       "errorSummary": "",
       "errorTraceType": null,
       "metadata": {},
       "type": "ipynbError"
      }
     },
     "output_type": "display_data"
    }
   ],
   "source": []
  }
 ],
 "metadata": {
  "application/vnd.databricks.v1+notebook": {
   "dashboards": [],
   "language": "python",
   "notebookMetadata": {
    "pythonIndentUnit": 2
   },
   "notebookName": "Assessment-5",
   "notebookOrigID": 3150985547955219,
   "widgets": {}
  },
  "kernelspec": {
   "display_name": "Python 3 (ipykernel)",
   "language": "python",
   "name": "python3"
  },
  "language_info": {
   "codemirror_mode": {
    "name": "ipython",
    "version": 3
   },
   "file_extension": ".py",
   "mimetype": "text/x-python",
   "name": "python",
   "nbconvert_exporter": "python",
   "pygments_lexer": "ipython3",
   "version": "3.8.12"
  }
 },
 "nbformat": 4,
 "nbformat_minor": 4
}

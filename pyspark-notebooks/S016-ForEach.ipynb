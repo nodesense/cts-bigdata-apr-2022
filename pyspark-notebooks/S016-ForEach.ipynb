{
 "cells": [
  {
   "cell_type": "code",
   "execution_count": 1,
   "id": "3a4c757d-eb75-40e7-9f65-3df5fcfd55ea",
   "metadata": {},
   "outputs": [],
   "source": [
    "# foreach - custom code you will write to process the result by item by item\n",
    "# foreachPartition - custom code you will write process data in each partition\n",
    "# foreach,foreachPartition are action methods\n",
    "#  foreach,foreachPartition runs on executors"
   ]
  },
  {
   "cell_type": "code",
   "execution_count": 2,
   "id": "e54bbcc1-edf7-4f24-8f2f-5354fe2f0ce8",
   "metadata": {},
   "outputs": [],
   "source": [
    "import findspark\n",
    "findspark.init()"
   ]
  },
  {
   "cell_type": "code",
   "execution_count": 3,
   "id": "e51c7c88-47f1-466d-ac25-4f24eac75754",
   "metadata": {},
   "outputs": [
    {
     "name": "stderr",
     "output_type": "stream",
     "text": [
      "22/05/06 22:20:46 WARN Utils: Your hostname, ubuntu-virtual-machine resolves to a loopback address: 127.0.1.1; using 192.168.174.129 instead (on interface ens33)\n",
      "22/05/06 22:20:46 WARN Utils: Set SPARK_LOCAL_IP if you need to bind to another address\n",
      "22/05/06 22:20:49 WARN NativeCodeLoader: Unable to load native-hadoop library for your platform... using builtin-java classes where applicable\n",
      "Using Spark's default log4j profile: org/apache/spark/log4j-defaults.properties\n",
      "Setting default log level to \"WARN\".\n",
      "To adjust logging level use sc.setLogLevel(newLevel). For SparkR, use setLogLevel(newLevel).\n",
      "22/05/06 22:20:59 WARN Utils: Service 'SparkUI' could not bind on port 4040. Attempting port 4041.\n",
      "22/05/06 22:20:59 WARN Utils: Service 'SparkUI' could not bind on port 4041. Attempting port 4042.\n",
      "22/05/06 22:20:59 WARN Utils: Service 'SparkUI' could not bind on port 4042. Attempting port 4043.\n",
      "22/05/06 22:20:59 WARN Utils: Service 'SparkUI' could not bind on port 4043. Attempting port 4044.\n"
     ]
    }
   ],
   "source": [
    "from pyspark import SparkContext\n",
    "sc = SparkContext(\"local\", \"ForEach\")"
   ]
  },
  {
   "cell_type": "code",
   "execution_count": 4,
   "id": "4f8596c2-7af5-4b92-abd2-4d2acaf1ac99",
   "metadata": {},
   "outputs": [
    {
     "name": "stderr",
     "output_type": "stream",
     "text": [
      "acc 0 value 200 output 200                                          (0 + 1) / 2]\n",
      "acc 0 value 50 output 50\n",
      "acc 0 value 20 output 20\n",
      "acc 0 value 100 output 100\n",
      "acc 0 value 25 output 25\n",
      "acc 200 value 100 output 300                                        (0 + 1) / 2]\n",
      "acc 50 value 25 output 75=============>                             (1 + 1) / 2]\n",
      "                                                                                \r"
     ]
    },
    {
     "data": {
      "text/plain": [
       "[('INFY', 300), ('EMR', 20), ('TSLA', 75)]"
      ]
     },
     "execution_count": 4,
     "metadata": {},
     "output_type": "execute_result"
    }
   ],
   "source": [
    "# foreach \n",
    "# apply a function to each element in the rdd [all partitions]\n",
    "# write any custom functions that deal with db, datastore, cache etc\n",
    "\n",
    "\n",
    "orders = [\n",
    "    # symbol, qty\n",
    "    ('INFY', 200),\n",
    "    ('TSLA', 50),\n",
    "    ('EMR', 20),\n",
    "    ('INFY', 100),\n",
    "    ('TSLA', 25)\n",
    "]\n",
    "\n",
    "def add(acc, value):\n",
    "    output = acc + value\n",
    "    print(\"acc\", acc, \"value\", value, \"output\", output)\n",
    "    return output\n",
    "\n",
    "orderRdd = sc.parallelize(orders, 2)\n",
    "# refer S015-Fold for example,\n",
    "resultRdd = orderRdd.foldByKey(0, add)\n",
    "resultRdd.collect() # now we take result to driver, which is not efficient\n",
    "# in spark, driver is not distributed, not scalable, runs on only one system\n",
    "# the executor is distriuted, runs across clouster, parallel"
   ]
  },
  {
   "cell_type": "code",
   "execution_count": 5,
   "id": "baaaff3e-1ee0-4e9f-bc22-8bd18e027557",
   "metadata": {},
   "outputs": [
    {
     "name": "stderr",
     "output_type": "stream",
     "text": [
      "acc 200 value 100 output 300\n",
      "Saving  ('INFY', 300)  to db \n",
      "Saving  ('EMR', 20)  to db \n",
      "acc 50 value 25 output 75\n",
      "Saving  ('TSLA', 75)  to db \n"
     ]
    }
   ],
   "source": [
    "# now let us process the data at executor using forEach\n",
    "# resultRdd has result, now we apply foreach, it may store data to data store\n",
    "# good for processing ONE RESULT at a time\n",
    "# foreach executed in executor process, not in driver\n",
    "def updateDB(stock):\n",
    "    #Todo, update, insert, delete record\n",
    "    print(\"Saving \", str(stock), \" to db \")\n",
    "    \n",
    "# foreach is ACTION method, runs on executor, updateDB function is called over every item resultRdd\n",
    "resultRdd.foreach(updateDB)"
   ]
  },
  {
   "cell_type": "code",
   "execution_count": 6,
   "id": "a8d1c382-6f12-40ea-b338-c7ae4ac9a43b",
   "metadata": {},
   "outputs": [
    {
     "name": "stderr",
     "output_type": "stream",
     "text": [
      "acc 200 value 100 output 300\n",
      "Process data called \n",
      "Processing  ('INFY', 300)\n",
      "Processing  ('EMR', 20)\n",
      "------------------------------\n",
      "acc 50 value 25 output 75\n",
      "Process data called \n",
      "Processing  ('TSLA', 75)\n",
      "------------------------------\n"
     ]
    }
   ],
   "source": [
    "# foreachPartition\n",
    "# custom logic to handle data in the partitions\n",
    "# runs inside executors\n",
    "# foreach process 1 element at a time, \n",
    "# where as foreachPartition can process all \n",
    "# partition data as bulk\n",
    "# bulk insert/update/delete\n",
    "\n",
    "# iterator will have each partition data as whole\n",
    "# part0 - 5 records, then iterator shall have 5 records\n",
    "# processData is called by foreachPartition on executor for each partition\n",
    "# iterator passed for foreachPartition\n",
    "def processResultData(iterator):\n",
    "    print(\"Process data called \")\n",
    "    for record in iterator:\n",
    "        print (\"Processing \", str(record))\n",
    "        \n",
    "    print ('-' * 30)\n",
    "# Action method\n",
    "resultRdd.foreachPartition(processResultData)"
   ]
  },
  {
   "cell_type": "code",
   "execution_count": null,
   "id": "ac2bb28e-66a5-4de4-a16c-674288800900",
   "metadata": {},
   "outputs": [],
   "source": []
  }
 ],
 "metadata": {
  "kernelspec": {
   "display_name": "Python 3 (ipykernel)",
   "language": "python",
   "name": "python3"
  },
  "language_info": {
   "codemirror_mode": {
    "name": "ipython",
    "version": 3
   },
   "file_extension": ".py",
   "mimetype": "text/x-python",
   "name": "python",
   "nbconvert_exporter": "python",
   "pygments_lexer": "ipython3",
   "version": "3.8.12"
  }
 },
 "nbformat": 4,
 "nbformat_minor": 5
}

{
 "cells": [
  {
   "cell_type": "code",
   "execution_count": 1,
   "id": "3c87b009-10ef-4236-9b88-25d1719ac7f6",
   "metadata": {},
   "outputs": [],
   "source": [
    "import findspark \n",
    "findspark.init()"
   ]
  },
  {
   "cell_type": "code",
   "execution_count": 2,
   "id": "89fca654-d14b-4af2-8bc4-35b32057b3f4",
   "metadata": {},
   "outputs": [
    {
     "name": "stderr",
     "output_type": "stream",
     "text": [
      "22/05/09 22:09:33 WARN Utils: Your hostname, ubuntu-virtual-machine resolves to a loopback address: 127.0.1.1; using 192.168.174.129 instead (on interface ens33)\n",
      "22/05/09 22:09:33 WARN Utils: Set SPARK_LOCAL_IP if you need to bind to another address\n",
      "22/05/09 22:09:35 WARN NativeCodeLoader: Unable to load native-hadoop library for your platform... using builtin-java classes where applicable\n",
      "Using Spark's default log4j profile: org/apache/spark/log4j-defaults.properties\n",
      "Setting default log level to \"WARN\".\n",
      "To adjust logging level use sc.setLogLevel(newLevel). For SparkR, use setLogLevel(newLevel).\n",
      "22/05/09 22:09:44 WARN Utils: Service 'SparkUI' could not bind on port 4040. Attempting port 4041.\n",
      "22/05/09 22:09:44 WARN Utils: Service 'SparkUI' could not bind on port 4041. Attempting port 4042.\n",
      "22/05/09 22:09:44 WARN Utils: Service 'SparkUI' could not bind on port 4042. Attempting port 4043.\n",
      "22/05/09 22:09:44 WARN Utils: Service 'SparkUI' could not bind on port 4043. Attempting port 4044.\n"
     ]
    }
   ],
   "source": [
    "from pyspark.conf import SparkConf\n",
    "config = SparkConf()\n",
    "config.setMaster(\"local\").setAppName(\"DFJoin\")\n",
    "\n",
    "from pyspark.sql import SparkSession\n",
    "spark = SparkSession.builder.config(conf=config).getOrCreate()"
   ]
  },
  {
   "cell_type": "code",
   "execution_count": 3,
   "id": "dbc02647-b69f-416c-b979-54f5882bc649",
   "metadata": {},
   "outputs": [
    {
     "name": "stderr",
     "output_type": "stream",
     "text": [
      "                                                                                \r"
     ]
    },
    {
     "name": "stdout",
     "output_type": "stream",
     "text": [
      "+----------+------------+--------+\n",
      "|product_id|product_name|brand_id|\n",
      "+----------+------------+--------+\n",
      "|         1|      iPhone|     100|\n",
      "|         2|      Galaxy|     200|\n",
      "|         3|       Redme|     300|\n",
      "|         4|       Pixel|     400|\n",
      "+----------+------------+--------+\n",
      "\n",
      "+--------+----------+\n",
      "|brand_id|brand_name|\n",
      "+--------+----------+\n",
      "|     100|     Apple|\n",
      "|     200|   Samsung|\n",
      "|     400|    Google|\n",
      "|     500|      Sony|\n",
      "+--------+----------+\n",
      "\n"
     ]
    }
   ],
   "source": [
    "products = [ \n",
    "          # (product_id, product_name, brand_id)  \n",
    "         (1, 'iPhone', 100),\n",
    "         (2, 'Galaxy', 200),\n",
    "         (3, 'Redme', 300), #   no matching brand\n",
    "         (4, 'Pixel', 400),\n",
    "]\n",
    "\n",
    "brands = [\n",
    "    #(brand_id, brand_name)\n",
    "    (100, \"Apple\"),\n",
    "    (200, \"Samsung\"),\n",
    "    (400, \"Google\"),\n",
    "    (500, \"Sony\"), # no matching products\n",
    "]\n",
    " \n",
    "productDf = spark.createDataFrame(data=products, schema=[\"product_id\", \"product_name\", \"brand_id\"])\n",
    "brandDf = spark.createDataFrame(data=brands, schema=[\"brand_id\", \"brand_name\"])\n",
    "productDf.show()\n",
    "brandDf.show()"
   ]
  },
  {
   "cell_type": "code",
   "execution_count": 5,
   "id": "8ce18876-862b-435c-b40e-3febc962166d",
   "metadata": {},
   "outputs": [
    {
     "name": "stdout",
     "output_type": "stream",
     "text": [
      "root\n",
      " |-- product_id: long (nullable = true)\n",
      " |-- product_name: string (nullable = true)\n",
      " |-- brand_id: long (nullable = true)\n",
      " |-- brand_id: long (nullable = true)\n",
      " |-- brand_name: string (nullable = true)\n",
      "\n"
     ]
    },
    {
     "name": "stderr",
     "output_type": "stream",
     "text": [
      "[Stage 16:=====================================================>  (72 + 1) / 75]\r"
     ]
    },
    {
     "name": "stdout",
     "output_type": "stream",
     "text": [
      "+----------+------------+--------+--------+----------+\n",
      "|product_id|product_name|brand_id|brand_id|brand_name|\n",
      "+----------+------------+--------+--------+----------+\n",
      "|         1|      iPhone|     100|     100|     Apple|\n",
      "|         2|      Galaxy|     200|     200|   Samsung|\n",
      "|         4|       Pixel|     400|     400|    Google|\n",
      "+----------+------------+--------+--------+----------+\n",
      "\n"
     ]
    },
    {
     "name": "stderr",
     "output_type": "stream",
     "text": [
      "                                                                                \r"
     ]
    }
   ],
   "source": [
    "# Inner Join\n",
    "# productDf is left\n",
    "# brandDf is right\n",
    "# inner join: select/pick only matching record, discord if no matches found\n",
    "# join returns a new df\n",
    "df = productDf.join(brandDf, productDf.brand_id  ==  brandDf[\"brand_id\"], \"inner\") \n",
    "df.printSchema()\n",
    "df.show()"
   ]
  },
  {
   "cell_type": "code",
   "execution_count": 7,
   "id": "f13a2cfe-c18d-4016-b51e-c6337aa9602d",
   "metadata": {},
   "outputs": [
    {
     "name": "stdout",
     "output_type": "stream",
     "text": [
      "root\n",
      " |-- product_id: long (nullable = true)\n",
      " |-- product_name: string (nullable = true)\n",
      " |-- brand_id: long (nullable = true)\n",
      " |-- brand_name: string (nullable = true)\n",
      "\n"
     ]
    },
    {
     "name": "stderr",
     "output_type": "stream",
     "text": [
      "[Stage 46:==============================================>         (62 + 1) / 75]\r"
     ]
    },
    {
     "name": "stdout",
     "output_type": "stream",
     "text": [
      "+----------+------------+--------+----------+\n",
      "|product_id|product_name|brand_id|brand_name|\n",
      "+----------+------------+--------+----------+\n",
      "|         1|      iPhone|     100|     Apple|\n",
      "|         2|      Galaxy|     200|   Samsung|\n",
      "|         4|       Pixel|     400|    Google|\n",
      "+----------+------------+--------+----------+\n",
      "\n"
     ]
    },
    {
     "name": "stderr",
     "output_type": "stream",
     "text": [
      "                                                                                \r"
     ]
    }
   ],
   "source": [
    "# how to remove specific column\n",
    "df = productDf.join(brandDf, productDf.brand_id  ==  brandDf[\"brand_id\"], \"inner\")\\\n",
    "              .drop(brandDf[\"brand_id\"])      \n",
    "df.printSchema()\n",
    "df.show()"
   ]
  },
  {
   "cell_type": "code",
   "execution_count": 8,
   "id": "bba9c691-baf7-43ff-9364-7a16a7e46f9e",
   "metadata": {},
   "outputs": [
    {
     "name": "stderr",
     "output_type": "stream",
     "text": [
      "[Stage 61:=====================================================>  (71 + 1) / 75]\r"
     ]
    },
    {
     "name": "stdout",
     "output_type": "stream",
     "text": [
      "+----------+------------+--------+--------+----------+\n",
      "|product_id|product_name|brand_id|brand_id|brand_name|\n",
      "+----------+------------+--------+--------+----------+\n",
      "|      null|        null|    null|     500|      Sony|\n",
      "|         1|      iPhone|     100|     100|     Apple|\n",
      "|         2|      Galaxy|     200|     200|   Samsung|\n",
      "|         4|       Pixel|     400|     400|    Google|\n",
      "|         3|       Redme|     300|    null|      null|\n",
      "+----------+------------+--------+--------+----------+\n",
      "\n"
     ]
    },
    {
     "name": "stderr",
     "output_type": "stream",
     "text": [
      "                                                                                \r"
     ]
    }
   ],
   "source": [
    "# Outer Join, Full Outer Outer, [Left outer + Right outer]\n",
    "# pick all records from left dataframe, and also right dataframe\n",
    "# if no matches found, it fills null data for not matched records\n",
    "productDf.join(brandDf, productDf[\"brand_id\"] ==  brandDf[\"brand_id\"], \"outer\").show()"
   ]
  },
  {
   "cell_type": "code",
   "execution_count": 9,
   "id": "080e4ee3-be8f-4328-9961-6008e600fba7",
   "metadata": {},
   "outputs": [
    {
     "name": "stderr",
     "output_type": "stream",
     "text": [
      "[Stage 76:====================================================>   (70 + 1) / 75]\r"
     ]
    },
    {
     "name": "stdout",
     "output_type": "stream",
     "text": [
      "+----------+------------+--------+--------+----------+\n",
      "|product_id|product_name|brand_id|brand_id|brand_name|\n",
      "+----------+------------+--------+--------+----------+\n",
      "|         1|      iPhone|     100|     100|     Apple|\n",
      "|         2|      Galaxy|     200|     200|   Samsung|\n",
      "|         4|       Pixel|     400|     400|    Google|\n",
      "|         3|       Redme|     300|    null|      null|\n",
      "+----------+------------+--------+--------+----------+\n",
      "\n"
     ]
    },
    {
     "name": "stderr",
     "output_type": "stream",
     "text": [
      "                                                                                \r"
     ]
    }
   ],
   "source": [
    "# Left, Left Outer join \n",
    "# picks all records from left, if no matches found, it fills null for right data\n",
    "productDf.join(brandDf, productDf[\"brand_id\"] ==  brandDf[\"brand_id\"], \"leftouter\").show()"
   ]
  },
  {
   "cell_type": "code",
   "execution_count": 10,
   "id": "0eff3a88-8ab8-400d-9f89-3eafb603f773",
   "metadata": {},
   "outputs": [
    {
     "name": "stderr",
     "output_type": "stream",
     "text": [
      "[Stage 91:=====================================================>  (71 + 1) / 75]\r"
     ]
    },
    {
     "name": "stdout",
     "output_type": "stream",
     "text": [
      "+----------+------------+--------+--------+----------+\n",
      "|product_id|product_name|brand_id|brand_id|brand_name|\n",
      "+----------+------------+--------+--------+----------+\n",
      "|      null|        null|    null|     500|      Sony|\n",
      "|         1|      iPhone|     100|     100|     Apple|\n",
      "|         2|      Galaxy|     200|     200|   Samsung|\n",
      "|         4|       Pixel|     400|     400|    Google|\n",
      "+----------+------------+--------+--------+----------+\n",
      "\n"
     ]
    },
    {
     "name": "stderr",
     "output_type": "stream",
     "text": [
      "                                                                                \r"
     ]
    }
   ],
   "source": [
    "# Right, Right outer Join\n",
    "# picks all the records from right, if no matches found, fills left data with null\n",
    "productDf.join(brandDf, productDf[\"brand_id\"] ==  brandDf[\"brand_id\"], \"rightouter\").show()"
   ]
  },
  {
   "cell_type": "code",
   "execution_count": 11,
   "id": "77f0cf9b-4ed7-4b01-9789-efe627201e87",
   "metadata": {},
   "outputs": [
    {
     "name": "stderr",
     "output_type": "stream",
     "text": [
      "[Stage 106:====================================================>  (71 + 2) / 75]\r"
     ]
    },
    {
     "name": "stdout",
     "output_type": "stream",
     "text": [
      "+----------+------------+--------+\n",
      "|product_id|product_name|brand_id|\n",
      "+----------+------------+--------+\n",
      "|         1|      iPhone|     100|\n",
      "|         2|      Galaxy|     200|\n",
      "|         4|       Pixel|     400|\n",
      "+----------+------------+--------+\n",
      "\n"
     ]
    },
    {
     "name": "stderr",
     "output_type": "stream",
     "text": [
      "                                                                                \r"
     ]
    }
   ],
   "source": [
    "# left semi join\n",
    "# join in general convention, it pull the records from both right and left, join them based on condition\n",
    "# left semi join, join left and right based on condition, however it pull the records only from left side\n",
    "\n",
    "# it is similar to innerjoin, but pick/project records only from left\n",
    "# we can't see brand_id, brand_name from brands df\n",
    "productDf.join(brandDf, productDf[\"brand_id\"] ==  brandDf[\"brand_id\"], \"leftsemi\").show()"
   ]
  },
  {
   "cell_type": "code",
   "execution_count": 12,
   "id": "f3998c01-d487-43a0-9e0a-8b2fcaa956da",
   "metadata": {},
   "outputs": [
    {
     "name": "stderr",
     "output_type": "stream",
     "text": [
      "[Stage 121:==========================================>            (58 + 2) / 75]\r"
     ]
    },
    {
     "name": "stdout",
     "output_type": "stream",
     "text": [
      "+----------+------------+--------+\n",
      "|product_id|product_name|brand_id|\n",
      "+----------+------------+--------+\n",
      "|         3|       Redme|     300|\n",
      "+----------+------------+--------+\n",
      "\n"
     ]
    },
    {
     "name": "stderr",
     "output_type": "stream",
     "text": [
      "                                                                                \r"
     ]
    }
   ],
   "source": [
    "# left anti join: exact opposite to semi join\n",
    "# picks the records that doesn't have match on the right side\n",
    "productDf.join(brandDf, productDf[\"brand_id\"] ==  brandDf[\"brand_id\"], \"leftanti\").show()"
   ]
  },
  {
   "cell_type": "code",
   "execution_count": 13,
   "id": "898a45ee-7398-4df4-8383-06d4d010cf71",
   "metadata": {},
   "outputs": [
    {
     "name": "stdout",
     "output_type": "stream",
     "text": [
      "+--------+----------+\n",
      "|store_id|store_name|\n",
      "+--------+----------+\n",
      "|    1000|  Poorvika|\n",
      "|    2000| Sangeetha|\n",
      "|    4000|    Amazon|\n",
      "|    5000|  FlipKart|\n",
      "+--------+----------+\n",
      "\n"
     ]
    }
   ],
   "source": [
    "\n",
    "store = [\n",
    "    #(store_id, store_name)\n",
    "    (1000, \"Poorvika\"),\n",
    "    (2000, \"Sangeetha\"),\n",
    "    (4000, \"Amazon\"),\n",
    "    (5000, \"FlipKart\"), \n",
    "]\n",
    " \n",
    "storeDf = spark.createDataFrame(data=store, schema=[\"store_id\", \"store_name\"])\n",
    "storeDf.show()\n",
    "\n"
   ]
  },
  {
   "cell_type": "code",
   "execution_count": 14,
   "id": "cc08f532-4227-4881-88ee-ddf019f5def1",
   "metadata": {},
   "outputs": [
    {
     "name": "stdout",
     "output_type": "stream",
     "text": [
      "+----------+------------+--------+--------+----------+\n",
      "|product_id|product_name|brand_id|store_id|store_name|\n",
      "+----------+------------+--------+--------+----------+\n",
      "|         1|      iPhone|     100|    1000|  Poorvika|\n",
      "|         1|      iPhone|     100|    2000| Sangeetha|\n",
      "|         1|      iPhone|     100|    4000|    Amazon|\n",
      "|         1|      iPhone|     100|    5000|  FlipKart|\n",
      "|         2|      Galaxy|     200|    1000|  Poorvika|\n",
      "|         2|      Galaxy|     200|    2000| Sangeetha|\n",
      "|         2|      Galaxy|     200|    4000|    Amazon|\n",
      "|         2|      Galaxy|     200|    5000|  FlipKart|\n",
      "|         3|       Redme|     300|    1000|  Poorvika|\n",
      "|         3|       Redme|     300|    2000| Sangeetha|\n",
      "|         3|       Redme|     300|    4000|    Amazon|\n",
      "|         3|       Redme|     300|    5000|  FlipKart|\n",
      "|         4|       Pixel|     400|    1000|  Poorvika|\n",
      "|         4|       Pixel|     400|    2000| Sangeetha|\n",
      "|         4|       Pixel|     400|    4000|    Amazon|\n",
      "|         4|       Pixel|     400|    5000|  FlipKart|\n",
      "+----------+------------+--------+--------+----------+\n",
      "\n"
     ]
    }
   ],
   "source": [
    "\n",
    "# cartesian , take row from left side, pair with all from right side\n",
    "productDf.crossJoin(storeDf).show()"
   ]
  },
  {
   "cell_type": "code",
   "execution_count": null,
   "id": "6cf81268-a6bf-4eba-8f17-e5cf5336c06d",
   "metadata": {},
   "outputs": [],
   "source": []
  }
 ],
 "metadata": {
  "kernelspec": {
   "display_name": "Python 3 (ipykernel)",
   "language": "python",
   "name": "python3"
  },
  "language_info": {
   "codemirror_mode": {
    "name": "ipython",
    "version": 3
   },
   "file_extension": ".py",
   "mimetype": "text/x-python",
   "name": "python",
   "nbconvert_exporter": "python",
   "pygments_lexer": "ipython3",
   "version": "3.8.12"
  }
 },
 "nbformat": 4,
 "nbformat_minor": 5
}

{
 "cells": [
  {
   "cell_type": "code",
   "execution_count": 1,
   "id": "1663ad30-a04a-4ace-94c5-d40b89acf69a",
   "metadata": {},
   "outputs": [],
   "source": [
    "# recap, reducebyKey - aggregation \n",
    "# for reducebyKey - the first value in the data is taken as initial value\n",
    "\n",
    "# fold - initial value is given in the code"
   ]
  },
  {
   "cell_type": "code",
   "execution_count": 2,
   "id": "6f9b3214-f19a-410a-aac8-521f26f08991",
   "metadata": {},
   "outputs": [],
   "source": [
    "import findspark\n",
    "findspark.init()"
   ]
  },
  {
   "cell_type": "code",
   "execution_count": 3,
   "id": "1340d75f-440b-4a75-bf01-28181c2b68a8",
   "metadata": {},
   "outputs": [
    {
     "name": "stderr",
     "output_type": "stream",
     "text": [
      "22/05/06 21:39:17 WARN Utils: Your hostname, ubuntu-virtual-machine resolves to a loopback address: 127.0.1.1; using 192.168.174.129 instead (on interface ens33)\n",
      "22/05/06 21:39:17 WARN Utils: Set SPARK_LOCAL_IP if you need to bind to another address\n",
      "22/05/06 21:39:19 WARN NativeCodeLoader: Unable to load native-hadoop library for your platform... using builtin-java classes where applicable\n",
      "Using Spark's default log4j profile: org/apache/spark/log4j-defaults.properties\n",
      "Setting default log level to \"WARN\".\n",
      "To adjust logging level use sc.setLogLevel(newLevel). For SparkR, use setLogLevel(newLevel).\n",
      "22/05/06 21:39:24 WARN Utils: Service 'SparkUI' could not bind on port 4040. Attempting port 4041.\n",
      "22/05/06 21:39:24 WARN Utils: Service 'SparkUI' could not bind on port 4041. Attempting port 4042.\n",
      "22/05/06 21:39:24 WARN Utils: Service 'SparkUI' could not bind on port 4042. Attempting port 4043.\n"
     ]
    }
   ],
   "source": [
    "from pyspark import SparkContext\n",
    "sc = SparkContext(\"local\", \"Fold\")"
   ]
  },
  {
   "cell_type": "code",
   "execution_count": 4,
   "id": "78c671e3-0fa8-4189-aa10-247697ff8356",
   "metadata": {},
   "outputs": [],
   "source": [
    "# fold is useful for aggregate\n",
    "# fold has initial value to start with where as reduce will  take first value as reduce\n",
    "\n",
    "def add(acc, value):\n",
    "    result = acc + value\n",
    "    print(\"acc\", acc, \"value\", value, \"output\", result)\n",
    "    return result"
   ]
  },
  {
   "cell_type": "code",
   "execution_count": 9,
   "id": "4278c503-c52d-443a-9e11-e80167ad8785",
   "metadata": {},
   "outputs": [
    {
     "data": {
      "text/plain": [
       "[[10, 20], [30, 40, 50]]"
      ]
     },
     "execution_count": 9,
     "metadata": {},
     "output_type": "execute_result"
    }
   ],
   "source": [
    "rdd = sc.parallelize([10,20,30,40,50], 2)\n",
    "rdd.glom().collect()"
   ]
  },
  {
   "cell_type": "code",
   "execution_count": 10,
   "id": "c1b3e3a7-168d-4f4c-a130-cb33e550bf06",
   "metadata": {},
   "outputs": [
    {
     "name": "stdout",
     "output_type": "stream",
     "text": [
      "acc 0 value 30 output 30\n",
      "acc 30 value 120 output 150\n",
      "result 150\n"
     ]
    },
    {
     "name": "stderr",
     "output_type": "stream",
     "text": [
      "acc 0 value 10 output 10\n",
      "acc 10 value 20 output 30\n",
      "acc 0 value 30 output 30\n",
      "acc 30 value 40 output 70\n",
      "acc 70 value 50 output 120\n"
     ]
    }
   ],
   "source": [
    "# fold with aggregate with start value 0\n",
    "# fold is action method\n",
    "# fold works with each partition first, calculate add function on each partition\n",
    "# + it will apply result of all paritions into again another folder\n",
    "# return value of add is passed as input with next number in seq\n",
    "\n",
    "# after processing data from partition 0, it got result 150\n",
    "# then it will apply add function across partition result  acc 0 value 150\n",
    "result = rdd.fold (0, add) # output shall be 150 = 0 + 10 + 20 + 30 + 40 + 50\n",
    "print(\"result\", result)"
   ]
  },
  {
   "cell_type": "code",
   "execution_count": 12,
   "id": "411c53cf-7b54-4ac1-afac-8cf727d9c7eb",
   "metadata": {},
   "outputs": [
    {
     "name": "stdout",
     "output_type": "stream",
     "text": [
      "result  150\n"
     ]
    }
   ],
   "source": [
    "# reduce function , aggregation\n",
    "\n",
    "# the first instance/value used as initial/seed values\n",
    "# the initial value taken from data itself\n",
    "result = rdd.reduce( lambda acc, val: acc + val)\n",
    "print(\"result \", result)"
   ]
  },
  {
   "cell_type": "code",
   "execution_count": 13,
   "id": "2bd22a45-f709-42d0-a3e1-476ffb99ea86",
   "metadata": {},
   "outputs": [
    {
     "name": "stdout",
     "output_type": "stream",
     "text": [
      "result  50\n"
     ]
    }
   ],
   "source": [
    "result = rdd.reduce( lambda acc, val: max(acc , val))\n",
    "print(\"result \", result)"
   ]
  },
  {
   "cell_type": "code",
   "execution_count": 15,
   "id": "59ab58f4-a2d1-418c-84c6-08bde1872903",
   "metadata": {},
   "outputs": [
    {
     "data": {
      "text/plain": [
       "50"
      ]
     },
     "execution_count": 15,
     "metadata": {},
     "output_type": "execute_result"
    }
   ],
   "source": [
    "rdd.max() # inbuilt rdd"
   ]
  },
  {
   "cell_type": "code",
   "execution_count": 16,
   "id": "05d14353-1d5b-4863-863e-82848dadfb7c",
   "metadata": {},
   "outputs": [
    {
     "data": {
      "text/plain": [
       "10"
      ]
     },
     "execution_count": 16,
     "metadata": {},
     "output_type": "execute_result"
    }
   ],
   "source": [
    "rdd.min()"
   ]
  },
  {
   "cell_type": "code",
   "execution_count": 17,
   "id": "38d8bc65-ab73-4e68-a3c9-9107dbe518cf",
   "metadata": {},
   "outputs": [
    {
     "data": {
      "text/plain": [
       "30.0"
      ]
     },
     "execution_count": 17,
     "metadata": {},
     "output_type": "execute_result"
    }
   ],
   "source": [
    "rdd.mean()"
   ]
  },
  {
   "cell_type": "code",
   "execution_count": 18,
   "id": "c644d0e6-f993-4122-814d-e352157a908f",
   "metadata": {},
   "outputs": [
    {
     "data": {
      "text/plain": [
       "150"
      ]
     },
     "execution_count": 18,
     "metadata": {},
     "output_type": "execute_result"
    }
   ],
   "source": [
    "rdd.sum()"
   ]
  },
  {
   "cell_type": "code",
   "execution_count": 11,
   "id": "ba6dbd5b-0005-406c-a3d9-099c20bbbddd",
   "metadata": {},
   "outputs": [
    {
     "name": "stderr",
     "output_type": "stream",
     "text": [
      "acc 0 value 200 output 200\n",
      "acc 0 value 50 output 50\n",
      "acc 0 value 20 output 20\n",
      "acc 200 value 100 output 300\n",
      "acc 50 value 25 output 75\n",
      "                                                                                \r"
     ]
    },
    {
     "data": {
      "text/plain": [
       "[('INFY', 300), ('TSLA', 75), ('EMR', 20)]"
      ]
     },
     "execution_count": 11,
     "metadata": {},
     "output_type": "execute_result"
    }
   ],
   "source": [
    "# FoldByKey\n",
    "# similar to fold, where as fold is applied on all the values in RDD in partition\n",
    "# foldByKey is used against (Key,Value) paired rdd, key/value rdd\n",
    "# fold work based on key\n",
    "\n",
    "orders = [\n",
    "    # symbol, qty\n",
    "    ('INFY', 200),\n",
    "    ('TSLA', 50),\n",
    "    ('EMR', 20),\n",
    "    ('INFY', 100),\n",
    "    ('TSLA', 25)\n",
    "]\n",
    "\n",
    "def add(acc, value):\n",
    "    output = acc + value\n",
    "    print(\"acc\", acc, \"value\", value, \"output\", output)\n",
    "    return output\n",
    "\n",
    "orderRdd = sc.parallelize(orders)\n",
    "# fold by Key, return rdd\n",
    "# When key appear first, it starts with 0, and value\n",
    "# second appearance key, include previous output as input\n",
    "orderRdd.foldByKey(0, add).collect()"
   ]
  },
  {
   "cell_type": "code",
   "execution_count": null,
   "id": "579a7959-cbf2-45dd-af0d-f58f54930f10",
   "metadata": {},
   "outputs": [],
   "source": []
  },
  {
   "cell_type": "code",
   "execution_count": null,
   "id": "0396394a-fe1f-45da-bdbe-52f7eeb2c9a4",
   "metadata": {},
   "outputs": [],
   "source": []
  }
 ],
 "metadata": {
  "kernelspec": {
   "display_name": "Python 3 (ipykernel)",
   "language": "python",
   "name": "python3"
  },
  "language_info": {
   "codemirror_mode": {
    "name": "ipython",
    "version": 3
   },
   "file_extension": ".py",
   "mimetype": "text/x-python",
   "name": "python",
   "nbconvert_exporter": "python",
   "pygments_lexer": "ipython3",
   "version": "3.8.12"
  }
 },
 "nbformat": 4,
 "nbformat_minor": 5
}

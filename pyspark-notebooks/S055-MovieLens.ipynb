{
 "cells": [
  {
   "cell_type": "code",
   "execution_count": 1,
   "id": "c3bd623b-45fe-4417-b096-2aad57005b75",
   "metadata": {},
   "outputs": [],
   "source": [
    "import findspark\n",
    "findspark.init()"
   ]
  },
  {
   "cell_type": "code",
   "execution_count": 2,
   "id": "6197a5f7-f9b6-44a1-841d-37b9c016d18a",
   "metadata": {},
   "outputs": [
    {
     "name": "stderr",
     "output_type": "stream",
     "text": [
      "22/06/06 23:40:57 WARN Utils: Your hostname, ubuntu-virtual-machine resolves to a loopback address: 127.0.1.1; using 192.168.174.129 instead (on interface ens33)\n",
      "22/06/06 23:40:57 WARN Utils: Set SPARK_LOCAL_IP if you need to bind to another address\n"
     ]
    },
    {
     "name": "stdout",
     "output_type": "stream",
     "text": [
      ":: loading settings :: url = jar:file:/opt/spark-3.1.3-bin-hadoop2.7/jars/ivy-2.4.0.jar!/org/apache/ivy/core/settings/ivysettings.xml\n"
     ]
    },
    {
     "name": "stderr",
     "output_type": "stream",
     "text": [
      "Ivy Default Cache set to: /home/ubuntu/.ivy2/cache\n",
      "The jars for the packages stored in: /home/ubuntu/.ivy2/jars\n",
      "org.apache.spark#spark-sql-kafka-0-10_2.12 added as a dependency\n",
      ":: resolving dependencies :: org.apache.spark#spark-submit-parent-3811e9a6-e8c3-49aa-a1b1-b10ef4971596;1.0\n",
      "\tconfs: [default]\n",
      "\tfound org.apache.spark#spark-sql-kafka-0-10_2.12;3.1.3 in central\n",
      "\tfound org.apache.spark#spark-token-provider-kafka-0-10_2.12;3.1.3 in central\n",
      "\tfound org.apache.kafka#kafka-clients;2.6.0 in central\n",
      "\tfound com.github.luben#zstd-jni;1.4.8-1 in central\n",
      "\tfound org.lz4#lz4-java;1.7.1 in central\n",
      "\tfound org.xerial.snappy#snappy-java;1.1.8.2 in central\n",
      "\tfound org.slf4j#slf4j-api;1.7.30 in central\n",
      "\tfound org.spark-project.spark#unused;1.0.0 in central\n",
      "\tfound org.apache.commons#commons-pool2;2.6.2 in central\n",
      ":: resolution report :: resolve 2105ms :: artifacts dl 11ms\n",
      "\t:: modules in use:\n",
      "\tcom.github.luben#zstd-jni;1.4.8-1 from central in [default]\n",
      "\torg.apache.commons#commons-pool2;2.6.2 from central in [default]\n",
      "\torg.apache.kafka#kafka-clients;2.6.0 from central in [default]\n",
      "\torg.apache.spark#spark-sql-kafka-0-10_2.12;3.1.3 from central in [default]\n",
      "\torg.apache.spark#spark-token-provider-kafka-0-10_2.12;3.1.3 from central in [default]\n",
      "\torg.lz4#lz4-java;1.7.1 from central in [default]\n",
      "\torg.slf4j#slf4j-api;1.7.30 from central in [default]\n",
      "\torg.spark-project.spark#unused;1.0.0 from central in [default]\n",
      "\torg.xerial.snappy#snappy-java;1.1.8.2 from central in [default]\n",
      "\t---------------------------------------------------------------------\n",
      "\t|                  |            modules            ||   artifacts   |\n",
      "\t|       conf       | number| search|dwnlded|evicted|| number|dwnlded|\n",
      "\t---------------------------------------------------------------------\n",
      "\t|      default     |   9   |   0   |   0   |   0   ||   9   |   0   |\n",
      "\t---------------------------------------------------------------------\n",
      ":: retrieving :: org.apache.spark#spark-submit-parent-3811e9a6-e8c3-49aa-a1b1-b10ef4971596\n",
      "\tconfs: [default]\n",
      "\t0 artifacts copied, 9 already retrieved (0kB/11ms)\n",
      "22/06/06 23:41:01 WARN NativeCodeLoader: Unable to load native-hadoop library for your platform... using builtin-java classes where applicable\n",
      "Using Spark's default log4j profile: org/apache/spark/log4j-defaults.properties\n",
      "Setting default log level to \"WARN\".\n",
      "To adjust logging level use sc.setLogLevel(newLevel). For SparkR, use setLogLevel(newLevel).\n"
     ]
    }
   ],
   "source": [
    "from pyspark.conf import SparkConf\n",
    "config = SparkConf()\n",
    "# config.set(\"property\", \"value\")\n",
    "config.setMaster(\"local[4]\").setAppName(\"MovieLens\")\n",
    "\n",
    "from pyspark.sql import SparkSession\n",
    "# spark Session, entry point for Spark SQL, DataFrame\n",
    "spark = SparkSession.builder\\\n",
    "                    .config(conf=config)\\\n",
    "                    .getOrCreate()\n",
    "\n",
    "sc = spark.sparkContext"
   ]
  },
  {
   "cell_type": "code",
   "execution_count": 3,
   "id": "c5e49f86-75ce-4b73-a8c3-6619879136bd",
   "metadata": {},
   "outputs": [],
   "source": [
    "# how to create schema programatically instead of using inferSchema\n",
    "from pyspark.sql.types import StructType, LongType, StringType, IntegerType, DoubleType\n",
    "# True is nullable, False is non nullable\n",
    "movieSchema = StructType()\\\n",
    "                .add(\"movieId\", IntegerType(), True)\\\n",
    "                .add(\"title\", StringType(), True)\\\n",
    "                .add(\"genres\", StringType(), True)\n",
    "\n",
    "ratingSchema = StructType()\\\n",
    "                .add(\"userId\", IntegerType(), True)\\\n",
    "                .add(\"movieId\", IntegerType(), True)\\\n",
    "                .add(\"rating\", DoubleType(), True)\\\n",
    "                .add(\"timestamp\", LongType(), True)"
   ]
  },
  {
   "cell_type": "code",
   "execution_count": 7,
   "id": "a248b17d-9e3d-429a-8a80-7156eb033e63",
   "metadata": {},
   "outputs": [
    {
     "name": "stdout",
     "output_type": "stream",
     "text": [
      "root\n",
      " |-- movieId: integer (nullable = true)\n",
      " |-- title: string (nullable = true)\n",
      " |-- genres: string (nullable = true)\n",
      "\n"
     ]
    },
    {
     "name": "stderr",
     "output_type": "stream",
     "text": [
      "[Stage 2:>                                                          (0 + 1) / 1]\r"
     ]
    },
    {
     "name": "stdout",
     "output_type": "stream",
     "text": [
      "+-------+----------------+--------------------+\n",
      "|movieId|           title|              genres|\n",
      "+-------+----------------+--------------------+\n",
      "|      1|Toy Story (1995)|Adventure|Animati...|\n",
      "|      2|  Jumanji (1995)|Adventure|Childre...|\n",
      "+-------+----------------+--------------------+\n",
      "only showing top 2 rows\n",
      "\n"
     ]
    },
    {
     "name": "stderr",
     "output_type": "stream",
     "text": [
      "                                                                                \r"
     ]
    }
   ],
   "source": [
    "# read movie data\n",
    "# read using dataframe with defind schema\n",
    "# we can use folder path - all csv in the folder read\n",
    "# use file path, only that file read\n",
    "\n",
    "# spark is session, entry point for data frame/sql\n",
    "\n",
    "movieDf = spark.read.format(\"csv\")\\\n",
    "                .option(\"header\", True)\\\n",
    "                .schema(movieSchema)\\\n",
    "                .load(\"hdfs://localhost:9000/ml-latest-small/movies.csv\")\n",
    "\n",
    "movieDf.cache()\n",
    "movieDf.printSchema()\n",
    "movieDf.show(2) # action\n"
   ]
  },
  {
   "cell_type": "code",
   "execution_count": 12,
   "id": "5d3cb07c-58e4-4a4a-95de-be92fc4b9a42",
   "metadata": {},
   "outputs": [
    {
     "name": "stdout",
     "output_type": "stream",
     "text": [
      "root\n",
      " |-- userId: integer (nullable = true)\n",
      " |-- movieId: integer (nullable = true)\n",
      " |-- rating: double (nullable = true)\n",
      " |-- timestamp: long (nullable = true)\n",
      "\n",
      "+------+-------+------+----------+\n",
      "|userId|movieId|rating| timestamp|\n",
      "+------+-------+------+----------+\n",
      "|   249|   5803|   3.0|1354225800|\n",
      "|   610|  84772|   3.5|1493846852|\n",
      "+------+-------+------+----------+\n",
      "only showing top 2 rows\n",
      "\n"
     ]
    }
   ],
   "source": [
    "ratingDf = spark.read.format(\"csv\")\\\n",
    "                .option(\"header\", True)\\\n",
    "                .schema(ratingSchema)\\\n",
    "                .load(\"hdfs://localhost:9000/ml-latest-small/ratings.csv\")\n",
    "ratingDf = ratingDf.repartition(10)\n",
    "ratingDf.cache()\n",
    "ratingDf.printSchema()\n",
    "ratingDf.show(2)"
   ]
  },
  {
   "cell_type": "code",
   "execution_count": 13,
   "id": "09211ff0-7ef1-4de7-b196-5af615c132a5",
   "metadata": {},
   "outputs": [
    {
     "name": "stdout",
     "output_type": "stream",
     "text": [
      "9742\n",
      "100836\n"
     ]
    },
    {
     "name": "stderr",
     "output_type": "stream",
     "text": [
      "                                                                                \r"
     ]
    }
   ],
   "source": [
    "print (movieDf.count())\n",
    "print(ratingDf.count())"
   ]
  },
  {
   "cell_type": "code",
   "execution_count": 10,
   "id": "caaffd5c-0c45-404e-9f97-d18703c6ac08",
   "metadata": {},
   "outputs": [
    {
     "data": {
      "text/plain": [
       "[Row(userId=1, movieId=1, rating=4.0, timestamp=964982703),\n",
       " Row(userId=1, movieId=3, rating=4.0, timestamp=964981247)]"
      ]
     },
     "execution_count": 10,
     "metadata": {},
     "output_type": "execute_result"
    }
   ],
   "source": [
    "ratingDf.take(2) # same as ratingDf.rdd.take(2)"
   ]
  },
  {
   "cell_type": "code",
   "execution_count": 15,
   "id": "c07a8d07-8d2e-46f1-b0aa-a044bcf14962",
   "metadata": {},
   "outputs": [
    {
     "name": "stdout",
     "output_type": "stream",
     "text": [
      "+------+\n",
      "|rating|\n",
      "+------+\n",
      "|   3.5|\n",
      "|   4.5|\n",
      "|   2.5|\n",
      "|   1.0|\n",
      "|   4.0|\n",
      "|   0.5|\n",
      "|   3.0|\n",
      "|   2.0|\n",
      "|   1.5|\n",
      "|   5.0|\n",
      "+------+\n",
      "\n"
     ]
    }
   ],
   "source": [
    "# show the distinct ratings\n",
    "ratingDf.select(\"rating\").distinct().show()"
   ]
  },
  {
   "cell_type": "code",
   "execution_count": 16,
   "id": "77ab92fb-9a4d-4c8b-813f-d50251e852be",
   "metadata": {},
   "outputs": [
    {
     "name": "stdout",
     "output_type": "stream",
     "text": [
      "root\n",
      " |-- movieId: integer (nullable = true)\n",
      " |-- count(userId): long (nullable = false)\n",
      "\n"
     ]
    },
    {
     "name": "stderr",
     "output_type": "stream",
     "text": [
      "[Stage 49:============================>                            (5 + 4) / 10]\r"
     ]
    },
    {
     "name": "stdout",
     "output_type": "stream",
     "text": [
      "+-------+-------------+\n",
      "|movieId|count(userId)|\n",
      "+-------+-------------+\n",
      "|   5803|            7|\n",
      "|   1645|           51|\n",
      "|  44022|           23|\n",
      "|   3918|            9|\n",
      "|   4900|            5|\n",
      "|   1580|          165|\n",
      "|   1088|           42|\n",
      "|   8638|           15|\n",
      "|   3175|           75|\n",
      "|   2659|            1|\n",
      "|    471|           40|\n",
      "|   1591|           26|\n",
      "|   6620|           18|\n",
      "|   1959|           15|\n",
      "|   2142|           10|\n",
      "|   1238|            9|\n",
      "| 140541|            1|\n",
      "|  68135|           10|\n",
      "| 175197|            1|\n",
      "|  32460|            4|\n",
      "+-------+-------------+\n",
      "only showing top 20 rows\n",
      "\n"
     ]
    },
    {
     "name": "stderr",
     "output_type": "stream",
     "text": [
      "                                                                                \r"
     ]
    }
   ],
   "source": [
    "# aggregation with groupBy\n",
    "from pyspark.sql.functions import col, desc, avg, count\n",
    "\n",
    "# find the movies by total ratings by userId\n",
    "df = ratingDf\\\n",
    "     .groupBy(\"movieId\")\\\n",
    "     .agg(count(\"userId\"))\n",
    "\n",
    "df.printSchema()\n",
    "df.show(20)"
   ]
  },
  {
   "cell_type": "code",
   "execution_count": 17,
   "id": "d9c0f455-5d96-4469-b8f9-1951023f2e75",
   "metadata": {},
   "outputs": [
    {
     "name": "stdout",
     "output_type": "stream",
     "text": [
      "root\n",
      " |-- movieId: integer (nullable = true)\n",
      " |-- total_ratings: long (nullable = false)\n",
      "\n"
     ]
    },
    {
     "name": "stderr",
     "output_type": "stream",
     "text": [
      "[Stage 53:===================================================>  (190 + 4) / 200]\r"
     ]
    },
    {
     "name": "stdout",
     "output_type": "stream",
     "text": [
      "+-------+-------------+\n",
      "|movieId|total_ratings|\n",
      "+-------+-------------+\n",
      "|    356|          329|\n",
      "|    318|          317|\n",
      "|    296|          307|\n",
      "|    593|          279|\n",
      "|   2571|          278|\n",
      "|    260|          251|\n",
      "|    480|          238|\n",
      "|    110|          237|\n",
      "|    589|          224|\n",
      "|    527|          220|\n",
      "|   2959|          218|\n",
      "|      1|          215|\n",
      "|   1196|          211|\n",
      "|     50|          204|\n",
      "|   2858|          204|\n",
      "|     47|          203|\n",
      "|    780|          202|\n",
      "|    150|          201|\n",
      "|   1198|          200|\n",
      "|   4993|          198|\n",
      "+-------+-------------+\n",
      "only showing top 20 rows\n",
      "\n"
     ]
    },
    {
     "name": "stderr",
     "output_type": "stream",
     "text": [
      "                                                                                \r"
     ]
    }
   ],
   "source": [
    "# aggregation with groupBy\n",
    "from pyspark.sql.functions import col, desc, avg, count\n",
    "\n",
    "# find the movies by total ratings by userId\n",
    "df = ratingDf\\\n",
    "     .groupBy(\"movieId\")\\\n",
    "     .agg(count(\"userId\").alias(\"total_ratings\"))\\\n",
    "     .sort(desc(\"total_ratings\"))\n",
    "\n",
    "df.printSchema()\n",
    "df.show(20)"
   ]
  },
  {
   "cell_type": "code",
   "execution_count": 12,
   "id": "51066dfe-d0b8-4911-b77e-c29cddfa0d71",
   "metadata": {},
   "outputs": [
    {
     "name": "stdout",
     "output_type": "stream",
     "text": [
      "root\n",
      " |-- movieId: integer (nullable = true)\n",
      " |-- avg_rating: double (nullable = true)\n",
      "\n"
     ]
    },
    {
     "name": "stderr",
     "output_type": "stream",
     "text": [
      "[Stage 22:==================================================>   (187 + 1) / 200]\r"
     ]
    },
    {
     "name": "stdout",
     "output_type": "stream",
     "text": [
      "+-------+----------+\n",
      "|movieId|avg_rating|\n",
      "+-------+----------+\n",
      "|  33138|       5.0|\n",
      "|    876|       5.0|\n",
      "| 147300|       5.0|\n",
      "|  27373|       5.0|\n",
      "|     53|       5.0|\n",
      "|  25887|       5.0|\n",
      "|  84273|       5.0|\n",
      "| 113829|       5.0|\n",
      "| 173963|       5.0|\n",
      "|  26350|       5.0|\n",
      "|  67618|       5.0|\n",
      "|    148|       5.0|\n",
      "| 157775|       5.0|\n",
      "| 142444|       5.0|\n",
      "|    633|       5.0|\n",
      "|    496|       5.0|\n",
      "|   8911|       5.0|\n",
      "|   5513|       5.0|\n",
      "| 152711|       5.0|\n",
      "| 150554|       5.0|\n",
      "+-------+----------+\n",
      "only showing top 20 rows\n",
      "\n"
     ]
    },
    {
     "name": "stderr",
     "output_type": "stream",
     "text": [
      "                                                                                \r"
     ]
    }
   ],
   "source": [
    "# aggregation with groupBy\n",
    "from pyspark.sql.functions import col, desc, avg, count\n",
    "\n",
    "# find  average rating by users sorted by desc\n",
    "df = ratingDf\\\n",
    "     .groupBy(\"movieId\")\\\n",
    "     .agg(avg(\"rating\").alias(\"avg_rating\"))\\\n",
    "     .sort(desc(\"avg_rating\"))\n",
    "\n",
    "df.printSchema()\n",
    "df.show(20)"
   ]
  },
  {
   "cell_type": "code",
   "execution_count": 19,
   "id": "53597847-16c2-4447-8f8f-11cec9b93a21",
   "metadata": {},
   "outputs": [
    {
     "name": "stderr",
     "output_type": "stream",
     "text": [
      "22/06/07 00:38:25 WARN CacheManager: Asked to cache already cached data.\n"
     ]
    },
    {
     "name": "stdout",
     "output_type": "stream",
     "text": [
      "root\n",
      " |-- movieId: integer (nullable = true)\n",
      " |-- avg_rating: double (nullable = true)\n",
      " |-- total_ratings: long (nullable = false)\n",
      "\n",
      "+-------+------------------+-------------+\n",
      "|movieId|        avg_rating|total_ratings|\n",
      "+-------+------------------+-------------+\n",
      "|    356| 4.164133738601824|          329|\n",
      "|    318| 4.429022082018927|          317|\n",
      "|    296| 4.197068403908795|          307|\n",
      "|    593| 4.161290322580645|          279|\n",
      "|   2571| 4.192446043165468|          278|\n",
      "|    260| 4.231075697211155|          251|\n",
      "|    480|              3.75|          238|\n",
      "|    110| 4.031645569620253|          237|\n",
      "|    589| 3.970982142857143|          224|\n",
      "|    527|             4.225|          220|\n",
      "|   2959| 4.272935779816514|          218|\n",
      "|      1|3.9209302325581397|          215|\n",
      "|   1196|4.2156398104265405|          211|\n",
      "|     50| 4.237745098039215|          204|\n",
      "|   2858| 4.056372549019608|          204|\n",
      "|     47|3.9753694581280787|          203|\n",
      "|    150| 3.845771144278607|          201|\n",
      "|   1198|            4.2075|          200|\n",
      "|   4993| 4.106060606060606|          198|\n",
      "|   1210| 4.137755102040816|          196|\n",
      "+-------+------------------+-------------+\n",
      "only showing top 20 rows\n",
      "\n"
     ]
    }
   ],
   "source": [
    "# aggregation with groupBy\n",
    "from pyspark.sql.functions import col, desc, avg, count\n",
    "\n",
    "# find  the most popular movies, where as rated by many users, at least movies should be rated by 100 users\n",
    "# and the average rating should be at least 3.5 and above\n",
    "# and sort the movies by total_ratings\n",
    "mostPopularMoviesDf = ratingDf\\\n",
    "     .groupBy(\"movieId\")\\\n",
    "     .agg(avg(\"rating\").alias(\"avg_rating\"), count(\"userId\").alias(\"total_ratings\") )\\\n",
    "     .sort(desc(\"total_ratings\"))\\\n",
    "     .filter( (col(\"total_ratings\") >= 100) & (col(\"avg_rating\") >=3.5) )\\\n",
    "\n",
    "mostPopularMoviesDf.cache() # MEMORY\n",
    "\n",
    "mostPopularMoviesDf.printSchema()\n",
    "mostPopularMoviesDf.show(20)"
   ]
  },
  {
   "cell_type": "code",
   "execution_count": 14,
   "id": "420ea71a-ae2f-4263-a3e7-d82963de942a",
   "metadata": {},
   "outputs": [
    {
     "name": "stderr",
     "output_type": "stream",
     "text": [
      "                                                                                \r"
     ]
    },
    {
     "data": {
      "text/plain": [
       "110"
      ]
     },
     "execution_count": 14,
     "metadata": {},
     "output_type": "execute_result"
    }
   ],
   "source": [
    "mostPopularMoviesDf.count()"
   ]
  },
  {
   "cell_type": "code",
   "execution_count": 15,
   "id": "bc1c0140-c03e-4958-b72b-3de5d4f960c4",
   "metadata": {},
   "outputs": [
    {
     "name": "stderr",
     "output_type": "stream",
     "text": [
      "                                                                                \r"
     ]
    },
    {
     "data": {
      "text/plain": [
       "110"
      ]
     },
     "execution_count": 15,
     "metadata": {},
     "output_type": "execute_result"
    }
   ],
   "source": [
    "mostPopularMoviesDf.count()"
   ]
  },
  {
   "cell_type": "code",
   "execution_count": 20,
   "id": "528b562d-9f82-4ac5-95b6-313f3cc1f1b1",
   "metadata": {},
   "outputs": [
    {
     "name": "stdout",
     "output_type": "stream",
     "text": [
      "== Physical Plan ==\n",
      "*(1) ColumnarToRow\n",
      "+- InMemoryTableScan [movieId#23, avg_rating#441, total_ratings#443L]\n",
      "      +- InMemoryRelation [movieId#23, avg_rating#441, total_ratings#443L], StorageLevel(disk, memory, deserialized, 1 replicas)\n",
      "            +- *(3) Sort [total_ratings#443L DESC NULLS LAST], true, 0\n",
      "               +- Exchange rangepartitioning(total_ratings#443L DESC NULLS LAST, 200), ENSURE_REQUIREMENTS, [id=#303]\n",
      "                  +- *(2) Filter ((isnotnull(avg_rating#441) AND (total_ratings#443L >= 100)) AND (avg_rating#441 >= 3.5))\n",
      "                     +- *(2) HashAggregate(keys=[movieId#23], functions=[avg(rating#24), count(userId#22)])\n",
      "                        +- Exchange hashpartitioning(movieId#23, 200), ENSURE_REQUIREMENTS, [id=#298]\n",
      "                           +- *(1) HashAggregate(keys=[movieId#23], functions=[partial_avg(rating#24), partial_count(userId#22)])\n",
      "                              +- FileScan csv [userId#22,movieId#23,rating#24] Batched: false, DataFilters: [], Format: CSV, Location: InMemoryFileIndex[hdfs://localhost:9000/ml-latest-small/ratings.csv], PartitionFilters: [], PushedFilters: [], ReadSchema: struct<userId:int,movieId:int,rating:double>\n",
      "\n",
      "\n"
     ]
    }
   ],
   "source": [
    "mostPopularMoviesDf.explain() # print physical plan"
   ]
  },
  {
   "cell_type": "code",
   "execution_count": 21,
   "id": "f62a51b9-d8f8-43fd-8af7-91e67569f2db",
   "metadata": {},
   "outputs": [
    {
     "name": "stdout",
     "output_type": "stream",
     "text": [
      "== Parsed Logical Plan ==\n",
      "'Filter (('total_ratings >= 100) AND ('avg_rating >= 3.5))\n",
      "+- Sort [total_ratings#443L DESC NULLS LAST], true\n",
      "   +- Aggregate [movieId#23], [movieId#23, avg(rating#24) AS avg_rating#441, count(userId#22) AS total_ratings#443L]\n",
      "      +- Relation[userId#22,movieId#23,rating#24,timestamp#25L] csv\n",
      "\n",
      "== Analyzed Logical Plan ==\n",
      "movieId: int, avg_rating: double, total_ratings: bigint\n",
      "Filter ((total_ratings#443L >= cast(100 as bigint)) AND (avg_rating#441 >= 3.5))\n",
      "+- Sort [total_ratings#443L DESC NULLS LAST], true\n",
      "   +- Aggregate [movieId#23], [movieId#23, avg(rating#24) AS avg_rating#441, count(userId#22) AS total_ratings#443L]\n",
      "      +- Relation[userId#22,movieId#23,rating#24,timestamp#25L] csv\n",
      "\n",
      "== Optimized Logical Plan ==\n",
      "InMemoryRelation [movieId#23, avg_rating#441, total_ratings#443L], StorageLevel(disk, memory, deserialized, 1 replicas)\n",
      "   +- *(3) Sort [total_ratings#443L DESC NULLS LAST], true, 0\n",
      "      +- Exchange rangepartitioning(total_ratings#443L DESC NULLS LAST, 200), ENSURE_REQUIREMENTS, [id=#303]\n",
      "         +- *(2) Filter ((isnotnull(avg_rating#441) AND (total_ratings#443L >= 100)) AND (avg_rating#441 >= 3.5))\n",
      "            +- *(2) HashAggregate(keys=[movieId#23], functions=[avg(rating#24), count(userId#22)], output=[movieId#23, avg_rating#441, total_ratings#443L])\n",
      "               +- Exchange hashpartitioning(movieId#23, 200), ENSURE_REQUIREMENTS, [id=#298]\n",
      "                  +- *(1) HashAggregate(keys=[movieId#23], functions=[partial_avg(rating#24), partial_count(userId#22)], output=[movieId#23, sum#450, count#451L, count#452L])\n",
      "                     +- FileScan csv [userId#22,movieId#23,rating#24] Batched: false, DataFilters: [], Format: CSV, Location: InMemoryFileIndex[hdfs://localhost:9000/ml-latest-small/ratings.csv], PartitionFilters: [], PushedFilters: [], ReadSchema: struct<userId:int,movieId:int,rating:double>\n",
      "\n",
      "== Physical Plan ==\n",
      "*(1) ColumnarToRow\n",
      "+- InMemoryTableScan [movieId#23, avg_rating#441, total_ratings#443L]\n",
      "      +- InMemoryRelation [movieId#23, avg_rating#441, total_ratings#443L], StorageLevel(disk, memory, deserialized, 1 replicas)\n",
      "            +- *(3) Sort [total_ratings#443L DESC NULLS LAST], true, 0\n",
      "               +- Exchange rangepartitioning(total_ratings#443L DESC NULLS LAST, 200), ENSURE_REQUIREMENTS, [id=#303]\n",
      "                  +- *(2) Filter ((isnotnull(avg_rating#441) AND (total_ratings#443L >= 100)) AND (avg_rating#441 >= 3.5))\n",
      "                     +- *(2) HashAggregate(keys=[movieId#23], functions=[avg(rating#24), count(userId#22)], output=[movieId#23, avg_rating#441, total_ratings#443L])\n",
      "                        +- Exchange hashpartitioning(movieId#23, 200), ENSURE_REQUIREMENTS, [id=#298]\n",
      "                           +- *(1) HashAggregate(keys=[movieId#23], functions=[partial_avg(rating#24), partial_count(userId#22)], output=[movieId#23, sum#450, count#451L, count#452L])\n",
      "                              +- FileScan csv [userId#22,movieId#23,rating#24] Batched: false, DataFilters: [], Format: CSV, Location: InMemoryFileIndex[hdfs://localhost:9000/ml-latest-small/ratings.csv], PartitionFilters: [], PushedFilters: [], ReadSchema: struct<userId:int,movieId:int,rating:double>\n",
      "\n"
     ]
    }
   ],
   "source": [
    "# Plan should be read bottom .. to up  [bottom action is the first.. top action is last]\n",
    "mostPopularMoviesDf.explain(extended=True) # print parsed plan, logical and optimized and physical plan\n",
    "\n",
    "# == Parsed Logical Plan == \n",
    "# the code as is parsed or deconded by spark catalyst, not yet validated with table, or columns or data types, \n",
    "# no optimization\n",
    "\n",
    "# == Analyzed Logical Plan ==\n",
    "# catalog /hive, schema and validate columns and data types\n",
    "\n",
    "# == Optimized Logical Plan ==\n",
    "# spark shall optmimize analyised plan "
   ]
  },
  {
   "cell_type": "code",
   "execution_count": 22,
   "id": "ed2cbe20-06ea-4f8b-b976-d1953fb1f2b4",
   "metadata": {},
   "outputs": [
    {
     "name": "stderr",
     "output_type": "stream",
     "text": [
      "[Stage 64:==============================================>         (39 + 1) / 47]\r"
     ]
    },
    {
     "name": "stdout",
     "output_type": "stream",
     "text": [
      "+-------+--------------------+------------------+-------------+\n",
      "|movieId|               title|        avg_rating|total_ratings|\n",
      "+-------+--------------------+------------------+-------------+\n",
      "|    356| Forrest Gump (1994)| 4.164133738601824|          329|\n",
      "|    318|Shawshank Redempt...| 4.429022082018927|          317|\n",
      "|    296| Pulp Fiction (1994)| 4.197068403908795|          307|\n",
      "|    593|Silence of the La...| 4.161290322580645|          279|\n",
      "|   2571|  Matrix, The (1999)| 4.192446043165468|          278|\n",
      "|    260|Star Wars: Episod...| 4.231075697211155|          251|\n",
      "|    480|Jurassic Park (1993)|              3.75|          238|\n",
      "|    110|   Braveheart (1995)| 4.031645569620253|          237|\n",
      "|    589|Terminator 2: Jud...| 3.970982142857143|          224|\n",
      "|    527|Schindler's List ...|             4.225|          220|\n",
      "|   2959|   Fight Club (1999)| 4.272935779816514|          218|\n",
      "|      1|    Toy Story (1995)|3.9209302325581397|          215|\n",
      "|   1196|Star Wars: Episod...|4.2156398104265405|          211|\n",
      "|     50|Usual Suspects, T...| 4.237745098039215|          204|\n",
      "|   2858|American Beauty (...| 4.056372549019608|          204|\n",
      "|     47|Seven (a.k.a. Se7...|3.9753694581280787|          203|\n",
      "|    150|    Apollo 13 (1995)| 3.845771144278607|          201|\n",
      "|   1198|Raiders of the Lo...|            4.2075|          200|\n",
      "|   4993|Lord of the Rings...| 4.106060606060606|          198|\n",
      "|   1210|Star Wars: Episod...| 4.137755102040816|          196|\n",
      "|    858|Godfather, The (1...|         4.2890625|          192|\n",
      "|    457|Fugitive, The (1993)|3.9921052631578946|          190|\n",
      "|   2028|Saving Private Ry...|4.1462765957446805|          188|\n",
      "|   5952|Lord of the Rings...|4.0212765957446805|          188|\n",
      "|   7153|Lord of the Rings...| 4.118918918918919|          185|\n",
      "|    588|      Aladdin (1992)|3.7923497267759565|          183|\n",
      "|    608|        Fargo (1996)| 4.116022099447513|          181|\n",
      "|   2762|Sixth Sense, The ...| 3.893854748603352|          179|\n",
      "|     32|Twelve Monkeys (a...| 3.983050847457627|          177|\n",
      "|    364|Lion King, The (1...| 3.941860465116279|          172|\n",
      "|    377|        Speed (1994)|3.5292397660818713|          171|\n",
      "|   1270|Back to the Futur...| 4.038011695906433|          171|\n",
      "|   3578|    Gladiator (2000)|3.9382352941176473|          170|\n",
      "|   4306|        Shrek (2001)|3.8676470588235294|          170|\n",
      "|    590|Dances with Wolve...|3.8353658536585367|          164|\n",
      "|    648|Mission: Impossib...| 3.537037037037037|          162|\n",
      "|   4226|      Memento (2000)| 4.122641509433962|          159|\n",
      "|   6539|Pirates of the Ca...| 3.778523489932886|          149|\n",
      "|  58559|Dark Knight, The ...| 4.238255033557047|          149|\n",
      "|    595|Beauty and the Be...|3.7705479452054793|          146|\n",
      "|   1214|        Alien (1979)| 3.969178082191781|          146|\n",
      "|   1036|     Die Hard (1988)|3.8620689655172415|          145|\n",
      "|    165|Die Hard: With a ...|3.5555555555555554|          144|\n",
      "|   1265|Groundhog Day (1993)| 3.944055944055944|          143|\n",
      "|  79132|    Inception (2010)| 4.066433566433567|          143|\n",
      "|   1197|Princess Bride, T...| 4.232394366197183|          142|\n",
      "|   1704|Good Will Hunting...| 4.078014184397163|          141|\n",
      "|   6377| Finding Nemo (2003)|3.9609929078014185|          141|\n",
      "|   1291|Indiana Jones and...| 4.046428571428572|          140|\n",
      "|   1136|Monty Python and ...| 4.161764705882353|          136|\n",
      "|    293|Léon: The Profess...| 4.018796992481203|          133|\n",
      "|   1193|One Flew Over the...| 4.203007518796992|          133|\n",
      "|   3793|        X-Men (2000)| 3.699248120300752|          133|\n",
      "|   4886|Monsters, Inc. (2...| 3.871212121212121|          132|\n",
      "|   1089|Reservoir Dogs (1...| 4.202290076335878|          131|\n",
      "|   1240|Terminator, The (...|3.8969465648854964|          131|\n",
      "|   6874|Kill Bill: Vol. 1...|3.9618320610687023|          131|\n",
      "|   7361|Eternal Sunshine ...|4.1603053435114505|          131|\n",
      "|   1221|Godfather: Part I...|  4.25968992248062|          129|\n",
      "|   2329|American History ...| 4.217054263565892|          129|\n",
      "|     34|         Babe (1995)|        3.65234375|          128|\n",
      "|   1200|       Aliens (1986)|3.9642857142857144|          126|\n",
      "|   1213|   Goodfellas (1990)|              4.25|          126|\n",
      "|   1682|Truman Show, The ...|             3.812|          125|\n",
      "|   8961|Incredibles, The ...|             3.836|          125|\n",
      "|    541| Blade Runner (1982)| 4.100806451612903|          124|\n",
      "|   4995|Beautiful Mind, A...|               4.0|          123|\n",
      "|   1097|E.T. the Extra-Te...|3.7663934426229506|          122|\n",
      "|   5349|   Spider-Man (2002)| 3.540983606557377|          122|\n",
      "|    733|    Rock, The (1996)|3.6404958677685952|          121|\n",
      "|   1206|Clockwork Orange,...| 3.995833333333333|          120|\n",
      "|   2716|Ghostbusters (a.k...|             3.775|          120|\n",
      "|   4973|Amelie (Fabuleux ...| 4.183333333333334|          120|\n",
      "|   5445|Minority Report (...|            3.6375|          120|\n",
      "|   1073|Willy Wonka & the...|3.8739495798319328|          119|\n",
      "|   4963|Ocean's Eleven (2...|3.8445378151260505|          119|\n",
      "|   1527|Fifth Element, Th...|3.7456896551724137|          116|\n",
      "|  33794|Batman Begins (2005)|3.8620689655172415|          116|\n",
      "|   5989|Catch Me If You C...|3.9217391304347826|          115|\n",
      "|   1968|Breakfast Club, T...|3.7787610619469025|          113|\n",
      "|   5418|Bourne Identity, ...|3.8169642857142856|          112|\n",
      "|   3147|Green Mile, The (...| 4.148648648648648|          111|\n",
      "|    349|Clear and Present...|3.6045454545454545|          110|\n",
      "|   3996|Crouching Tiger, ...|3.8363636363636364|          110|\n",
      "|   7438|Kill Bill: Vol. 2...| 3.868181818181818|          110|\n",
      "|    924|2001: A Space Ody...|3.8944954128440368|          109|\n",
      "|   1258| Shining, The (1980)|  4.08256880733945|          109|\n",
      "|   2918|Ferris Bueller's ...|3.8394495412844036|          109|\n",
      "|   4878| Donnie Darko (2001)| 3.981651376146789|          109|\n",
      "|   2115|Indiana Jones and...| 3.638888888888889|          108|\n",
      "|   1208|Apocalypse Now (1...| 4.219626168224299|          107|\n",
      "|   4896|Harry Potter and ...|3.7616822429906542|          107|\n",
      "|  48516|Departed, The (2006)| 4.252336448598131|          107|\n",
      "|   1732|Big Lebowski, The...|3.9245283018867925|          106|\n",
      "|   1923|There's Something...| 3.676190476190476|          105|\n",
      "|  68954|           Up (2009)| 4.004761904761905|          105|\n",
      "|    111|  Taxi Driver (1976)| 4.105769230769231|          104|\n",
      "|    223|       Clerks (1994)| 3.855769230769231|          104|\n",
      "|  60069|       WALL·E (2008)|4.0576923076923075|          104|\n",
      "|    161| Crimson Tide (1995)|3.6359223300970873|          103|\n",
      "+-------+--------------------+------------------+-------------+\n",
      "only showing top 100 rows\n",
      "\n"
     ]
    },
    {
     "name": "stderr",
     "output_type": "stream",
     "text": [
      "                                                                                \r"
     ]
    }
   ],
   "source": [
    "# join, inner join \n",
    "# get the movie title for the mostPopularMoviesDf\n",
    "# join mostPopularMoviesDf with movieDf based on condition that mostPopularMoviesDf.movieId == movieDf.movieId\n",
    "\n",
    "popularMoviesDf = mostPopularMoviesDf.join(movieDf, mostPopularMoviesDf.movieId == movieDf.movieId)\\\n",
    "                                     .select(movieDf.movieId, \"title\", \"avg_rating\", \"total_ratings\")\\\n",
    "                                     .sort(desc(\"total_ratings\"))\n",
    "\n",
    "popularMoviesDf.cache()\n",
    "\n",
    "popularMoviesDf.show(100)"
   ]
  },
  {
   "cell_type": "code",
   "execution_count": 23,
   "id": "eb673206-f9cc-4e6c-8157-c7fbcd0d883c",
   "metadata": {},
   "outputs": [
    {
     "name": "stdout",
     "output_type": "stream",
     "text": [
      "== Parsed Logical Plan ==\n",
      "'Sort ['total_ratings DESC NULLS LAST], true\n",
      "+- Project [movieId#0, title#1, avg_rating#441, total_ratings#443L]\n",
      "   +- Join Inner, (movieId#23 = movieId#0)\n",
      "      :- Filter ((total_ratings#443L >= cast(100 as bigint)) AND (avg_rating#441 >= 3.5))\n",
      "      :  +- Sort [total_ratings#443L DESC NULLS LAST], true\n",
      "      :     +- Aggregate [movieId#23], [movieId#23, avg(rating#24) AS avg_rating#441, count(userId#22) AS total_ratings#443L]\n",
      "      :        +- Relation[userId#22,movieId#23,rating#24,timestamp#25L] csv\n",
      "      +- Relation[movieId#0,title#1,genres#2] csv\n",
      "\n",
      "== Analyzed Logical Plan ==\n",
      "movieId: int, title: string, avg_rating: double, total_ratings: bigint\n",
      "Sort [total_ratings#443L DESC NULLS LAST], true\n",
      "+- Project [movieId#0, title#1, avg_rating#441, total_ratings#443L]\n",
      "   +- Join Inner, (movieId#23 = movieId#0)\n",
      "      :- Filter ((total_ratings#443L >= cast(100 as bigint)) AND (avg_rating#441 >= 3.5))\n",
      "      :  +- Sort [total_ratings#443L DESC NULLS LAST], true\n",
      "      :     +- Aggregate [movieId#23], [movieId#23, avg(rating#24) AS avg_rating#441, count(userId#22) AS total_ratings#443L]\n",
      "      :        +- Relation[userId#22,movieId#23,rating#24,timestamp#25L] csv\n",
      "      +- Relation[movieId#0,title#1,genres#2] csv\n",
      "\n",
      "== Optimized Logical Plan ==\n",
      "InMemoryRelation [movieId#0, title#1, avg_rating#441, total_ratings#443L], StorageLevel(disk, memory, deserialized, 1 replicas)\n",
      "   +- *(3) Sort [total_ratings#443L DESC NULLS LAST], true, 0\n",
      "      +- Exchange rangepartitioning(total_ratings#443L DESC NULLS LAST, 200), ENSURE_REQUIREMENTS, [id=#382]\n",
      "         +- *(2) Project [movieId#0, title#1, avg_rating#441, total_ratings#443L]\n",
      "            +- *(2) BroadcastHashJoin [movieId#23], [movieId#0], Inner, BuildLeft, false\n",
      "               :- BroadcastExchange HashedRelationBroadcastMode(List(cast(input[0, int, false] as bigint)),false), [id=#375]\n",
      "               :  +- *(1) Filter isnotnull(movieId#23)\n",
      "               :     +- *(1) ColumnarToRow\n",
      "               :        +- InMemoryTableScan [movieId#23, avg_rating#441, total_ratings#443L], [isnotnull(movieId#23)]\n",
      "               :              +- InMemoryRelation [movieId#23, avg_rating#441, total_ratings#443L], StorageLevel(disk, memory, deserialized, 1 replicas)\n",
      "               :                    +- *(3) Sort [total_ratings#443L DESC NULLS LAST], true, 0\n",
      "               :                       +- Exchange rangepartitioning(total_ratings#443L DESC NULLS LAST, 200), ENSURE_REQUIREMENTS, [id=#303]\n",
      "               :                          +- *(2) Filter ((isnotnull(avg_rating#441) AND (total_ratings#443L >= 100)) AND (avg_rating#441 >= 3.5))\n",
      "               :                             +- *(2) HashAggregate(keys=[movieId#23], functions=[avg(rating#24), count(userId#22)], output=[movieId#23, avg_rating#441, total_ratings#443L])\n",
      "               :                                +- Exchange hashpartitioning(movieId#23, 200), ENSURE_REQUIREMENTS, [id=#298]\n",
      "               :                                   +- *(1) HashAggregate(keys=[movieId#23], functions=[partial_avg(rating#24), partial_count(userId#22)], output=[movieId#23, sum#450, count#451L, count#452L])\n",
      "               :                                      +- FileScan csv [userId#22,movieId#23,rating#24] Batched: false, DataFilters: [], Format: CSV, Location: InMemoryFileIndex[hdfs://localhost:9000/ml-latest-small/ratings.csv], PartitionFilters: [], PushedFilters: [], ReadSchema: struct<userId:int,movieId:int,rating:double>\n",
      "               +- *(2) Filter isnotnull(movieId#0)\n",
      "                  +- FileScan csv [movieId#0,title#1] Batched: false, DataFilters: [isnotnull(movieId#0)], Format: CSV, Location: InMemoryFileIndex[hdfs://localhost:9000/ml-latest-small/movies.csv], PartitionFilters: [], PushedFilters: [IsNotNull(movieId)], ReadSchema: struct<movieId:int,title:string>\n",
      "\n",
      "== Physical Plan ==\n",
      "InMemoryTableScan [movieId#0, title#1, avg_rating#441, total_ratings#443L]\n",
      "   +- InMemoryRelation [movieId#0, title#1, avg_rating#441, total_ratings#443L], StorageLevel(disk, memory, deserialized, 1 replicas)\n",
      "         +- *(3) Sort [total_ratings#443L DESC NULLS LAST], true, 0\n",
      "            +- Exchange rangepartitioning(total_ratings#443L DESC NULLS LAST, 200), ENSURE_REQUIREMENTS, [id=#382]\n",
      "               +- *(2) Project [movieId#0, title#1, avg_rating#441, total_ratings#443L]\n",
      "                  +- *(2) BroadcastHashJoin [movieId#23], [movieId#0], Inner, BuildLeft, false\n",
      "                     :- BroadcastExchange HashedRelationBroadcastMode(List(cast(input[0, int, false] as bigint)),false), [id=#375]\n",
      "                     :  +- *(1) Filter isnotnull(movieId#23)\n",
      "                     :     +- *(1) ColumnarToRow\n",
      "                     :        +- InMemoryTableScan [movieId#23, avg_rating#441, total_ratings#443L], [isnotnull(movieId#23)]\n",
      "                     :              +- InMemoryRelation [movieId#23, avg_rating#441, total_ratings#443L], StorageLevel(disk, memory, deserialized, 1 replicas)\n",
      "                     :                    +- *(3) Sort [total_ratings#443L DESC NULLS LAST], true, 0\n",
      "                     :                       +- Exchange rangepartitioning(total_ratings#443L DESC NULLS LAST, 200), ENSURE_REQUIREMENTS, [id=#303]\n",
      "                     :                          +- *(2) Filter ((isnotnull(avg_rating#441) AND (total_ratings#443L >= 100)) AND (avg_rating#441 >= 3.5))\n",
      "                     :                             +- *(2) HashAggregate(keys=[movieId#23], functions=[avg(rating#24), count(userId#22)], output=[movieId#23, avg_rating#441, total_ratings#443L])\n",
      "                     :                                +- Exchange hashpartitioning(movieId#23, 200), ENSURE_REQUIREMENTS, [id=#298]\n",
      "                     :                                   +- *(1) HashAggregate(keys=[movieId#23], functions=[partial_avg(rating#24), partial_count(userId#22)], output=[movieId#23, sum#450, count#451L, count#452L])\n",
      "                     :                                      +- FileScan csv [userId#22,movieId#23,rating#24] Batched: false, DataFilters: [], Format: CSV, Location: InMemoryFileIndex[hdfs://localhost:9000/ml-latest-small/ratings.csv], PartitionFilters: [], PushedFilters: [], ReadSchema: struct<userId:int,movieId:int,rating:double>\n",
      "                     +- *(2) Filter isnotnull(movieId#0)\n",
      "                        +- FileScan csv [movieId#0,title#1] Batched: false, DataFilters: [isnotnull(movieId#0)], Format: CSV, Location: InMemoryFileIndex[hdfs://localhost:9000/ml-latest-small/movies.csv], PartitionFilters: [], PushedFilters: [IsNotNull(movieId)], ReadSchema: struct<movieId:int,title:string>\n",
      "\n"
     ]
    }
   ],
   "source": [
    "popularMoviesDf.explain(extended=True)"
   ]
  },
  {
   "cell_type": "code",
   "execution_count": 24,
   "id": "4e5e3bdc-0c11-4b10-9dac-ca7668df440c",
   "metadata": {},
   "outputs": [
    {
     "data": {
      "text/plain": [
       "72"
      ]
     },
     "execution_count": 24,
     "metadata": {},
     "output_type": "execute_result"
    }
   ],
   "source": [
    "popularMoviesDf.rdd.getNumPartitions()\n",
    "#popularMoviesDf.rdd.glom().collect()"
   ]
  },
  {
   "cell_type": "code",
   "execution_count": 25,
   "id": "6f6d9fdc-5250-4a93-b2fa-932888ccc9a9",
   "metadata": {},
   "outputs": [
    {
     "name": "stderr",
     "output_type": "stream",
     "text": [
      "                                                                                \r"
     ]
    },
    {
     "data": {
      "text/plain": [
       "110"
      ]
     },
     "execution_count": 25,
     "metadata": {},
     "output_type": "execute_result"
    }
   ],
   "source": [
    "popularMoviesDf.count()"
   ]
  },
  {
   "cell_type": "code",
   "execution_count": 26,
   "id": "520aca13-66b6-4815-951e-cf42135f7869",
   "metadata": {},
   "outputs": [
    {
     "name": "stderr",
     "output_type": "stream",
     "text": [
      "                                                                                \r"
     ]
    },
    {
     "data": {
      "text/plain": [
       "[[Row(movieId=356, title='Forrest Gump (1994)', avg_rating=4.164133738601824, total_ratings=329)],\n",
       " [Row(movieId=318, title='Shawshank Redemption, The (1994)', avg_rating=4.429022082018927, total_ratings=317)],\n",
       " [Row(movieId=296, title='Pulp Fiction (1994)', avg_rating=4.197068403908795, total_ratings=307)],\n",
       " [Row(movieId=593, title='Silence of the Lambs, The (1991)', avg_rating=4.161290322580645, total_ratings=279)],\n",
       " [Row(movieId=2571, title='Matrix, The (1999)', avg_rating=4.192446043165468, total_ratings=278)],\n",
       " [Row(movieId=260, title='Star Wars: Episode IV - A New Hope (1977)', avg_rating=4.231075697211155, total_ratings=251)],\n",
       " [Row(movieId=480, title='Jurassic Park (1993)', avg_rating=3.75, total_ratings=238)],\n",
       " [Row(movieId=110, title='Braveheart (1995)', avg_rating=4.031645569620253, total_ratings=237)],\n",
       " [Row(movieId=589, title='Terminator 2: Judgment Day (1991)', avg_rating=3.970982142857143, total_ratings=224)],\n",
       " [Row(movieId=527, title=\"Schindler's List (1993)\", avg_rating=4.225, total_ratings=220)],\n",
       " [Row(movieId=2959, title='Fight Club (1999)', avg_rating=4.272935779816514, total_ratings=218)],\n",
       " [Row(movieId=1, title='Toy Story (1995)', avg_rating=3.9209302325581397, total_ratings=215)],\n",
       " [Row(movieId=1196, title='Star Wars: Episode V - The Empire Strikes Back (1980)', avg_rating=4.2156398104265405, total_ratings=211)],\n",
       " [Row(movieId=50, title='Usual Suspects, The (1995)', avg_rating=4.237745098039215, total_ratings=204),\n",
       "  Row(movieId=2858, title='American Beauty (1999)', avg_rating=4.056372549019608, total_ratings=204)],\n",
       " [Row(movieId=47, title='Seven (a.k.a. Se7en) (1995)', avg_rating=3.9753694581280787, total_ratings=203)],\n",
       " [Row(movieId=150, title='Apollo 13 (1995)', avg_rating=3.845771144278607, total_ratings=201)],\n",
       " [Row(movieId=1198, title='Raiders of the Lost Ark (Indiana Jones and the Raiders of the Lost Ark) (1981)', avg_rating=4.2075, total_ratings=200)],\n",
       " [Row(movieId=4993, title='Lord of the Rings: The Fellowship of the Ring, The (2001)', avg_rating=4.106060606060606, total_ratings=198)],\n",
       " [Row(movieId=1210, title='Star Wars: Episode VI - Return of the Jedi (1983)', avg_rating=4.137755102040816, total_ratings=196)],\n",
       " [Row(movieId=858, title='Godfather, The (1972)', avg_rating=4.2890625, total_ratings=192)],\n",
       " [Row(movieId=457, title='Fugitive, The (1993)', avg_rating=3.9921052631578946, total_ratings=190)],\n",
       " [Row(movieId=2028, title='Saving Private Ryan (1998)', avg_rating=4.1462765957446805, total_ratings=188),\n",
       "  Row(movieId=5952, title='Lord of the Rings: The Two Towers, The (2002)', avg_rating=4.0212765957446805, total_ratings=188)],\n",
       " [Row(movieId=7153, title='Lord of the Rings: The Return of the King, The (2003)', avg_rating=4.118918918918919, total_ratings=185)],\n",
       " [Row(movieId=588, title='Aladdin (1992)', avg_rating=3.7923497267759565, total_ratings=183)],\n",
       " [Row(movieId=608, title='Fargo (1996)', avg_rating=4.116022099447513, total_ratings=181)],\n",
       " [Row(movieId=2762, title='Sixth Sense, The (1999)', avg_rating=3.893854748603352, total_ratings=179)],\n",
       " [Row(movieId=32, title='Twelve Monkeys (a.k.a. 12 Monkeys) (1995)', avg_rating=3.983050847457627, total_ratings=177)],\n",
       " [Row(movieId=364, title='Lion King, The (1994)', avg_rating=3.941860465116279, total_ratings=172)],\n",
       " [Row(movieId=377, title='Speed (1994)', avg_rating=3.5292397660818713, total_ratings=171),\n",
       "  Row(movieId=1270, title='Back to the Future (1985)', avg_rating=4.038011695906433, total_ratings=171)],\n",
       " [Row(movieId=3578, title='Gladiator (2000)', avg_rating=3.9382352941176473, total_ratings=170),\n",
       "  Row(movieId=4306, title='Shrek (2001)', avg_rating=3.8676470588235294, total_ratings=170)],\n",
       " [Row(movieId=590, title='Dances with Wolves (1990)', avg_rating=3.8353658536585367, total_ratings=164)],\n",
       " [Row(movieId=648, title='Mission: Impossible (1996)', avg_rating=3.537037037037037, total_ratings=162)],\n",
       " [Row(movieId=4226, title='Memento (2000)', avg_rating=4.122641509433962, total_ratings=159)],\n",
       " [Row(movieId=6539, title='Pirates of the Caribbean: The Curse of the Black Pearl (2003)', avg_rating=3.778523489932886, total_ratings=149),\n",
       "  Row(movieId=58559, title='Dark Knight, The (2008)', avg_rating=4.238255033557047, total_ratings=149)],\n",
       " [Row(movieId=595, title='Beauty and the Beast (1991)', avg_rating=3.7705479452054793, total_ratings=146),\n",
       "  Row(movieId=1214, title='Alien (1979)', avg_rating=3.969178082191781, total_ratings=146)],\n",
       " [Row(movieId=1036, title='Die Hard (1988)', avg_rating=3.8620689655172415, total_ratings=145)],\n",
       " [Row(movieId=165, title='Die Hard: With a Vengeance (1995)', avg_rating=3.5555555555555554, total_ratings=144)],\n",
       " [Row(movieId=1265, title='Groundhog Day (1993)', avg_rating=3.944055944055944, total_ratings=143),\n",
       "  Row(movieId=79132, title='Inception (2010)', avg_rating=4.066433566433567, total_ratings=143)],\n",
       " [Row(movieId=1197, title='Princess Bride, The (1987)', avg_rating=4.232394366197183, total_ratings=142)],\n",
       " [Row(movieId=1704, title='Good Will Hunting (1997)', avg_rating=4.078014184397163, total_ratings=141),\n",
       "  Row(movieId=6377, title='Finding Nemo (2003)', avg_rating=3.9609929078014185, total_ratings=141)],\n",
       " [Row(movieId=1291, title='Indiana Jones and the Last Crusade (1989)', avg_rating=4.046428571428572, total_ratings=140)],\n",
       " [Row(movieId=1136, title='Monty Python and the Holy Grail (1975)', avg_rating=4.161764705882353, total_ratings=136)],\n",
       " [Row(movieId=293, title='Léon: The Professional (a.k.a. The Professional) (Léon) (1994)', avg_rating=4.018796992481203, total_ratings=133),\n",
       "  Row(movieId=1193, title=\"One Flew Over the Cuckoo's Nest (1975)\", avg_rating=4.203007518796992, total_ratings=133),\n",
       "  Row(movieId=3793, title='X-Men (2000)', avg_rating=3.699248120300752, total_ratings=133)],\n",
       " [Row(movieId=4886, title='Monsters, Inc. (2001)', avg_rating=3.871212121212121, total_ratings=132)],\n",
       " [Row(movieId=1089, title='Reservoir Dogs (1992)', avg_rating=4.202290076335878, total_ratings=131),\n",
       "  Row(movieId=1240, title='Terminator, The (1984)', avg_rating=3.8969465648854964, total_ratings=131),\n",
       "  Row(movieId=6874, title='Kill Bill: Vol. 1 (2003)', avg_rating=3.9618320610687023, total_ratings=131),\n",
       "  Row(movieId=7361, title='Eternal Sunshine of the Spotless Mind (2004)', avg_rating=4.1603053435114505, total_ratings=131)],\n",
       " [Row(movieId=1221, title='Godfather: Part II, The (1974)', avg_rating=4.25968992248062, total_ratings=129),\n",
       "  Row(movieId=2329, title='American History X (1998)', avg_rating=4.217054263565892, total_ratings=129)],\n",
       " [Row(movieId=34, title='Babe (1995)', avg_rating=3.65234375, total_ratings=128)],\n",
       " [Row(movieId=1200, title='Aliens (1986)', avg_rating=3.9642857142857144, total_ratings=126),\n",
       "  Row(movieId=1213, title='Goodfellas (1990)', avg_rating=4.25, total_ratings=126)],\n",
       " [Row(movieId=1682, title='Truman Show, The (1998)', avg_rating=3.812, total_ratings=125),\n",
       "  Row(movieId=8961, title='Incredibles, The (2004)', avg_rating=3.836, total_ratings=125)],\n",
       " [Row(movieId=541, title='Blade Runner (1982)', avg_rating=4.100806451612903, total_ratings=124)],\n",
       " [Row(movieId=4995, title='Beautiful Mind, A (2001)', avg_rating=4.0, total_ratings=123)],\n",
       " [Row(movieId=1097, title='E.T. the Extra-Terrestrial (1982)', avg_rating=3.7663934426229506, total_ratings=122),\n",
       "  Row(movieId=5349, title='Spider-Man (2002)', avg_rating=3.540983606557377, total_ratings=122)],\n",
       " [Row(movieId=733, title='Rock, The (1996)', avg_rating=3.6404958677685952, total_ratings=121)],\n",
       " [Row(movieId=1206, title='Clockwork Orange, A (1971)', avg_rating=3.995833333333333, total_ratings=120),\n",
       "  Row(movieId=2716, title='Ghostbusters (a.k.a. Ghost Busters) (1984)', avg_rating=3.775, total_ratings=120),\n",
       "  Row(movieId=4973, title=\"Amelie (Fabuleux destin d'Amélie Poulain, Le) (2001)\", avg_rating=4.183333333333334, total_ratings=120),\n",
       "  Row(movieId=5445, title='Minority Report (2002)', avg_rating=3.6375, total_ratings=120)],\n",
       " [Row(movieId=1073, title='Willy Wonka & the Chocolate Factory (1971)', avg_rating=3.8739495798319328, total_ratings=119),\n",
       "  Row(movieId=4963, title=\"Ocean's Eleven (2001)\", avg_rating=3.8445378151260505, total_ratings=119)],\n",
       " [Row(movieId=1527, title='Fifth Element, The (1997)', avg_rating=3.7456896551724137, total_ratings=116),\n",
       "  Row(movieId=33794, title='Batman Begins (2005)', avg_rating=3.8620689655172415, total_ratings=116)],\n",
       " [Row(movieId=5989, title='Catch Me If You Can (2002)', avg_rating=3.9217391304347826, total_ratings=115)],\n",
       " [Row(movieId=1968, title='Breakfast Club, The (1985)', avg_rating=3.7787610619469025, total_ratings=113)],\n",
       " [Row(movieId=5418, title='Bourne Identity, The (2002)', avg_rating=3.8169642857142856, total_ratings=112)],\n",
       " [Row(movieId=3147, title='Green Mile, The (1999)', avg_rating=4.148648648648648, total_ratings=111)],\n",
       " [Row(movieId=349, title='Clear and Present Danger (1994)', avg_rating=3.6045454545454545, total_ratings=110),\n",
       "  Row(movieId=3996, title='Crouching Tiger, Hidden Dragon (Wo hu cang long) (2000)', avg_rating=3.8363636363636364, total_ratings=110),\n",
       "  Row(movieId=7438, title='Kill Bill: Vol. 2 (2004)', avg_rating=3.868181818181818, total_ratings=110)],\n",
       " [Row(movieId=924, title='2001: A Space Odyssey (1968)', avg_rating=3.8944954128440368, total_ratings=109),\n",
       "  Row(movieId=1258, title='Shining, The (1980)', avg_rating=4.08256880733945, total_ratings=109),\n",
       "  Row(movieId=2918, title=\"Ferris Bueller's Day Off (1986)\", avg_rating=3.8394495412844036, total_ratings=109),\n",
       "  Row(movieId=4878, title='Donnie Darko (2001)', avg_rating=3.981651376146789, total_ratings=109)],\n",
       " [Row(movieId=2115, title='Indiana Jones and the Temple of Doom (1984)', avg_rating=3.638888888888889, total_ratings=108)],\n",
       " [Row(movieId=1208, title='Apocalypse Now (1979)', avg_rating=4.219626168224299, total_ratings=107),\n",
       "  Row(movieId=4896, title=\"Harry Potter and the Sorcerer's Stone (a.k.a. Harry Potter and the Philosopher's Stone) (2001)\", avg_rating=3.7616822429906542, total_ratings=107),\n",
       "  Row(movieId=48516, title='Departed, The (2006)', avg_rating=4.252336448598131, total_ratings=107)],\n",
       " [Row(movieId=1732, title='Big Lebowski, The (1998)', avg_rating=3.9245283018867925, total_ratings=106)],\n",
       " [Row(movieId=1923, title=\"There's Something About Mary (1998)\", avg_rating=3.676190476190476, total_ratings=105),\n",
       "  Row(movieId=68954, title='Up (2009)', avg_rating=4.004761904761905, total_ratings=105)],\n",
       " [Row(movieId=111, title='Taxi Driver (1976)', avg_rating=4.105769230769231, total_ratings=104),\n",
       "  Row(movieId=223, title='Clerks (1994)', avg_rating=3.855769230769231, total_ratings=104),\n",
       "  Row(movieId=60069, title='WALL·E (2008)', avg_rating=4.0576923076923075, total_ratings=104)],\n",
       " [Row(movieId=161, title='Crimson Tide (1995)', avg_rating=3.6359223300970873, total_ratings=103),\n",
       "  Row(movieId=357, title='Four Weddings and a Funeral (1994)', avg_rating=3.5194174757281553, total_ratings=103)],\n",
       " [Row(movieId=6, title='Heat (1995)', avg_rating=3.946078431372549, total_ratings=102),\n",
       "  Row(movieId=778, title='Trainspotting (1996)', avg_rating=4.03921568627451, total_ratings=102),\n",
       "  Row(movieId=1222, title='Full Metal Jacket (1987)', avg_rating=4.098039215686274, total_ratings=102),\n",
       "  Row(movieId=5816, title='Harry Potter and the Chamber of Secrets (2002)', avg_rating=3.5980392156862746, total_ratings=102)],\n",
       " [Row(movieId=454, title='Firm, The (1993)', avg_rating=3.5346534653465347, total_ratings=101)],\n",
       " [Row(movieId=912, title='Casablanca (1942)', avg_rating=4.24, total_ratings=100),\n",
       "  Row(movieId=1517, title='Austin Powers: International Man of Mystery (1997)', avg_rating=3.535, total_ratings=100),\n",
       "  Row(movieId=4022, title='Cast Away (2000)', avg_rating=3.7, total_ratings=100),\n",
       "  Row(movieId=44191, title='V for Vendetta (2006)', avg_rating=3.885, total_ratings=100)],\n",
       " []]"
      ]
     },
     "execution_count": 26,
     "metadata": {},
     "output_type": "execute_result"
    }
   ],
   "source": [
    "popularMoviesDf.rdd.glom().collect()"
   ]
  },
  {
   "cell_type": "code",
   "execution_count": 27,
   "id": "5f45aaed-4318-4453-9404-f0d27f99d6f3",
   "metadata": {},
   "outputs": [
    {
     "name": "stdout",
     "output_type": "stream",
     "text": [
      "1\n"
     ]
    },
    {
     "data": {
      "text/plain": [
       "[[Row(movieId=356, title='Forrest Gump (1994)', avg_rating=4.164133738601824, total_ratings=329),\n",
       "  Row(movieId=318, title='Shawshank Redemption, The (1994)', avg_rating=4.429022082018927, total_ratings=317),\n",
       "  Row(movieId=296, title='Pulp Fiction (1994)', avg_rating=4.197068403908795, total_ratings=307),\n",
       "  Row(movieId=593, title='Silence of the Lambs, The (1991)', avg_rating=4.161290322580645, total_ratings=279),\n",
       "  Row(movieId=2571, title='Matrix, The (1999)', avg_rating=4.192446043165468, total_ratings=278),\n",
       "  Row(movieId=260, title='Star Wars: Episode IV - A New Hope (1977)', avg_rating=4.231075697211155, total_ratings=251),\n",
       "  Row(movieId=480, title='Jurassic Park (1993)', avg_rating=3.75, total_ratings=238),\n",
       "  Row(movieId=110, title='Braveheart (1995)', avg_rating=4.031645569620253, total_ratings=237),\n",
       "  Row(movieId=589, title='Terminator 2: Judgment Day (1991)', avg_rating=3.970982142857143, total_ratings=224),\n",
       "  Row(movieId=527, title=\"Schindler's List (1993)\", avg_rating=4.225, total_ratings=220),\n",
       "  Row(movieId=2959, title='Fight Club (1999)', avg_rating=4.272935779816514, total_ratings=218),\n",
       "  Row(movieId=1, title='Toy Story (1995)', avg_rating=3.9209302325581397, total_ratings=215),\n",
       "  Row(movieId=1196, title='Star Wars: Episode V - The Empire Strikes Back (1980)', avg_rating=4.2156398104265405, total_ratings=211),\n",
       "  Row(movieId=50, title='Usual Suspects, The (1995)', avg_rating=4.237745098039215, total_ratings=204),\n",
       "  Row(movieId=2858, title='American Beauty (1999)', avg_rating=4.056372549019608, total_ratings=204),\n",
       "  Row(movieId=47, title='Seven (a.k.a. Se7en) (1995)', avg_rating=3.9753694581280787, total_ratings=203),\n",
       "  Row(movieId=150, title='Apollo 13 (1995)', avg_rating=3.845771144278607, total_ratings=201),\n",
       "  Row(movieId=1198, title='Raiders of the Lost Ark (Indiana Jones and the Raiders of the Lost Ark) (1981)', avg_rating=4.2075, total_ratings=200),\n",
       "  Row(movieId=4993, title='Lord of the Rings: The Fellowship of the Ring, The (2001)', avg_rating=4.106060606060606, total_ratings=198),\n",
       "  Row(movieId=1210, title='Star Wars: Episode VI - Return of the Jedi (1983)', avg_rating=4.137755102040816, total_ratings=196),\n",
       "  Row(movieId=858, title='Godfather, The (1972)', avg_rating=4.2890625, total_ratings=192),\n",
       "  Row(movieId=457, title='Fugitive, The (1993)', avg_rating=3.9921052631578946, total_ratings=190),\n",
       "  Row(movieId=2028, title='Saving Private Ryan (1998)', avg_rating=4.1462765957446805, total_ratings=188),\n",
       "  Row(movieId=5952, title='Lord of the Rings: The Two Towers, The (2002)', avg_rating=4.0212765957446805, total_ratings=188),\n",
       "  Row(movieId=7153, title='Lord of the Rings: The Return of the King, The (2003)', avg_rating=4.118918918918919, total_ratings=185),\n",
       "  Row(movieId=588, title='Aladdin (1992)', avg_rating=3.7923497267759565, total_ratings=183),\n",
       "  Row(movieId=608, title='Fargo (1996)', avg_rating=4.116022099447513, total_ratings=181),\n",
       "  Row(movieId=2762, title='Sixth Sense, The (1999)', avg_rating=3.893854748603352, total_ratings=179),\n",
       "  Row(movieId=32, title='Twelve Monkeys (a.k.a. 12 Monkeys) (1995)', avg_rating=3.983050847457627, total_ratings=177),\n",
       "  Row(movieId=364, title='Lion King, The (1994)', avg_rating=3.941860465116279, total_ratings=172),\n",
       "  Row(movieId=377, title='Speed (1994)', avg_rating=3.5292397660818713, total_ratings=171),\n",
       "  Row(movieId=1270, title='Back to the Future (1985)', avg_rating=4.038011695906433, total_ratings=171),\n",
       "  Row(movieId=3578, title='Gladiator (2000)', avg_rating=3.9382352941176473, total_ratings=170),\n",
       "  Row(movieId=4306, title='Shrek (2001)', avg_rating=3.8676470588235294, total_ratings=170),\n",
       "  Row(movieId=590, title='Dances with Wolves (1990)', avg_rating=3.8353658536585367, total_ratings=164),\n",
       "  Row(movieId=648, title='Mission: Impossible (1996)', avg_rating=3.537037037037037, total_ratings=162),\n",
       "  Row(movieId=4226, title='Memento (2000)', avg_rating=4.122641509433962, total_ratings=159),\n",
       "  Row(movieId=6539, title='Pirates of the Caribbean: The Curse of the Black Pearl (2003)', avg_rating=3.778523489932886, total_ratings=149),\n",
       "  Row(movieId=58559, title='Dark Knight, The (2008)', avg_rating=4.238255033557047, total_ratings=149),\n",
       "  Row(movieId=595, title='Beauty and the Beast (1991)', avg_rating=3.7705479452054793, total_ratings=146),\n",
       "  Row(movieId=1214, title='Alien (1979)', avg_rating=3.969178082191781, total_ratings=146),\n",
       "  Row(movieId=1036, title='Die Hard (1988)', avg_rating=3.8620689655172415, total_ratings=145),\n",
       "  Row(movieId=165, title='Die Hard: With a Vengeance (1995)', avg_rating=3.5555555555555554, total_ratings=144),\n",
       "  Row(movieId=1265, title='Groundhog Day (1993)', avg_rating=3.944055944055944, total_ratings=143),\n",
       "  Row(movieId=79132, title='Inception (2010)', avg_rating=4.066433566433567, total_ratings=143),\n",
       "  Row(movieId=1197, title='Princess Bride, The (1987)', avg_rating=4.232394366197183, total_ratings=142),\n",
       "  Row(movieId=1704, title='Good Will Hunting (1997)', avg_rating=4.078014184397163, total_ratings=141),\n",
       "  Row(movieId=6377, title='Finding Nemo (2003)', avg_rating=3.9609929078014185, total_ratings=141),\n",
       "  Row(movieId=1291, title='Indiana Jones and the Last Crusade (1989)', avg_rating=4.046428571428572, total_ratings=140),\n",
       "  Row(movieId=1136, title='Monty Python and the Holy Grail (1975)', avg_rating=4.161764705882353, total_ratings=136),\n",
       "  Row(movieId=293, title='Léon: The Professional (a.k.a. The Professional) (Léon) (1994)', avg_rating=4.018796992481203, total_ratings=133),\n",
       "  Row(movieId=1193, title=\"One Flew Over the Cuckoo's Nest (1975)\", avg_rating=4.203007518796992, total_ratings=133),\n",
       "  Row(movieId=3793, title='X-Men (2000)', avg_rating=3.699248120300752, total_ratings=133),\n",
       "  Row(movieId=4886, title='Monsters, Inc. (2001)', avg_rating=3.871212121212121, total_ratings=132),\n",
       "  Row(movieId=1089, title='Reservoir Dogs (1992)', avg_rating=4.202290076335878, total_ratings=131),\n",
       "  Row(movieId=1240, title='Terminator, The (1984)', avg_rating=3.8969465648854964, total_ratings=131),\n",
       "  Row(movieId=6874, title='Kill Bill: Vol. 1 (2003)', avg_rating=3.9618320610687023, total_ratings=131),\n",
       "  Row(movieId=7361, title='Eternal Sunshine of the Spotless Mind (2004)', avg_rating=4.1603053435114505, total_ratings=131),\n",
       "  Row(movieId=1221, title='Godfather: Part II, The (1974)', avg_rating=4.25968992248062, total_ratings=129),\n",
       "  Row(movieId=2329, title='American History X (1998)', avg_rating=4.217054263565892, total_ratings=129),\n",
       "  Row(movieId=34, title='Babe (1995)', avg_rating=3.65234375, total_ratings=128),\n",
       "  Row(movieId=1200, title='Aliens (1986)', avg_rating=3.9642857142857144, total_ratings=126),\n",
       "  Row(movieId=1213, title='Goodfellas (1990)', avg_rating=4.25, total_ratings=126),\n",
       "  Row(movieId=1682, title='Truman Show, The (1998)', avg_rating=3.812, total_ratings=125),\n",
       "  Row(movieId=8961, title='Incredibles, The (2004)', avg_rating=3.836, total_ratings=125),\n",
       "  Row(movieId=541, title='Blade Runner (1982)', avg_rating=4.100806451612903, total_ratings=124),\n",
       "  Row(movieId=4995, title='Beautiful Mind, A (2001)', avg_rating=4.0, total_ratings=123),\n",
       "  Row(movieId=1097, title='E.T. the Extra-Terrestrial (1982)', avg_rating=3.7663934426229506, total_ratings=122),\n",
       "  Row(movieId=5349, title='Spider-Man (2002)', avg_rating=3.540983606557377, total_ratings=122),\n",
       "  Row(movieId=733, title='Rock, The (1996)', avg_rating=3.6404958677685952, total_ratings=121),\n",
       "  Row(movieId=1206, title='Clockwork Orange, A (1971)', avg_rating=3.995833333333333, total_ratings=120),\n",
       "  Row(movieId=2716, title='Ghostbusters (a.k.a. Ghost Busters) (1984)', avg_rating=3.775, total_ratings=120),\n",
       "  Row(movieId=4973, title=\"Amelie (Fabuleux destin d'Amélie Poulain, Le) (2001)\", avg_rating=4.183333333333334, total_ratings=120),\n",
       "  Row(movieId=5445, title='Minority Report (2002)', avg_rating=3.6375, total_ratings=120),\n",
       "  Row(movieId=1073, title='Willy Wonka & the Chocolate Factory (1971)', avg_rating=3.8739495798319328, total_ratings=119),\n",
       "  Row(movieId=4963, title=\"Ocean's Eleven (2001)\", avg_rating=3.8445378151260505, total_ratings=119),\n",
       "  Row(movieId=1527, title='Fifth Element, The (1997)', avg_rating=3.7456896551724137, total_ratings=116),\n",
       "  Row(movieId=33794, title='Batman Begins (2005)', avg_rating=3.8620689655172415, total_ratings=116),\n",
       "  Row(movieId=5989, title='Catch Me If You Can (2002)', avg_rating=3.9217391304347826, total_ratings=115),\n",
       "  Row(movieId=1968, title='Breakfast Club, The (1985)', avg_rating=3.7787610619469025, total_ratings=113),\n",
       "  Row(movieId=5418, title='Bourne Identity, The (2002)', avg_rating=3.8169642857142856, total_ratings=112),\n",
       "  Row(movieId=3147, title='Green Mile, The (1999)', avg_rating=4.148648648648648, total_ratings=111),\n",
       "  Row(movieId=349, title='Clear and Present Danger (1994)', avg_rating=3.6045454545454545, total_ratings=110),\n",
       "  Row(movieId=3996, title='Crouching Tiger, Hidden Dragon (Wo hu cang long) (2000)', avg_rating=3.8363636363636364, total_ratings=110),\n",
       "  Row(movieId=7438, title='Kill Bill: Vol. 2 (2004)', avg_rating=3.868181818181818, total_ratings=110),\n",
       "  Row(movieId=924, title='2001: A Space Odyssey (1968)', avg_rating=3.8944954128440368, total_ratings=109),\n",
       "  Row(movieId=1258, title='Shining, The (1980)', avg_rating=4.08256880733945, total_ratings=109),\n",
       "  Row(movieId=2918, title=\"Ferris Bueller's Day Off (1986)\", avg_rating=3.8394495412844036, total_ratings=109),\n",
       "  Row(movieId=4878, title='Donnie Darko (2001)', avg_rating=3.981651376146789, total_ratings=109),\n",
       "  Row(movieId=2115, title='Indiana Jones and the Temple of Doom (1984)', avg_rating=3.638888888888889, total_ratings=108),\n",
       "  Row(movieId=1208, title='Apocalypse Now (1979)', avg_rating=4.219626168224299, total_ratings=107),\n",
       "  Row(movieId=4896, title=\"Harry Potter and the Sorcerer's Stone (a.k.a. Harry Potter and the Philosopher's Stone) (2001)\", avg_rating=3.7616822429906542, total_ratings=107),\n",
       "  Row(movieId=48516, title='Departed, The (2006)', avg_rating=4.252336448598131, total_ratings=107),\n",
       "  Row(movieId=1732, title='Big Lebowski, The (1998)', avg_rating=3.9245283018867925, total_ratings=106),\n",
       "  Row(movieId=1923, title=\"There's Something About Mary (1998)\", avg_rating=3.676190476190476, total_ratings=105),\n",
       "  Row(movieId=68954, title='Up (2009)', avg_rating=4.004761904761905, total_ratings=105),\n",
       "  Row(movieId=111, title='Taxi Driver (1976)', avg_rating=4.105769230769231, total_ratings=104),\n",
       "  Row(movieId=223, title='Clerks (1994)', avg_rating=3.855769230769231, total_ratings=104),\n",
       "  Row(movieId=60069, title='WALL·E (2008)', avg_rating=4.0576923076923075, total_ratings=104),\n",
       "  Row(movieId=161, title='Crimson Tide (1995)', avg_rating=3.6359223300970873, total_ratings=103),\n",
       "  Row(movieId=357, title='Four Weddings and a Funeral (1994)', avg_rating=3.5194174757281553, total_ratings=103),\n",
       "  Row(movieId=6, title='Heat (1995)', avg_rating=3.946078431372549, total_ratings=102),\n",
       "  Row(movieId=778, title='Trainspotting (1996)', avg_rating=4.03921568627451, total_ratings=102),\n",
       "  Row(movieId=1222, title='Full Metal Jacket (1987)', avg_rating=4.098039215686274, total_ratings=102),\n",
       "  Row(movieId=5816, title='Harry Potter and the Chamber of Secrets (2002)', avg_rating=3.5980392156862746, total_ratings=102),\n",
       "  Row(movieId=454, title='Firm, The (1993)', avg_rating=3.5346534653465347, total_ratings=101),\n",
       "  Row(movieId=912, title='Casablanca (1942)', avg_rating=4.24, total_ratings=100),\n",
       "  Row(movieId=1517, title='Austin Powers: International Man of Mystery (1997)', avg_rating=3.535, total_ratings=100),\n",
       "  Row(movieId=4022, title='Cast Away (2000)', avg_rating=3.7, total_ratings=100),\n",
       "  Row(movieId=44191, title='V for Vendetta (2006)', avg_rating=3.885, total_ratings=100)]]"
      ]
     },
     "execution_count": 27,
     "metadata": {},
     "output_type": "execute_result"
    }
   ],
   "source": [
    "# create a dattarframe with popularMoviesDf where we reduce the parititons to 1\n",
    "\n",
    "df = popularMoviesDf.coalesce(1)\n",
    "print (df.rdd.getNumPartitions())\n",
    "df.rdd.glom().collect()"
   ]
  },
  {
   "cell_type": "code",
   "execution_count": 29,
   "id": "f823a4ec-f1ff-41ff-b454-3ce714370cfb",
   "metadata": {},
   "outputs": [
    {
     "name": "stderr",
     "output_type": "stream",
     "text": [
      "                                                                                \r"
     ]
    }
   ],
   "source": [
    "# write popularMoviesDf to hadoop with header [by default headers shall not be written]\n",
    "# overwrite existing files\n",
    "# 70 plus partitions having approx total of 100 plus records\n",
    "# write 70 plus files into hadoop\n",
    "# write opeartions runs parallel on executors on each paritions\n",
    "#Write to HDFS \n",
    "popularMoviesDf.write.mode(\"overwrite\")\\\n",
    "                .option(\"header\", True)\\\n",
    "                .csv(\"hdfs://localhost:9000/most-popular-movies-many-files\")"
   ]
  },
  {
   "cell_type": "code",
   "execution_count": 30,
   "id": "94702e4c-8b1d-4851-b62a-f1ea6826f324",
   "metadata": {},
   "outputs": [],
   "source": [
    "# write popularMoviesDf into single file\n",
    "# coalesce(1) to reduce partitions\n",
    "popularMoviesDf.coalesce(1).write.mode(\"overwrite\")\\\n",
    "                .option(\"header\", True)\\\n",
    "                .csv(\"hdfs://localhost:9000/most-popular-movies\")"
   ]
  },
  {
   "cell_type": "code",
   "execution_count": 31,
   "id": "c6d7675a-119a-44a8-8ec6-20fa062904b5",
   "metadata": {},
   "outputs": [],
   "source": [
    "# now  read the files back from hdfs \n",
    "# for schema, we try to use inferSchema, let spark to build schema itself\n",
    "# use inferSchema for small data set"
   ]
  },
  {
   "cell_type": "code",
   "execution_count": 32,
   "id": "05ed6f7d-232a-45b6-b544-1c9fc7cbbf10",
   "metadata": {},
   "outputs": [
    {
     "name": "stderr",
     "output_type": "stream",
     "text": [
      "                                                                                \r"
     ]
    },
    {
     "name": "stdout",
     "output_type": "stream",
     "text": [
      "root\n",
      " |-- movieId: integer (nullable = true)\n",
      " |-- title: string (nullable = true)\n",
      " |-- avg_rating: double (nullable = true)\n",
      " |-- total_ratings: integer (nullable = true)\n",
      "\n",
      "Partitions 3\n",
      "+-------+--------------------+------------------+-------------+\n",
      "|movieId|               title|        avg_rating|total_ratings|\n",
      "+-------+--------------------+------------------+-------------+\n",
      "|   1206|Clockwork Orange,...| 3.995833333333333|          120|\n",
      "|   2716|Ghostbusters (a.k...|             3.775|          120|\n",
      "|   4973|Amelie (Fabuleux ...| 4.183333333333334|          120|\n",
      "|   5445|Minority Report (...|            3.6375|          120|\n",
      "|   1089|Reservoir Dogs (1...| 4.202290076335878|          131|\n",
      "|   1240|Terminator, The (...|3.8969465648854964|          131|\n",
      "|   6874|Kill Bill: Vol. 1...|3.9618320610687023|          131|\n",
      "|   7361|Eternal Sunshine ...|4.1603053435114505|          131|\n",
      "|   1208|Apocalypse Now (1...| 4.219626168224299|          107|\n",
      "|   4896|Harry Potter and ...|3.7616822429906542|          107|\n",
      "|  48516|Departed, The (2006)| 4.252336448598131|          107|\n",
      "|    924|2001: A Space Ody...|3.8944954128440368|          109|\n",
      "|   1258| Shining, The (1980)|  4.08256880733945|          109|\n",
      "|   2918|Ferris Bueller's ...|3.8394495412844036|          109|\n",
      "|   4878| Donnie Darko (2001)| 3.981651376146789|          109|\n",
      "|      6|         Heat (1995)| 3.946078431372549|          102|\n",
      "|    778|Trainspotting (1996)|  4.03921568627451|          102|\n",
      "|   1222|Full Metal Jacket...| 4.098039215686274|          102|\n",
      "|   5816|Harry Potter and ...|3.5980392156862746|          102|\n",
      "|    293|Léon: The Profess...| 4.018796992481203|          133|\n",
      "+-------+--------------------+------------------+-------------+\n",
      "only showing top 20 rows\n",
      "\n"
     ]
    }
   ],
   "source": [
    "# inferSchema will scan csvs and define data types for  youy schema\n",
    "# spark can load all the csv files from directory\n",
    "popularMovies = spark.read.format(\"csv\")\\\n",
    "                .option(\"header\", True)\\\n",
    "                .option(\"inferSchema\", True)\\\n",
    "                .load(\"hdfs://localhost:9000/most-popular-movies-many-files\")\n",
    "\n",
    "popularMovies.printSchema()\n",
    "print(\"Partitions\", popularMovies.rdd.getNumPartitions())\n",
    "popularMovies.show()"
   ]
  },
  {
   "cell_type": "code",
   "execution_count": 33,
   "id": "fdda61ec-ccbf-4fef-81aa-153855150a20",
   "metadata": {},
   "outputs": [
    {
     "name": "stdout",
     "output_type": "stream",
     "text": [
      "root\n",
      " |-- movieId: integer (nullable = true)\n",
      " |-- title: string (nullable = true)\n",
      " |-- avg_rating: double (nullable = true)\n",
      " |-- total_ratings: integer (nullable = true)\n",
      "\n",
      "Partitions 1\n",
      "+-------+--------------------+------------------+-------------+\n",
      "|movieId|               title|        avg_rating|total_ratings|\n",
      "+-------+--------------------+------------------+-------------+\n",
      "|    356| Forrest Gump (1994)| 4.164133738601824|          329|\n",
      "|    318|Shawshank Redempt...| 4.429022082018927|          317|\n",
      "|    296| Pulp Fiction (1994)| 4.197068403908795|          307|\n",
      "|    593|Silence of the La...| 4.161290322580645|          279|\n",
      "|   2571|  Matrix, The (1999)| 4.192446043165468|          278|\n",
      "|    260|Star Wars: Episod...| 4.231075697211155|          251|\n",
      "|    480|Jurassic Park (1993)|              3.75|          238|\n",
      "|    110|   Braveheart (1995)| 4.031645569620253|          237|\n",
      "|    589|Terminator 2: Jud...| 3.970982142857143|          224|\n",
      "|    527|Schindler's List ...|             4.225|          220|\n",
      "|   2959|   Fight Club (1999)| 4.272935779816514|          218|\n",
      "|      1|    Toy Story (1995)|3.9209302325581397|          215|\n",
      "|   1196|Star Wars: Episod...|4.2156398104265405|          211|\n",
      "|     50|Usual Suspects, T...| 4.237745098039215|          204|\n",
      "|   2858|American Beauty (...| 4.056372549019608|          204|\n",
      "|     47|Seven (a.k.a. Se7...|3.9753694581280787|          203|\n",
      "|    150|    Apollo 13 (1995)| 3.845771144278607|          201|\n",
      "|   1198|Raiders of the Lo...|            4.2075|          200|\n",
      "|   4993|Lord of the Rings...| 4.106060606060606|          198|\n",
      "|   1210|Star Wars: Episod...| 4.137755102040816|          196|\n",
      "+-------+--------------------+------------------+-------------+\n",
      "only showing top 20 rows\n",
      "\n"
     ]
    }
   ],
   "source": [
    "# inferSchema will scan csvs and define data types for  youy schema\n",
    "popularMovies = spark.read.format(\"csv\")\\\n",
    "                .option(\"header\", True)\\\n",
    "                .option(\"inferSchema\", True)\\\n",
    "                .load(\"hdfs://localhost:9000/most-popular-movies\")\n",
    "\n",
    "popularMovies.printSchema()\n",
    "print(\"Partitions\", popularMovies.rdd.getNumPartitions())\n",
    "popularMovies.show()"
   ]
  },
  {
   "cell_type": "code",
   "execution_count": null,
   "id": "bd8da1c3-c734-48fb-b683-f7d73986b7b7",
   "metadata": {},
   "outputs": [],
   "source": []
  }
 ],
 "metadata": {
  "kernelspec": {
   "display_name": "Python 3 (ipykernel)",
   "language": "python",
   "name": "python3"
  },
  "language_info": {
   "codemirror_mode": {
    "name": "ipython",
    "version": 3
   },
   "file_extension": ".py",
   "mimetype": "text/x-python",
   "name": "python",
   "nbconvert_exporter": "python",
   "pygments_lexer": "ipython3",
   "version": "3.8.12"
  }
 },
 "nbformat": 4,
 "nbformat_minor": 5
}
